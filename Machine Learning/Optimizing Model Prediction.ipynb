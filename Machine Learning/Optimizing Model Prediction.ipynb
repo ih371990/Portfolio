{
 "cells": [
  {
   "cell_type": "markdown",
   "metadata": {},
   "source": [
    "# Optimizing Model Prediction"
   ]
  },
  {
   "cell_type": "markdown",
   "metadata": {},
   "source": [
    "#### Table of Contents\n",
    "* [Introduction](#1)\n",
    "* [Load Dataset](#2)\n",
    "* [Data Cleaning](#3)\n",
    "* [Imputing Missing Data](#4)\n",
    "* [Outliers Analysis](#5)\n",
    "* [Normalization](#6)\n",
    "* [Feature Selection](#7)\n",
    "* [LASSO and Ridge Regularization](#8)\n",
    "* [K-Fold Cross-Validation](#9)\n",
    "* [Conclusion](#10)"
   ]
  },
  {
   "cell_type": "markdown",
   "metadata": {},
   "source": [
    "#### Introduction <a class='anchor' id='1'></a>"
   ]
  },
  {
   "cell_type": "markdown",
   "metadata": {},
   "source": [
    "In this project, the focus will be on optimizing a reference standard linear regression model that predicts the extent of fire damage to a forest.\n",
    "\n",
    "The data comes from the Forest Fires dataset from UCI Machine Learning Repository."
   ]
  },
  {
   "cell_type": "markdown",
   "metadata": {},
   "source": [
    "   The variable description as below:\n",
    "   1. <span style='background :black'>X</span> - x-axis spatial coordinate within the Montesinho park map: 1 to 9\n",
    "   2. <span style='background :black'>Y</span> - y-axis spatial coordinate within the Montesinho park map: 2 to 9\n",
    "   3. <span style='background :black'>month</span> - month of the year: 'jan' to 'dec' \n",
    "   4. <span style='background :black'>day</span> - day of the week: 'mon' to 'sun'\n",
    "   5. <span style='background :black'>FFMC</span> - FFMC index from the FWI system: 18.7 to 96.20\n",
    "   6. <span style='background :black'>DMC</span> - DMC index from the FWI system: 1.1 to 291.3 \n",
    "   7. <span style='background :black'>DC</span> - DC index from the FWI system: 7.9 to 860.6 \n",
    "   8. <span style='background :black'>ISI</span> - ISI index from the FWI system: 0.0 to 56.10\n",
    "   9. <span style='background :black'>temp</span> - temperature in Celsius degrees: 2.2 to 33.30\n",
    "   10. <span style='background :black'>RH</span> - relative humidity in %: 15.0 to 100\n",
    "   11. <span style='background :black'>wind</span> - wind speed in km/h: 0.40 to 9.40 \n",
    "   12. <span style='background :black'>rain</span> - outside rain in mm/m2 : 0.0 to 6.4 \n",
    "   13. <span style='background :black'>area</span> - the burned area of the forest (in ha): 0.00 to 1090.84 "
   ]
  },
  {
   "cell_type": "markdown",
   "metadata": {},
   "source": [
    "#### Load Dataset <a class='anchor' id='2'></a>"
   ]
  },
  {
   "cell_type": "code",
   "execution_count": 1,
   "metadata": {},
   "outputs": [],
   "source": [
    "#Import libraries\n",
    "import pandas as pd, numpy as np\n",
    "import matplotlib.pyplot as plt\n",
    "import seaborn as sns\n",
    "\n",
    "from sklearn.linear_model import LinearRegression\n",
    "from sklearn.impute import KNNImputer\n",
    "from sklearn.preprocessing import StandardScaler\n",
    "from sklearn.feature_selection import SequentialFeatureSelector\n",
    "from sklearn.linear_model import LassoCV, RidgeCV\n",
    "from sklearn.model_selection import cross_val_score "
   ]
  },
  {
   "cell_type": "code",
   "execution_count": 2,
   "metadata": {},
   "outputs": [],
   "source": [
    "fire = pd.read_csv('D:/Dataquest/fires.csv')"
   ]
  },
  {
   "cell_type": "markdown",
   "metadata": {},
   "source": [
    "The reference model will only use temp and wind as predictors and the target outcome will be area."
   ]
  },
  {
   "cell_type": "code",
   "execution_count": 3,
   "metadata": {},
   "outputs": [],
   "source": [
    "fires_reference = fire[[\"wind\", \"temp\", \"area\"]].dropna()\n",
    "reference_X = fires_reference[[\"wind\", \"temp\"]]\n",
    "\n",
    "reference = LinearRegression()"
   ]
  },
  {
   "cell_type": "code",
   "execution_count": 4,
   "metadata": {},
   "outputs": [
    {
     "name": "stdout",
     "output_type": "stream",
     "text": [
      "<class 'pandas.core.frame.DataFrame'>\n",
      "RangeIndex: 517 entries, 0 to 516\n",
      "Data columns (total 14 columns):\n",
      " #   Column      Non-Null Count  Dtype  \n",
      "---  ------      --------------  -----  \n",
      " 0   Unnamed: 0  517 non-null    int64  \n",
      " 1   X           517 non-null    int64  \n",
      " 2   Y           517 non-null    int64  \n",
      " 3   month       517 non-null    object \n",
      " 4   day         517 non-null    object \n",
      " 5   FFMC        469 non-null    float64\n",
      " 6   DMC         496 non-null    float64\n",
      " 7   DC          474 non-null    float64\n",
      " 8   ISI         515 non-null    float64\n",
      " 9   temp        496 non-null    float64\n",
      " 10  RH          487 non-null    float64\n",
      " 11  wind        482 non-null    float64\n",
      " 12  rain        485 non-null    float64\n",
      " 13  area        517 non-null    float64\n",
      "dtypes: float64(9), int64(3), object(2)\n",
      "memory usage: 56.7+ KB\n"
     ]
    }
   ],
   "source": [
    "fire.info()"
   ]
  },
  {
   "cell_type": "code",
   "execution_count": 5,
   "metadata": {},
   "outputs": [
    {
     "data": {
      "text/plain": [
       "Unnamed: 0     0\n",
       "X              0\n",
       "Y              0\n",
       "month          0\n",
       "day            0\n",
       "FFMC          48\n",
       "DMC           21\n",
       "DC            43\n",
       "ISI            2\n",
       "temp          21\n",
       "RH            30\n",
       "wind          35\n",
       "rain          32\n",
       "area           0\n",
       "dtype: int64"
      ]
     },
     "execution_count": 5,
     "metadata": {},
     "output_type": "execute_result"
    }
   ],
   "source": [
    "fire.isnull().sum()"
   ]
  },
  {
   "cell_type": "markdown",
   "metadata": {},
   "source": [
    "There are quite a few columns with null values."
   ]
  },
  {
   "cell_type": "code",
   "execution_count": 6,
   "metadata": {},
   "outputs": [],
   "source": [
    "#Let's drop unnamed column as that is just the index\n",
    "fire = fire.drop('Unnamed: 0', axis=1)"
   ]
  },
  {
   "cell_type": "markdown",
   "metadata": {},
   "source": [
    "#### Data Cleaning <a class='anchor' id='3'></a>"
   ]
  },
  {
   "cell_type": "markdown",
   "metadata": {},
   "source": [
    "We will need to address the missing data as it will affect our model's accuracy.\n",
    "\n",
    "We also need to convert month and day string data to numerical data as well.\n",
    "\n",
    "But let's look at the target outcome first."
   ]
  },
  {
   "cell_type": "markdown",
   "metadata": {},
   "source": [
    "##### Area - Target Outcome"
   ]
  },
  {
   "cell_type": "code",
   "execution_count": 7,
   "metadata": {},
   "outputs": [
    {
     "data": {
      "text/plain": [
       "array([[<Axes: title={'center': 'area'}>]], dtype=object)"
      ]
     },
     "execution_count": 7,
     "metadata": {},
     "output_type": "execute_result"
    },
    {
     "data": {
      "image/png": "[encoded data removed]",
      "text/plain": [
       "<Figure size 640x480 with 1 Axes>"
      ]
     },
     "metadata": {},
     "output_type": "display_data"
    }
   ],
   "source": [
    "fire.hist('area',bins=30)"
   ]
  },
  {
   "cell_type": "markdown",
   "metadata": {},
   "source": [
    "The data is heavily right skewed. This is expected as most fires are likely smaller fires with minimal area damage."
   ]
  },
  {
   "cell_type": "code",
   "execution_count": 8,
   "metadata": {},
   "outputs": [
    {
     "data": {
      "text/plain": [
       "area\n",
       "0.00      247\n",
       "1.94        3\n",
       "0.52        2\n",
       "3.71        2\n",
       "0.68        2\n",
       "         ... \n",
       "105.66      1\n",
       "154.88      1\n",
       "196.48      1\n",
       "200.94      1\n",
       "11.16       1\n",
       "Name: count, Length: 251, dtype: int64"
      ]
     },
     "execution_count": 8,
     "metadata": {},
     "output_type": "execute_result"
    }
   ],
   "source": [
    "fire['area'].value_counts()"
   ]
  },
  {
   "cell_type": "markdown",
   "metadata": {},
   "source": [
    "We see that most of the fires have 0 or near-0 fire damage area."
   ]
  },
  {
   "cell_type": "markdown",
   "metadata": {},
   "source": [
    "Let's log transform our area outcome since it is heavily right-skewed. This will help distribute our data more symmetrically and hopefully make our model better."
   ]
  },
  {
   "cell_type": "code",
   "execution_count": 9,
   "metadata": {},
   "outputs": [
    {
     "data": {
      "text/plain": [
       "array([[<Axes: title={'center': 'log_area'}>]], dtype=object)"
      ]
     },
     "execution_count": 9,
     "metadata": {},
     "output_type": "execute_result"
    },
    {
     "data": {
      "image/png": "[encoded data removed]",
      "text/plain": [
       "<Figure size 640x480 with 1 Axes>"
      ]
     },
     "metadata": {},
     "output_type": "display_data"
    }
   ],
   "source": [
    "fire['log_area'] = np.log(fire['area']+1) #we add 1 as we can't log 0\n",
    "fire.hist('log_area', bins=30)"
   ]
  },
  {
   "cell_type": "markdown",
   "metadata": {},
   "source": [
    "Visually, the distribution is better, although still heavily skewed."
   ]
  },
  {
   "cell_type": "markdown",
   "metadata": {},
   "source": [
    "##### Month"
   ]
  },
  {
   "cell_type": "markdown",
   "metadata": {},
   "source": [
    "Instead of using month directly, we'll derive another feature called summer that takes a value of 1 when the fire occurred during the summer. The idea here is that summer months are typically hotter, so fires are more likely."
   ]
  },
  {
   "cell_type": "code",
   "execution_count": 10,
   "metadata": {},
   "outputs": [
    {
     "data": {
      "text/plain": [
       "summer\n",
       "0    284\n",
       "1    233\n",
       "Name: count, dtype: int64"
      ]
     },
     "execution_count": 10,
     "metadata": {},
     "output_type": "execute_result"
    }
   ],
   "source": [
    "summer = [\"jun\", \"jul\", \"aug\"]\n",
    "fire['summer'] = fire['month'].apply(lambda x: 1 if x in summer else 0)\n",
    "fire['summer'].value_counts()"
   ]
  },
  {
   "cell_type": "markdown",
   "metadata": {},
   "source": [
    "##### Imputing Missing Data <a class='anchor' id='4'></a>"
   ]
  },
  {
   "cell_type": "code",
   "execution_count": 11,
   "metadata": {},
   "outputs": [
    {
     "data": {
      "text/plain": [
       "Index(['X', 'Y', 'month', 'day', 'FFMC', 'DMC', 'DC', 'ISI', 'temp', 'RH',\n",
       "       'wind', 'rain', 'area', 'log_area', 'summer'],\n",
       "      dtype='object')"
      ]
     },
     "execution_count": 11,
     "metadata": {},
     "output_type": "execute_result"
    }
   ],
   "source": [
    "fire.columns"
   ]
  },
  {
   "cell_type": "markdown",
   "metadata": {},
   "source": [
    "We will use K-Nearest Neighbor Imputation to fill in the missing values."
   ]
  },
  {
   "cell_type": "code",
   "execution_count": 12,
   "metadata": {},
   "outputs": [
    {
     "data": {
      "text/html": [
       "<div>\n",
       "<style scoped>\n",
       "    .dataframe tbody tr th:only-of-type {\n",
       "        vertical-align: middle;\n",
       "    }\n",
       "\n",
       "    .dataframe tbody tr th {\n",
       "        vertical-align: top;\n",
       "    }\n",
       "\n",
       "    .dataframe thead th {\n",
       "        text-align: right;\n",
       "    }\n",
       "</style>\n",
       "<table border=\"1\" class=\"dataframe\">\n",
       "  <thead>\n",
       "    <tr style=\"text-align: right;\">\n",
       "      <th></th>\n",
       "      <th>FFMC</th>\n",
       "      <th>DMC</th>\n",
       "      <th>DC</th>\n",
       "      <th>ISI</th>\n",
       "      <th>temp</th>\n",
       "      <th>RH</th>\n",
       "      <th>wind</th>\n",
       "      <th>rain</th>\n",
       "    </tr>\n",
       "  </thead>\n",
       "  <tbody>\n",
       "    <tr>\n",
       "      <th>0</th>\n",
       "      <td>86.2</td>\n",
       "      <td>26.200000</td>\n",
       "      <td>94.300000</td>\n",
       "      <td>5.1</td>\n",
       "      <td>16.6</td>\n",
       "      <td>51.0</td>\n",
       "      <td>6.700000</td>\n",
       "      <td>0.0</td>\n",
       "    </tr>\n",
       "    <tr>\n",
       "      <th>1</th>\n",
       "      <td>90.6</td>\n",
       "      <td>56.433333</td>\n",
       "      <td>669.100000</td>\n",
       "      <td>6.7</td>\n",
       "      <td>18.0</td>\n",
       "      <td>33.0</td>\n",
       "      <td>0.900000</td>\n",
       "      <td>0.0</td>\n",
       "    </tr>\n",
       "    <tr>\n",
       "      <th>2</th>\n",
       "      <td>90.6</td>\n",
       "      <td>43.700000</td>\n",
       "      <td>470.833333</td>\n",
       "      <td>6.7</td>\n",
       "      <td>14.6</td>\n",
       "      <td>33.0</td>\n",
       "      <td>1.300000</td>\n",
       "      <td>0.0</td>\n",
       "    </tr>\n",
       "    <tr>\n",
       "      <th>3</th>\n",
       "      <td>91.7</td>\n",
       "      <td>33.300000</td>\n",
       "      <td>77.500000</td>\n",
       "      <td>9.0</td>\n",
       "      <td>8.3</td>\n",
       "      <td>97.0</td>\n",
       "      <td>4.000000</td>\n",
       "      <td>0.2</td>\n",
       "    </tr>\n",
       "    <tr>\n",
       "      <th>4</th>\n",
       "      <td>89.3</td>\n",
       "      <td>51.300000</td>\n",
       "      <td>102.200000</td>\n",
       "      <td>9.6</td>\n",
       "      <td>11.4</td>\n",
       "      <td>99.0</td>\n",
       "      <td>4.333333</td>\n",
       "      <td>0.0</td>\n",
       "    </tr>\n",
       "    <tr>\n",
       "      <th>...</th>\n",
       "      <td>...</td>\n",
       "      <td>...</td>\n",
       "      <td>...</td>\n",
       "      <td>...</td>\n",
       "      <td>...</td>\n",
       "      <td>...</td>\n",
       "      <td>...</td>\n",
       "      <td>...</td>\n",
       "    </tr>\n",
       "    <tr>\n",
       "      <th>512</th>\n",
       "      <td>81.6</td>\n",
       "      <td>56.700000</td>\n",
       "      <td>665.600000</td>\n",
       "      <td>1.9</td>\n",
       "      <td>27.8</td>\n",
       "      <td>32.0</td>\n",
       "      <td>2.700000</td>\n",
       "      <td>0.0</td>\n",
       "    </tr>\n",
       "    <tr>\n",
       "      <th>513</th>\n",
       "      <td>81.6</td>\n",
       "      <td>56.700000</td>\n",
       "      <td>665.600000</td>\n",
       "      <td>1.9</td>\n",
       "      <td>21.9</td>\n",
       "      <td>71.0</td>\n",
       "      <td>5.800000</td>\n",
       "      <td>0.0</td>\n",
       "    </tr>\n",
       "    <tr>\n",
       "      <th>514</th>\n",
       "      <td>81.6</td>\n",
       "      <td>56.700000</td>\n",
       "      <td>665.600000</td>\n",
       "      <td>1.9</td>\n",
       "      <td>21.2</td>\n",
       "      <td>70.0</td>\n",
       "      <td>6.700000</td>\n",
       "      <td>0.0</td>\n",
       "    </tr>\n",
       "    <tr>\n",
       "      <th>515</th>\n",
       "      <td>94.4</td>\n",
       "      <td>146.000000</td>\n",
       "      <td>614.700000</td>\n",
       "      <td>11.3</td>\n",
       "      <td>25.6</td>\n",
       "      <td>42.0</td>\n",
       "      <td>4.000000</td>\n",
       "      <td>0.0</td>\n",
       "    </tr>\n",
       "    <tr>\n",
       "      <th>516</th>\n",
       "      <td>79.5</td>\n",
       "      <td>3.000000</td>\n",
       "      <td>106.700000</td>\n",
       "      <td>1.1</td>\n",
       "      <td>11.8</td>\n",
       "      <td>31.0</td>\n",
       "      <td>4.500000</td>\n",
       "      <td>0.0</td>\n",
       "    </tr>\n",
       "  </tbody>\n",
       "</table>\n",
       "<p>517 rows × 8 columns</p>\n",
       "</div>"
      ],
      "text/plain": [
       "     FFMC         DMC          DC   ISI  temp    RH      wind  rain\n",
       "0    86.2   26.200000   94.300000   5.1  16.6  51.0  6.700000   0.0\n",
       "1    90.6   56.433333  669.100000   6.7  18.0  33.0  0.900000   0.0\n",
       "2    90.6   43.700000  470.833333   6.7  14.6  33.0  1.300000   0.0\n",
       "3    91.7   33.300000   77.500000   9.0   8.3  97.0  4.000000   0.2\n",
       "4    89.3   51.300000  102.200000   9.6  11.4  99.0  4.333333   0.0\n",
       "..    ...         ...         ...   ...   ...   ...       ...   ...\n",
       "512  81.6   56.700000  665.600000   1.9  27.8  32.0  2.700000   0.0\n",
       "513  81.6   56.700000  665.600000   1.9  21.9  71.0  5.800000   0.0\n",
       "514  81.6   56.700000  665.600000   1.9  21.2  70.0  6.700000   0.0\n",
       "515  94.4  146.000000  614.700000  11.3  25.6  42.0  4.000000   0.0\n",
       "516  79.5    3.000000  106.700000   1.1  11.8  31.0  4.500000   0.0\n",
       "\n",
       "[517 rows x 8 columns]"
      ]
     },
     "execution_count": 12,
     "metadata": {},
     "output_type": "execute_result"
    }
   ],
   "source": [
    "imp = KNNImputer(missing_values = np.nan, n_neighbors=3)\n",
    "\n",
    "fire_missing = fire[fire.columns[4:12]] # FFMC to rain\n",
    "imputed = pd.DataFrame(imp.fit_transform(fire_missing), \n",
    "                       columns = fire.columns[4:12])\n",
    "imputed"
   ]
  },
  {
   "cell_type": "markdown",
   "metadata": {},
   "source": [
    "##### Outliers Analysis <a class='anchor' id='5'></a>"
   ]
  },
  {
   "cell_type": "code",
   "execution_count": 13,
   "metadata": {},
   "outputs": [
    {
     "data": {
      "text/plain": [
       "<Axes: >"
      ]
     },
     "execution_count": 13,
     "metadata": {},
     "output_type": "execute_result"
    },
    {
     "data": {
      "image/png": "[encoded data removed]",
      "text/plain": [
       "<Figure size 640x480 with 1 Axes>"
      ]
     },
     "metadata": {},
     "output_type": "display_data"
    }
   ],
   "source": [
    "imputed.boxplot(column=[\"FFMC\", \"DMC\", \"DC\", \"ISI\", \"temp\", \"RH\", \"wind\", \"rain\"])"
   ]
  },
  {
   "cell_type": "markdown",
   "metadata": {},
   "source": [
    "The dots indicate outliers, so visually each predictor appears to have outliers."
   ]
  },
  {
   "cell_type": "code",
   "execution_count": 14,
   "metadata": {},
   "outputs": [
    {
     "name": "stdout",
     "output_type": "stream",
     "text": [
      "The FFMC column has 0 according to the boxplot method.\n",
      "The DMC column has 0 according to the boxplot method.\n",
      "The DC column has 0 according to the boxplot method.\n",
      "The ISI column has 0 according to the boxplot method.\n",
      "The temp column has 0 according to the boxplot method.\n",
      "The RH column has 0 according to the boxplot method.\n",
      "The wind column has 0 according to the boxplot method.\n",
      "The rain column has 0 according to the boxplot method.\n"
     ]
    }
   ],
   "source": [
    "for col in imputed:\n",
    "\n",
    "    quartiles = np.percentile(fire[col], [25, 50, 75])\n",
    "    iqr = quartiles[2] - quartiles[0]\n",
    "    lower_bound = quartiles[0] - (1.5 * iqr)\n",
    "    upper_bound = quartiles[2] + (1.5 * iqr)\n",
    "    num_outliers =sum((imputed[col] < lower_bound) | (imputed[col] > upper_bound))\n",
    "\n",
    "    print(f\"The {col} column has {num_outliers} according to the boxplot method.\")"
   ]
  },
  {
   "cell_type": "markdown",
   "metadata": {},
   "source": [
    "Based on our calculations, there doesn't actually seem to be any outliers despite our boxplot."
   ]
  },
  {
   "cell_type": "markdown",
   "metadata": {},
   "source": [
    "##### Normalization <a class='anchor' id='6'></a>"
   ]
  },
  {
   "cell_type": "markdown",
   "metadata": {},
   "source": [
    "Let's use our standardscaler to normalize our data."
   ]
  },
  {
   "cell_type": "code",
   "execution_count": 15,
   "metadata": {},
   "outputs": [
    {
     "data": {
      "text/html": [
       "<div>\n",
       "<style scoped>\n",
       "    .dataframe tbody tr th:only-of-type {\n",
       "        vertical-align: middle;\n",
       "    }\n",
       "\n",
       "    .dataframe tbody tr th {\n",
       "        vertical-align: top;\n",
       "    }\n",
       "\n",
       "    .dataframe thead th {\n",
       "        text-align: right;\n",
       "    }\n",
       "</style>\n",
       "<table border=\"1\" class=\"dataframe\">\n",
       "  <thead>\n",
       "    <tr style=\"text-align: right;\">\n",
       "      <th></th>\n",
       "      <th>summer</th>\n",
       "      <th>FFMC</th>\n",
       "      <th>DMC</th>\n",
       "      <th>DC</th>\n",
       "      <th>ISI</th>\n",
       "      <th>temp</th>\n",
       "      <th>RH</th>\n",
       "      <th>wind</th>\n",
       "      <th>rain</th>\n",
       "    </tr>\n",
       "  </thead>\n",
       "  <tbody>\n",
       "    <tr>\n",
       "      <th>0</th>\n",
       "      <td>0</td>\n",
       "      <td>-0.812283</td>\n",
       "      <td>-1.335942</td>\n",
       "      <td>-1.846711</td>\n",
       "      <td>-0.860187</td>\n",
       "      <td>-0.398187</td>\n",
       "      <td>0.418726</td>\n",
       "      <td>1.514159</td>\n",
       "      <td>-0.073268</td>\n",
       "    </tr>\n",
       "    <tr>\n",
       "      <th>1</th>\n",
       "      <td>0</td>\n",
       "      <td>-0.010735</td>\n",
       "      <td>-0.859009</td>\n",
       "      <td>0.509582</td>\n",
       "      <td>-0.508736</td>\n",
       "      <td>-0.155493</td>\n",
       "      <td>-0.715565</td>\n",
       "      <td>-1.761003</td>\n",
       "      <td>-0.073268</td>\n",
       "    </tr>\n",
       "    <tr>\n",
       "      <th>2</th>\n",
       "      <td>0</td>\n",
       "      <td>-0.010735</td>\n",
       "      <td>-1.059878</td>\n",
       "      <td>-0.303178</td>\n",
       "      <td>-0.508736</td>\n",
       "      <td>-0.744894</td>\n",
       "      <td>-0.715565</td>\n",
       "      <td>-1.535130</td>\n",
       "      <td>-0.073268</td>\n",
       "    </tr>\n",
       "    <tr>\n",
       "      <th>3</th>\n",
       "      <td>0</td>\n",
       "      <td>0.189652</td>\n",
       "      <td>-1.223939</td>\n",
       "      <td>-1.915580</td>\n",
       "      <td>-0.003526</td>\n",
       "      <td>-1.837021</td>\n",
       "      <td>3.317471</td>\n",
       "      <td>-0.010485</td>\n",
       "      <td>0.603155</td>\n",
       "    </tr>\n",
       "    <tr>\n",
       "      <th>4</th>\n",
       "      <td>0</td>\n",
       "      <td>-0.247556</td>\n",
       "      <td>-0.939988</td>\n",
       "      <td>-1.814327</td>\n",
       "      <td>0.128267</td>\n",
       "      <td>-1.299625</td>\n",
       "      <td>3.443503</td>\n",
       "      <td>0.177742</td>\n",
       "      <td>-0.073268</td>\n",
       "    </tr>\n",
       "    <tr>\n",
       "      <th>...</th>\n",
       "      <td>...</td>\n",
       "      <td>...</td>\n",
       "      <td>...</td>\n",
       "      <td>...</td>\n",
       "      <td>...</td>\n",
       "      <td>...</td>\n",
       "      <td>...</td>\n",
       "      <td>...</td>\n",
       "      <td>...</td>\n",
       "    </tr>\n",
       "    <tr>\n",
       "      <th>512</th>\n",
       "      <td>1</td>\n",
       "      <td>-1.650265</td>\n",
       "      <td>-0.854803</td>\n",
       "      <td>0.495235</td>\n",
       "      <td>-1.563087</td>\n",
       "      <td>1.543370</td>\n",
       "      <td>-0.778581</td>\n",
       "      <td>-0.744573</td>\n",
       "      <td>-0.073268</td>\n",
       "    </tr>\n",
       "    <tr>\n",
       "      <th>513</th>\n",
       "      <td>1</td>\n",
       "      <td>-1.650265</td>\n",
       "      <td>-0.854803</td>\n",
       "      <td>0.495235</td>\n",
       "      <td>-1.563087</td>\n",
       "      <td>0.520585</td>\n",
       "      <td>1.679050</td>\n",
       "      <td>1.005944</td>\n",
       "      <td>-0.073268</td>\n",
       "    </tr>\n",
       "    <tr>\n",
       "      <th>514</th>\n",
       "      <td>1</td>\n",
       "      <td>-1.650265</td>\n",
       "      <td>-0.854803</td>\n",
       "      <td>0.495235</td>\n",
       "      <td>-1.563087</td>\n",
       "      <td>0.399238</td>\n",
       "      <td>1.616034</td>\n",
       "      <td>1.514159</td>\n",
       "      <td>-0.073268</td>\n",
       "    </tr>\n",
       "    <tr>\n",
       "      <th>515</th>\n",
       "      <td>1</td>\n",
       "      <td>0.681511</td>\n",
       "      <td>0.553912</td>\n",
       "      <td>0.286579</td>\n",
       "      <td>0.501683</td>\n",
       "      <td>1.161993</td>\n",
       "      <td>-0.148419</td>\n",
       "      <td>-0.010485</td>\n",
       "      <td>-0.073268</td>\n",
       "    </tr>\n",
       "    <tr>\n",
       "      <th>516</th>\n",
       "      <td>0</td>\n",
       "      <td>-2.032821</td>\n",
       "      <td>-1.701924</td>\n",
       "      <td>-1.795880</td>\n",
       "      <td>-1.738812</td>\n",
       "      <td>-1.230284</td>\n",
       "      <td>-0.841597</td>\n",
       "      <td>0.271856</td>\n",
       "      <td>-0.073268</td>\n",
       "    </tr>\n",
       "  </tbody>\n",
       "</table>\n",
       "<p>517 rows × 9 columns</p>\n",
       "</div>"
      ],
      "text/plain": [
       "     summer      FFMC       DMC        DC       ISI      temp        RH  \\\n",
       "0         0 -0.812283 -1.335942 -1.846711 -0.860187 -0.398187  0.418726   \n",
       "1         0 -0.010735 -0.859009  0.509582 -0.508736 -0.155493 -0.715565   \n",
       "2         0 -0.010735 -1.059878 -0.303178 -0.508736 -0.744894 -0.715565   \n",
       "3         0  0.189652 -1.223939 -1.915580 -0.003526 -1.837021  3.317471   \n",
       "4         0 -0.247556 -0.939988 -1.814327  0.128267 -1.299625  3.443503   \n",
       "..      ...       ...       ...       ...       ...       ...       ...   \n",
       "512       1 -1.650265 -0.854803  0.495235 -1.563087  1.543370 -0.778581   \n",
       "513       1 -1.650265 -0.854803  0.495235 -1.563087  0.520585  1.679050   \n",
       "514       1 -1.650265 -0.854803  0.495235 -1.563087  0.399238  1.616034   \n",
       "515       1  0.681511  0.553912  0.286579  0.501683  1.161993 -0.148419   \n",
       "516       0 -2.032821 -1.701924 -1.795880 -1.738812 -1.230284 -0.841597   \n",
       "\n",
       "         wind      rain  \n",
       "0    1.514159 -0.073268  \n",
       "1   -1.761003 -0.073268  \n",
       "2   -1.535130 -0.073268  \n",
       "3   -0.010485  0.603155  \n",
       "4    0.177742 -0.073268  \n",
       "..        ...       ...  \n",
       "512 -0.744573 -0.073268  \n",
       "513  1.005944 -0.073268  \n",
       "514  1.514159 -0.073268  \n",
       "515 -0.010485 -0.073268  \n",
       "516  0.271856 -0.073268  \n",
       "\n",
       "[517 rows x 9 columns]"
      ]
     },
     "execution_count": 15,
     "metadata": {},
     "output_type": "execute_result"
    }
   ],
   "source": [
    "scaler = StandardScaler()\n",
    "scaled = scaler.fit_transform(imputed) #Normalize our predictors\n",
    "scaled = pd.DataFrame(scaled, columns = fire.columns[4:12]) #Created dataframe of our normalized predictor\n",
    "\n",
    "final = pd.concat([fire[\"summer\"], scaled], axis=1) #Add summer column into our dataframe\n",
    "\n",
    "final"
   ]
  },
  {
   "cell_type": "markdown",
   "metadata": {},
   "source": [
    "#### Feature Selection <a class='anchor' id='7'></a>"
   ]
  },
  {
   "cell_type": "markdown",
   "metadata": {},
   "source": [
    "Let's go ahead with both forward and backward sequential selection."
   ]
  },
  {
   "cell_type": "code",
   "execution_count": 16,
   "metadata": {},
   "outputs": [
    {
     "name": "stdout",
     "output_type": "stream",
     "text": [
      "Features selected in 2 feature model: ['FFMC' 'DC']\n",
      "Features selected in 4 feature model: ['FFMC' 'DC' 'RH' 'wind']\n",
      "Features selected in 6 feature model: ['summer' 'FFMC' 'DC' 'ISI' 'RH' 'wind']\n"
     ]
    }
   ],
   "source": [
    "#Forward selection\n",
    "y = fire[\"log_area\"]\n",
    "\n",
    "sfs_model = LinearRegression()\n",
    "sfs_model2 = LinearRegression()\n",
    "sfs_model3 = LinearRegression()\n",
    "\n",
    "forward2 = SequentialFeatureSelector(estimator=sfs_model,\n",
    "                                     n_features_to_select=2, \n",
    "                                     direction=\"forward\")\n",
    "\n",
    "forward4 = SequentialFeatureSelector(estimator=sfs_model2,\n",
    "                                     n_features_to_select=4, \n",
    "                                     direction=\"forward\")\n",
    "\n",
    "forward6 = SequentialFeatureSelector(estimator=sfs_model3,\n",
    "                                       n_features_to_select=6, \n",
    "                                       direction=\"forward\")\n",
    "\n",
    "forward2.fit(final, y)\n",
    "forward4.fit(final, y)\n",
    "forward6.fit(final, y)\n",
    "\n",
    "print(\"Features selected in 2 feature model:\", forward2.get_feature_names_out())\n",
    "print(\"Features selected in 4 feature model:\", forward4.get_feature_names_out())\n",
    "print(\"Features selected in 6 feature model:\", forward6.get_feature_names_out())"
   ]
  },
  {
   "cell_type": "code",
   "execution_count": 17,
   "metadata": {},
   "outputs": [
    {
     "name": "stdout",
     "output_type": "stream",
     "text": [
      "Features selected in 2 feature model: ['DC' 'wind']\n",
      "Features selected in 4 feature model: ['FFMC' 'DC' 'RH' 'wind']\n",
      "Features selected in 6 feature model: ['summer' 'FFMC' 'DC' 'ISI' 'RH' 'wind']\n"
     ]
    }
   ],
   "source": [
    "#Backward selection\n",
    "backward2 = SequentialFeatureSelector(estimator=sfs_model,\n",
    "                                     n_features_to_select=2, \n",
    "                                     direction=\"backward\")\n",
    "\n",
    "backward4 = SequentialFeatureSelector(estimator=sfs_model,\n",
    "                                     n_features_to_select=4, \n",
    "                                     direction=\"backward\")\n",
    "\n",
    "backward6 = SequentialFeatureSelector(estimator=sfs_model,\n",
    "                                       n_features_to_select=6, \n",
    "                                       direction=\"backward\")\n",
    "\n",
    "backward2.fit(final, y)\n",
    "backward4.fit(final, y)\n",
    "backward6.fit(final, y)\n",
    "\n",
    "print(\"Features selected in 2 feature model:\", backward2.get_feature_names_out())\n",
    "print(\"Features selected in 4 feature model:\", backward4.get_feature_names_out())\n",
    "print(\"Features selected in 6 feature model:\", backward6.get_feature_names_out())"
   ]
  },
  {
   "cell_type": "markdown",
   "metadata": {},
   "source": [
    "DC is chosen in both forward and backward selection. FFMC and wind seems to be impactful as well."
   ]
  },
  {
   "cell_type": "markdown",
   "metadata": {},
   "source": [
    "We could proceed from this point with DC, FFMC, wind in a 3 feature model, but let us explore using regularization as well."
   ]
  },
  {
   "cell_type": "markdown",
   "metadata": {},
   "source": [
    "#### LASSO and Ridge Regularization <a class='anchor' id='8'></a>"
   ]
  },
  {
   "cell_type": "code",
   "execution_count": 19,
   "metadata": {},
   "outputs": [
    {
     "name": "stdout",
     "output_type": "stream",
     "text": [
      "Ridge tuning parameter:  1372.2342342342342\n",
      "Ridge coefficients:  [-0.01455017  0.01311215  0.02006457  0.02004741 -0.01073465  0.01297049\n",
      " -0.01489714  0.02670554  0.00816103]\n"
     ]
    }
   ],
   "source": [
    "ridge = RidgeCV(alphas = np.linspace(1, 10000, num=1000))\n",
    "lasso = LassoCV(alphas = np.linspace(1, 10000, num=1000))\n",
    "\n",
    "ridge.fit(final, y)\n",
    "lasso.fit(final, y)\n",
    "\n",
    "print(\"Ridge tuning parameter: \", ridge.alpha_)\n",
    "print(\"Ridge coefficients: \", ridge.coef_)\n"
   ]
  },
  {
   "cell_type": "markdown",
   "metadata": {},
   "source": [
    "The Ridge alpha parameter is within range. Coefficients are all pretty small."
   ]
  },
  {
   "cell_type": "code",
   "execution_count": 20,
   "metadata": {},
   "outputs": [
    {
     "name": "stdout",
     "output_type": "stream",
     "text": [
      "LASSO tuning parameter:  10000.0\n",
      "LASSO coefficients:  [-0.  0.  0.  0. -0.  0. -0.  0.  0.]\n"
     ]
    }
   ],
   "source": [
    "print(\"LASSO tuning parameter: \", lasso.alpha_)\n",
    "print(\"LASSO coefficients: \", lasso.coef_)"
   ]
  },
  {
   "cell_type": "markdown",
   "metadata": {},
   "source": [
    "The LASSO alpha is at the extreme. None of the parameters are significant after regularization."
   ]
  },
  {
   "cell_type": "code",
   "execution_count": 21,
   "metadata": {},
   "outputs": [
    {
     "name": "stdout",
     "output_type": "stream",
     "text": [
      "LASSO tuning parameter:  15000.0\n",
      "LASSO coefficients:  [-0.  0.  0.  0. -0.  0. -0.  0.  0.]\n"
     ]
    }
   ],
   "source": [
    "lasso = LassoCV(alphas = np.linspace(10000, 15000, num=1000))\n",
    "lasso.fit(final, y)\n",
    "print(\"LASSO tuning parameter: \", lasso.alpha_)\n",
    "print(\"LASSO coefficients: \", lasso.coef_)"
   ]
  },
  {
   "cell_type": "markdown",
   "metadata": {},
   "source": [
    "The LASSO regularization is not helpful at this point as it seems with LASSO that none of the features are useful."
   ]
  },
  {
   "cell_type": "code",
   "execution_count": 23,
   "metadata": {},
   "outputs": [
    {
     "name": "stdout",
     "output_type": "stream",
     "text": [
      "Ridge tuning parameter:  1371.3713713713714\n",
      "Ridge coefficients:  [-0.01455943  0.01311684  0.02007288  0.02005529 -0.01074213  0.0129749\n",
      " -0.01490353  0.02671898  0.00816454]\n"
     ]
    }
   ],
   "source": [
    "ridge = RidgeCV(alphas = np.linspace(1000, 1500, num=1000))\n",
    "ridge.fit(final, y)\n",
    "print(\"Ridge tuning parameter: \", ridge.alpha_)\n",
    "print(\"Ridge coefficients: \", ridge.coef_)"
   ]
  },
  {
   "cell_type": "markdown",
   "metadata": {},
   "source": [
    "We will use the Ridge Regularization results along with our forward/backward selection in the K-Fold Cross Validation."
   ]
  },
  {
   "cell_type": "markdown",
   "metadata": {},
   "source": [
    "#### K-Fold Cross-Validation <a class='anchor' id='9'></a>"
   ]
  },
  {
   "cell_type": "code",
   "execution_count": 24,
   "metadata": {},
   "outputs": [],
   "source": [
    "fw2_model = LinearRegression()\n",
    "fw4_model = LinearRegression()\n",
    "fw6_model = LinearRegression()\n",
    "\n",
    "bw2_model = LinearRegression()\n",
    "bw4_model = LinearRegression()\n",
    "bw6_model = LinearRegression()"
   ]
  },
  {
   "cell_type": "code",
   "execution_count": 25,
   "metadata": {},
   "outputs": [],
   "source": [
    "#Reference: two feature model comparison\n",
    "reference_cv = cross_val_score(reference, final[[\"wind\", \"temp\"]], y, cv = 5, scoring = \"neg_mean_squared_error\")\n",
    "\n",
    "#Forward selection models\n",
    "fw2_cv = cross_val_score(fw2_model, final[forward2.get_feature_names_out()], y, cv = 5, scoring = \"neg_mean_squared_error\")\n",
    "fw4_cv = cross_val_score(fw4_model, final[forward4.get_feature_names_out()], y, cv = 5, scoring = \"neg_mean_squared_error\")\n",
    "fw6_cv = cross_val_score(fw6_model, final[forward6.get_feature_names_out()], y, cv = 5, scoring = \"neg_mean_squared_error\")\n",
    "\n",
    "#Backward selection models\n",
    "bw2_cv = cross_val_score(bw2_model, final[backward2.get_feature_names_out()], y, cv = 5, scoring = \"neg_mean_squared_error\")\n",
    "bw4_cv = cross_val_score(bw4_model, final[backward4.get_feature_names_out()], y, cv = 5, scoring = \"neg_mean_squared_error\")\n",
    "bw6_cv = cross_val_score(bw6_model, final[backward6.get_feature_names_out()], y, cv = 5, scoring = \"neg_mean_squared_error\")\n",
    "\n",
    "#Ridge Regularization models\n",
    "ridge_cv = cross_val_score(ridge, final, y, cv = 5, scoring = \"neg_mean_squared_error\")"
   ]
  },
  {
   "cell_type": "code",
   "execution_count": 26,
   "metadata": {},
   "outputs": [
    {
     "name": "stdout",
     "output_type": "stream",
     "text": [
      "Reference Model, Avg Test MSE:  -2.204650013004116  SD:  1.060040355378637\n"
     ]
    }
   ],
   "source": [
    "print(\"Reference Model, Avg Test MSE: \", np.mean(reference_cv), \" SD: \", np.std(reference_cv))"
   ]
  },
  {
   "cell_type": "code",
   "execution_count": 27,
   "metadata": {},
   "outputs": [
    {
     "name": "stdout",
     "output_type": "stream",
     "text": [
      "Forward-2 Model, Avg Test MSE:  -2.1735431721198535  SD:  1.0208083278697586\n",
      "Forward-4 Model, Avg Test MSE:  -2.193528106772711  SD:  1.0004774710977682\n",
      "Forward-6 Model, Avg Test MSE:  -2.239722553934875  SD:  1.0123323877770343\n"
     ]
    }
   ],
   "source": [
    "print(\"Forward-2 Model, Avg Test MSE: \", np.mean(fw2_cv), \" SD: \", np.std(fw2_cv))\n",
    "print(\"Forward-4 Model, Avg Test MSE: \", np.mean(fw4_cv), \" SD: \", np.std(fw4_cv))\n",
    "print(\"Forward-6 Model, Avg Test MSE: \", np.mean(fw6_cv), \" SD: \", np.std(fw6_cv))"
   ]
  },
  {
   "cell_type": "code",
   "execution_count": 28,
   "metadata": {},
   "outputs": [
    {
     "name": "stdout",
     "output_type": "stream",
     "text": [
      "Backward-2 Model, Avg Test MSE:  -2.173357302739327  SD:  1.0038109503795953\n",
      "Backward-4 Model, Avg Test MSE:  -2.193528106772711  SD:  1.0004774710977682\n",
      "Backward-6 Model, Avg Test MSE:  -2.239722553934875  SD:  1.0123323877770343\n"
     ]
    }
   ],
   "source": [
    "print(\"Backward-2 Model, Avg Test MSE: \", np.mean(bw2_cv), \" SD: \", np.std(bw2_cv)) #Best performance\n",
    "print(\"Backward-4 Model, Avg Test MSE: \", np.mean(bw4_cv), \" SD: \", np.std(bw4_cv))\n",
    "print(\"Backward-6 Model, Avg Test MSE: \", np.mean(bw6_cv), \" SD: \", np.std(bw6_cv))"
   ]
  },
  {
   "cell_type": "code",
   "execution_count": 29,
   "metadata": {},
   "outputs": [
    {
     "name": "stdout",
     "output_type": "stream",
     "text": [
      "Ridge Model, Avg Test MSE:  -2.239722553934875  SD:  1.0123323877770343\n"
     ]
    }
   ],
   "source": [
    "print(\"Ridge Model, Avg Test MSE: \", np.mean(bw6_cv), \" SD: \", np.std(bw6_cv))"
   ]
  },
  {
   "cell_type": "markdown",
   "metadata": {},
   "source": [
    "Backward-2 Model had the best performance with MSE at -2.17, followed by Forward-2 Model."
   ]
  },
  {
   "cell_type": "markdown",
   "metadata": {},
   "source": [
    "#### Conclusion <a class='anchor' id='10'></a>"
   ]
  },
  {
   "cell_type": "markdown",
   "metadata": {},
   "source": [
    "In this project, we optimized the reference linear model via a few feature selection methods - ie forward, backward, and ridge methods. We found that backward-2 feature model had the lowest mean squared error."
   ]
  },
  {
   "cell_type": "markdown",
   "metadata": {},
   "source": [
    "Looking at the MSE in general, all of our models don't seem to be very good predictors. A likely explanation is the extreme skew in our data, which is not well represented by a linear regression model."
   ]
  }
 ],
 "metadata": {
  "kernelspec": {
   "display_name": "Python 3",
   "language": "python",
   "name": "python3"
  },
  "language_info": {
   "codemirror_mode": {
    "name": "ipython",
    "version": 3
   },
   "file_extension": ".py",
   "mimetype": "text/x-python",
   "name": "python",
   "nbconvert_exporter": "python",
   "pygments_lexer": "ipython3",
   "version": "3.12.1"
  }
 },
 "nbformat": 4,
 "nbformat_minor": 2
}

{
 "cells": [
  {
   "cell_type": "markdown",
   "metadata": {},
   "source": [
    "# Binary Classification of Heart Disease with Logistic Regression Model"
   ]
  },
  {
   "cell_type": "markdown",
   "metadata": {},
   "source": [
    "#### Table Of Contents\n",
    "* [Introduction](#first-bullet)\n",
    "* [Dataset Exploration](#second-bullet)\n",
    "* [Data Cleaning](#third-bullet)\n",
    "* [Exploratory Analysis](#4th-bullet)\n",
    "* [Predictor Analysis](#5th-bullet)\n",
    "* [Splitting into Training and Test Sets](#6th-bullet)\n",
    "* [Building the Model](#7th-bullet)\n",
    "* [Evaluating Coefficients](#8th-bullet)\n",
    "* [Test Dataset Model Evaluation](#9th-bullet)\n",
    "* [Conclusion](#10th-bullet)"
   ]
  },
  {
   "cell_type": "markdown",
   "metadata": {},
   "source": [
    "#### Introduction <a class=\"anchor\" id=\"first-bullet\"></a>"
   ]
  },
  {
   "cell_type": "markdown",
   "metadata": {},
   "source": [
    "In this project we will use logistic regression modeling in Python on the Heart Disease Data Set from UCI Machine Learning Repository. In this dataset, there are patient characteristics, including age and chest pain, and our target - presence of heart disease.\n",
    "\n",
    "We will create a logistic regression based binary classification ML model to help predict heart disease in individuals, and then we will evaluate our model."
   ]
  },
  {
   "cell_type": "markdown",
   "metadata": {},
   "source": [
    "The features in the dataset are:\n",
    "\n",
    "* `age`: age in years\n",
    "* `sex`: sex (1 = male; 0 = female)\n",
    "* `cp`: chest pain type (1 = typical angina; 2 = atypical angina; 3 = non-anginal pain; 4 = asymptomatic)\n",
    "* `trestbps`: resting blood pressure (in mm Hg on admission to the hospital)\n",
    "* `chol`: serum cholesterol in mg/dl\n",
    "* `fbs`: (fasting blood sugar > 120 mg/dl)  (1 = true; 0 = false)\n",
    "* `restecg`: resting electrocardiographic results (0 = normal; 1 = having ST-T wave abnormality (T wave inversions and/or ST elevation or depression of > 0.05 mV); 2 = showing probable or definite left ventricular hypertrophy by Estes' criteria)\n",
    "* `thalach`: maximum heart rate achieved\n",
    "* `exang`: exercise induced angina (1 = yes; 0 = no)\n",
    "* `oldpeak`: ST depression induced by exercise relative to rest\n",
    "* `slope`: the slope of the peak exercise ST segment (0 = upsloping; 1 = flat; 2 = downsloping)\n",
    "* `ca`: number of major vessels (0-3) coloured by fluoroscopy\n",
    "* `thal`: 3 = normal; 6 = fixed defect; 7 = reversible defect\n",
    "* `present`: diagnosis of heart disease (angiographic disease status) (0 = no; 1 = yes)"
   ]
  },
  {
   "cell_type": "markdown",
   "metadata": {},
   "source": [
    "#### Dataset Exploration <a class=\"anchor\" id=\"second-bullet\"></a>"
   ]
  },
  {
   "cell_type": "code",
   "execution_count": 2,
   "metadata": {},
   "outputs": [],
   "source": [
    "#Import libraries\n",
    "import pandas as pd, numpy as np \n",
    "import matplotlib.pyplot as plt, seaborn as sns\n",
    "from sklearn.model_selection import train_test_split\n",
    "from sklearn.linear_model import LogisticRegression\n",
    "from sklearn.preprocessing import StandardScaler\n",
    "from sklearn.metrics import confusion_matrix\n",
    "from sklearn.metrics import ConfusionMatrixDisplay"
   ]
  },
  {
   "cell_type": "code",
   "execution_count": 3,
   "metadata": {},
   "outputs": [],
   "source": [
    "#Read in CSV file\n",
    "heart = pd.read_csv(\"D:/DataQuest/heart_disease.csv\")"
   ]
  },
  {
   "cell_type": "code",
   "execution_count": 4,
   "metadata": {},
   "outputs": [
    {
     "data": {
      "text/html": [
       "<div>\n",
       "<style scoped>\n",
       "    .dataframe tbody tr th:only-of-type {\n",
       "        vertical-align: middle;\n",
       "    }\n",
       "\n",
       "    .dataframe tbody tr th {\n",
       "        vertical-align: top;\n",
       "    }\n",
       "\n",
       "    .dataframe thead th {\n",
       "        text-align: right;\n",
       "    }\n",
       "</style>\n",
       "<table border=\"1\" class=\"dataframe\">\n",
       "  <thead>\n",
       "    <tr style=\"text-align: right;\">\n",
       "      <th></th>\n",
       "      <th>Unnamed: 0</th>\n",
       "      <th>age</th>\n",
       "      <th>sex</th>\n",
       "      <th>cp</th>\n",
       "      <th>trestbps</th>\n",
       "      <th>chol</th>\n",
       "      <th>fbs</th>\n",
       "      <th>restecg</th>\n",
       "      <th>thalach</th>\n",
       "      <th>exang</th>\n",
       "      <th>oldpeak</th>\n",
       "      <th>slope</th>\n",
       "      <th>ca</th>\n",
       "      <th>thal</th>\n",
       "      <th>present</th>\n",
       "    </tr>\n",
       "  </thead>\n",
       "  <tbody>\n",
       "    <tr>\n",
       "      <th>0</th>\n",
       "      <td>1</td>\n",
       "      <td>63</td>\n",
       "      <td>1</td>\n",
       "      <td>1</td>\n",
       "      <td>145</td>\n",
       "      <td>233</td>\n",
       "      <td>1</td>\n",
       "      <td>2</td>\n",
       "      <td>150</td>\n",
       "      <td>0</td>\n",
       "      <td>2.3</td>\n",
       "      <td>3</td>\n",
       "      <td>0.0</td>\n",
       "      <td>6.0</td>\n",
       "      <td>0</td>\n",
       "    </tr>\n",
       "    <tr>\n",
       "      <th>1</th>\n",
       "      <td>2</td>\n",
       "      <td>67</td>\n",
       "      <td>1</td>\n",
       "      <td>4</td>\n",
       "      <td>160</td>\n",
       "      <td>286</td>\n",
       "      <td>0</td>\n",
       "      <td>2</td>\n",
       "      <td>108</td>\n",
       "      <td>1</td>\n",
       "      <td>1.5</td>\n",
       "      <td>2</td>\n",
       "      <td>3.0</td>\n",
       "      <td>3.0</td>\n",
       "      <td>1</td>\n",
       "    </tr>\n",
       "    <tr>\n",
       "      <th>2</th>\n",
       "      <td>3</td>\n",
       "      <td>67</td>\n",
       "      <td>1</td>\n",
       "      <td>4</td>\n",
       "      <td>120</td>\n",
       "      <td>229</td>\n",
       "      <td>0</td>\n",
       "      <td>2</td>\n",
       "      <td>129</td>\n",
       "      <td>1</td>\n",
       "      <td>2.6</td>\n",
       "      <td>2</td>\n",
       "      <td>2.0</td>\n",
       "      <td>7.0</td>\n",
       "      <td>1</td>\n",
       "    </tr>\n",
       "    <tr>\n",
       "      <th>3</th>\n",
       "      <td>4</td>\n",
       "      <td>37</td>\n",
       "      <td>1</td>\n",
       "      <td>3</td>\n",
       "      <td>130</td>\n",
       "      <td>250</td>\n",
       "      <td>0</td>\n",
       "      <td>0</td>\n",
       "      <td>187</td>\n",
       "      <td>0</td>\n",
       "      <td>3.5</td>\n",
       "      <td>3</td>\n",
       "      <td>0.0</td>\n",
       "      <td>3.0</td>\n",
       "      <td>0</td>\n",
       "    </tr>\n",
       "    <tr>\n",
       "      <th>4</th>\n",
       "      <td>5</td>\n",
       "      <td>41</td>\n",
       "      <td>0</td>\n",
       "      <td>2</td>\n",
       "      <td>130</td>\n",
       "      <td>204</td>\n",
       "      <td>0</td>\n",
       "      <td>2</td>\n",
       "      <td>172</td>\n",
       "      <td>0</td>\n",
       "      <td>1.4</td>\n",
       "      <td>1</td>\n",
       "      <td>0.0</td>\n",
       "      <td>3.0</td>\n",
       "      <td>0</td>\n",
       "    </tr>\n",
       "  </tbody>\n",
       "</table>\n",
       "</div>"
      ],
      "text/plain": [
       "   Unnamed: 0  age  sex  cp  trestbps  chol  fbs  restecg  thalach  exang  \\\n",
       "0           1   63    1   1       145   233    1        2      150      0   \n",
       "1           2   67    1   4       160   286    0        2      108      1   \n",
       "2           3   67    1   4       120   229    0        2      129      1   \n",
       "3           4   37    1   3       130   250    0        0      187      0   \n",
       "4           5   41    0   2       130   204    0        2      172      0   \n",
       "\n",
       "   oldpeak  slope   ca thal  present  \n",
       "0      2.3      3  0.0  6.0        0  \n",
       "1      1.5      2  3.0  3.0        1  \n",
       "2      2.6      2  2.0  7.0        1  \n",
       "3      3.5      3  0.0  3.0        0  \n",
       "4      1.4      1  0.0  3.0        0  "
      ]
     },
     "execution_count": 4,
     "metadata": {},
     "output_type": "execute_result"
    }
   ],
   "source": [
    "#Check first 5 rows\n",
    "heart.head()"
   ]
  },
  {
   "cell_type": "code",
   "execution_count": 5,
   "metadata": {},
   "outputs": [
    {
     "name": "stdout",
     "output_type": "stream",
     "text": [
      "<class 'pandas.core.frame.DataFrame'>\n",
      "RangeIndex: 303 entries, 0 to 302\n",
      "Data columns (total 15 columns):\n",
      " #   Column      Non-Null Count  Dtype  \n",
      "---  ------      --------------  -----  \n",
      " 0   Unnamed: 0  303 non-null    int64  \n",
      " 1   age         303 non-null    int64  \n",
      " 2   sex         303 non-null    int64  \n",
      " 3   cp          303 non-null    int64  \n",
      " 4   trestbps    303 non-null    int64  \n",
      " 5   chol        303 non-null    int64  \n",
      " 6   fbs         303 non-null    int64  \n",
      " 7   restecg     303 non-null    int64  \n",
      " 8   thalach     303 non-null    int64  \n",
      " 9   exang       303 non-null    int64  \n",
      " 10  oldpeak     303 non-null    float64\n",
      " 11  slope       303 non-null    int64  \n",
      " 12  ca          303 non-null    object \n",
      " 13  thal        303 non-null    object \n",
      " 14  present     303 non-null    int64  \n",
      "dtypes: float64(1), int64(12), object(2)\n",
      "memory usage: 35.6+ KB\n"
     ]
    }
   ],
   "source": [
    "#Dataset Info\n",
    "heart.info()"
   ]
  },
  {
   "cell_type": "markdown",
   "metadata": {},
   "source": [
    "There are a total of 302 rows and 15 columns. At a glance, there are no null values. The Unnamed:0 column is not needed, and will have to be removed before modelling. Oldpeak is float datatype. ca and thal are str objects, and the rest are integer datatypes."
   ]
  },
  {
   "cell_type": "code",
   "execution_count": 6,
   "metadata": {},
   "outputs": [
    {
     "name": "stdout",
     "output_type": "stream",
     "text": [
      "age\n",
      "58    19\n",
      "57    17\n",
      "54    16\n",
      "59    14\n",
      "52    13\n",
      "60    12\n",
      "51    12\n",
      "56    11\n",
      "62    11\n",
      "44    11\n",
      "64    10\n",
      "41    10\n",
      "67     9\n",
      "63     9\n",
      "42     8\n",
      "43     8\n",
      "45     8\n",
      "53     8\n",
      "55     8\n",
      "61     8\n",
      "65     8\n",
      "50     7\n",
      "66     7\n",
      "48     7\n",
      "46     7\n",
      "47     5\n",
      "49     5\n",
      "70     4\n",
      "68     4\n",
      "35     4\n",
      "39     4\n",
      "69     3\n",
      "71     3\n",
      "40     3\n",
      "34     2\n",
      "37     2\n",
      "38     2\n",
      "29     1\n",
      "77     1\n",
      "74     1\n",
      "76     1\n",
      "Name: count, dtype: int64\n",
      "sex\n",
      "1    206\n",
      "0     97\n",
      "Name: count, dtype: int64\n",
      "cp\n",
      "4    144\n",
      "3     86\n",
      "2     50\n",
      "1     23\n",
      "Name: count, dtype: int64\n",
      "trestbps\n",
      "120    37\n",
      "130    36\n",
      "140    32\n",
      "110    19\n",
      "150    17\n",
      "138    12\n",
      "128    12\n",
      "160    11\n",
      "125    11\n",
      "112     9\n",
      "132     8\n",
      "118     7\n",
      "124     6\n",
      "108     6\n",
      "135     6\n",
      "152     5\n",
      "134     5\n",
      "145     5\n",
      "100     4\n",
      "170     4\n",
      "122     4\n",
      "126     3\n",
      "136     3\n",
      "115     3\n",
      "180     3\n",
      "142     3\n",
      "105     3\n",
      "102     2\n",
      "146     2\n",
      "144     2\n",
      "148     2\n",
      "178     2\n",
      "94      2\n",
      "165     1\n",
      "123     1\n",
      "114     1\n",
      "154     1\n",
      "156     1\n",
      "106     1\n",
      "155     1\n",
      "172     1\n",
      "200     1\n",
      "101     1\n",
      "129     1\n",
      "192     1\n",
      "158     1\n",
      "104     1\n",
      "174     1\n",
      "117     1\n",
      "164     1\n",
      "Name: count, dtype: int64\n",
      "chol\n",
      "204    6\n",
      "197    6\n",
      "234    6\n",
      "269    5\n",
      "212    5\n",
      "      ..\n",
      "340    1\n",
      "160    1\n",
      "394    1\n",
      "184    1\n",
      "131    1\n",
      "Name: count, Length: 152, dtype: int64\n",
      "fbs\n",
      "0    258\n",
      "1     45\n",
      "Name: count, dtype: int64\n",
      "restecg\n",
      "0    151\n",
      "2    148\n",
      "1      4\n",
      "Name: count, dtype: int64\n",
      "thalach\n",
      "162    11\n",
      "160     9\n",
      "163     9\n",
      "152     8\n",
      "150     7\n",
      "       ..\n",
      "177     1\n",
      "127     1\n",
      "97      1\n",
      "190     1\n",
      "90      1\n",
      "Name: count, Length: 91, dtype: int64\n",
      "exang\n",
      "0    204\n",
      "1     99\n",
      "Name: count, dtype: int64\n",
      "oldpeak\n",
      "0.0    99\n",
      "1.2    17\n",
      "0.6    14\n",
      "1.0    14\n",
      "1.4    13\n",
      "0.8    13\n",
      "0.2    12\n",
      "1.6    11\n",
      "1.8    10\n",
      "2.0     9\n",
      "0.4     9\n",
      "0.1     7\n",
      "2.8     6\n",
      "2.6     6\n",
      "1.9     5\n",
      "0.5     5\n",
      "3.0     5\n",
      "1.5     5\n",
      "3.6     4\n",
      "2.2     4\n",
      "3.4     3\n",
      "0.9     3\n",
      "2.4     3\n",
      "0.3     3\n",
      "4.0     3\n",
      "1.1     2\n",
      "4.2     2\n",
      "2.3     2\n",
      "2.5     2\n",
      "3.2     2\n",
      "5.6     1\n",
      "2.9     1\n",
      "6.2     1\n",
      "2.1     1\n",
      "1.3     1\n",
      "3.1     1\n",
      "3.8     1\n",
      "0.7     1\n",
      "3.5     1\n",
      "4.4     1\n",
      "Name: count, dtype: int64\n",
      "slope\n",
      "1    142\n",
      "2    140\n",
      "3     21\n",
      "Name: count, dtype: int64\n",
      "ca\n",
      "0.0    176\n",
      "1.0     65\n",
      "2.0     38\n",
      "3.0     20\n",
      "?        4\n",
      "Name: count, dtype: int64\n",
      "thal\n",
      "3.0    166\n",
      "7.0    117\n",
      "6.0     18\n",
      "?        2\n",
      "Name: count, dtype: int64\n",
      "present\n",
      "0    164\n",
      "1    139\n",
      "Name: count, dtype: int64\n"
     ]
    }
   ],
   "source": [
    "#Overview of all the columns\n",
    "headers = ['age','sex','cp','trestbps','chol','fbs','restecg','thalach','exang','oldpeak','slope','ca','thal','present']\n",
    "for x in headers:\n",
    "    print(heart[x].value_counts())"
   ]
  },
  {
   "cell_type": "markdown",
   "metadata": {},
   "source": [
    "thal and ca have ? values. We will have to look into this further."
   ]
  },
  {
   "cell_type": "markdown",
   "metadata": {},
   "source": [
    "#### Data Cleaning <a class=\"anchor\" id=\"third-bullet\"></a>"
   ]
  },
  {
   "cell_type": "code",
   "execution_count": 7,
   "metadata": {},
   "outputs": [
    {
     "data": {
      "text/html": [
       "<div>\n",
       "<style scoped>\n",
       "    .dataframe tbody tr th:only-of-type {\n",
       "        vertical-align: middle;\n",
       "    }\n",
       "\n",
       "    .dataframe tbody tr th {\n",
       "        vertical-align: top;\n",
       "    }\n",
       "\n",
       "    .dataframe thead th {\n",
       "        text-align: right;\n",
       "    }\n",
       "</style>\n",
       "<table border=\"1\" class=\"dataframe\">\n",
       "  <thead>\n",
       "    <tr style=\"text-align: right;\">\n",
       "      <th></th>\n",
       "      <th>Unnamed: 0</th>\n",
       "      <th>age</th>\n",
       "      <th>sex</th>\n",
       "      <th>cp</th>\n",
       "      <th>trestbps</th>\n",
       "      <th>chol</th>\n",
       "      <th>fbs</th>\n",
       "      <th>restecg</th>\n",
       "      <th>thalach</th>\n",
       "      <th>exang</th>\n",
       "      <th>oldpeak</th>\n",
       "      <th>slope</th>\n",
       "      <th>ca</th>\n",
       "      <th>thal</th>\n",
       "      <th>present</th>\n",
       "    </tr>\n",
       "  </thead>\n",
       "  <tbody>\n",
       "    <tr>\n",
       "      <th>87</th>\n",
       "      <td>88</td>\n",
       "      <td>53</td>\n",
       "      <td>0</td>\n",
       "      <td>3</td>\n",
       "      <td>128</td>\n",
       "      <td>216</td>\n",
       "      <td>0</td>\n",
       "      <td>2</td>\n",
       "      <td>115</td>\n",
       "      <td>0</td>\n",
       "      <td>0.0</td>\n",
       "      <td>1</td>\n",
       "      <td>0.0</td>\n",
       "      <td>?</td>\n",
       "      <td>0</td>\n",
       "    </tr>\n",
       "    <tr>\n",
       "      <th>266</th>\n",
       "      <td>267</td>\n",
       "      <td>52</td>\n",
       "      <td>1</td>\n",
       "      <td>4</td>\n",
       "      <td>128</td>\n",
       "      <td>204</td>\n",
       "      <td>1</td>\n",
       "      <td>0</td>\n",
       "      <td>156</td>\n",
       "      <td>1</td>\n",
       "      <td>1.0</td>\n",
       "      <td>2</td>\n",
       "      <td>0.0</td>\n",
       "      <td>?</td>\n",
       "      <td>1</td>\n",
       "    </tr>\n",
       "  </tbody>\n",
       "</table>\n",
       "</div>"
      ],
      "text/plain": [
       "     Unnamed: 0  age  sex  cp  trestbps  chol  fbs  restecg  thalach  exang  \\\n",
       "87           88   53    0   3       128   216    0        2      115      0   \n",
       "266         267   52    1   4       128   204    1        0      156      1   \n",
       "\n",
       "     oldpeak  slope   ca thal  present  \n",
       "87       0.0      1  0.0    ?        0  \n",
       "266      1.0      2  0.0    ?        1  "
      ]
     },
     "execution_count": 7,
     "metadata": {},
     "output_type": "execute_result"
    }
   ],
   "source": [
    "#Investigate thal column\n",
    "heart[heart['thal']=='?']"
   ]
  },
  {
   "cell_type": "code",
   "execution_count": 8,
   "metadata": {},
   "outputs": [
    {
     "data": {
      "text/html": [
       "<div>\n",
       "<style scoped>\n",
       "    .dataframe tbody tr th:only-of-type {\n",
       "        vertical-align: middle;\n",
       "    }\n",
       "\n",
       "    .dataframe tbody tr th {\n",
       "        vertical-align: top;\n",
       "    }\n",
       "\n",
       "    .dataframe thead th {\n",
       "        text-align: right;\n",
       "    }\n",
       "</style>\n",
       "<table border=\"1\" class=\"dataframe\">\n",
       "  <thead>\n",
       "    <tr style=\"text-align: right;\">\n",
       "      <th></th>\n",
       "      <th>Unnamed: 0</th>\n",
       "      <th>age</th>\n",
       "      <th>sex</th>\n",
       "      <th>cp</th>\n",
       "      <th>trestbps</th>\n",
       "      <th>chol</th>\n",
       "      <th>fbs</th>\n",
       "      <th>restecg</th>\n",
       "      <th>thalach</th>\n",
       "      <th>exang</th>\n",
       "      <th>oldpeak</th>\n",
       "      <th>slope</th>\n",
       "      <th>ca</th>\n",
       "      <th>thal</th>\n",
       "      <th>present</th>\n",
       "    </tr>\n",
       "  </thead>\n",
       "  <tbody>\n",
       "    <tr>\n",
       "      <th>166</th>\n",
       "      <td>167</td>\n",
       "      <td>52</td>\n",
       "      <td>1</td>\n",
       "      <td>3</td>\n",
       "      <td>138</td>\n",
       "      <td>223</td>\n",
       "      <td>0</td>\n",
       "      <td>0</td>\n",
       "      <td>169</td>\n",
       "      <td>0</td>\n",
       "      <td>0.0</td>\n",
       "      <td>1</td>\n",
       "      <td>?</td>\n",
       "      <td>3.0</td>\n",
       "      <td>0</td>\n",
       "    </tr>\n",
       "    <tr>\n",
       "      <th>192</th>\n",
       "      <td>193</td>\n",
       "      <td>43</td>\n",
       "      <td>1</td>\n",
       "      <td>4</td>\n",
       "      <td>132</td>\n",
       "      <td>247</td>\n",
       "      <td>1</td>\n",
       "      <td>2</td>\n",
       "      <td>143</td>\n",
       "      <td>1</td>\n",
       "      <td>0.1</td>\n",
       "      <td>2</td>\n",
       "      <td>?</td>\n",
       "      <td>7.0</td>\n",
       "      <td>1</td>\n",
       "    </tr>\n",
       "    <tr>\n",
       "      <th>287</th>\n",
       "      <td>288</td>\n",
       "      <td>58</td>\n",
       "      <td>1</td>\n",
       "      <td>2</td>\n",
       "      <td>125</td>\n",
       "      <td>220</td>\n",
       "      <td>0</td>\n",
       "      <td>0</td>\n",
       "      <td>144</td>\n",
       "      <td>0</td>\n",
       "      <td>0.4</td>\n",
       "      <td>2</td>\n",
       "      <td>?</td>\n",
       "      <td>7.0</td>\n",
       "      <td>0</td>\n",
       "    </tr>\n",
       "    <tr>\n",
       "      <th>302</th>\n",
       "      <td>303</td>\n",
       "      <td>38</td>\n",
       "      <td>1</td>\n",
       "      <td>3</td>\n",
       "      <td>138</td>\n",
       "      <td>175</td>\n",
       "      <td>0</td>\n",
       "      <td>0</td>\n",
       "      <td>173</td>\n",
       "      <td>0</td>\n",
       "      <td>0.0</td>\n",
       "      <td>1</td>\n",
       "      <td>?</td>\n",
       "      <td>3.0</td>\n",
       "      <td>0</td>\n",
       "    </tr>\n",
       "  </tbody>\n",
       "</table>\n",
       "</div>"
      ],
      "text/plain": [
       "     Unnamed: 0  age  sex  cp  trestbps  chol  fbs  restecg  thalach  exang  \\\n",
       "166         167   52    1   3       138   223    0        0      169      0   \n",
       "192         193   43    1   4       132   247    1        2      143      1   \n",
       "287         288   58    1   2       125   220    0        0      144      0   \n",
       "302         303   38    1   3       138   175    0        0      173      0   \n",
       "\n",
       "     oldpeak  slope ca thal  present  \n",
       "166      0.0      1  ?  3.0        0  \n",
       "192      0.1      2  ?  7.0        1  \n",
       "287      0.4      2  ?  7.0        0  \n",
       "302      0.0      1  ?  3.0        0  "
      ]
     },
     "execution_count": 8,
     "metadata": {},
     "output_type": "execute_result"
    }
   ],
   "source": [
    "#Investigate ca column\n",
    "heart[heart['ca']=='?']"
   ]
  },
  {
   "cell_type": "markdown",
   "metadata": {},
   "source": [
    "We will drop these 6 rows from our data set as I am unsure how the predictors will impact the target variable. I may consider substituting in values from rows with matching features with high correlation to thal / ca. However, given our sample is about 300, I am worried this may impact our model artificially."
   ]
  },
  {
   "cell_type": "markdown",
   "metadata": {},
   "source": [
    "For sake of simplicity and logistic regression modelling practice, we will simply drop these rows. We will also drop the unnamed column."
   ]
  },
  {
   "cell_type": "code",
   "execution_count": 9,
   "metadata": {},
   "outputs": [],
   "source": [
    "#Drop rows\n",
    "heart_cleaned = heart.drop([87, 166, 192, 266, 287, 302])\n",
    "\n",
    "#Drop Unnamed Column\n",
    "heart_cleaned = heart_cleaned.drop('Unnamed: 0', axis=1)"
   ]
  },
  {
   "cell_type": "markdown",
   "metadata": {},
   "source": [
    "#### Exploratory Analysis <a class=\"anchor\" id=\"4th-bullet\"></a>"
   ]
  },
  {
   "cell_type": "code",
   "execution_count": 10,
   "metadata": {},
   "outputs": [
    {
     "name": "stdout",
     "output_type": "stream",
     "text": [
      "<class 'pandas.core.frame.DataFrame'>\n",
      "Index: 297 entries, 0 to 301\n",
      "Data columns (total 14 columns):\n",
      " #   Column    Non-Null Count  Dtype  \n",
      "---  ------    --------------  -----  \n",
      " 0   age       297 non-null    int64  \n",
      " 1   sex       297 non-null    int64  \n",
      " 2   cp        297 non-null    int64  \n",
      " 3   trestbps  297 non-null    int64  \n",
      " 4   chol      297 non-null    int64  \n",
      " 5   fbs       297 non-null    int64  \n",
      " 6   restecg   297 non-null    int64  \n",
      " 7   thalach   297 non-null    int64  \n",
      " 8   exang     297 non-null    int64  \n",
      " 9   oldpeak   297 non-null    float64\n",
      " 10  slope     297 non-null    int64  \n",
      " 11  ca        297 non-null    object \n",
      " 12  thal      297 non-null    object \n",
      " 13  present   297 non-null    int64  \n",
      "dtypes: float64(1), int64(11), object(2)\n",
      "memory usage: 34.8+ KB\n"
     ]
    }
   ],
   "source": [
    "heart_cleaned.info()"
   ]
  },
  {
   "cell_type": "code",
   "execution_count": 11,
   "metadata": {},
   "outputs": [
    {
     "data": {
      "text/html": [
       "<div>\n",
       "<style scoped>\n",
       "    .dataframe tbody tr th:only-of-type {\n",
       "        vertical-align: middle;\n",
       "    }\n",
       "\n",
       "    .dataframe tbody tr th {\n",
       "        vertical-align: top;\n",
       "    }\n",
       "\n",
       "    .dataframe thead th {\n",
       "        text-align: right;\n",
       "    }\n",
       "</style>\n",
       "<table border=\"1\" class=\"dataframe\">\n",
       "  <thead>\n",
       "    <tr style=\"text-align: right;\">\n",
       "      <th></th>\n",
       "      <th>age</th>\n",
       "      <th>trestbps</th>\n",
       "      <th>thalach</th>\n",
       "      <th>chol</th>\n",
       "    </tr>\n",
       "  </thead>\n",
       "  <tbody>\n",
       "    <tr>\n",
       "      <th>count</th>\n",
       "      <td>297.000000</td>\n",
       "      <td>297.000000</td>\n",
       "      <td>297.000000</td>\n",
       "      <td>297.000000</td>\n",
       "    </tr>\n",
       "    <tr>\n",
       "      <th>mean</th>\n",
       "      <td>54.542088</td>\n",
       "      <td>131.693603</td>\n",
       "      <td>149.599327</td>\n",
       "      <td>247.350168</td>\n",
       "    </tr>\n",
       "    <tr>\n",
       "      <th>std</th>\n",
       "      <td>9.049736</td>\n",
       "      <td>17.762806</td>\n",
       "      <td>22.941562</td>\n",
       "      <td>51.997583</td>\n",
       "    </tr>\n",
       "    <tr>\n",
       "      <th>min</th>\n",
       "      <td>29.000000</td>\n",
       "      <td>94.000000</td>\n",
       "      <td>71.000000</td>\n",
       "      <td>126.000000</td>\n",
       "    </tr>\n",
       "    <tr>\n",
       "      <th>25%</th>\n",
       "      <td>48.000000</td>\n",
       "      <td>120.000000</td>\n",
       "      <td>133.000000</td>\n",
       "      <td>211.000000</td>\n",
       "    </tr>\n",
       "    <tr>\n",
       "      <th>50%</th>\n",
       "      <td>56.000000</td>\n",
       "      <td>130.000000</td>\n",
       "      <td>153.000000</td>\n",
       "      <td>243.000000</td>\n",
       "    </tr>\n",
       "    <tr>\n",
       "      <th>75%</th>\n",
       "      <td>61.000000</td>\n",
       "      <td>140.000000</td>\n",
       "      <td>166.000000</td>\n",
       "      <td>276.000000</td>\n",
       "    </tr>\n",
       "    <tr>\n",
       "      <th>max</th>\n",
       "      <td>77.000000</td>\n",
       "      <td>200.000000</td>\n",
       "      <td>202.000000</td>\n",
       "      <td>564.000000</td>\n",
       "    </tr>\n",
       "  </tbody>\n",
       "</table>\n",
       "</div>"
      ],
      "text/plain": [
       "              age    trestbps     thalach        chol\n",
       "count  297.000000  297.000000  297.000000  297.000000\n",
       "mean    54.542088  131.693603  149.599327  247.350168\n",
       "std      9.049736   17.762806   22.941562   51.997583\n",
       "min     29.000000   94.000000   71.000000  126.000000\n",
       "25%     48.000000  120.000000  133.000000  211.000000\n",
       "50%     56.000000  130.000000  153.000000  243.000000\n",
       "75%     61.000000  140.000000  166.000000  276.000000\n",
       "max     77.000000  200.000000  202.000000  564.000000"
      ]
     },
     "execution_count": 11,
     "metadata": {},
     "output_type": "execute_result"
    }
   ],
   "source": [
    "#Descriptive Analysis of the numeric variables\n",
    "heart_cleaned.describe()[['age','trestbps','thalach','chol']]"
   ]
  },
  {
   "cell_type": "markdown",
   "metadata": {},
   "source": [
    "Average age is 54 years old, with median at 56. Minimum age 29 and maximum age 77.\n",
    "\n",
    "Resting blood pressure average at 131, with median at 130. Minimum at 94, maximum at 200.\n",
    "\n",
    "Maximum heart rate average at 149, median at 153. Minimum at 71, maximum, 202.\n",
    "\n",
    "Cholesterol average at 247, median at 243. Minimum, 126; maximum, 564."
   ]
  },
  {
   "cell_type": "markdown",
   "metadata": {},
   "source": [
    "Next, let us look at the categorical variables."
   ]
  },
  {
   "cell_type": "code",
   "execution_count": 12,
   "metadata": {},
   "outputs": [
    {
     "data": {
      "text/plain": [
       "sex\n",
       "1      201\n",
       "0       96\n",
       "Name: count, dtype: int64"
      ]
     },
     "execution_count": 12,
     "metadata": {},
     "output_type": "execute_result"
    }
   ],
   "source": [
    "heart_cleaned[['sex']].value_counts()"
   ]
  },
  {
   "cell_type": "code",
   "execution_count": 13,
   "metadata": {},
   "outputs": [
    {
     "data": {
      "text/plain": [
       "cp\n",
       "4     142\n",
       "3      83\n",
       "2      49\n",
       "1      23\n",
       "Name: count, dtype: int64"
      ]
     },
     "execution_count": 13,
     "metadata": {},
     "output_type": "execute_result"
    }
   ],
   "source": [
    "heart_cleaned[['cp']].value_counts()"
   ]
  },
  {
   "cell_type": "code",
   "execution_count": 14,
   "metadata": {},
   "outputs": [
    {
     "data": {
      "text/plain": [
       "fbs\n",
       "0      254\n",
       "1       43\n",
       "Name: count, dtype: int64"
      ]
     },
     "execution_count": 14,
     "metadata": {},
     "output_type": "execute_result"
    }
   ],
   "source": [
    "heart_cleaned[['fbs']].value_counts()"
   ]
  },
  {
   "cell_type": "code",
   "execution_count": 15,
   "metadata": {},
   "outputs": [
    {
     "data": {
      "text/plain": [
       "restecg\n",
       "0          147\n",
       "2          146\n",
       "1            4\n",
       "Name: count, dtype: int64"
      ]
     },
     "execution_count": 15,
     "metadata": {},
     "output_type": "execute_result"
    }
   ],
   "source": [
    "heart_cleaned[['restecg']].value_counts()"
   ]
  },
  {
   "cell_type": "code",
   "execution_count": 16,
   "metadata": {},
   "outputs": [
    {
     "data": {
      "text/plain": [
       "exang\n",
       "0        200\n",
       "1         97\n",
       "Name: count, dtype: int64"
      ]
     },
     "execution_count": 16,
     "metadata": {},
     "output_type": "execute_result"
    }
   ],
   "source": [
    "heart_cleaned[['exang']].value_counts()"
   ]
  },
  {
   "cell_type": "code",
   "execution_count": 17,
   "metadata": {},
   "outputs": [
    {
     "data": {
      "text/plain": [
       "oldpeak\n",
       "0.0        96\n",
       "1.2        17\n",
       "0.6        14\n",
       "0.8        13\n",
       "1.4        13\n",
       "1.0        13\n",
       "0.2        12\n",
       "1.6        11\n",
       "1.8        10\n",
       "2.0         9\n",
       "0.4         8\n",
       "2.8         6\n",
       "2.6         6\n",
       "0.1         6\n",
       "1.5         5\n",
       "1.9         5\n",
       "0.5         5\n",
       "3.0         5\n",
       "3.6         4\n",
       "2.2         4\n",
       "0.3         3\n",
       "3.4         3\n",
       "0.9         3\n",
       "2.4         3\n",
       "4.0         3\n",
       "3.2         2\n",
       "2.3         2\n",
       "2.5         2\n",
       "1.1         2\n",
       "4.2         2\n",
       "5.6         1\n",
       "4.4         1\n",
       "3.8         1\n",
       "2.1         1\n",
       "3.5         1\n",
       "3.1         1\n",
       "2.9         1\n",
       "1.3         1\n",
       "0.7         1\n",
       "6.2         1\n",
       "Name: count, dtype: int64"
      ]
     },
     "execution_count": 17,
     "metadata": {},
     "output_type": "execute_result"
    }
   ],
   "source": [
    "heart_cleaned[['oldpeak']].value_counts()"
   ]
  },
  {
   "cell_type": "code",
   "execution_count": 18,
   "metadata": {},
   "outputs": [
    {
     "data": {
      "text/plain": [
       "slope\n",
       "1        139\n",
       "2        137\n",
       "3         21\n",
       "Name: count, dtype: int64"
      ]
     },
     "execution_count": 18,
     "metadata": {},
     "output_type": "execute_result"
    }
   ],
   "source": [
    "heart_cleaned[['slope']].value_counts()"
   ]
  },
  {
   "cell_type": "code",
   "execution_count": 19,
   "metadata": {},
   "outputs": [
    {
     "data": {
      "text/plain": [
       "ca \n",
       "0.0    174\n",
       "1.0     65\n",
       "2.0     38\n",
       "3.0     20\n",
       "Name: count, dtype: int64"
      ]
     },
     "execution_count": 19,
     "metadata": {},
     "output_type": "execute_result"
    }
   ],
   "source": [
    "heart_cleaned[['ca']].value_counts()"
   ]
  },
  {
   "cell_type": "code",
   "execution_count": 20,
   "metadata": {},
   "outputs": [
    {
     "data": {
      "text/plain": [
       "thal\n",
       "3.0     164\n",
       "7.0     115\n",
       "6.0      18\n",
       "Name: count, dtype: int64"
      ]
     },
     "execution_count": 20,
     "metadata": {},
     "output_type": "execute_result"
    }
   ],
   "source": [
    "heart_cleaned[['thal']].value_counts()"
   ]
  },
  {
   "cell_type": "code",
   "execution_count": 21,
   "metadata": {},
   "outputs": [
    {
     "data": {
      "text/plain": [
       "present\n",
       "0          160\n",
       "1          137\n",
       "Name: count, dtype: int64"
      ]
     },
     "execution_count": 21,
     "metadata": {},
     "output_type": "execute_result"
    }
   ],
   "source": [
    "heart_cleaned[['present']].value_counts()"
   ]
  },
  {
   "cell_type": "markdown",
   "metadata": {},
   "source": [
    "All the variables look clean and ready."
   ]
  },
  {
   "cell_type": "markdown",
   "metadata": {},
   "source": [
    "#### Predictor Analysis <a class=\"anchor\" id=\"5th-bullet\"></a>"
   ]
  },
  {
   "cell_type": "markdown",
   "metadata": {},
   "source": [
    "Let's take a look at the continuous numeric variables first - age, trestbps, chol, thalach"
   ]
  },
  {
   "cell_type": "code",
   "execution_count": 22,
   "metadata": {},
   "outputs": [
    {
     "data": {
      "text/plain": [
       "present     1.000000\n",
       "oldpeak     0.424052\n",
       "thalach     0.423817\n",
       "age         0.227075\n",
       "trestbps    0.153490\n",
       "chol        0.080285\n",
       "Name: present, dtype: float64"
      ]
     },
     "execution_count": 22,
     "metadata": {},
     "output_type": "execute_result"
    }
   ],
   "source": [
    "#Pearson's Correlation Matrix\n",
    "heart_corr = heart_cleaned[['age','trestbps','chol','thalach','oldpeak','present']]\n",
    "corr_matrix = heart_corr.corr()\n",
    "abs(corr_matrix['present']).sort_values(ascending=False)"
   ]
  },
  {
   "cell_type": "code",
   "execution_count": 23,
   "metadata": {},
   "outputs": [
    {
     "data": {
      "image/png": "[encoded data removed]",
      "text/plain": [
       "<Figure size 1000x800 with 2 Axes>"
      ]
     },
     "metadata": {},
     "output_type": "display_data"
    }
   ],
   "source": [
    "#Heatmap of Correlation Matrix\n",
    "plt.figure(figsize=(10,8))\n",
    "sns.heatmap(corr_matrix, annot=True, cmap='Blues', fmt=\".2f\")\n",
    "plt.title('Correlation Matrix')\n",
    "plt.show()"
   ]
  },
  {
   "cell_type": "code",
   "execution_count": 41,
   "metadata": {},
   "outputs": [
    {
     "data": {
      "image/png": "[encoded data removed]",
      "text/plain": [
       "<Figure size 1200x300 with 2 Axes>"
      ]
     },
     "metadata": {},
     "output_type": "display_data"
    }
   ],
   "source": [
    "# Show the correlations of presence of heart disease specifically\n",
    "fig, ax = plt.subplots(figsize=(12,3))\n",
    "\n",
    "sns.heatmap(\n",
    "    corr_matrix.loc[['present']],\n",
    "    cmap='Blues',\n",
    "    annot=True,\n",
    "    ax=ax,\n",
    "    linewidth = 1, \n",
    "    square =True,\n",
    ")\n",
    "\n",
    "plt.title('Correlation Matrix of Numeric Variables')\n",
    "plt.tight_layout()\n",
    "plt.show()"
   ]
  },
  {
   "cell_type": "markdown",
   "metadata": {},
   "source": [
    "There is high positive correlation (>0.30) between presence of heart disease with oldpeak and negative correlation (<-0.30) with maximum heart rate achieved."
   ]
  },
  {
   "cell_type": "markdown",
   "metadata": {},
   "source": [
    "Let's look at binary categorical variables with Pearson's R too."
   ]
  },
  {
   "cell_type": "code",
   "execution_count": 42,
   "metadata": {},
   "outputs": [
    {
     "data": {
      "image/png": "[encoded data removed]",
      "text/plain": [
       "<Figure size 1200x300 with 2 Axes>"
      ]
     },
     "metadata": {},
     "output_type": "display_data"
    }
   ],
   "source": [
    "#Heatmap and correlation matrix of categorical variables\n",
    "binary_var = heart_cleaned[['sex','fbs','exang','present']]\n",
    "corr_matrix = binary_var.corr()\n",
    "fig, ax = plt.subplots(figsize=(12,3))\n",
    "\n",
    "sns.heatmap(\n",
    "    corr_matrix.loc[['present']],\n",
    "    cmap='Blues',\n",
    "    annot=True,\n",
    "    ax=ax,\n",
    "    linewidth = 1, \n",
    "    square =True,\n",
    ")\n",
    "\n",
    "plt.title('Correlation Matrix of Categorical Variables')\n",
    "plt.tight_layout()\n",
    "plt.show()"
   ]
  },
  {
   "cell_type": "markdown",
   "metadata": {},
   "source": [
    "Surprisingly fasting blood sugar does not a have a strong correlation with presence of heart disease even though it is well documented that high blood sugar (diabetes) leads to significant health issues including heart disease. This may be due to the fact that Pearson's correlation coefficient assumes linear relationship."
   ]
  },
  {
   "cell_type": "markdown",
   "metadata": {},
   "source": [
    "Let's have a closer look at the categorical variables."
   ]
  },
  {
   "cell_type": "code",
   "execution_count": 72,
   "metadata": {},
   "outputs": [
    {
     "data": {
      "image/png": "[encoded data removed]",
      "text/plain": [
       "<Figure size 2400x4000 with 8 Axes>"
      ]
     },
     "metadata": {},
     "output_type": "display_data"
    }
   ],
   "source": [
    "cat_variables = heart_cleaned[['sex','cp','fbs','restecg','exang','slope','ca','thal','present']]\n",
    "fig = plt.figure(figsize=(24,40))\n",
    "for i,x in enumerate(cat_variables):\n",
    "    if x == 'present':\n",
    "        continue\n",
    "    else:\n",
    "        ax = fig.add_subplot(8,2,i+1)\n",
    "        sns.set_palette('Paired')\n",
    "        sns.countplot(x=heart_cleaned[x],hue=heart_cleaned['present'])\n",
    "        ax.set_title(f'Presence of Heart Disease by {x}')\n",
    "        plt.xlabel(x)\n",
    "        ax.xaxis.grid(False)\n",
    "        #Add numeric labels to our bars\n",
    "        for container in ax.containers:\n",
    "            ax.bar_label(container, label_type=\"center\", size =12)\n",
    "plt.tight_layout\n",
    "plt.show()"
   ]
  },
  {
   "cell_type": "markdown",
   "metadata": {},
   "source": [
    "Gross overview of the graphs suggest that all the variables have an impact on presence of heart disease except fbs(fasting blood sugar) which shows relatively similar bars. We cannot be sure of the significance of impact but we will include them in our model."
   ]
  },
  {
   "cell_type": "markdown",
   "metadata": {},
   "source": [
    "Therefore, we have our predictors as below:"
   ]
  },
  {
   "cell_type": "code",
   "execution_count": 27,
   "metadata": {},
   "outputs": [],
   "source": [
    "predictors = ['thalach','oldpeak','sex','cp','exang','fbs','restecg','slope','ca','thal']"
   ]
  },
  {
   "cell_type": "markdown",
   "metadata": {},
   "source": [
    "Before we continue with our model, we need to convert our nominal variables into dummy variables."
   ]
  },
  {
   "cell_type": "code",
   "execution_count": 73,
   "metadata": {},
   "outputs": [
    {
     "data": {
      "text/plain": [
       "Index(['age', 'sex', 'trestbps', 'chol', 'fbs', 'thalach', 'exang', 'oldpeak',\n",
       "       'cp_2', 'cp_3', 'cp_4', 'restecg_1', 'restecg_2', 'slope_2', 'slope_3',\n",
       "       'ca_1.0', 'ca_2.0', 'ca_3.0', 'thal_6.0', 'thal_7.0'],\n",
       "      dtype='object')"
      ]
     },
     "execution_count": 73,
     "metadata": {},
     "output_type": "execute_result"
    }
   ],
   "source": [
    "#Dummy variable conversion\n",
    "dummies = ['cp','restecg','slope','ca','thal']\n",
    "heart_cleaned[dummies] = heart_cleaned[dummies].astype(str)\n",
    "heart_dummy = pd.get_dummies(heart_cleaned, drop_first=True).astype(int)\n",
    "new_predictors = heart_dummy.columns.drop('present')\n",
    "new_predictors"
   ]
  },
  {
   "cell_type": "markdown",
   "metadata": {},
   "source": [
    "#### Splitting into Training and Test Sets <a class=\"anchor\" id=\"6th-bullet\"></a>"
   ]
  },
  {
   "cell_type": "code",
   "execution_count": 29,
   "metadata": {},
   "outputs": [],
   "source": [
    "#Split data into predictors and target\n",
    "X = heart_dummy.drop('present',axis=1)\n",
    "y = heart_dummy['present']"
   ]
  },
  {
   "cell_type": "markdown",
   "metadata": {},
   "source": [
    "We'll use the formula presented in Statistical Analysis and Data Mining: The ASA Data Science Journal to determine the size of our training and testing sets."
   ]
  },
  {
   "cell_type": "code",
   "execution_count": 30,
   "metadata": {},
   "outputs": [
    {
     "name": "stdout",
     "output_type": "stream",
     "text": [
      "test_size=0.240\n"
     ]
    }
   ],
   "source": [
    "# Determines test size\n",
    "p = len(predictors)\n",
    "test_size = 1 / (np.sqrt(p) + 1)\n",
    "print(f'{test_size=:.3f}')"
   ]
  },
  {
   "cell_type": "markdown",
   "metadata": {},
   "source": [
    "The above step may not be necessary. Generally, test size 0.2-0.4 is sufficient depending on sample size. "
   ]
  },
  {
   "cell_type": "code",
   "execution_count": 31,
   "metadata": {},
   "outputs": [],
   "source": [
    "X_train, X_test, y_train, y_test = train_test_split(X, y, test_size=test_size, random_state=512)"
   ]
  },
  {
   "cell_type": "code",
   "execution_count": 32,
   "metadata": {},
   "outputs": [
    {
     "data": {
      "text/plain": [
       "present\n",
       "0    0.542222\n",
       "1    0.457778\n",
       "Name: proportion, dtype: float64"
      ]
     },
     "execution_count": 32,
     "metadata": {},
     "output_type": "execute_result"
    }
   ],
   "source": [
    "y_train.value_counts(normalize=True)"
   ]
  },
  {
   "cell_type": "code",
   "execution_count": 33,
   "metadata": {},
   "outputs": [
    {
     "data": {
      "text/plain": [
       "present\n",
       "0    0.527778\n",
       "1    0.472222\n",
       "Name: proportion, dtype: float64"
      ]
     },
     "execution_count": 33,
     "metadata": {},
     "output_type": "execute_result"
    }
   ],
   "source": [
    "y_test.value_counts(normalize=True)"
   ]
  },
  {
   "cell_type": "markdown",
   "metadata": {},
   "source": [
    "The distribution is similar. We can proceed with training our model after normalizing our data."
   ]
  },
  {
   "cell_type": "markdown",
   "metadata": {},
   "source": [
    "#### Building the Model <a class=\"anchor\" id=\"7th-bullet\"></a>"
   ]
  },
  {
   "cell_type": "markdown",
   "metadata": {},
   "source": [
    "We will begin by normalizing our data set, so each predictor contributes equally to the model.\n",
    "Then, we will instantiate our linear regression model and fit the model with our training dataset."
   ]
  },
  {
   "cell_type": "markdown",
   "metadata": {},
   "source": [
    "Lastly, we will test our model and calculate its accuracy."
   ]
  },
  {
   "cell_type": "code",
   "execution_count": 34,
   "metadata": {},
   "outputs": [],
   "source": [
    "#Normalize our data\n",
    "scaler = StandardScaler().fit(X_train)\n",
    "\n",
    "X_train = scaler.transform(X_train)\n",
    "X_test = scaler.transform(X_test)"
   ]
  },
  {
   "cell_type": "code",
   "execution_count": 35,
   "metadata": {},
   "outputs": [
    {
     "data": {
      "text/plain": [
       "0.8977777777777778"
      ]
     },
     "execution_count": 35,
     "metadata": {},
     "output_type": "execute_result"
    }
   ],
   "source": [
    "#Build Logistic Regression Model\n",
    "model = LogisticRegression()\n",
    "model.fit(X_train, y_train)\n",
    "\n",
    "#Test training set accuracy\n",
    "training_accuracy = model.score(X_train, y_train)\n",
    "training_accuracy"
   ]
  },
  {
   "cell_type": "markdown",
   "metadata": {},
   "source": [
    "Our accuracy is 90% which is really good. We can consider finding the best fit hyperparameters using gridsearchcv but I think 90% accuracy is really good for us to move on.\n",
    "\n",
    "Let's proceed with checking model performance."
   ]
  },
  {
   "cell_type": "code",
   "execution_count": 36,
   "metadata": {},
   "outputs": [
    {
     "data": {
      "image/png": "[encoded data removed]",
      "text/plain": [
       "<Figure size 640x480 with 2 Axes>"
      ]
     },
     "metadata": {},
     "output_type": "display_data"
    },
    {
     "name": "stdout",
     "output_type": "stream",
     "text": [
      "Sensitivity: 0.8447\n",
      "Specificity: 0.9426\n",
      "PPV: 0.9255\n",
      "NPV: 0.8779\n"
     ]
    }
   ],
   "source": [
    "def plot_confusion_matrix(model, X, y):\n",
    "    ''' Plots a confusion matrix.'''\n",
    "    y_pred = model.predict(X)\n",
    "\n",
    "    cm = confusion_matrix(y, y_pred)\n",
    "    sns.heatmap(cm, annot=True, cmap=plt.colormaps.get_cmap('Blues'),fmt='d')\n",
    "    plt.title('Confusion Matrix')\n",
    "    plt.show()\n",
    "\n",
    "    # Calculate TP, TN, FP, and FN\n",
    "    TP = cm[1, 1]\n",
    "    TN = cm[0, 0]\n",
    "    FP = cm[0, 1]\n",
    "    FN = cm[1, 0]\n",
    "\n",
    "    # Calculate sensitivity and specificity\n",
    "    sensitivity = TP / (TP + FN)\n",
    "    specificity = TN / (TN + FP)\n",
    "    PPV = TP / (TP + FP)\n",
    "    NPV = TN / (TN + FN)\n",
    "\n",
    "    print(f\"Sensitivity: {sensitivity:.4f}\")\n",
    "    print(f\"Specificity: {specificity:.4f}\")\n",
    "    print(f\"PPV: {PPV:.4f}\")\n",
    "    print(f\"NPV: {NPV:.4f}\")\n",
    "\n",
    "\n",
    "plot_confusion_matrix(model, X_train, y_train)"
   ]
  },
  {
   "cell_type": "markdown",
   "metadata": {},
   "source": [
    "We can see from the confusion matrix that our model has a negative predictive value of 87.79%. This means if given that our model predicts the absence of heart disease, there is 87% of the time that there is no heart disease. The 13% of the test that returns negative for heart disease will in fact be people with heart disease. In context of using this model as prediction for heart disease, 13% may be too large for diagnostic purposes."
   ]
  },
  {
   "cell_type": "markdown",
   "metadata": {},
   "source": [
    "The specificity is much higher for our model, meaning in a patient without heart disease, our model would predict absence of heart disease 94% of the time. Likewise the PPV is higher than the NPV, which means our model is better at predicting presence of heart disease than the absences of heart disease."
   ]
  },
  {
   "cell_type": "markdown",
   "metadata": {},
   "source": [
    "Therefore, our model is more useful for confirming the presence of heart disease in individuals suspected of heart disease rather than as a rule-out test model."
   ]
  },
  {
   "cell_type": "markdown",
   "metadata": {},
   "source": [
    "#### Evaluating Coefficients <a class=\"anchor\" id=\"8th-bullet\"></a>"
   ]
  },
  {
   "cell_type": "code",
   "execution_count": 37,
   "metadata": {},
   "outputs": [
    {
     "data": {
      "text/html": [
       "<div>\n",
       "<style scoped>\n",
       "    .dataframe tbody tr th:only-of-type {\n",
       "        vertical-align: middle;\n",
       "    }\n",
       "\n",
       "    .dataframe tbody tr th {\n",
       "        vertical-align: top;\n",
       "    }\n",
       "\n",
       "    .dataframe thead th {\n",
       "        text-align: right;\n",
       "    }\n",
       "</style>\n",
       "<table border=\"1\" class=\"dataframe\">\n",
       "  <thead>\n",
       "    <tr style=\"text-align: right;\">\n",
       "      <th></th>\n",
       "      <th>Log Odds</th>\n",
       "      <th>Odds Ratio</th>\n",
       "    </tr>\n",
       "  </thead>\n",
       "  <tbody>\n",
       "    <tr>\n",
       "      <th>ca_2.0</th>\n",
       "      <td>1.147408</td>\n",
       "      <td>3.150017</td>\n",
       "    </tr>\n",
       "    <tr>\n",
       "      <th>cp_4</th>\n",
       "      <td>1.081874</td>\n",
       "      <td>2.950203</td>\n",
       "    </tr>\n",
       "    <tr>\n",
       "      <th>ca_1.0</th>\n",
       "      <td>0.998241</td>\n",
       "      <td>2.713505</td>\n",
       "    </tr>\n",
       "    <tr>\n",
       "      <th>slope_2</th>\n",
       "      <td>0.890731</td>\n",
       "      <td>2.436910</td>\n",
       "    </tr>\n",
       "    <tr>\n",
       "      <th>oldpeak</th>\n",
       "      <td>0.837153</td>\n",
       "      <td>2.309782</td>\n",
       "    </tr>\n",
       "    <tr>\n",
       "      <th>sex</th>\n",
       "      <td>0.685652</td>\n",
       "      <td>1.985066</td>\n",
       "    </tr>\n",
       "    <tr>\n",
       "      <th>thal_7.0</th>\n",
       "      <td>0.661596</td>\n",
       "      <td>1.937883</td>\n",
       "    </tr>\n",
       "    <tr>\n",
       "      <th>cp_2</th>\n",
       "      <td>0.508359</td>\n",
       "      <td>1.662561</td>\n",
       "    </tr>\n",
       "    <tr>\n",
       "      <th>trestbps</th>\n",
       "      <td>0.388640</td>\n",
       "      <td>1.474973</td>\n",
       "    </tr>\n",
       "    <tr>\n",
       "      <th>exang</th>\n",
       "      <td>0.302848</td>\n",
       "      <td>1.353708</td>\n",
       "    </tr>\n",
       "    <tr>\n",
       "      <th>ca_3.0</th>\n",
       "      <td>0.250268</td>\n",
       "      <td>1.284370</td>\n",
       "    </tr>\n",
       "    <tr>\n",
       "      <th>restecg_2</th>\n",
       "      <td>0.124939</td>\n",
       "      <td>1.133080</td>\n",
       "    </tr>\n",
       "    <tr>\n",
       "      <th>slope_3</th>\n",
       "      <td>0.112257</td>\n",
       "      <td>1.118800</td>\n",
       "    </tr>\n",
       "    <tr>\n",
       "      <th>restecg_1</th>\n",
       "      <td>0.089948</td>\n",
       "      <td>1.094118</td>\n",
       "    </tr>\n",
       "    <tr>\n",
       "      <th>chol</th>\n",
       "      <td>-0.060014</td>\n",
       "      <td>0.941751</td>\n",
       "    </tr>\n",
       "    <tr>\n",
       "      <th>thal_6.0</th>\n",
       "      <td>-0.061018</td>\n",
       "      <td>0.940806</td>\n",
       "    </tr>\n",
       "    <tr>\n",
       "      <th>fbs</th>\n",
       "      <td>-0.109003</td>\n",
       "      <td>0.896728</td>\n",
       "    </tr>\n",
       "    <tr>\n",
       "      <th>cp_3</th>\n",
       "      <td>-0.179457</td>\n",
       "      <td>0.835724</td>\n",
       "    </tr>\n",
       "    <tr>\n",
       "      <th>age</th>\n",
       "      <td>-0.275506</td>\n",
       "      <td>0.759188</td>\n",
       "    </tr>\n",
       "    <tr>\n",
       "      <th>thalach</th>\n",
       "      <td>-0.427446</td>\n",
       "      <td>0.652173</td>\n",
       "    </tr>\n",
       "  </tbody>\n",
       "</table>\n",
       "</div>"
      ],
      "text/plain": [
       "           Log Odds  Odds Ratio\n",
       "ca_2.0     1.147408    3.150017\n",
       "cp_4       1.081874    2.950203\n",
       "ca_1.0     0.998241    2.713505\n",
       "slope_2    0.890731    2.436910\n",
       "oldpeak    0.837153    2.309782\n",
       "sex        0.685652    1.985066\n",
       "thal_7.0   0.661596    1.937883\n",
       "cp_2       0.508359    1.662561\n",
       "trestbps   0.388640    1.474973\n",
       "exang      0.302848    1.353708\n",
       "ca_3.0     0.250268    1.284370\n",
       "restecg_2  0.124939    1.133080\n",
       "slope_3    0.112257    1.118800\n",
       "restecg_1  0.089948    1.094118\n",
       "chol      -0.060014    0.941751\n",
       "thal_6.0  -0.061018    0.940806\n",
       "fbs       -0.109003    0.896728\n",
       "cp_3      -0.179457    0.835724\n",
       "age       -0.275506    0.759188\n",
       "thalach   -0.427446    0.652173"
      ]
     },
     "execution_count": 37,
     "metadata": {},
     "output_type": "execute_result"
    }
   ],
   "source": [
    "# Get coefficients\n",
    "coefs = model.coef_\n",
    "\n",
    "# Transpose coefs array\n",
    "coefs = coefs.T\n",
    "\n",
    "# Create DataFrame with coefficients and predictor names\n",
    "df_coefs = pd.DataFrame(coefs, index=new_predictors, columns=['Log Odds']).sort_values(by='Log Odds', ascending=False)\n",
    "df_coefs['Odds Ratio'] = np.exp(df_coefs['Log Odds'])\n",
    "\n",
    "df_coefs"
   ]
  },
  {
   "cell_type": "markdown",
   "metadata": {},
   "source": [
    "For reference:\n",
    "* `age`: age in years\n",
    "* `sex`: sex (1 = male; 0 = female)\n",
    "* `cp`: chest pain type (1 = typical angina; 2 = atypical angina; 3 = non-anginal pain; 4 = asymptomatic)\n",
    "* `trestbps`: resting blood pressure (in mm Hg on admission to the hospital)\n",
    "* `chol`: serum cholesterol in mg/dl\n",
    "* `fbs`: (fasting blood sugar > 120 mg/dl)  (1 = true; 0 = false)\n",
    "* `restecg`: resting electrocardiographic results (0 = normal; 1 = having ST-T wave abnormality (T wave inversions and/or ST elevation or depression of > 0.05 mV); 2 = showing probable or definite left ventricular hypertrophy by Estes' criteria)\n",
    "* `thalach`: maximum heart rate achieved\n",
    "* `exang`: exercise induced angina (1 = yes; 0 = no)\n",
    "* `oldpeak`: ST depression induced by exercise relative to rest\n",
    "* `slope`: the slope of the peak exercise ST segment (0 = upsloping; 1 = flat; 2 = downsloping)\n",
    "* `ca`: number of major vessels (0-3) coloured by fluoroscopy\n",
    "* `thal`: 3 = normal; 6 = fixed defect; 7 = reversible defect\n",
    "* `present`: diagnosis of heart disease (angiographic disease status) (0 = no; 1 = yes)"
   ]
  },
  {
   "cell_type": "markdown",
   "metadata": {},
   "source": [
    "We can see from the odds ratio that there are quite a number of variables that increases the chance of heart disease, such as ca (number of major vessels visualized by fluoroscopy), oldpeak (ST depression induced by exercise relative to rest), cp4(asymptomatic chest pain). These results are not surprising  as lack of major vessels visualized by fluoroscopy suggests vessel blockage which is a direct cause for heart disease. ST depression is also related to heart tissue ischemia, which is directly related to heart disease."
   ]
  },
  {
   "cell_type": "markdown",
   "metadata": {},
   "source": [
    "It is interesting to note that the ability of the heart to reach a higher maximum heart rate (thalach) is correlated with lower odds of heart disease."
   ]
  },
  {
   "cell_type": "markdown",
   "metadata": {},
   "source": [
    "#### Test Dataset Model Evaluation <a class=\"anchor\" id=\"9th-bullet\"></a>"
   ]
  },
  {
   "cell_type": "markdown",
   "metadata": {},
   "source": [
    "Now let us test our model with our test dataset."
   ]
  },
  {
   "cell_type": "code",
   "execution_count": 38,
   "metadata": {},
   "outputs": [
    {
     "name": "stdout",
     "output_type": "stream",
     "text": [
      "Training Accuracy: 0.898\n",
      "Test Accuracy: 0.819\n"
     ]
    }
   ],
   "source": [
    "#Test set accuracy\n",
    "test_accuracy = model.score(X_test, y_test)\n",
    "print(f'Training Accuracy: {training_accuracy:.3f}')\n",
    "print(f'Test Accuracy: {test_accuracy:.3f}')"
   ]
  },
  {
   "cell_type": "markdown",
   "metadata": {},
   "source": [
    "The accuracy is less than our training dataset, which can be expected."
   ]
  },
  {
   "cell_type": "markdown",
   "metadata": {},
   "source": [
    "Now let us look at the confusion matrix."
   ]
  },
  {
   "cell_type": "code",
   "execution_count": 39,
   "metadata": {},
   "outputs": [
    {
     "data": {
      "image/png": "[encoded data removed]",
      "text/plain": [
       "<Figure size 640x480 with 2 Axes>"
      ]
     },
     "metadata": {},
     "output_type": "display_data"
    },
    {
     "name": "stdout",
     "output_type": "stream",
     "text": [
      "Sensitivity: 0.7353\n",
      "Specificity: 0.8947\n",
      "PPV: 0.8621\n",
      "NPV: 0.7907\n"
     ]
    }
   ],
   "source": [
    "plot_confusion_matrix(model, X_test, y_test)"
   ]
  },
  {
   "cell_type": "markdown",
   "metadata": {},
   "source": [
    "Sensitivity and specificity are not as robust as our training set. The pattern remains the same. Our model is better at confirming true negative heart disease (specificity) than confirming true positives (sensitivity). In other words, our test lacks the sensitivity to pick up positive heart disease and is not suitable for a 'rule-out' test. However, our test can be used as a 'rule-in' test to aid clinicians in diagnosing patients suspected of heart disease. "
   ]
  },
  {
   "cell_type": "markdown",
   "metadata": {},
   "source": [
    "#### Conclusion <a class=\"anchor\" id=\"10th-bullet\"></a>"
   ]
  },
  {
   "cell_type": "markdown",
   "metadata": {},
   "source": [
    "In summary, we have built a logistic regression ML model from the Cleveland Clinic Heart Disease dataset that allows us to classify patients using several predictors.\n",
    "\n",
    "The results show that:\n",
    "- Our model has a positive predictive value (PPV) of 86.21% vs negative predictive value (NPV) of 79.07%. This means that a positive prediction of heart disease from our model will correctly predict heart diease in the patients 86.21% of the time whereas a negative prediction will be correct 79.07% of the time.\n",
    "- The odds for the predictors show highest odds for number of vessels seen by fluoroscopy which is in keeping with the medical knowledge and physiology."
   ]
  },
  {
   "cell_type": "markdown",
   "metadata": {},
   "source": [
    "Given that our model include predictors that are expensive and invasive, the utility of our model cost-benefit-wise is limited. For future models, we may want to consider:\n",
    "\n",
    "> Limiting predictors to those that are inexpensive and easily obtained from patients\n",
    "\n",
    "> Using different number of predictors in our modelling and evaluating interactions between predictors\n",
    "\n",
    "> Changing hyperparameters with searchgridcv to optimize our model\n",
    "\n",
    "> Using a different model"
   ]
  }
 ],
 "metadata": {
  "kernelspec": {
   "display_name": "Python 3",
   "language": "python",
   "name": "python3"
  },
  "language_info": {
   "codemirror_mode": {
    "name": "ipython",
    "version": 3
   },
   "file_extension": ".py",
   "mimetype": "text/x-python",
   "name": "python",
   "nbconvert_exporter": "python",
   "pygments_lexer": "ipython3",
   "version": "3.12.1"
  }
 },
 "nbformat": 4,
 "nbformat_minor": 2
}

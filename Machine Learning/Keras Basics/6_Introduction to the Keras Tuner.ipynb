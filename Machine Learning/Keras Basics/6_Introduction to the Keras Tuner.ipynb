{
 "cells": [
  {
   "cell_type": "markdown",
   "metadata": {},
   "source": [
    "# 6_Introduction to the Keras Tuner"
   ]
  },
  {
   "cell_type": "markdown",
   "metadata": {},
   "source": [
    "#### Overview\n",
    "The Keras Tuner is a library that helps you pick the optimal set of hyperparameters for your TensorFlow program. The process of selecting the right set of hyperparameters for your machine learning (ML) application is called hyperparameter tuning or hypertuning.\n",
    "\n",
    "Hyperparameters are the variables that govern the training process and the topology of an ML model. These variables remain constant over the training process and directly impact the performance of your ML program. Hyperparameters are of two types:\n",
    "\n",
    "1. Model hyperparameters which influence model selection such as the number and width of hidden layers\n",
    "2. Algorithm hyperparameters which influence the speed and quality of the learning algorithm such as the learning rate for Stochastic Gradient Descent (SGD) and the number of nearest neighbors for a k Nearest Neighbors (KNN) classifier\n",
    "\n",
    "In this tutorial, you will use the Keras Tuner to perform hypertuning for an image classification application."
   ]
  },
  {
   "cell_type": "markdown",
   "metadata": {},
   "source": [
    "#### Setup"
   ]
  },
  {
   "cell_type": "code",
   "execution_count": 1,
   "metadata": {},
   "outputs": [
    {
     "name": "stdout",
     "output_type": "stream",
     "text": [
      "WARNING:tensorflow:From d:\\TensorFlowLearning\\ML Basics with Keras\\.venv\\Lib\\site-packages\\keras\\src\\losses.py:2976: The name tf.losses.sparse_softmax_cross_entropy is deprecated. Please use tf.compat.v1.losses.sparse_softmax_cross_entropy instead.\n",
      "\n"
     ]
    }
   ],
   "source": [
    "import tensorflow as tf\n",
    "from tensorflow import keras"
   ]
  },
  {
   "cell_type": "markdown",
   "metadata": {},
   "source": [
    "Install and import the Keras Tuner."
   ]
  },
  {
   "cell_type": "code",
   "execution_count": 2,
   "metadata": {},
   "outputs": [
    {
     "name": "stdout",
     "output_type": "stream",
     "text": [
      "Note: you may need to restart the kernel to use updated packages.\n"
     ]
    }
   ],
   "source": [
    "pip install -q -U keras-tuner"
   ]
  },
  {
   "cell_type": "code",
   "execution_count": 3,
   "metadata": {},
   "outputs": [],
   "source": [
    "import keras_tuner as kt"
   ]
  },
  {
   "cell_type": "markdown",
   "metadata": {},
   "source": [
    "#### Download and prepare the dataset\n",
    "In this tutorial, you will use the Keras Tuner to find the best hyperparameters for a machine learning model that classifies images of clothing from the Fashion MNIST dataset.\n",
    "\n",
    "Load the data."
   ]
  },
  {
   "cell_type": "code",
   "execution_count": 4,
   "metadata": {},
   "outputs": [],
   "source": [
    "(img_train, label_train), (img_test, label_test) = keras.datasets.fashion_mnist.load_data()"
   ]
  },
  {
   "cell_type": "code",
   "execution_count": 5,
   "metadata": {},
   "outputs": [],
   "source": [
    "# Normalize pixel values between 0 and 1\n",
    "img_train = img_train.astype('float32') / 255.0\n",
    "img_test = img_test.astype('float32') / 255.0"
   ]
  },
  {
   "cell_type": "markdown",
   "metadata": {},
   "source": [
    "#### Define the model\n",
    "When you build a model for hypertuning, you also define the hyperparameter search space in addition to the model architecture. The model you set up for hypertuning is called a hypermodel.\n",
    "\n",
    "You can define a hypermodel through two approaches:\n",
    "\n",
    "- By using a model builder function\n",
    "- By subclassing the HyperModel class of the Keras Tuner API\n",
    "\n",
    "You can also use two pre-defined HyperModel classes - HyperXception and HyperResNet for computer vision applications.\n",
    "\n",
    "In this tutorial, you use a model builder function to define the image classification model. The model builder function returns a compiled model and uses hyperparameters you define inline to hypertune the model."
   ]
  },
  {
   "cell_type": "code",
   "execution_count": 6,
   "metadata": {},
   "outputs": [],
   "source": [
    "def model_builder(hp):\n",
    "  model = keras.Sequential()\n",
    "  model.add(keras.layers.Flatten(input_shape=(28, 28)))\n",
    "\n",
    "  # Tune the number of units in the first Dense layer\n",
    "  # Choose an optimal value between 32-512\n",
    "  hp_units = hp.Int('units', min_value=32, max_value=512, step=32)\n",
    "  model.add(keras.layers.Dense(units=hp_units, activation='relu'))\n",
    "  model.add(keras.layers.Dense(10))\n",
    "\n",
    "  # Tune the learning rate for the optimizer\n",
    "  # Choose an optimal value from 0.01, 0.001, or 0.0001\n",
    "  hp_learning_rate = hp.Choice('learning_rate', values=[1e-2, 1e-3, 1e-4])\n",
    "\n",
    "  model.compile(optimizer=keras.optimizers.Adam(learning_rate=hp_learning_rate),\n",
    "                loss=keras.losses.SparseCategoricalCrossentropy(from_logits=True),\n",
    "                metrics=['accuracy'])\n",
    "\n",
    "  return model"
   ]
  },
  {
   "cell_type": "markdown",
   "metadata": {},
   "source": [
    "#### Instantiate the tuner and perform hypertuning\n",
    "Instantiate the tuner to perform the hypertuning. The Keras Tuner has four tuners available - RandomSearch, Hyperband, BayesianOptimization, and Sklearn. In this tutorial, you use the Hyperband tuner.\n",
    "\n",
    "To instantiate the Hyperband tuner, you must specify the hypermodel, the objective to optimize and the maximum number of epochs to train (max_epochs)."
   ]
  },
  {
   "cell_type": "code",
   "execution_count": 7,
   "metadata": {},
   "outputs": [
    {
     "name": "stdout",
     "output_type": "stream",
     "text": [
      "WARNING:tensorflow:From d:\\TensorFlowLearning\\ML Basics with Keras\\.venv\\Lib\\site-packages\\keras\\src\\backend.py:873: The name tf.get_default_graph is deprecated. Please use tf.compat.v1.get_default_graph instead.\n",
      "\n"
     ]
    }
   ],
   "source": [
    "tuner = kt.Hyperband(model_builder,\n",
    "                     objective='val_accuracy',\n",
    "                     max_epochs=10,\n",
    "                     factor=3,\n",
    "                     directory='my_dir',\n",
    "                     project_name='intro_to_kt')"
   ]
  },
  {
   "cell_type": "markdown",
   "metadata": {},
   "source": [
    "The Hyperband tuning algorithm uses adaptive resource allocation and early-stopping to quickly converge on a high-performing model. This is done using a sports championship style bracket. The algorithm trains a large number of models for a few epochs and carries forward only the top-performing half of models to the next round. Hyperband determines the number of models to train in a bracket by computing 1 + logfactor(max_epochs) and rounding it up to the nearest integer.\n",
    "\n",
    "Create a callback to stop training early after reaching a certain value for the validation loss."
   ]
  },
  {
   "cell_type": "code",
   "execution_count": 8,
   "metadata": {},
   "outputs": [],
   "source": [
    "stop_early = tf.keras.callbacks.EarlyStopping(monitor='val_loss', patience=5)"
   ]
  },
  {
   "cell_type": "markdown",
   "metadata": {},
   "source": [
    "Run the hyperparameter search. The arguments for the search method are the same as those used for tf.keras.model.fit in addition to the callback above."
   ]
  },
  {
   "cell_type": "code",
   "execution_count": 9,
   "metadata": {},
   "outputs": [
    {
     "name": "stdout",
     "output_type": "stream",
     "text": [
      "Trial 30 Complete [00h 00m 25s]\n",
      "val_accuracy: 0.8789166808128357\n",
      "\n",
      "Best val_accuracy So Far: 0.8920000195503235\n",
      "Total elapsed time: 00h 04m 38s\n",
      "\n",
      "The hyperparameter search is complete. The optimal number of units in the first densely-connected\n",
      "layer is 384 and the optimal learning rate for the optimizer\n",
      "is 0.001.\n",
      "\n"
     ]
    }
   ],
   "source": [
    "tuner.search(img_train, label_train, epochs=50, validation_split=0.2, callbacks=[stop_early])\n",
    "\n",
    "# Get the optimal hyperparameters\n",
    "best_hps=tuner.get_best_hyperparameters(num_trials=1)[0]\n",
    "\n",
    "print(f\"\"\"\n",
    "The hyperparameter search is complete. The optimal number of units in the first densely-connected\n",
    "layer is {best_hps.get('units')} and the optimal learning rate for the optimizer\n",
    "is {best_hps.get('learning_rate')}.\n",
    "\"\"\")"
   ]
  },
  {
   "cell_type": "markdown",
   "metadata": {},
   "source": [
    "#### Train the model\n",
    "Find the optimal number of epochs to train the model with the hyperparameters obtained from the search."
   ]
  },
  {
   "cell_type": "code",
   "execution_count": 10,
   "metadata": {},
   "outputs": [
    {
     "name": "stdout",
     "output_type": "stream",
     "text": [
      "Epoch 1/50\n",
      "1500/1500 [==============================] - 3s 2ms/step - loss: 0.4961 - accuracy: 0.8238 - val_loss: 0.3900 - val_accuracy: 0.8593\n",
      "Epoch 2/50\n",
      "1500/1500 [==============================] - 2s 2ms/step - loss: 0.3730 - accuracy: 0.8638 - val_loss: 0.3874 - val_accuracy: 0.8583\n",
      "Epoch 3/50\n",
      "1500/1500 [==============================] - 2s 2ms/step - loss: 0.3320 - accuracy: 0.8770 - val_loss: 0.3341 - val_accuracy: 0.8802\n",
      "Epoch 4/50\n",
      "1500/1500 [==============================] - 2s 2ms/step - loss: 0.3084 - accuracy: 0.8866 - val_loss: 0.3267 - val_accuracy: 0.8809\n",
      "Epoch 5/50\n",
      "1500/1500 [==============================] - 2s 2ms/step - loss: 0.2873 - accuracy: 0.8937 - val_loss: 0.3328 - val_accuracy: 0.8785\n",
      "Epoch 6/50\n",
      "1500/1500 [==============================] - 2s 2ms/step - loss: 0.2732 - accuracy: 0.8997 - val_loss: 0.3379 - val_accuracy: 0.8806\n",
      "Epoch 7/50\n",
      "1500/1500 [==============================] - 2s 2ms/step - loss: 0.2609 - accuracy: 0.9026 - val_loss: 0.3402 - val_accuracy: 0.8792\n",
      "Epoch 8/50\n",
      "1500/1500 [==============================] - 2s 2ms/step - loss: 0.2465 - accuracy: 0.9078 - val_loss: 0.3363 - val_accuracy: 0.8816\n",
      "Epoch 9/50\n",
      "1500/1500 [==============================] - 2s 2ms/step - loss: 0.2377 - accuracy: 0.9117 - val_loss: 0.3353 - val_accuracy: 0.8856\n",
      "Epoch 10/50\n",
      "1500/1500 [==============================] - 2s 2ms/step - loss: 0.2248 - accuracy: 0.9151 - val_loss: 0.3117 - val_accuracy: 0.8906\n",
      "Epoch 11/50\n",
      "1500/1500 [==============================] - 2s 2ms/step - loss: 0.2169 - accuracy: 0.9194 - val_loss: 0.3255 - val_accuracy: 0.8871\n",
      "Epoch 12/50\n",
      "1500/1500 [==============================] - 2s 2ms/step - loss: 0.2091 - accuracy: 0.9216 - val_loss: 0.3182 - val_accuracy: 0.8911\n",
      "Epoch 13/50\n",
      "1500/1500 [==============================] - 2s 2ms/step - loss: 0.2003 - accuracy: 0.9244 - val_loss: 0.3296 - val_accuracy: 0.8903\n",
      "Epoch 14/50\n",
      "1500/1500 [==============================] - 2s 2ms/step - loss: 0.1938 - accuracy: 0.9274 - val_loss: 0.3110 - val_accuracy: 0.8967\n",
      "Epoch 15/50\n",
      "1500/1500 [==============================] - 2s 2ms/step - loss: 0.1870 - accuracy: 0.9299 - val_loss: 0.3478 - val_accuracy: 0.8874\n",
      "Epoch 16/50\n",
      "1500/1500 [==============================] - 2s 2ms/step - loss: 0.1804 - accuracy: 0.9331 - val_loss: 0.3503 - val_accuracy: 0.8872\n",
      "Epoch 17/50\n",
      "1500/1500 [==============================] - 2s 2ms/step - loss: 0.1762 - accuracy: 0.9344 - val_loss: 0.3347 - val_accuracy: 0.8916\n",
      "Epoch 18/50\n",
      "1500/1500 [==============================] - 2s 2ms/step - loss: 0.1697 - accuracy: 0.9357 - val_loss: 0.3576 - val_accuracy: 0.8929\n",
      "Epoch 19/50\n",
      "1500/1500 [==============================] - 2s 2ms/step - loss: 0.1637 - accuracy: 0.9389 - val_loss: 0.3411 - val_accuracy: 0.8979\n",
      "Epoch 20/50\n",
      "1500/1500 [==============================] - 2s 2ms/step - loss: 0.1576 - accuracy: 0.9409 - val_loss: 0.3474 - val_accuracy: 0.8945\n",
      "Epoch 21/50\n",
      "1500/1500 [==============================] - 2s 2ms/step - loss: 0.1540 - accuracy: 0.9420 - val_loss: 0.3595 - val_accuracy: 0.8932\n",
      "Epoch 22/50\n",
      "1500/1500 [==============================] - 2s 2ms/step - loss: 0.1509 - accuracy: 0.9444 - val_loss: 0.3672 - val_accuracy: 0.8921\n",
      "Epoch 23/50\n",
      "1500/1500 [==============================] - 2s 2ms/step - loss: 0.1464 - accuracy: 0.9455 - val_loss: 0.3639 - val_accuracy: 0.8958\n",
      "Epoch 24/50\n",
      "1500/1500 [==============================] - 2s 2ms/step - loss: 0.1394 - accuracy: 0.9470 - val_loss: 0.3785 - val_accuracy: 0.8940\n",
      "Epoch 25/50\n",
      "1500/1500 [==============================] - 2s 2ms/step - loss: 0.1383 - accuracy: 0.9479 - val_loss: 0.3892 - val_accuracy: 0.8890\n",
      "Epoch 26/50\n",
      "1500/1500 [==============================] - 2s 2ms/step - loss: 0.1318 - accuracy: 0.9505 - val_loss: 0.3850 - val_accuracy: 0.8934\n",
      "Epoch 27/50\n",
      "1500/1500 [==============================] - 2s 2ms/step - loss: 0.1287 - accuracy: 0.9516 - val_loss: 0.3763 - val_accuracy: 0.8971\n",
      "Epoch 28/50\n",
      "1500/1500 [==============================] - 2s 2ms/step - loss: 0.1263 - accuracy: 0.9520 - val_loss: 0.4012 - val_accuracy: 0.8941\n",
      "Epoch 29/50\n",
      "1500/1500 [==============================] - 2s 2ms/step - loss: 0.1211 - accuracy: 0.9547 - val_loss: 0.4145 - val_accuracy: 0.8917\n",
      "Epoch 30/50\n",
      "1500/1500 [==============================] - 2s 2ms/step - loss: 0.1184 - accuracy: 0.9557 - val_loss: 0.4202 - val_accuracy: 0.8917\n",
      "Epoch 31/50\n",
      "1500/1500 [==============================] - 3s 2ms/step - loss: 0.1173 - accuracy: 0.9560 - val_loss: 0.4103 - val_accuracy: 0.8922\n",
      "Epoch 32/50\n",
      "1500/1500 [==============================] - 2s 2ms/step - loss: 0.1140 - accuracy: 0.9570 - val_loss: 0.4140 - val_accuracy: 0.8943\n",
      "Epoch 33/50\n",
      "1500/1500 [==============================] - 2s 2ms/step - loss: 0.1071 - accuracy: 0.9595 - val_loss: 0.4400 - val_accuracy: 0.8961\n",
      "Epoch 34/50\n",
      "1500/1500 [==============================] - 2s 2ms/step - loss: 0.1065 - accuracy: 0.9596 - val_loss: 0.4254 - val_accuracy: 0.8963\n",
      "Epoch 35/50\n",
      "1500/1500 [==============================] - 2s 2ms/step - loss: 0.1063 - accuracy: 0.9600 - val_loss: 0.4603 - val_accuracy: 0.8936\n",
      "Epoch 36/50\n",
      "1500/1500 [==============================] - 2s 2ms/step - loss: 0.1050 - accuracy: 0.9611 - val_loss: 0.4262 - val_accuracy: 0.8941\n",
      "Epoch 37/50\n",
      "1500/1500 [==============================] - 3s 2ms/step - loss: 0.0978 - accuracy: 0.9634 - val_loss: 0.4683 - val_accuracy: 0.8944\n",
      "Epoch 38/50\n",
      "1500/1500 [==============================] - 2s 2ms/step - loss: 0.0979 - accuracy: 0.9636 - val_loss: 0.4575 - val_accuracy: 0.8947\n",
      "Epoch 39/50\n",
      "1500/1500 [==============================] - 2s 2ms/step - loss: 0.0937 - accuracy: 0.9648 - val_loss: 0.4503 - val_accuracy: 0.8948\n",
      "Epoch 40/50\n",
      "1500/1500 [==============================] - 2s 2ms/step - loss: 0.0948 - accuracy: 0.9643 - val_loss: 0.4494 - val_accuracy: 0.8941\n",
      "Epoch 41/50\n",
      "1500/1500 [==============================] - 2s 2ms/step - loss: 0.0921 - accuracy: 0.9658 - val_loss: 0.4492 - val_accuracy: 0.8957\n",
      "Epoch 42/50\n",
      "1500/1500 [==============================] - 2s 2ms/step - loss: 0.0921 - accuracy: 0.9659 - val_loss: 0.5088 - val_accuracy: 0.8896\n",
      "Epoch 43/50\n",
      "1500/1500 [==============================] - 2s 2ms/step - loss: 0.0861 - accuracy: 0.9671 - val_loss: 0.4732 - val_accuracy: 0.8932\n",
      "Epoch 44/50\n",
      "1500/1500 [==============================] - 2s 2ms/step - loss: 0.0830 - accuracy: 0.9694 - val_loss: 0.4673 - val_accuracy: 0.8925\n",
      "Epoch 45/50\n",
      "1500/1500 [==============================] - 2s 2ms/step - loss: 0.0826 - accuracy: 0.9688 - val_loss: 0.5101 - val_accuracy: 0.8943\n",
      "Epoch 46/50\n",
      "1500/1500 [==============================] - 2s 2ms/step - loss: 0.0802 - accuracy: 0.9696 - val_loss: 0.5325 - val_accuracy: 0.8875\n",
      "Epoch 47/50\n",
      "1500/1500 [==============================] - 2s 2ms/step - loss: 0.0809 - accuracy: 0.9696 - val_loss: 0.5352 - val_accuracy: 0.8911\n",
      "Epoch 48/50\n",
      "1500/1500 [==============================] - 2s 2ms/step - loss: 0.0791 - accuracy: 0.9708 - val_loss: 0.5476 - val_accuracy: 0.8875\n",
      "Epoch 49/50\n",
      "1500/1500 [==============================] - 2s 2ms/step - loss: 0.0795 - accuracy: 0.9705 - val_loss: 0.5068 - val_accuracy: 0.8954\n",
      "Epoch 50/50\n",
      "1500/1500 [==============================] - 2s 2ms/step - loss: 0.0727 - accuracy: 0.9716 - val_loss: 0.5170 - val_accuracy: 0.8943\n",
      "Best epoch: 19\n"
     ]
    }
   ],
   "source": [
    "# Build the model with the optimal hyperparameters and train it on the data for 50 epochs\n",
    "model = tuner.hypermodel.build(best_hps)\n",
    "history = model.fit(img_train, label_train, epochs=50, validation_split=0.2)\n",
    "\n",
    "val_acc_per_epoch = history.history['val_accuracy']\n",
    "best_epoch = val_acc_per_epoch.index(max(val_acc_per_epoch)) + 1\n",
    "print('Best epoch: %d' % (best_epoch,))"
   ]
  },
  {
   "cell_type": "markdown",
   "metadata": {},
   "source": [
    "Re-instantiate the hypermodel and train it with the optimal number of epochs from above."
   ]
  },
  {
   "cell_type": "code",
   "execution_count": 11,
   "metadata": {},
   "outputs": [
    {
     "name": "stdout",
     "output_type": "stream",
     "text": [
      "Epoch 1/19\n",
      "1500/1500 [==============================] - 3s 2ms/step - loss: 0.4935 - accuracy: 0.8248 - val_loss: 0.3869 - val_accuracy: 0.8620\n",
      "Epoch 2/19\n",
      "1500/1500 [==============================] - 2s 2ms/step - loss: 0.3707 - accuracy: 0.8659 - val_loss: 0.3652 - val_accuracy: 0.8677\n",
      "Epoch 3/19\n",
      "1500/1500 [==============================] - 2s 2ms/step - loss: 0.3309 - accuracy: 0.8776 - val_loss: 0.3508 - val_accuracy: 0.8716\n",
      "Epoch 4/19\n",
      "1500/1500 [==============================] - 2s 2ms/step - loss: 0.3048 - accuracy: 0.8867 - val_loss: 0.3269 - val_accuracy: 0.8800\n",
      "Epoch 5/19\n",
      "1500/1500 [==============================] - 2s 2ms/step - loss: 0.2873 - accuracy: 0.8934 - val_loss: 0.3334 - val_accuracy: 0.8799\n",
      "Epoch 6/19\n",
      "1500/1500 [==============================] - 2s 2ms/step - loss: 0.2684 - accuracy: 0.9006 - val_loss: 0.3105 - val_accuracy: 0.8878\n",
      "Epoch 7/19\n",
      "1500/1500 [==============================] - 2s 2ms/step - loss: 0.2558 - accuracy: 0.9043 - val_loss: 0.3202 - val_accuracy: 0.8851\n",
      "Epoch 8/19\n",
      "1500/1500 [==============================] - 2s 2ms/step - loss: 0.2430 - accuracy: 0.9098 - val_loss: 0.3302 - val_accuracy: 0.8863\n",
      "Epoch 9/19\n",
      "1500/1500 [==============================] - 2s 2ms/step - loss: 0.2335 - accuracy: 0.9122 - val_loss: 0.3108 - val_accuracy: 0.8894\n",
      "Epoch 10/19\n",
      "1500/1500 [==============================] - 2s 2ms/step - loss: 0.2228 - accuracy: 0.9160 - val_loss: 0.3047 - val_accuracy: 0.8924\n",
      "Epoch 11/19\n",
      "1500/1500 [==============================] - 2s 2ms/step - loss: 0.2155 - accuracy: 0.9191 - val_loss: 0.3223 - val_accuracy: 0.8859\n",
      "Epoch 12/19\n",
      "1500/1500 [==============================] - 2s 2ms/step - loss: 0.2064 - accuracy: 0.9217 - val_loss: 0.3262 - val_accuracy: 0.8921\n",
      "Epoch 13/19\n",
      "1500/1500 [==============================] - 2s 2ms/step - loss: 0.1983 - accuracy: 0.9256 - val_loss: 0.3336 - val_accuracy: 0.8893\n",
      "Epoch 14/19\n",
      "1500/1500 [==============================] - 2s 2ms/step - loss: 0.1943 - accuracy: 0.9261 - val_loss: 0.3318 - val_accuracy: 0.8898\n",
      "Epoch 15/19\n",
      "1500/1500 [==============================] - 2s 2ms/step - loss: 0.1825 - accuracy: 0.9324 - val_loss: 0.3276 - val_accuracy: 0.8860\n",
      "Epoch 16/19\n",
      "1500/1500 [==============================] - 2s 2ms/step - loss: 0.1788 - accuracy: 0.9326 - val_loss: 0.3451 - val_accuracy: 0.8904\n",
      "Epoch 17/19\n",
      "1500/1500 [==============================] - 2s 2ms/step - loss: 0.1715 - accuracy: 0.9355 - val_loss: 0.3448 - val_accuracy: 0.8894\n",
      "Epoch 18/19\n",
      "1500/1500 [==============================] - 2s 2ms/step - loss: 0.1664 - accuracy: 0.9370 - val_loss: 0.3523 - val_accuracy: 0.8915\n",
      "Epoch 19/19\n",
      "1500/1500 [==============================] - 2s 2ms/step - loss: 0.1622 - accuracy: 0.9385 - val_loss: 0.3654 - val_accuracy: 0.8884\n"
     ]
    },
    {
     "data": {
      "text/plain": [
       "<keras.src.callbacks.History at 0x23575cb7e10>"
      ]
     },
     "execution_count": 11,
     "metadata": {},
     "output_type": "execute_result"
    }
   ],
   "source": [
    "hypermodel = tuner.hypermodel.build(best_hps)\n",
    "\n",
    "# Retrain the model\n",
    "hypermodel.fit(img_train, label_train, epochs=best_epoch, validation_split=0.2)"
   ]
  },
  {
   "cell_type": "markdown",
   "metadata": {},
   "source": [
    "To finish this tutorial, evaluate the hypermodel on the test data."
   ]
  },
  {
   "cell_type": "code",
   "execution_count": 12,
   "metadata": {},
   "outputs": [
    {
     "name": "stdout",
     "output_type": "stream",
     "text": [
      "313/313 [==============================] - 0s 849us/step - loss: 0.4032 - accuracy: 0.8837\n",
      "[test loss, test accuracy]: [0.40317755937576294, 0.8837000131607056]\n"
     ]
    }
   ],
   "source": [
    "eval_result = hypermodel.evaluate(img_test, label_test)\n",
    "print(\"[test loss, test accuracy]:\", eval_result)"
   ]
  },
  {
   "cell_type": "markdown",
   "metadata": {},
   "source": [
    "The my_dir/intro_to_kt directory contains detailed logs and checkpoints for every trial (model configuration) run during the hyperparameter search. If you re-run the hyperparameter search, the Keras Tuner uses the existing state from these logs to resume the search. To disable this behavior, pass an additional overwrite=True argument while instantiating the tuner."
   ]
  }
 ],
 "metadata": {
  "kernelspec": {
   "display_name": ".venv",
   "language": "python",
   "name": "python3"
  },
  "language_info": {
   "codemirror_mode": {
    "name": "ipython",
    "version": 3
   },
   "file_extension": ".py",
   "mimetype": "text/x-python",
   "name": "python",
   "nbconvert_exporter": "python",
   "pygments_lexer": "ipython3",
   "version": "3.11.8"
  }
 },
 "nbformat": 4,
 "nbformat_minor": 2
}

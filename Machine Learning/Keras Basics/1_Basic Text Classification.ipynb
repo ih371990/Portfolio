{
 "cells": [
  {
   "cell_type": "code",
   "execution_count": 1,
   "metadata": {},
   "outputs": [],
   "source": [
    "# MIT License\n",
    "#\n",
    "# Copyright (c) 2017 François Chollet\n",
    "#\n",
    "# Permission is hereby granted, free of charge, to any person obtaining a\n",
    "# copy of this software and associated documentation files (the \"Software\"),\n",
    "# to deal in the Software without restriction, including without limitation\n",
    "# the rights to use, copy, modify, merge, publish, distribute, sublicense,\n",
    "# and/or sell copies of the Software, and to permit persons to whom the\n",
    "# Software is furnished to do so, subject to the following conditions:\n",
    "#\n",
    "# The above copyright notice and this permission notice shall be included in\n",
    "# all copies or substantial portions of the Software.\n",
    "#\n",
    "# THE SOFTWARE IS PROVIDED \"AS IS\", WITHOUT WARRANTY OF ANY KIND, EXPRESS OR\n",
    "# IMPLIED, INCLUDING BUT NOT LIMITED TO THE WARRANTIES OF MERCHANTABILITY,\n",
    "# FITNESS FOR A PARTICULAR PURPOSE AND NONINFRINGEMENT. IN NO EVENT SHALL\n",
    "# THE AUTHORS OR COPYRIGHT HOLDERS BE LIABLE FOR ANY CLAIM, DAMAGES OR OTHER\n",
    "# LIABILITY, WHETHER IN AN ACTION OF CONTRACT, TORT OR OTHERWISE, ARISING\n",
    "# FROM, OUT OF OR IN CONNECTION WITH THE SOFTWARE OR THE USE OR OTHER\n",
    "# DEALINGS IN THE SOFTWARE."
   ]
  },
  {
   "cell_type": "markdown",
   "metadata": {},
   "source": [
    "# 1_Basic Text Classification"
   ]
  },
  {
   "cell_type": "markdown",
   "metadata": {},
   "source": [
    "This tutorial demonstrates text classification starting from plain text files stored on disk. You'll train a binary classifier to perform sentiment analysis on an IMDB dataset. At the end of the notebook, there is an exercise for you to try, in which you'll train a multi-class classifier to predict the tag for a programming question on Stack Overflow."
   ]
  },
  {
   "cell_type": "code",
   "execution_count": 2,
   "metadata": {},
   "outputs": [],
   "source": [
    "import matplotlib.pyplot as plt\n",
    "import os\n",
    "import re\n",
    "import shutil\n",
    "import string\n",
    "import tensorflow as tf\n",
    "\n",
    "from tensorflow.keras import layers\n",
    "from tensorflow.keras import losses"
   ]
  },
  {
   "cell_type": "markdown",
   "metadata": {},
   "source": [
    "#### Sentiment analysis\n",
    "This notebook trains a sentiment analysis model to classify movie reviews as positive or negative, based on the text of the review. This is an example of binary—or two-class—classification, an important and widely applicable kind of machine learning problem.\n",
    "\n",
    "You'll use the Large Movie Review Dataset that contains the text of 50,000 movie reviews from the Internet Movie Database. These are split into 25,000 reviews for training and 25,000 reviews for testing. The training and testing sets are balanced, meaning they contain an equal number of positive and negative reviews."
   ]
  },
  {
   "cell_type": "markdown",
   "metadata": {},
   "source": [
    "#### Download and explore the IMDB dataset\n",
    "Let's download and extract the dataset, then explore the directory structure."
   ]
  },
  {
   "cell_type": "code",
   "execution_count": 50,
   "metadata": {},
   "outputs": [],
   "source": [
    "url = \"https://ai.stanford.edu/~amaas/data/sentiment/aclImdb_v1.tar.gz\"\n",
    "\n",
    "dataset = tf.keras.utils.get_file(\"aclImdb_v1\", url,\n",
    "                                    untar=True, cache_dir='.',\n",
    "                                    cache_subdir='')\n",
    "\n",
    "dataset_dir = os.path.join(os.path.dirname(dataset), 'aclImdb')"
   ]
  },
  {
   "cell_type": "code",
   "execution_count": 4,
   "metadata": {},
   "outputs": [
    {
     "data": {
      "text/plain": [
       "['imdb.vocab', 'imdbEr.txt', 'README', 'test', 'train']"
      ]
     },
     "execution_count": 4,
     "metadata": {},
     "output_type": "execute_result"
    }
   ],
   "source": [
    "os.listdir(dataset_dir)"
   ]
  },
  {
   "cell_type": "code",
   "execution_count": 5,
   "metadata": {},
   "outputs": [
    {
     "data": {
      "text/plain": [
       "['labeledBow.feat',\n",
       " 'neg',\n",
       " 'pos',\n",
       " 'unsup',\n",
       " 'unsupBow.feat',\n",
       " 'urls_neg.txt',\n",
       " 'urls_pos.txt',\n",
       " 'urls_unsup.txt']"
      ]
     },
     "execution_count": 5,
     "metadata": {},
     "output_type": "execute_result"
    }
   ],
   "source": [
    "train_dir = os.path.join(dataset_dir, 'train')\n",
    "os.listdir(train_dir)"
   ]
  },
  {
   "cell_type": "markdown",
   "metadata": {},
   "source": [
    "The aclImdb/train/pos and aclImdb/train/neg directories contain many text files, each of which is a single movie review. Let's take a look at one of them."
   ]
  },
  {
   "cell_type": "code",
   "execution_count": 6,
   "metadata": {},
   "outputs": [
    {
     "data": {
      "text/plain": [
       "['0_9.txt',\n",
       " '10000_8.txt',\n",
       " '10001_10.txt',\n",
       " '10002_7.txt',\n",
       " '10003_8.txt',\n",
       " '10004_8.txt',\n",
       " '10005_7.txt',\n",
       " '10006_7.txt',\n",
       " '10007_7.txt',\n",
       " '10008_7.txt',\n",
       " '10009_9.txt',\n",
       " '1000_8.txt',\n",
       " '10010_7.txt',\n",
       " '10011_9.txt',\n",
       " '10012_8.txt',\n",
       " '10013_7.txt',\n",
       " '10014_8.txt',\n",
       " '10015_8.txt',\n",
       " '10016_8.txt',\n",
       " '10017_9.txt',\n",
       " '10018_8.txt',\n",
       " '10019_8.txt',\n",
       " '1001_8.txt',\n",
       " '10020_8.txt',\n",
       " '10021_8.txt',\n",
       " '10022_7.txt',\n",
       " '10023_9.txt',\n",
       " '10024_9.txt',\n",
       " '10025_9.txt',\n",
       " '10026_7.txt',\n",
       " '10027_7.txt',\n",
       " '10028_10.txt',\n",
       " '10029_10.txt',\n",
       " '1002_7.txt',\n",
       " '10030_10.txt',\n",
       " '10031_10.txt',\n",
       " '10032_10.txt',\n",
       " '10033_10.txt',\n",
       " '10034_8.txt',\n",
       " '10035_9.txt',\n",
       " '10036_8.txt',\n",
       " '10037_9.txt',\n",
       " '10038_10.txt',\n",
       " '10039_10.txt',\n",
       " '1003_10.txt',\n",
       " '10040_10.txt',\n",
       " '10041_10.txt',\n",
       " '10042_10.txt',\n",
       " '10043_10.txt',\n",
       " '10044_9.txt',\n",
       " '10045_10.txt',\n",
       " '10046_9.txt',\n",
       " '10047_10.txt',\n",
       " '10048_10.txt',\n",
       " '10049_8.txt',\n",
       " '1004_7.txt',\n",
       " '10050_10.txt',\n",
       " '10051_10.txt',\n",
       " '10052_10.txt',\n",
       " '10053_8.txt',\n",
       " '10054_10.txt',\n",
       " '10055_7.txt',\n",
       " '10056_8.txt',\n",
       " '10057_9.txt',\n",
       " '10058_7.txt',\n",
       " '10059_10.txt',\n",
       " '1005_10.txt',\n",
       " '10060_9.txt',\n",
       " '10061_8.txt',\n",
       " '10062_10.txt',\n",
       " '10063_9.txt',\n",
       " '10064_10.txt',\n",
       " '10065_9.txt',\n",
       " '10066_10.txt',\n",
       " '10067_9.txt',\n",
       " '10068_8.txt',\n",
       " '10069_8.txt',\n",
       " '1006_8.txt',\n",
       " '10070_9.txt',\n",
       " '10071_9.txt',\n",
       " '10072_9.txt',\n",
       " '10073_10.txt',\n",
       " '10074_9.txt',\n",
       " '10075_9.txt',\n",
       " '10076_9.txt',\n",
       " '10077_10.txt',\n",
       " '10078_8.txt',\n",
       " '10079_8.txt',\n",
       " '1007_10.txt',\n",
       " '10080_10.txt',\n",
       " '10081_9.txt',\n",
       " '10082_10.txt',\n",
       " '10083_7.txt',\n",
       " '10084_10.txt',\n",
       " '10085_10.txt',\n",
       " '10086_7.txt',\n",
       " '10087_10.txt',\n",
       " '10088_10.txt',\n",
       " '10089_7.txt',\n",
       " '1008_10.txt',\n",
       " '10090_8.txt',\n",
       " '10091_7.txt',\n",
       " '10092_8.txt',\n",
       " '10093_7.txt',\n",
       " '10094_7.txt',\n",
       " '10095_7.txt',\n",
       " '10096_7.txt',\n",
       " '10097_9.txt',\n",
       " '10098_10.txt',\n",
       " '10099_10.txt',\n",
       " '1009_8.txt',\n",
       " '100_7.txt',\n",
       " '10100_10.txt',\n",
       " '10101_8.txt',\n",
       " '10102_7.txt',\n",
       " '10103_8.txt',\n",
       " '10104_10.txt',\n",
       " '10105_8.txt',\n",
       " '10106_8.txt',\n",
       " '10107_8.txt',\n",
       " '10108_10.txt',\n",
       " '10109_10.txt',\n",
       " '1010_10.txt',\n",
       " '10110_10.txt',\n",
       " '10111_7.txt',\n",
       " '10112_7.txt',\n",
       " '10113_10.txt',\n",
       " '10114_10.txt',\n",
       " '10115_10.txt',\n",
       " '10116_10.txt',\n",
       " '10117_8.txt',\n",
       " '10118_7.txt',\n",
       " '10119_7.txt',\n",
       " '1011_10.txt',\n",
       " '10120_7.txt',\n",
       " '10121_8.txt',\n",
       " '10122_7.txt',\n",
       " '10123_10.txt',\n",
       " '10124_8.txt',\n",
       " '10125_8.txt',\n",
       " '10126_10.txt',\n",
       " '10127_8.txt',\n",
       " '10128_9.txt',\n",
       " '10129_7.txt',\n",
       " '1012_10.txt',\n",
       " '10130_10.txt',\n",
       " '10131_10.txt',\n",
       " '10132_9.txt',\n",
       " '10133_7.txt',\n",
       " '10134_7.txt',\n",
       " '10135_7.txt',\n",
       " '10136_7.txt',\n",
       " '10137_7.txt',\n",
       " '10138_8.txt',\n",
       " '10139_8.txt',\n",
       " '1013_9.txt',\n",
       " '10140_8.txt',\n",
       " '10141_9.txt',\n",
       " '10142_8.txt',\n",
       " '10143_8.txt',\n",
       " '10144_8.txt',\n",
       " '10145_8.txt',\n",
       " '10146_7.txt',\n",
       " '10147_10.txt',\n",
       " '10148_10.txt',\n",
       " '10149_9.txt',\n",
       " '1014_9.txt',\n",
       " '10150_9.txt',\n",
       " '10151_8.txt',\n",
       " '10152_9.txt',\n",
       " '10153_9.txt',\n",
       " '10154_8.txt',\n",
       " '10155_9.txt',\n",
       " '10156_10.txt',\n",
       " '10157_10.txt',\n",
       " '10158_7.txt',\n",
       " '10159_7.txt',\n",
       " '1015_10.txt',\n",
       " '10160_7.txt',\n",
       " '10161_9.txt',\n",
       " '10162_9.txt',\n",
       " '10163_8.txt',\n",
       " '10164_7.txt',\n",
       " '10165_7.txt',\n",
       " '10166_7.txt',\n",
       " '10167_7.txt',\n",
       " '10168_8.txt',\n",
       " '10169_7.txt',\n",
       " '1016_8.txt',\n",
       " '10170_8.txt',\n",
       " '10171_7.txt',\n",
       " '10172_8.txt',\n",
       " '10173_8.txt',\n",
       " '10174_7.txt',\n",
       " '10175_10.txt',\n",
       " '10176_7.txt',\n",
       " '10177_9.txt',\n",
       " '10178_10.txt',\n",
       " '10179_9.txt',\n",
       " '1017_8.txt',\n",
       " '10180_7.txt',\n",
       " '10181_8.txt',\n",
       " '10182_8.txt',\n",
       " '10183_7.txt',\n",
       " '10184_9.txt',\n",
       " '10185_10.txt',\n",
       " '10186_8.txt',\n",
       " '10187_7.txt',\n",
       " '10188_8.txt',\n",
       " '10189_7.txt',\n",
       " '1018_8.txt',\n",
       " '10190_7.txt',\n",
       " '10191_10.txt',\n",
       " '10192_8.txt',\n",
       " '10193_9.txt',\n",
       " '10194_10.txt',\n",
       " '10195_8.txt',\n",
       " '10196_10.txt',\n",
       " '10197_7.txt',\n",
       " '10198_8.txt',\n",
       " '10199_7.txt',\n",
       " '1019_10.txt',\n",
       " '101_8.txt',\n",
       " '10200_10.txt',\n",
       " '10201_10.txt',\n",
       " '10202_10.txt',\n",
       " '10203_10.txt',\n",
       " '10204_8.txt',\n",
       " '10205_10.txt',\n",
       " '10206_10.txt',\n",
       " '10207_10.txt',\n",
       " '10208_7.txt',\n",
       " '10209_7.txt',\n",
       " '1020_10.txt',\n",
       " '10210_7.txt',\n",
       " '10211_7.txt',\n",
       " '10212_8.txt',\n",
       " '10213_8.txt',\n",
       " '10214_10.txt',\n",
       " '10215_10.txt',\n",
       " '10216_8.txt',\n",
       " '10217_9.txt',\n",
       " '10218_8.txt',\n",
       " '10219_10.txt',\n",
       " '1021_10.txt',\n",
       " '10220_7.txt',\n",
       " '10221_8.txt',\n",
       " '10222_9.txt',\n",
       " '10223_10.txt',\n",
       " '10224_10.txt',\n",
       " '10225_9.txt',\n",
       " '10226_10.txt',\n",
       " '10227_10.txt',\n",
       " '10228_8.txt',\n",
       " '10229_8.txt',\n",
       " '1022_10.txt',\n",
       " '10230_9.txt',\n",
       " '10231_10.txt',\n",
       " '10232_10.txt',\n",
       " '10233_7.txt',\n",
       " '10234_10.txt',\n",
       " '10235_8.txt',\n",
       " '10236_8.txt',\n",
       " '10237_10.txt',\n",
       " '10238_10.txt',\n",
       " '10239_10.txt',\n",
       " '1023_10.txt',\n",
       " '10240_8.txt',\n",
       " '10241_8.txt',\n",
       " '10242_8.txt',\n",
       " '10243_10.txt',\n",
       " '10244_7.txt',\n",
       " '10245_10.txt',\n",
       " '10246_10.txt',\n",
       " '10247_10.txt',\n",
       " '10248_7.txt',\n",
       " '10249_7.txt',\n",
       " '1024_9.txt',\n",
       " '10250_10.txt',\n",
       " '10251_10.txt',\n",
       " '10252_9.txt',\n",
       " '10253_10.txt',\n",
       " '10254_8.txt',\n",
       " '10255_9.txt',\n",
       " '10256_8.txt',\n",
       " '10257_8.txt',\n",
       " '10258_10.txt',\n",
       " '10259_8.txt',\n",
       " '1025_8.txt',\n",
       " '10260_10.txt',\n",
       " '10261_8.txt',\n",
       " '10262_10.txt',\n",
       " '10263_10.txt',\n",
       " '10264_10.txt',\n",
       " '10265_9.txt',\n",
       " '10266_9.txt',\n",
       " '10267_8.txt',\n",
       " '10268_9.txt',\n",
       " '10269_7.txt',\n",
       " '1026_9.txt',\n",
       " '10270_9.txt',\n",
       " '10271_10.txt',\n",
       " '10272_10.txt',\n",
       " '10273_8.txt',\n",
       " '10274_8.txt',\n",
       " '10275_10.txt',\n",
       " '10276_10.txt',\n",
       " '10277_9.txt',\n",
       " '10278_7.txt',\n",
       " '10279_8.txt',\n",
       " '1027_8.txt',\n",
       " '10280_10.txt',\n",
       " '10281_7.txt',\n",
       " '10282_8.txt',\n",
       " '10283_10.txt',\n",
       " '10284_9.txt',\n",
       " '10285_10.txt',\n",
       " '10286_9.txt',\n",
       " '10287_8.txt',\n",
       " '10288_10.txt',\n",
       " '10289_10.txt',\n",
       " '1028_10.txt',\n",
       " '10290_8.txt',\n",
       " '10291_7.txt',\n",
       " '10292_7.txt',\n",
       " '10293_8.txt',\n",
       " '10294_8.txt',\n",
       " '10295_7.txt',\n",
       " '10296_8.txt',\n",
       " '10297_8.txt',\n",
       " '10298_9.txt',\n",
       " '10299_9.txt',\n",
       " '1029_9.txt',\n",
       " '102_10.txt',\n",
       " '10300_10.txt',\n",
       " '10301_8.txt',\n",
       " '10302_9.txt',\n",
       " '10303_7.txt',\n",
       " '10304_7.txt',\n",
       " '10305_8.txt',\n",
       " '10306_8.txt',\n",
       " '10307_8.txt',\n",
       " '10308_8.txt',\n",
       " '10309_7.txt',\n",
       " '1030_10.txt',\n",
       " '10310_9.txt',\n",
       " '10311_9.txt',\n",
       " '10312_10.txt',\n",
       " '10313_7.txt',\n",
       " '10314_8.txt',\n",
       " '10315_8.txt',\n",
       " '10316_8.txt',\n",
       " '10317_7.txt',\n",
       " '10318_7.txt',\n",
       " '10319_7.txt',\n",
       " '1031_10.txt',\n",
       " '10320_7.txt',\n",
       " '10321_10.txt',\n",
       " '10322_7.txt',\n",
       " '10323_10.txt',\n",
       " '10324_9.txt',\n",
       " '10325_10.txt',\n",
       " '10326_10.txt',\n",
       " '10327_7.txt',\n",
       " '10328_8.txt',\n",
       " '10329_8.txt',\n",
       " '1032_7.txt',\n",
       " '10330_8.txt',\n",
       " '10331_10.txt',\n",
       " '10332_8.txt',\n",
       " '10333_8.txt',\n",
       " '10334_8.txt',\n",
       " '10335_8.txt',\n",
       " '10336_8.txt',\n",
       " '10337_9.txt',\n",
       " '10338_9.txt',\n",
       " '10339_7.txt',\n",
       " '1033_10.txt',\n",
       " '10340_9.txt',\n",
       " '10341_7.txt',\n",
       " '10342_7.txt',\n",
       " '10343_7.txt',\n",
       " '10344_7.txt',\n",
       " '10345_7.txt',\n",
       " '10346_9.txt',\n",
       " '10347_9.txt',\n",
       " '10348_8.txt',\n",
       " '10349_10.txt',\n",
       " '1034_7.txt',\n",
       " '10350_10.txt',\n",
       " '10351_8.txt',\n",
       " '10352_10.txt',\n",
       " '10353_9.txt',\n",
       " '10354_9.txt',\n",
       " '10355_9.txt',\n",
       " '10356_9.txt',\n",
       " '10357_8.txt',\n",
       " '10358_9.txt',\n",
       " '10359_7.txt',\n",
       " '1035_7.txt',\n",
       " '10360_8.txt',\n",
       " '10361_7.txt',\n",
       " '10362_8.txt',\n",
       " '10363_9.txt',\n",
       " '10364_10.txt',\n",
       " '10365_8.txt',\n",
       " '10366_10.txt',\n",
       " '10367_8.txt',\n",
       " '10368_7.txt',\n",
       " '10369_8.txt',\n",
       " '1036_9.txt',\n",
       " '10370_9.txt',\n",
       " '10371_8.txt',\n",
       " '10372_7.txt',\n",
       " '10373_7.txt',\n",
       " '10374_8.txt',\n",
       " '10375_10.txt',\n",
       " '10376_7.txt',\n",
       " '10377_9.txt',\n",
       " '10378_8.txt',\n",
       " '10379_10.txt',\n",
       " '1037_8.txt',\n",
       " '10380_10.txt',\n",
       " '10381_10.txt',\n",
       " '10382_10.txt',\n",
       " '10383_10.txt',\n",
       " '10384_10.txt',\n",
       " '10385_10.txt',\n",
       " '10386_8.txt',\n",
       " '10387_7.txt',\n",
       " '10388_7.txt',\n",
       " '10389_10.txt',\n",
       " '1038_7.txt',\n",
       " '10390_10.txt',\n",
       " '10391_10.txt',\n",
       " '10392_10.txt',\n",
       " '10393_9.txt',\n",
       " '10394_10.txt',\n",
       " '10395_8.txt',\n",
       " '10396_8.txt',\n",
       " '10397_8.txt',\n",
       " '10398_8.txt',\n",
       " '10399_10.txt',\n",
       " '1039_9.txt',\n",
       " '103_7.txt',\n",
       " '10400_10.txt',\n",
       " '10401_10.txt',\n",
       " '10402_10.txt',\n",
       " '10403_7.txt',\n",
       " '10404_9.txt',\n",
       " '10405_8.txt',\n",
       " '10406_10.txt',\n",
       " '10407_8.txt',\n",
       " '10408_10.txt',\n",
       " '10409_10.txt',\n",
       " '1040_10.txt',\n",
       " '10410_10.txt',\n",
       " '10411_9.txt',\n",
       " '10412_8.txt',\n",
       " '10413_10.txt',\n",
       " '10414_10.txt',\n",
       " '10415_7.txt',\n",
       " '10416_9.txt',\n",
       " '10417_8.txt',\n",
       " '10418_9.txt',\n",
       " '10419_10.txt',\n",
       " '1041_9.txt',\n",
       " '10420_10.txt',\n",
       " '10421_7.txt',\n",
       " '10422_7.txt',\n",
       " '10423_9.txt',\n",
       " '10424_9.txt',\n",
       " '10425_9.txt',\n",
       " '10426_9.txt',\n",
       " '10427_8.txt',\n",
       " '10428_10.txt',\n",
       " '10429_10.txt',\n",
       " '1042_10.txt',\n",
       " '10430_9.txt',\n",
       " '10431_10.txt',\n",
       " '10432_10.txt',\n",
       " '10433_9.txt',\n",
       " '10434_10.txt',\n",
       " '10435_7.txt',\n",
       " '10436_8.txt',\n",
       " '10437_7.txt',\n",
       " '10438_9.txt',\n",
       " '10439_8.txt',\n",
       " '1043_10.txt',\n",
       " '10440_9.txt',\n",
       " '10441_10.txt',\n",
       " '10442_10.txt',\n",
       " '10443_9.txt',\n",
       " '10444_9.txt',\n",
       " '10445_10.txt',\n",
       " '10446_10.txt',\n",
       " '10447_10.txt',\n",
       " '10448_10.txt',\n",
       " '10449_9.txt',\n",
       " '1044_8.txt',\n",
       " '10450_10.txt',\n",
       " '10451_10.txt',\n",
       " '10452_10.txt',\n",
       " '10453_10.txt',\n",
       " '10454_9.txt',\n",
       " '10455_10.txt',\n",
       " '10456_10.txt',\n",
       " '10457_8.txt',\n",
       " '10458_10.txt',\n",
       " '10459_9.txt',\n",
       " '1045_8.txt',\n",
       " '10460_10.txt',\n",
       " '10461_9.txt',\n",
       " '10462_7.txt',\n",
       " '10463_10.txt',\n",
       " '10464_7.txt',\n",
       " '10465_8.txt',\n",
       " '10466_8.txt',\n",
       " '10467_10.txt',\n",
       " '10468_9.txt',\n",
       " '10469_10.txt',\n",
       " '1046_10.txt',\n",
       " '10470_9.txt',\n",
       " '10471_10.txt',\n",
       " '10472_7.txt',\n",
       " '10473_10.txt',\n",
       " '10474_9.txt',\n",
       " '10475_8.txt',\n",
       " '10476_9.txt',\n",
       " '10477_9.txt',\n",
       " '10478_8.txt',\n",
       " '10479_10.txt',\n",
       " '1047_8.txt',\n",
       " '10480_10.txt',\n",
       " '10481_8.txt',\n",
       " '10482_10.txt',\n",
       " '10483_8.txt',\n",
       " '10484_8.txt',\n",
       " '10485_8.txt',\n",
       " '10486_7.txt',\n",
       " '10487_7.txt',\n",
       " '10488_10.txt',\n",
       " '10489_10.txt',\n",
       " '1048_8.txt',\n",
       " '10490_7.txt',\n",
       " '10491_7.txt',\n",
       " '10492_10.txt',\n",
       " '10493_9.txt',\n",
       " '10494_10.txt',\n",
       " '10495_7.txt',\n",
       " '10496_10.txt',\n",
       " '10497_8.txt',\n",
       " '10498_10.txt',\n",
       " '10499_10.txt',\n",
       " '1049_7.txt',\n",
       " '104_10.txt',\n",
       " '10500_10.txt',\n",
       " '10501_10.txt',\n",
       " '10502_9.txt',\n",
       " '10503_10.txt',\n",
       " '10504_9.txt',\n",
       " '10505_10.txt',\n",
       " '10506_10.txt',\n",
       " '10507_10.txt',\n",
       " '10508_10.txt',\n",
       " '10509_7.txt',\n",
       " '1050_9.txt',\n",
       " '10510_7.txt',\n",
       " '10511_7.txt',\n",
       " '10512_10.txt',\n",
       " '10513_7.txt',\n",
       " '10514_8.txt',\n",
       " '10515_9.txt',\n",
       " '10516_7.txt',\n",
       " '10517_8.txt',\n",
       " '10518_9.txt',\n",
       " '10519_9.txt',\n",
       " '1051_9.txt',\n",
       " '10520_9.txt',\n",
       " '10521_9.txt',\n",
       " '10522_7.txt',\n",
       " '10523_9.txt',\n",
       " '10524_10.txt',\n",
       " '10525_10.txt',\n",
       " '10526_9.txt',\n",
       " '10527_10.txt',\n",
       " '10528_10.txt',\n",
       " '10529_10.txt',\n",
       " '1052_8.txt',\n",
       " '10530_10.txt',\n",
       " '10531_10.txt',\n",
       " '10532_8.txt',\n",
       " '10533_10.txt',\n",
       " '10534_7.txt',\n",
       " '10535_7.txt',\n",
       " '10536_10.txt',\n",
       " '10537_10.txt',\n",
       " '10538_8.txt',\n",
       " '10539_10.txt',\n",
       " '1053_8.txt',\n",
       " '10540_10.txt',\n",
       " '10541_10.txt',\n",
       " '10542_7.txt',\n",
       " '10543_8.txt',\n",
       " '10544_8.txt',\n",
       " '10545_7.txt',\n",
       " '10546_9.txt',\n",
       " '10547_9.txt',\n",
       " '10548_7.txt',\n",
       " '10549_9.txt',\n",
       " '1054_8.txt',\n",
       " '10550_8.txt',\n",
       " '10551_7.txt',\n",
       " '10552_9.txt',\n",
       " '10553_8.txt',\n",
       " '10554_7.txt',\n",
       " '10555_8.txt',\n",
       " '10556_10.txt',\n",
       " '10557_9.txt',\n",
       " '10558_10.txt',\n",
       " '10559_8.txt',\n",
       " '1055_10.txt',\n",
       " '10560_9.txt',\n",
       " '10561_8.txt',\n",
       " '10562_9.txt',\n",
       " '10563_7.txt',\n",
       " '10564_10.txt',\n",
       " '10565_9.txt',\n",
       " '10566_8.txt',\n",
       " '10567_9.txt',\n",
       " '10568_10.txt',\n",
       " '10569_10.txt',\n",
       " '1056_10.txt',\n",
       " '10570_8.txt',\n",
       " '10571_8.txt',\n",
       " '10572_8.txt',\n",
       " '10573_10.txt',\n",
       " '10574_10.txt',\n",
       " '10575_9.txt',\n",
       " '10576_7.txt',\n",
       " '10577_10.txt',\n",
       " '10578_7.txt',\n",
       " '10579_10.txt',\n",
       " '1057_9.txt',\n",
       " '10580_8.txt',\n",
       " '10581_10.txt',\n",
       " '10582_10.txt',\n",
       " '10583_10.txt',\n",
       " '10584_10.txt',\n",
       " '10585_9.txt',\n",
       " '10586_10.txt',\n",
       " '10587_8.txt',\n",
       " '10588_10.txt',\n",
       " '10589_10.txt',\n",
       " '1058_10.txt',\n",
       " '10590_8.txt',\n",
       " '10591_10.txt',\n",
       " '10592_8.txt',\n",
       " '10593_8.txt',\n",
       " '10594_8.txt',\n",
       " '10595_10.txt',\n",
       " '10596_8.txt',\n",
       " '10597_9.txt',\n",
       " '10598_8.txt',\n",
       " '10599_8.txt',\n",
       " '1059_10.txt',\n",
       " '105_7.txt',\n",
       " '10600_9.txt',\n",
       " '10601_10.txt',\n",
       " '10602_10.txt',\n",
       " '10603_10.txt',\n",
       " '10604_7.txt',\n",
       " '10605_7.txt',\n",
       " '10606_10.txt',\n",
       " '10607_10.txt',\n",
       " '10608_10.txt',\n",
       " '10609_10.txt',\n",
       " '1060_10.txt',\n",
       " '10610_8.txt',\n",
       " '10611_8.txt',\n",
       " '10612_7.txt',\n",
       " '10613_8.txt',\n",
       " '10614_7.txt',\n",
       " '10615_8.txt',\n",
       " '10616_7.txt',\n",
       " '10617_8.txt',\n",
       " '10618_8.txt',\n",
       " '10619_8.txt',\n",
       " '1061_10.txt',\n",
       " '10620_10.txt',\n",
       " '10621_10.txt',\n",
       " '10622_10.txt',\n",
       " '10623_8.txt',\n",
       " '10624_7.txt',\n",
       " '10625_7.txt',\n",
       " '10626_7.txt',\n",
       " '10627_10.txt',\n",
       " '10628_7.txt',\n",
       " '10629_10.txt',\n",
       " '1062_10.txt',\n",
       " '10630_8.txt',\n",
       " '10631_8.txt',\n",
       " '10632_10.txt',\n",
       " '10633_9.txt',\n",
       " '10634_10.txt',\n",
       " '10635_8.txt',\n",
       " '10636_8.txt',\n",
       " '10637_10.txt',\n",
       " '10638_8.txt',\n",
       " '10639_7.txt',\n",
       " '1063_10.txt',\n",
       " '10640_8.txt',\n",
       " '10641_7.txt',\n",
       " '10642_8.txt',\n",
       " '10643_8.txt',\n",
       " '10644_8.txt',\n",
       " '10645_8.txt',\n",
       " '10646_8.txt',\n",
       " '10647_8.txt',\n",
       " '10648_8.txt',\n",
       " '10649_7.txt',\n",
       " '1064_10.txt',\n",
       " '10650_8.txt',\n",
       " '10651_7.txt',\n",
       " '10652_9.txt',\n",
       " '10653_10.txt',\n",
       " '10654_7.txt',\n",
       " '10655_9.txt',\n",
       " '10656_7.txt',\n",
       " '10657_8.txt',\n",
       " '10658_10.txt',\n",
       " '10659_8.txt',\n",
       " '1065_10.txt',\n",
       " '10660_10.txt',\n",
       " '10661_9.txt',\n",
       " '10662_7.txt',\n",
       " '10663_8.txt',\n",
       " '10664_8.txt',\n",
       " '10665_8.txt',\n",
       " '10666_8.txt',\n",
       " '10667_8.txt',\n",
       " '10668_7.txt',\n",
       " '10669_10.txt',\n",
       " '1066_10.txt',\n",
       " '10670_10.txt',\n",
       " '10671_10.txt',\n",
       " '10672_9.txt',\n",
       " '10673_10.txt',\n",
       " '10674_8.txt',\n",
       " '10675_8.txt',\n",
       " '10676_9.txt',\n",
       " '10677_8.txt',\n",
       " '10678_9.txt',\n",
       " '10679_10.txt',\n",
       " '1067_7.txt',\n",
       " '10680_8.txt',\n",
       " '10681_10.txt',\n",
       " '10682_10.txt',\n",
       " '10683_7.txt',\n",
       " '10684_9.txt',\n",
       " '10685_7.txt',\n",
       " '10686_8.txt',\n",
       " '10687_10.txt',\n",
       " '10688_9.txt',\n",
       " '10689_8.txt',\n",
       " '1068_10.txt',\n",
       " '10690_10.txt',\n",
       " '10691_7.txt',\n",
       " '10692_8.txt',\n",
       " '10693_8.txt',\n",
       " '10694_7.txt',\n",
       " '10695_8.txt',\n",
       " '10696_7.txt',\n",
       " '10697_8.txt',\n",
       " '10698_9.txt',\n",
       " '10699_9.txt',\n",
       " '1069_10.txt',\n",
       " '106_10.txt',\n",
       " '10700_8.txt',\n",
       " '10701_10.txt',\n",
       " '10702_10.txt',\n",
       " '10703_7.txt',\n",
       " '10704_10.txt',\n",
       " '10705_7.txt',\n",
       " '10706_7.txt',\n",
       " '10707_8.txt',\n",
       " '10708_8.txt',\n",
       " '10709_10.txt',\n",
       " '1070_8.txt',\n",
       " '10710_9.txt',\n",
       " '10711_10.txt',\n",
       " '10712_8.txt',\n",
       " '10713_9.txt',\n",
       " '10714_8.txt',\n",
       " '10715_8.txt',\n",
       " '10716_7.txt',\n",
       " '10717_10.txt',\n",
       " '10718_10.txt',\n",
       " '10719_10.txt',\n",
       " '1071_8.txt',\n",
       " '10720_9.txt',\n",
       " '10721_9.txt',\n",
       " '10722_10.txt',\n",
       " '10723_8.txt',\n",
       " '10724_8.txt',\n",
       " '10725_9.txt',\n",
       " '10726_7.txt',\n",
       " '10727_7.txt',\n",
       " '10728_10.txt',\n",
       " '10729_8.txt',\n",
       " '1072_10.txt',\n",
       " '10730_10.txt',\n",
       " '10731_7.txt',\n",
       " '10732_8.txt',\n",
       " '10733_7.txt',\n",
       " '10734_10.txt',\n",
       " '10735_10.txt',\n",
       " '10736_10.txt',\n",
       " '10737_10.txt',\n",
       " '10738_9.txt',\n",
       " '10739_10.txt',\n",
       " '1073_9.txt',\n",
       " '10740_8.txt',\n",
       " '10741_10.txt',\n",
       " '10742_9.txt',\n",
       " '10743_9.txt',\n",
       " '10744_8.txt',\n",
       " '10745_10.txt',\n",
       " '10746_10.txt',\n",
       " '10747_10.txt',\n",
       " '10748_10.txt',\n",
       " '10749_8.txt',\n",
       " '1074_10.txt',\n",
       " '10750_8.txt',\n",
       " '10751_10.txt',\n",
       " '10752_10.txt',\n",
       " '10753_10.txt',\n",
       " '10754_10.txt',\n",
       " '10755_10.txt',\n",
       " '10756_8.txt',\n",
       " '10757_10.txt',\n",
       " '10758_8.txt',\n",
       " '10759_9.txt',\n",
       " '1075_10.txt',\n",
       " '10760_8.txt',\n",
       " '10761_10.txt',\n",
       " '10762_10.txt',\n",
       " '10763_8.txt',\n",
       " '10764_9.txt',\n",
       " '10765_10.txt',\n",
       " '10766_7.txt',\n",
       " '10767_10.txt',\n",
       " '10768_7.txt',\n",
       " '10769_10.txt',\n",
       " '1076_8.txt',\n",
       " '10770_7.txt',\n",
       " '10771_10.txt',\n",
       " '10772_10.txt',\n",
       " '10773_9.txt',\n",
       " '10774_8.txt',\n",
       " '10775_8.txt',\n",
       " '10776_8.txt',\n",
       " '10777_9.txt',\n",
       " '10778_8.txt',\n",
       " '10779_10.txt',\n",
       " '1077_8.txt',\n",
       " '10780_10.txt',\n",
       " '10781_10.txt',\n",
       " '10782_7.txt',\n",
       " '10783_10.txt',\n",
       " '10784_10.txt',\n",
       " '10785_10.txt',\n",
       " '10786_10.txt',\n",
       " '10787_10.txt',\n",
       " '10788_10.txt',\n",
       " '10789_10.txt',\n",
       " '1078_8.txt',\n",
       " '10790_8.txt',\n",
       " '10791_9.txt',\n",
       " '10792_9.txt',\n",
       " '10793_10.txt',\n",
       " '10794_10.txt',\n",
       " '10795_7.txt',\n",
       " '10796_9.txt',\n",
       " '10797_8.txt',\n",
       " '10798_8.txt',\n",
       " '10799_7.txt',\n",
       " '1079_7.txt',\n",
       " '107_10.txt',\n",
       " '10800_8.txt',\n",
       " '10801_8.txt',\n",
       " '10802_8.txt',\n",
       " '10803_8.txt',\n",
       " '10804_10.txt',\n",
       " '10805_10.txt',\n",
       " '10806_9.txt',\n",
       " '10807_9.txt',\n",
       " '10808_10.txt',\n",
       " '10809_10.txt',\n",
       " '1080_9.txt',\n",
       " '10810_8.txt',\n",
       " '10811_7.txt',\n",
       " '10812_8.txt',\n",
       " '10813_10.txt',\n",
       " '10814_7.txt',\n",
       " '10815_10.txt',\n",
       " '10816_10.txt',\n",
       " '10817_10.txt',\n",
       " '10818_10.txt',\n",
       " '10819_10.txt',\n",
       " '1081_10.txt',\n",
       " '10820_10.txt',\n",
       " '10821_8.txt',\n",
       " '10822_10.txt',\n",
       " '10823_8.txt',\n",
       " '10824_10.txt',\n",
       " '10825_9.txt',\n",
       " '10826_10.txt',\n",
       " '10827_10.txt',\n",
       " '10828_10.txt',\n",
       " '10829_10.txt',\n",
       " '1082_10.txt',\n",
       " '10830_10.txt',\n",
       " '10831_7.txt',\n",
       " '10832_10.txt',\n",
       " '10833_10.txt',\n",
       " '10834_7.txt',\n",
       " '10835_10.txt',\n",
       " '10836_10.txt',\n",
       " '10837_10.txt',\n",
       " '10838_10.txt',\n",
       " '10839_10.txt',\n",
       " '1083_10.txt',\n",
       " '10840_9.txt',\n",
       " '10841_10.txt',\n",
       " '10842_7.txt',\n",
       " '10843_7.txt',\n",
       " '10844_9.txt',\n",
       " '10845_10.txt',\n",
       " '10846_9.txt',\n",
       " '10847_10.txt',\n",
       " '10848_10.txt',\n",
       " '10849_10.txt',\n",
       " '1084_9.txt',\n",
       " '10850_10.txt',\n",
       " '10851_9.txt',\n",
       " '10852_10.txt',\n",
       " '10853_10.txt',\n",
       " '10854_10.txt',\n",
       " '10855_9.txt',\n",
       " '10856_8.txt',\n",
       " '10857_8.txt',\n",
       " '10858_8.txt',\n",
       " '10859_7.txt',\n",
       " '1085_7.txt',\n",
       " '10860_7.txt',\n",
       " '10861_7.txt',\n",
       " '10862_9.txt',\n",
       " '10863_8.txt',\n",
       " '10864_8.txt',\n",
       " '10865_7.txt',\n",
       " '10866_7.txt',\n",
       " '10867_7.txt',\n",
       " '10868_8.txt',\n",
       " '10869_7.txt',\n",
       " '1086_7.txt',\n",
       " '10870_8.txt',\n",
       " '10871_7.txt',\n",
       " '10872_7.txt',\n",
       " '10873_8.txt',\n",
       " '10874_10.txt',\n",
       " '10875_8.txt',\n",
       " '10876_7.txt',\n",
       " '10877_10.txt',\n",
       " '10878_7.txt',\n",
       " '10879_10.txt',\n",
       " '1087_10.txt',\n",
       " '10880_8.txt',\n",
       " '10881_7.txt',\n",
       " '10882_8.txt',\n",
       " '10883_7.txt',\n",
       " '10884_8.txt',\n",
       " '10885_7.txt',\n",
       " '10886_10.txt',\n",
       " '10887_7.txt',\n",
       " '10888_8.txt',\n",
       " '10889_10.txt',\n",
       " '1088_9.txt',\n",
       " '10890_9.txt',\n",
       " '10891_7.txt',\n",
       " '10892_7.txt',\n",
       " '10893_8.txt',\n",
       " '10894_8.txt',\n",
       " '10895_7.txt',\n",
       " '10896_8.txt',\n",
       " '10897_9.txt',\n",
       " '10898_7.txt',\n",
       " '10899_10.txt',\n",
       " '1089_10.txt',\n",
       " '108_10.txt',\n",
       " ...]"
      ]
     },
     "execution_count": 6,
     "metadata": {},
     "output_type": "execute_result"
    }
   ],
   "source": [
    "pos_dir = os.path.join(train_dir, 'pos')\n",
    "os.listdir(pos_dir)"
   ]
  },
  {
   "cell_type": "code",
   "execution_count": 7,
   "metadata": {},
   "outputs": [
    {
     "name": "stdout",
     "output_type": "stream",
     "text": [
      "Homelessness (or Houselessness as George Carlin stated) has been an issue for years but never a plan to help those on the street that were once considered human who did everything from going to school, work, or vote for the matter. Most people think of the homeless as just a lost cause while worrying about things such as racism, the war on Iraq, pressuring kids to succeed, technology, the elections, inflation, or worrying if they'll be next to end up on the streets.<br /><br />But what if you were given a bet to live on the streets for a month without the luxuries you once had from a home, the entertainment sets, a bathroom, pictures on the wall, a computer, and everything you once treasure to see what it's like to be homeless? That is Goddard Bolt's lesson.<br /><br />Mel Brooks (who directs) who stars as Bolt plays a rich man who has everything in the world until deciding to make a bet with a sissy rival (Jeffery Tambor) to see if he can live in the streets for thirty days without the luxuries; if Bolt succeeds, he can do what he wants with a future project of making more buildings. The bet's on where Bolt is thrown on the street with a bracelet on his leg to monitor his every move where he can't step off the sidewalk. He's given the nickname Pepto by a vagrant after it's written on his forehead where Bolt meets other characters including a woman by the name of Molly (Lesley Ann Warren) an ex-dancer who got divorce before losing her home, and her pals Sailor (Howard Morris) and Fumes (Teddy Wilson) who are already used to the streets. They're survivors. Bolt isn't. He's not used to reaching mutual agreements like he once did when being rich where it's fight or flight, kill or be killed.<br /><br />While the love connection between Molly and Bolt wasn't necessary to plot, I found \"Life Stinks\" to be one of Mel Brooks' observant films where prior to being a comedy, it shows a tender side compared to his slapstick work such as Blazing Saddles, Young Frankenstein, or Spaceballs for the matter, to show what it's like having something valuable before losing it the next day or on the other hand making a stupid bet like all rich people do when they don't know what to do with their money. Maybe they should give it to the homeless instead of using it like Monopoly money.<br /><br />Or maybe this film will inspire you to help others.\n"
     ]
    }
   ],
   "source": [
    "sample_file = os.path.join(train_dir, 'pos/10000_8.txt')\n",
    "with open(sample_file) as f:\n",
    "  print(f.read())"
   ]
  },
  {
   "cell_type": "markdown",
   "metadata": {},
   "source": [
    "#### Load the dataset\n",
    "Next, you will load the data off disk and prepare it into a format suitable for training. To do so, you will use the helpful text_dataset_from_directory utility, which expects a directory structure as follows."
   ]
  },
  {
   "cell_type": "code",
   "execution_count": 8,
   "metadata": {},
   "outputs": [
    {
     "data": {
      "text/plain": [
       "'\\nmain_directory/\\n...class_a/\\n......a_text_1.txt\\n......a_text_2.txt\\n...class_b/\\n......b_text_1.txt\\n......b_text_2.txt\\n'"
      ]
     },
     "execution_count": 8,
     "metadata": {},
     "output_type": "execute_result"
    }
   ],
   "source": [
    "'''\n",
    "main_directory/\n",
    "...class_a/\n",
    "......a_text_1.txt\n",
    "......a_text_2.txt\n",
    "...class_b/\n",
    "......b_text_1.txt\n",
    "......b_text_2.txt\n",
    "'''"
   ]
  },
  {
   "cell_type": "markdown",
   "metadata": {},
   "source": [
    "To prepare a dataset for binary classification, you will need two folders on disk, corresponding to class_a and class_b. These will be the positive and negative movie reviews, which can be found in aclImdb/train/pos and aclImdb/train/neg. As the IMDB dataset contains additional folders, you will remove them before using this utility."
   ]
  },
  {
   "cell_type": "code",
   "execution_count": 9,
   "metadata": {},
   "outputs": [],
   "source": [
    "remove_dir = os.path.join(train_dir, 'unsup')\n",
    "shutil.rmtree(remove_dir)"
   ]
  },
  {
   "cell_type": "markdown",
   "metadata": {},
   "source": [
    "Next, you will use the text_dataset_from_directory utility to create a labeled tf.data.Dataset. tf.data is a powerful collection of tools for working with data.\n",
    "\n",
    "When running a machine learning experiment, it is a best practice to divide your dataset into three splits: train, validation, and test.\n",
    "\n",
    "The IMDB dataset has already been divided into train and test, but it lacks a validation set. Let's create a validation set using an 80:20 split of the training data by using the validation_split argument below."
   ]
  },
  {
   "cell_type": "code",
   "execution_count": 10,
   "metadata": {},
   "outputs": [
    {
     "name": "stdout",
     "output_type": "stream",
     "text": [
      "Found 25000 files belonging to 2 classes.\n",
      "Using 20000 files for training.\n"
     ]
    }
   ],
   "source": [
    "batch_size = 32\n",
    "seed = 42\n",
    "\n",
    "#Training set\n",
    "raw_train_ds = tf.keras.utils.text_dataset_from_directory(\n",
    "    'aclImdb/train',\n",
    "    batch_size=batch_size,\n",
    "    validation_split=0.2,\n",
    "    subset='training',\n",
    "    seed=seed)"
   ]
  },
  {
   "cell_type": "markdown",
   "metadata": {},
   "source": [
    "As you can see above, there are 25,000 examples in the training folder, of which you will use 80% (or 20,000) for training. As you will see in a moment, you can train a model by passing a dataset directly to model.fit. If you're new to tf.data, you can also iterate over the dataset and print out a few examples as follows."
   ]
  },
  {
   "cell_type": "code",
   "execution_count": 14,
   "metadata": {},
   "outputs": [
    {
     "name": "stdout",
     "output_type": "stream",
     "text": [
      "Review: b'Great movie - especially the music - Etta James - \"At Last\". This speaks volumes when you have finally found that special someone.'\n",
      "Label: 0\n",
      "-----------\n",
      "Review: b\"I am shocked. Shocked and dismayed that the 428 of you IMDB users who voted before me have not given this film a rating of higher than 7. 7?!?? - that's a C!. If I could give FOBH a 20, I'd gladly do it. This film ranks high atop the pantheon of modern comedy, alongside Half Baked and Mallrats, as one of the most hilarious films of all time. If you know _anything_ about rap music - YOU MUST SEE THIS!! If you know nothing about rap music - learn something!, and then see this! Comparisons to 'Spinal Tap' fail to appreciate the inspired genius of this unique film. If you liked Bob Roberts, you'll love this. Watch it and vote it a 10!\"\n",
      "Label: 1\n",
      "-----------\n",
      "Review: b'What a lovely heart warming television movie. The story tells of a little five year old girl who has lost her daddy and finds it impossible to cope. Her mother is also very distressed ..only a miracle can alleviate their unhappiness.Which all viewers hope will materialise. Samantha Mathis is brilliant as the little girl\\'s mum ,as she was as the nanny in\" Jack and Sarah\",worth watching if you like both Samantha Mathis and happy; year tear jerking movies! Ellen Burstyn is, as, always a delightful grandmother in this tender and magnificently acted movie. Jodelle Ferland (the little five year old) is charming and a most convincing young actress. The film is based on a true story which makes it so touching.\"Mermaid\" is a tribute to the milk of human kindness which is clearly illustrated and clearly is still all around us in this difficult world we live in. \"Mermaid\" gives us all hope ,by realising that there a lot of lovely people in the world with lot\\'s of love to give. James Robson Glasgow Scotland U.K.'\n",
      "Label: 1\n",
      "-----------\n",
      "Review: b'I haven\\'t read this book, but all through the movie I was awestruck with only one thought in my head: This is so Vonnegut. I have never seen an author, all of the intelligence and life behind the workings of a novel, translated so well to film. This movie had the same complexities found in Vonnegut\\'s novels: the jokes were often meaningful and symbolic, and the dramatic events and symbols were often also jokes.<br /><br />Campbell was also a very Vonnegut character, portrayed perfectly by Nick Nolte. He had all of the earmarks of a Vonnegut \"hero\": lack of concern for political boundaries, ironic dark humor giving way to dumb inactivity in response to stress, and an unwillingness to push his version of reality on those around him.<br /><br />Overall, I was constantly surprised and impressed as I watched this movie. It was the same feeling I had reading \"Cat\\'s Cradle,\" my first Vonnegut novel, as if the most perfectly oddball thing that could happen, he thought of THAT, and he made it real and important. Yes, he has nothing but army surplus \"White Christmas\" albums. So it goes!'\n",
      "Label: 1\n",
      "-----------\n"
     ]
    }
   ],
   "source": [
    "for text_batch, label_batch in raw_train_ds.take(1):\n",
    "  for i in range(4):\n",
    "    print(f\"Review: {text_batch.numpy()[i]}\")\n",
    "    print(f\"Label: {label_batch.numpy()[i]}\")\n",
    "    print(\"-----------\")"
   ]
  },
  {
   "cell_type": "markdown",
   "metadata": {},
   "source": [
    "Notice the reviews contain raw text (with punctuation and occasional HTML tags like <\\br). You will show how to handle these in the following section.\n",
    "\n",
    "The labels are 0 or 1. To see which of these correspond to positive and negative movie reviews, you can check the class_names property on the dataset."
   ]
  },
  {
   "cell_type": "code",
   "execution_count": 15,
   "metadata": {},
   "outputs": [
    {
     "name": "stdout",
     "output_type": "stream",
     "text": [
      "Label 0 corresponds to neg\n",
      "Label 1 corresponds to pos\n"
     ]
    }
   ],
   "source": [
    "print(\"Label 0 corresponds to\", raw_train_ds.class_names[0])\n",
    "print(\"Label 1 corresponds to\", raw_train_ds.class_names[1])"
   ]
  },
  {
   "cell_type": "markdown",
   "metadata": {},
   "source": [
    "Next, you will create a validation and test dataset. You will use the remaining 5,000 reviews from the training set for validation."
   ]
  },
  {
   "cell_type": "code",
   "execution_count": 16,
   "metadata": {},
   "outputs": [
    {
     "name": "stdout",
     "output_type": "stream",
     "text": [
      "Found 25000 files belonging to 2 classes.\n",
      "Using 5000 files for validation.\n"
     ]
    }
   ],
   "source": [
    "#Validation set\n",
    "raw_val_ds = tf.keras.utils.text_dataset_from_directory(\n",
    "    'aclImdb/train',\n",
    "    batch_size=batch_size,\n",
    "    validation_split=0.2,\n",
    "    subset='validation',\n",
    "    seed=seed)"
   ]
  },
  {
   "cell_type": "code",
   "execution_count": 17,
   "metadata": {},
   "outputs": [
    {
     "name": "stdout",
     "output_type": "stream",
     "text": [
      "Found 25000 files belonging to 2 classes.\n"
     ]
    }
   ],
   "source": [
    "#Test set - already exist under test folder\n",
    "raw_test_ds = tf.keras.utils.text_dataset_from_directory(\n",
    "    'aclImdb/test',\n",
    "    batch_size=batch_size)"
   ]
  },
  {
   "cell_type": "markdown",
   "metadata": {},
   "source": [
    "#### Prepare the dataset for training\n",
    "Next, you will standardize, tokenize, and vectorize the data using the helpful tf.keras.layers.TextVectorization layer.\n",
    "\n",
    "Standardization refers to preprocessing the text, typically to remove punctuation or HTML elements to simplify the dataset. Tokenization refers to splitting strings into tokens (for example, splitting a sentence into individual words, by splitting on whitespace). Vectorization refers to converting tokens into numbers so they can be fed into a neural network. All of these tasks can be accomplished with this layer.\n",
    "\n",
    "As you saw above, the reviews contain various HTML tags like <\\br>. These tags will not be removed by the default standardizer in the TextVectorization layer (which converts text to lowercase and strips punctuation by default, but doesn't strip HTML). You will write a custom standardization function to remove the HTML."
   ]
  },
  {
   "cell_type": "code",
   "execution_count": 20,
   "metadata": {},
   "outputs": [],
   "source": [
    "#Define custom standardization\n",
    "def custom_standardization(input_data):\n",
    "  lowercase = tf.strings.lower(input_data) #change to lowercase\n",
    "  stripped_html = tf.strings.regex_replace(lowercase, '<br />', ' ') #replace <br /> with space\n",
    "  return tf.strings.regex_replace(stripped_html, \n",
    "                                  '[%s]' % re.escape(string.punctuation), #creates a string with escaped punctuation characters\n",
    "                                  '') #goes through stripped_html and replaces all punctuation with empty string ''"
   ]
  },
  {
   "cell_type": "markdown",
   "metadata": {},
   "source": [
    "Next, you will create a TextVectorization layer. You will use this layer to standardize, tokenize, and vectorize our data. You set the output_mode to int to create unique integer indices for each token.\n",
    "\n",
    "Note that you're using the default split function, and the custom standardization function you defined above. You'll also define some constants for the model, like an explicit maximum sequence_length, which will cause the layer to pad or truncate sequences to exactly sequence_length values."
   ]
  },
  {
   "cell_type": "code",
   "execution_count": 18,
   "metadata": {},
   "outputs": [],
   "source": [
    "#Constants\n",
    "max_features = 10000\n",
    "sequence_length = 250"
   ]
  },
  {
   "cell_type": "code",
   "execution_count": 21,
   "metadata": {},
   "outputs": [],
   "source": [
    "vectorize_layer = layers.TextVectorization(\n",
    "    standardize=custom_standardization,\n",
    "    max_tokens=max_features,\n",
    "    output_mode='int',\n",
    "    output_sequence_length=sequence_length)"
   ]
  },
  {
   "cell_type": "markdown",
   "metadata": {},
   "source": [
    "Next, you will call adapt to fit the state of the preprocessing layer to the dataset. This will cause the model to build an index of strings to integers."
   ]
  },
  {
   "cell_type": "markdown",
   "metadata": {},
   "source": [
    "Note: It's important to only use your training data when calling adapt (using the test set would leak information)."
   ]
  },
  {
   "cell_type": "code",
   "execution_count": 22,
   "metadata": {},
   "outputs": [],
   "source": [
    "# Make a text-only dataset (without labels), then call adapt\n",
    "train_text = raw_train_ds.map(lambda x, y: x) #lambda - takes two inputs x and y, and only returns x\n",
    "vectorize_layer.adapt(train_text)"
   ]
  },
  {
   "cell_type": "code",
   "execution_count": 24,
   "metadata": {},
   "outputs": [],
   "source": [
    "#Let's create a function to see the result of using this layer to preprocess some data.\n",
    "def vectorize_text(text, label):\n",
    "  text = tf.expand_dims(text, -1)\n",
    "  return vectorize_layer(text), label"
   ]
  },
  {
   "cell_type": "code",
   "execution_count": 30,
   "metadata": {},
   "outputs": [
    {
     "name": "stdout",
     "output_type": "stream",
     "text": [
      "Review: tf.Tensor(b'\"A young woman suffers from the delusion that she is a werewolf, based upon a family legend of an ancestor accused of and killed for allegedly being one. Due to her past treatment by men, she travels the countryside seducing and killing the men she meets. Falling in love with a kind man, her life appears to take a turn for the better when she is raped and her lover is killed by a band of thugs. Traumatized again by these latest events, the woman returns to her violent ways and seeks revenge on the thugs,\" according to the DVD sleeve\\'s synopsis.<br /><br />Rino Di Silvestro\\'s \"La lupa mannara\" begins with full frontal, writhing, moaning dance by shapely blonde Annik Borel, who (as Daniella Neseri) mistakenly believes she is a werewolf. The hottest part is when the camera catches background fire between her legs. The opening \"flashback\" reveals her hairy ancestor was (probably) a lycanthropic creature. Ms. Borel is, unfortunately, not a werewolf; she is merely a very strong lunatic.<br /><br />As a film, \"Werewolf Woman\" (in English) would have been better if Borel\\'s character really was a female werewolf; with her sexual victimization a great bit of characterization. But, as far as 1970s skin and blood flicks go, this one is hard to beat. Bouncy Borel is either nude or sexily clad throughout the film, which features a fair amount of gratuitous gore. Dazzling Dagmar Lassander (as Elena) and hunky Howard Ross (as Luca) are good supporting players.', shape=(), dtype=string)\n",
      "Label: neg\n",
      "-------\n",
      "Vectorized review (<tf.Tensor: shape=(1, 250), dtype=int64, numpy=\n",
      "array([[   4,  181,  246, 2320,   35,    2,    1,   12,   55,    7,    4,\n",
      "        1823,  443,  718,    4,  215, 1725,    5,   33,    1, 3420,    5,\n",
      "           3,  546,   15, 8957,  108,   28,  684,    6,   39,  491, 2217,\n",
      "          32,  348,   55, 4096,    2, 4169,    1,    3,  846,    2,  348,\n",
      "          55,  879, 1387,    8,  115,   16,    4,  236,  130,   39,  116,\n",
      "         723,    6,  190,    4,  459,   15,    2,  122,   51,   55,    7,\n",
      "        3377,    3,   39, 1522,    7,  546,   32,    4, 1090,    5, 3616,\n",
      "        8981,  169,   32,  129, 2379,  650,    2,  246, 1734,    6,   39,\n",
      "        1097,  760,    3, 4972, 1087,   20,    2, 3616, 1668,    6,    2,\n",
      "         287,    1, 3658,    1,    1,    1,  990,    1,    1,  762,   16,\n",
      "         374, 7652,    1,    1,  833,   32,    1, 1941,    1,    1,   36,\n",
      "          14,    1,    1,    1, 2101,   55,    7,    4, 1823,    2,    1,\n",
      "         170,    7,   51,    2,  379, 3898,  985,  973,  188,   39, 2988,\n",
      "           2,  634, 2721, 2684,   39, 8463,    1,   13,  235,    4,    1,\n",
      "        1612, 1474,    1,    7,  460,   21,    4, 1823,   55,    7, 1516,\n",
      "           4,   52,  556, 6830,   14,    4,   19, 1823,  246,    8,  648,\n",
      "          59,   25,   74,  122,   45,    1,  106,   62,   13,    4,  638,\n",
      "        1823,   16,   39,  845,    1,    4,   86,  221,    5, 3414,   18,\n",
      "          14,  231,   14, 2311, 2595,    3,  528, 1427,  137,   11,   28,\n",
      "           7,  264,    6, 1638,    1,    1,    7,  338, 2613,   41,    1,\n",
      "        8134,  458,    2,   19,   60,  915,    4, 1234, 1137,    5, 2135,\n",
      "         594, 5842,    1,    1,   14,    1,    3, 8456, 2274, 5645,   14,\n",
      "           1,   23,   49,  679, 1787,    0,    0,    0]], dtype=int64)>, <tf.Tensor: shape=(), dtype=int32, numpy=0>)\n"
     ]
    }
   ],
   "source": [
    "# retrieve a batch (of 32 reviews and labels) from the dataset\n",
    "text_batch, label_batch = next(iter(raw_train_ds))\n",
    "first_review, first_label = text_batch[0], label_batch[0]\n",
    "print(\"Review:\", first_review)\n",
    "print(\"Label:\", raw_train_ds.class_names[first_label])\n",
    "print(\"-------\")\n",
    "print(\"Vectorized review\", vectorize_text(first_review, first_label))"
   ]
  },
  {
   "cell_type": "markdown",
   "metadata": {},
   "source": [
    "As you can see above, each token has been replaced by an integer. You can lookup the token (string) that each integer corresponds to by calling .get_vocabulary() on the layer."
   ]
  },
  {
   "cell_type": "code",
   "execution_count": 32,
   "metadata": {},
   "outputs": [
    {
     "name": "stdout",
     "output_type": "stream",
     "text": [
      "a\n",
      "young\n",
      "Vocabulary size: 10000\n"
     ]
    }
   ],
   "source": [
    "print(vectorize_layer.get_vocabulary()[4])\n",
    "print(vectorize_layer.get_vocabulary()[181])\n",
    "print('Vocabulary size: {}'.format(len(vectorize_layer.get_vocabulary())))"
   ]
  },
  {
   "cell_type": "markdown",
   "metadata": {},
   "source": [
    "You are nearly ready to train your model. As a final preprocessing step, you will apply the TextVectorization layer you created earlier to the train, validation, and test dataset."
   ]
  },
  {
   "cell_type": "code",
   "execution_count": 33,
   "metadata": {},
   "outputs": [],
   "source": [
    "#Vectorize all our datasets\n",
    "train_ds = raw_train_ds.map(vectorize_text)\n",
    "val_ds = raw_val_ds.map(vectorize_text)\n",
    "test_ds = raw_test_ds.map(vectorize_text)"
   ]
  },
  {
   "cell_type": "markdown",
   "metadata": {},
   "source": [
    "#### Configure the dataset for performance\n",
    "These are two important methods you should use when loading data to make sure that I/O does not become blocking.\n",
    "\n",
    ".cache() keeps data in memory after it's loaded off disk. This will ensure the dataset does not become a bottleneck while training your model. If your dataset is too large to fit into memory, you can also use this method to create a performant on-disk cache, which is more efficient to read than many small files.\n",
    "\n",
    ".prefetch() overlaps data preprocessing and model execution while training.\n",
    "\n",
    "You can learn more about both methods, as well as how to cache data to disk in the [data performance guide](https://www.tensorflow.org/guide/data_performance)."
   ]
  },
  {
   "cell_type": "code",
   "execution_count": 34,
   "metadata": {},
   "outputs": [],
   "source": [
    "AUTOTUNE = tf.data.AUTOTUNE\n",
    "\n",
    "train_ds = train_ds.cache().prefetch(buffer_size=AUTOTUNE)\n",
    "val_ds = val_ds.cache().prefetch(buffer_size=AUTOTUNE)\n",
    "test_ds = test_ds.cache().prefetch(buffer_size=AUTOTUNE)"
   ]
  },
  {
   "cell_type": "markdown",
   "metadata": {},
   "source": [
    "#### Create the model\n",
    "It's time to create your neural network:"
   ]
  },
  {
   "cell_type": "code",
   "execution_count": 35,
   "metadata": {},
   "outputs": [],
   "source": [
    "embedding_dim = 16"
   ]
  },
  {
   "cell_type": "code",
   "execution_count": 36,
   "metadata": {},
   "outputs": [
    {
     "data": {
      "text/html": [
       "<pre style=\"white-space:pre;overflow-x:auto;line-height:normal;font-family:Menlo,'DejaVu Sans Mono',consolas,'Courier New',monospace\"><span style=\"font-weight: bold\">Model: \"sequential\"</span>\n",
       "</pre>\n"
      ],
      "text/plain": [
       "\u001b[1mModel: \"sequential\"\u001b[0m\n"
      ]
     },
     "metadata": {},
     "output_type": "display_data"
    },
    {
     "data": {
      "text/html": [
       "<pre style=\"white-space:pre;overflow-x:auto;line-height:normal;font-family:Menlo,'DejaVu Sans Mono',consolas,'Courier New',monospace\">┏━━━━━━━━━━━━━━━━━━━━━━━━━━━━━━━━━┳━━━━━━━━━━━━━━━━━━━━━━━━┳━━━━━━━━━━━━━━━┓\n",
       "┃<span style=\"font-weight: bold\"> Layer (type)                    </span>┃<span style=\"font-weight: bold\"> Output Shape           </span>┃<span style=\"font-weight: bold\">       Param # </span>┃\n",
       "┡━━━━━━━━━━━━━━━━━━━━━━━━━━━━━━━━━╇━━━━━━━━━━━━━━━━━━━━━━━━╇━━━━━━━━━━━━━━━┩\n",
       "│ embedding (<span style=\"color: #0087ff; text-decoration-color: #0087ff\">Embedding</span>)           │ ?                      │   <span style=\"color: #00af00; text-decoration-color: #00af00\">0</span> (unbuilt) │\n",
       "├─────────────────────────────────┼────────────────────────┼───────────────┤\n",
       "│ dropout (<span style=\"color: #0087ff; text-decoration-color: #0087ff\">Dropout</span>)               │ ?                      │             <span style=\"color: #00af00; text-decoration-color: #00af00\">0</span> │\n",
       "├─────────────────────────────────┼────────────────────────┼───────────────┤\n",
       "│ global_average_pooling1d        │ ?                      │   <span style=\"color: #00af00; text-decoration-color: #00af00\">0</span> (unbuilt) │\n",
       "│ (<span style=\"color: #0087ff; text-decoration-color: #0087ff\">GlobalAveragePooling1D</span>)        │                        │               │\n",
       "├─────────────────────────────────┼────────────────────────┼───────────────┤\n",
       "│ dropout_1 (<span style=\"color: #0087ff; text-decoration-color: #0087ff\">Dropout</span>)             │ ?                      │             <span style=\"color: #00af00; text-decoration-color: #00af00\">0</span> │\n",
       "├─────────────────────────────────┼────────────────────────┼───────────────┤\n",
       "│ dense (<span style=\"color: #0087ff; text-decoration-color: #0087ff\">Dense</span>)                   │ ?                      │   <span style=\"color: #00af00; text-decoration-color: #00af00\">0</span> (unbuilt) │\n",
       "└─────────────────────────────────┴────────────────────────┴───────────────┘\n",
       "</pre>\n"
      ],
      "text/plain": [
       "┏━━━━━━━━━━━━━━━━━━━━━━━━━━━━━━━━━┳━━━━━━━━━━━━━━━━━━━━━━━━┳━━━━━━━━━━━━━━━┓\n",
       "┃\u001b[1m \u001b[0m\u001b[1mLayer (type)                   \u001b[0m\u001b[1m \u001b[0m┃\u001b[1m \u001b[0m\u001b[1mOutput Shape          \u001b[0m\u001b[1m \u001b[0m┃\u001b[1m \u001b[0m\u001b[1m      Param #\u001b[0m\u001b[1m \u001b[0m┃\n",
       "┡━━━━━━━━━━━━━━━━━━━━━━━━━━━━━━━━━╇━━━━━━━━━━━━━━━━━━━━━━━━╇━━━━━━━━━━━━━━━┩\n",
       "│ embedding (\u001b[38;5;33mEmbedding\u001b[0m)           │ ?                      │   \u001b[38;5;34m0\u001b[0m (unbuilt) │\n",
       "├─────────────────────────────────┼────────────────────────┼───────────────┤\n",
       "│ dropout (\u001b[38;5;33mDropout\u001b[0m)               │ ?                      │             \u001b[38;5;34m0\u001b[0m │\n",
       "├─────────────────────────────────┼────────────────────────┼───────────────┤\n",
       "│ global_average_pooling1d        │ ?                      │   \u001b[38;5;34m0\u001b[0m (unbuilt) │\n",
       "│ (\u001b[38;5;33mGlobalAveragePooling1D\u001b[0m)        │                        │               │\n",
       "├─────────────────────────────────┼────────────────────────┼───────────────┤\n",
       "│ dropout_1 (\u001b[38;5;33mDropout\u001b[0m)             │ ?                      │             \u001b[38;5;34m0\u001b[0m │\n",
       "├─────────────────────────────────┼────────────────────────┼───────────────┤\n",
       "│ dense (\u001b[38;5;33mDense\u001b[0m)                   │ ?                      │   \u001b[38;5;34m0\u001b[0m (unbuilt) │\n",
       "└─────────────────────────────────┴────────────────────────┴───────────────┘\n"
      ]
     },
     "metadata": {},
     "output_type": "display_data"
    },
    {
     "data": {
      "text/html": [
       "<pre style=\"white-space:pre;overflow-x:auto;line-height:normal;font-family:Menlo,'DejaVu Sans Mono',consolas,'Courier New',monospace\"><span style=\"font-weight: bold\"> Total params: </span><span style=\"color: #00af00; text-decoration-color: #00af00\">0</span> (0.00 B)\n",
       "</pre>\n"
      ],
      "text/plain": [
       "\u001b[1m Total params: \u001b[0m\u001b[38;5;34m0\u001b[0m (0.00 B)\n"
      ]
     },
     "metadata": {},
     "output_type": "display_data"
    },
    {
     "data": {
      "text/html": [
       "<pre style=\"white-space:pre;overflow-x:auto;line-height:normal;font-family:Menlo,'DejaVu Sans Mono',consolas,'Courier New',monospace\"><span style=\"font-weight: bold\"> Trainable params: </span><span style=\"color: #00af00; text-decoration-color: #00af00\">0</span> (0.00 B)\n",
       "</pre>\n"
      ],
      "text/plain": [
       "\u001b[1m Trainable params: \u001b[0m\u001b[38;5;34m0\u001b[0m (0.00 B)\n"
      ]
     },
     "metadata": {},
     "output_type": "display_data"
    },
    {
     "data": {
      "text/html": [
       "<pre style=\"white-space:pre;overflow-x:auto;line-height:normal;font-family:Menlo,'DejaVu Sans Mono',consolas,'Courier New',monospace\"><span style=\"font-weight: bold\"> Non-trainable params: </span><span style=\"color: #00af00; text-decoration-color: #00af00\">0</span> (0.00 B)\n",
       "</pre>\n"
      ],
      "text/plain": [
       "\u001b[1m Non-trainable params: \u001b[0m\u001b[38;5;34m0\u001b[0m (0.00 B)\n"
      ]
     },
     "metadata": {},
     "output_type": "display_data"
    }
   ],
   "source": [
    "model = tf.keras.Sequential([\n",
    "  layers.Embedding(max_features, embedding_dim),\n",
    "  layers.Dropout(0.2),\n",
    "  layers.GlobalAveragePooling1D(),\n",
    "  layers.Dropout(0.2),\n",
    "  layers.Dense(1, activation='sigmoid')])\n",
    "\n",
    "model.summary()"
   ]
  },
  {
   "cell_type": "markdown",
   "metadata": {},
   "source": [
    "The layers are stacked sequentially to build the classifier:\n",
    "\n",
    "1. The first layer is an Embedding layer. This layer takes the integer-encoded reviews and looks up an embedding vector for each word-index. These vectors are learned as the model trains. The vectors add a dimension to the output array. The resulting dimensions are: (batch, sequence, embedding). To learn more about embeddings, check out the [Word embeddings tutorial](https://www.tensorflow.org/text/guide/word_embeddings).\n",
    "\n",
    "2. Next, a GlobalAveragePooling1D layer returns a fixed-length output vector for each example by averaging over the sequence dimension. This allows the model to handle input of variable length, in the simplest way possible.\n",
    "\n",
    "3. The last layer is densely connected with a single output node."
   ]
  },
  {
   "cell_type": "markdown",
   "metadata": {},
   "source": [
    "Imagine a vocabulary of 10,000 words (max_features=10000) and an embedding dimension of 128 (embedding_dim=128). The embedding matrix would then have a size of (10000, 128).\n",
    "\n",
    "If a sentence is represented by the word indices [234, 102, 785], the embedding layer would:\n",
    "- Look up the 128-dimensional embedding vector for word index 234 in the first row of the embedding matrix.\n",
    "- Look up the embedding vector for word index 102 in the second row.\n",
    "- Do the same for word index 785.\n",
    "- The resulting output from the layer would be a tensor with three rows, where each row is a 128-dimensional vector representing the corresponding word from the sentence.\n",
    "\n",
    "Benefits of Word Embeddings:\n",
    "\n",
    "- Captures Semantics: Embedding vectors encode semantic relationships between words. Words with similar meanings tend to have similar embedding vectors in high dimensional space.\n",
    "- Reduces Dimensionality: Compared to directly using one-hot encoded word representations (which would have a size equal to the vocabulary size), word embeddings are a more efficient way to represent words in a lower dimensional space while still capturing semantic information.\n",
    "\n",
    "Learning the Embeddings:\n",
    "\n",
    "- The embedding matrix is initialized with random values, but it's trained during the model's training process. The model adjusts the values in the embedding matrix to better represent the semantic relationships within your text data.\n",
    "\n",
    "Choosing Embedding Dimensionality:\n",
    "\n",
    "- The optimal embedding dimension (embedding_dim) depends on your specific dataset and task. A higher dimension allows for capturing more complex relationships, but also requires more training data and computational resources. It's often a good practice to experiment with different embedding dimensions to find the best performing configuration for your model."
   ]
  },
  {
   "cell_type": "markdown",
   "metadata": {},
   "source": [
    "#### Loss function and optimizer\n",
    "A model needs a loss function and an optimizer for training. Since this is a binary classification problem and the model outputs a probability (a single-unit layer with a sigmoid activation), you'll use losses.BinaryCrossentropy loss function.\n",
    "\n",
    "Now, configure the model to use an optimizer and a loss function:"
   ]
  },
  {
   "cell_type": "code",
   "execution_count": 37,
   "metadata": {},
   "outputs": [],
   "source": [
    "model.compile(loss=losses.BinaryCrossentropy(),\n",
    "              optimizer='adam',\n",
    "              metrics=[tf.metrics.BinaryAccuracy(threshold=0.5)])"
   ]
  },
  {
   "cell_type": "markdown",
   "metadata": {},
   "source": [
    "#### Train the model\n",
    "You will train the model by passing the dataset object to the fit method."
   ]
  },
  {
   "cell_type": "code",
   "execution_count": 38,
   "metadata": {},
   "outputs": [
    {
     "name": "stdout",
     "output_type": "stream",
     "text": [
      "Epoch 1/10\n",
      "\u001b[1m625/625\u001b[0m \u001b[32m━━━━━━━━━━━━━━━━━━━━\u001b[0m\u001b[37m\u001b[0m \u001b[1m6s\u001b[0m 8ms/step - binary_accuracy: 0.5752 - loss: 0.6827 - val_binary_accuracy: 0.7176 - val_loss: 0.6168\n",
      "Epoch 2/10\n",
      "\u001b[1m625/625\u001b[0m \u001b[32m━━━━━━━━━━━━━━━━━━━━\u001b[0m\u001b[37m\u001b[0m \u001b[1m1s\u001b[0m 2ms/step - binary_accuracy: 0.7563 - loss: 0.5834 - val_binary_accuracy: 0.7986 - val_loss: 0.5007\n",
      "Epoch 3/10\n",
      "\u001b[1m625/625\u001b[0m \u001b[32m━━━━━━━━━━━━━━━━━━━━\u001b[0m\u001b[37m\u001b[0m \u001b[1m1s\u001b[0m 1ms/step - binary_accuracy: 0.8183 - loss: 0.4721 - val_binary_accuracy: 0.8384 - val_loss: 0.4239\n",
      "Epoch 4/10\n",
      "\u001b[1m625/625\u001b[0m \u001b[32m━━━━━━━━━━━━━━━━━━━━\u001b[0m\u001b[37m\u001b[0m \u001b[1m1s\u001b[0m 2ms/step - binary_accuracy: 0.8461 - loss: 0.3990 - val_binary_accuracy: 0.8548 - val_loss: 0.3785\n",
      "Epoch 5/10\n",
      "\u001b[1m625/625\u001b[0m \u001b[32m━━━━━━━━━━━━━━━━━━━━\u001b[0m\u001b[37m\u001b[0m \u001b[1m1s\u001b[0m 1ms/step - binary_accuracy: 0.8654 - loss: 0.3528 - val_binary_accuracy: 0.8644 - val_loss: 0.3497\n",
      "Epoch 6/10\n",
      "\u001b[1m625/625\u001b[0m \u001b[32m━━━━━━━━━━━━━━━━━━━━\u001b[0m\u001b[37m\u001b[0m \u001b[1m1s\u001b[0m 1ms/step - binary_accuracy: 0.8780 - loss: 0.3207 - val_binary_accuracy: 0.8690 - val_loss: 0.3306\n",
      "Epoch 7/10\n",
      "\u001b[1m625/625\u001b[0m \u001b[32m━━━━━━━━━━━━━━━━━━━━\u001b[0m\u001b[37m\u001b[0m \u001b[1m1s\u001b[0m 1ms/step - binary_accuracy: 0.8884 - loss: 0.2953 - val_binary_accuracy: 0.8730 - val_loss: 0.3167\n",
      "Epoch 8/10\n",
      "\u001b[1m625/625\u001b[0m \u001b[32m━━━━━━━━━━━━━━━━━━━━\u001b[0m\u001b[37m\u001b[0m \u001b[1m1s\u001b[0m 1ms/step - binary_accuracy: 0.8980 - loss: 0.2745 - val_binary_accuracy: 0.8756 - val_loss: 0.3070\n",
      "Epoch 9/10\n",
      "\u001b[1m625/625\u001b[0m \u001b[32m━━━━━━━━━━━━━━━━━━━━\u001b[0m\u001b[37m\u001b[0m \u001b[1m1s\u001b[0m 1ms/step - binary_accuracy: 0.9038 - loss: 0.2577 - val_binary_accuracy: 0.8780 - val_loss: 0.2998\n",
      "Epoch 10/10\n",
      "\u001b[1m625/625\u001b[0m \u001b[32m━━━━━━━━━━━━━━━━━━━━\u001b[0m\u001b[37m\u001b[0m \u001b[1m1s\u001b[0m 1ms/step - binary_accuracy: 0.9102 - loss: 0.2429 - val_binary_accuracy: 0.8764 - val_loss: 0.2965\n"
     ]
    }
   ],
   "source": [
    "epochs = 10\n",
    "history = model.fit(\n",
    "    train_ds,\n",
    "    validation_data=val_ds,\n",
    "    epochs=epochs)"
   ]
  },
  {
   "cell_type": "markdown",
   "metadata": {},
   "source": [
    "#### Evaluate the model\n",
    "Let's see how the model performs. Two values will be returned. Loss (a number which represents our error, lower values are better), and accuracy."
   ]
  },
  {
   "cell_type": "code",
   "execution_count": 39,
   "metadata": {},
   "outputs": [
    {
     "name": "stdout",
     "output_type": "stream",
     "text": [
      "\u001b[1m782/782\u001b[0m \u001b[32m━━━━━━━━━━━━━━━━━━━━\u001b[0m\u001b[37m\u001b[0m \u001b[1m11s\u001b[0m 14ms/step - binary_accuracy: 0.8698 - loss: 0.3178\n",
      "Loss:  0.3178550601005554\n",
      "Accuracy:  0.8700000047683716\n"
     ]
    }
   ],
   "source": [
    "loss, accuracy = model.evaluate(test_ds)\n",
    "\n",
    "print(\"Loss: \", loss)\n",
    "print(\"Accuracy: \", accuracy)"
   ]
  },
  {
   "cell_type": "markdown",
   "metadata": {},
   "source": [
    "#### Create a plot of accuracy and loss over time\n",
    "model.fit() returns a History object that contains a dictionary with everything that happened during training:"
   ]
  },
  {
   "cell_type": "code",
   "execution_count": 40,
   "metadata": {},
   "outputs": [
    {
     "data": {
      "text/plain": [
       "dict_keys(['binary_accuracy', 'loss', 'val_binary_accuracy', 'val_loss'])"
      ]
     },
     "execution_count": 40,
     "metadata": {},
     "output_type": "execute_result"
    }
   ],
   "source": [
    "history_dict = history.history\n",
    "history_dict.keys()"
   ]
  },
  {
   "cell_type": "markdown",
   "metadata": {},
   "source": [
    "There are four entries: one for each monitored metric during training and validation. You can use these to plot the training and validation loss for comparison, as well as the training and validation accuracy:"
   ]
  },
  {
   "cell_type": "code",
   "execution_count": 42,
   "metadata": {},
   "outputs": [
    {
     "data": {
      "image/png": "[encoded data removed]",
      "text/plain": [
       "<Figure size 800x800 with 2 Axes>"
      ]
     },
     "metadata": {},
     "output_type": "display_data"
    }
   ],
   "source": [
    "acc = history.history['binary_accuracy']\n",
    "val_acc = history.history['val_binary_accuracy']\n",
    "\n",
    "loss = history.history['loss']\n",
    "val_loss = history.history['val_loss']\n",
    "\n",
    "epochs_range = range(epochs)\n",
    "\n",
    "plt.figure(figsize=(8, 8))\n",
    "plt.subplot(1, 2, 1)\n",
    "plt.plot(epochs_range, acc, label='Training Accuracy')\n",
    "plt.plot(epochs_range, val_acc, label='Validation Accuracy')\n",
    "plt.legend(loc='lower right')\n",
    "plt.title('Training and Validation Accuracy')\n",
    "\n",
    "plt.subplot(1, 2, 2)\n",
    "plt.plot(epochs_range, loss, label='Training Loss')\n",
    "plt.plot(epochs_range, val_loss, label='Validation Loss')\n",
    "plt.legend(loc='upper right')\n",
    "plt.title('Training and Validation Loss')\n",
    "plt.show()"
   ]
  },
  {
   "cell_type": "markdown",
   "metadata": {},
   "source": [
    "Notice the training loss decreases with each epoch and the training accuracy increases with each epoch. This is expected when using a gradient descent optimization—it should minimize the desired quantity on every iteration.\n",
    "\n",
    "This isn't the case for the validation loss and accuracy—they seem to peak before the training accuracy. This is an example of overfitting: the model performs better on the training data than it does on data it has never seen before. After this point, the model over-optimizes and learns representations specific to the training data that do not generalize to test data.\n",
    "\n",
    "For this particular case, you could prevent overfitting by simply stopping the training when the validation accuracy is no longer increasing. One way to do so is to use the tf.keras.callbacks.EarlyStopping callback."
   ]
  },
  {
   "cell_type": "markdown",
   "metadata": {},
   "source": [
    "#### Export the model\n",
    "In the code above, you applied the TextVectorization layer to the dataset before feeding text to the model. If you want to make your model capable of processing raw strings (for example, to simplify deploying it), you can include the TextVectorization layer inside your model. To do so, you can create a new model using the weights you just trained."
   ]
  },
  {
   "cell_type": "code",
   "execution_count": 44,
   "metadata": {},
   "outputs": [
    {
     "name": "stdout",
     "output_type": "stream",
     "text": [
      "\u001b[1m782/782\u001b[0m \u001b[32m━━━━━━━━━━━━━━━━━━━━\u001b[0m\u001b[37m\u001b[0m \u001b[1m4s\u001b[0m 5ms/step - accuracy: 0.8700 - loss: 0.3174\n",
      "0.8700000047683716\n"
     ]
    }
   ],
   "source": [
    "#Original code\n",
    "'''\n",
    "export_model = tf.keras.Sequential([\n",
    "  vectorize_layer,\n",
    "  model,\n",
    "  layers.Activation('sigmoid')\n",
    "])\n",
    "'''\n",
    "#I removed the last layer as our original model already has an sigmoid activation dense layer, and it produced accuracy of 0.5\n",
    "\n",
    "export_model = tf.keras.Sequential([\n",
    "  vectorize_layer, #add vectorize layer\n",
    "  model\n",
    "])\n",
    "\n",
    "export_model.compile(\n",
    "    loss=losses.BinaryCrossentropy(from_logits=False), optimizer=\"adam\", metrics=['accuracy']\n",
    ")\n",
    "\n",
    "# Test it with `raw_test_ds`, which yields raw strings\n",
    "loss, accuracy = export_model.evaluate(raw_test_ds)\n",
    "print(accuracy)"
   ]
  },
  {
   "cell_type": "markdown",
   "metadata": {},
   "source": [
    "#### Inference on new data\n",
    "To get predictions for new examples, you can simply call model.predict()."
   ]
  },
  {
   "cell_type": "code",
   "execution_count": 49,
   "metadata": {},
   "outputs": [
    {
     "name": "stdout",
     "output_type": "stream",
     "text": [
      "\u001b[1m1/1\u001b[0m \u001b[32m━━━━━━━━━━━━━━━━━━━━\u001b[0m\u001b[37m\u001b[0m \u001b[1m0s\u001b[0m 13ms/step\n"
     ]
    },
    {
     "data": {
      "text/plain": [
       "array([[0.5814512 ],\n",
       "       [0.5887078 ],\n",
       "       [0.3075442 ],\n",
       "       [0.6023857 ],\n",
       "       [0.40036473]], dtype=float32)"
      ]
     },
     "execution_count": 49,
     "metadata": {},
     "output_type": "execute_result"
    }
   ],
   "source": [
    "examples = tf.constant([\n",
    "  \"The movie was great!\",\n",
    "  \"The movie was amazing.\",\n",
    "  \"The movie was terrible...\",\n",
    "  \"I loved it!\",\n",
    "  'I dont care.'\n",
    "])\n",
    "\n",
    "export_model.predict(examples)"
   ]
  },
  {
   "cell_type": "markdown",
   "metadata": {},
   "source": [
    "Keeping in mind our threshold is 0.5, we can see the results are relatively accurate."
   ]
  },
  {
   "cell_type": "markdown",
   "metadata": {},
   "source": [
    "Including the text preprocessing logic inside your model enables you to export a model for production that simplifies deployment, and reduces the potential for [train/test skew](https://developers.google.com/machine-learning/guides/rules-of-ml#training-serving_skew).\n",
    "\n",
    "There is a performance difference to keep in mind when choosing where to apply your TextVectorization layer. Using it outside of your model enables you to do asynchronous CPU processing and buffering of your data when training on GPU. So, if you're training your model on the GPU, you probably want to go with this option to get the best performance while developing your model, then switch to including the TextVectorization layer inside your model when you're ready to prepare for deployment.\n",
    "\n",
    "Visit this tutorial to learn more about [saving models](https://www.tensorflow.org/tutorials/keras/save_and_load)."
   ]
  }
 ],
 "metadata": {
  "kernelspec": {
   "display_name": "base",
   "language": "python",
   "name": "python3"
  },
  "language_info": {
   "codemirror_mode": {
    "name": "ipython",
    "version": 3
   },
   "file_extension": ".py",
   "mimetype": "text/x-python",
   "name": "python",
   "nbconvert_exporter": "python",
   "pygments_lexer": "ipython3",
   "version": "3.11.5"
  }
 },
 "nbformat": 4,
 "nbformat_minor": 2
}

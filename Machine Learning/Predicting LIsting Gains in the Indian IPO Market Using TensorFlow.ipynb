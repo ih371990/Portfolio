{
 "cells": [
  {
   "cell_type": "markdown",
   "metadata": {},
   "source": [
    "# Predicting Listing Gains in the Indian IPO Market Using TensorFlow"
   ]
  },
  {
   "cell_type": "markdown",
   "metadata": {},
   "source": [
    "#### Table of Contents\n",
    "* [Introduction](#1)\n",
    "* [Brief Data Overview](#2)\n",
    "* [Exploratory Data Analysis](#3)\n",
    "* [Outliers](#4)\n",
    "* [Setting the Target and Predictor Variables](#5)\n",
    "* [Training and Testing Sets](#6)\n",
    "* [Creating Deep Learning Neural Network](#7)\n",
    "* [Conclusion](#8)"
   ]
  },
  {
   "cell_type": "markdown",
   "metadata": {},
   "source": [
    "#### Introduction <a class='anchor' id='1'></a>"
   ]
  },
  {
   "cell_type": "markdown",
   "metadata": {},
   "source": [
    "In this project, we will build a deep learning classification model to determine if there will be lsiting gains for an Initial Public OFfering (IPO) in the Indian market. Listing gains are the percentage increase in the share price of a company from its IPO issue price.\n"
   ]
  },
  {
   "cell_type": "markdown",
   "metadata": {},
   "source": [
    "We will be using the data set from moneycontrol."
   ]
  },
  {
   "cell_type": "markdown",
   "metadata": {},
   "source": [
    "The data consists of following columns:\n",
    "\n",
    "- Date: date when the IPO was listed\n",
    "- IPOName: name of the IPO\n",
    "- Issue_Size: size of the IPO issue, in INR Crores\n",
    "- Subscription_QIB: number of times the IPO was subscribed by the QIB (Qualified Institutional Buyer) investor category\n",
    "- Subscription_HNI: number of times the IPO was subscribed by the HNI (High Networth Individual) investor category\n",
    "- Subscription_RII: number of times the IPO was subscribed by the RII (Retail Individual Investors) investor category\n",
    "- Subscription_Total: total number of times the IPO was subscribed overall\n",
    "- Issue_Price: the price in INR at which the IPO was issued\n",
    "- Listing_Gains_Percent: is the percentage gain in the listing price over the issue price"
   ]
  },
  {
   "cell_type": "markdown",
   "metadata": {},
   "source": [
    "#### Import Libraries"
   ]
  },
  {
   "cell_type": "code",
   "execution_count": 2,
   "metadata": {},
   "outputs": [],
   "source": [
    "import numpy as np, pandas as pd \n",
    "import seaborn as sns\n",
    "import matplotlib.pyplot as plt\n",
    "import tensorflow as tf\n",
    "\n",
    "from tensorflow import keras\n",
    "from tensorflow.keras import layers\n",
    "from sklearn.model_selection import train_test_split\n",
    "from sklearn.metrics import r2_score"
   ]
  },
  {
   "cell_type": "markdown",
   "metadata": {},
   "source": [
    "#### Import data set"
   ]
  },
  {
   "cell_type": "code",
   "execution_count": 3,
   "metadata": {},
   "outputs": [],
   "source": [
    "df = pd.read_csv(\"D:/DataQuest/Indian_IPO_Market_Data.csv\")"
   ]
  },
  {
   "cell_type": "markdown",
   "metadata": {},
   "source": [
    "#### Brief Data Overview <a class='anchor' id='2'></a>"
   ]
  },
  {
   "cell_type": "code",
   "execution_count": 4,
   "metadata": {},
   "outputs": [
    {
     "data": {
      "text/html": [
       "<div>\n",
       "<style scoped>\n",
       "    .dataframe tbody tr th:only-of-type {\n",
       "        vertical-align: middle;\n",
       "    }\n",
       "\n",
       "    .dataframe tbody tr th {\n",
       "        vertical-align: top;\n",
       "    }\n",
       "\n",
       "    .dataframe thead th {\n",
       "        text-align: right;\n",
       "    }\n",
       "</style>\n",
       "<table border=\"1\" class=\"dataframe\">\n",
       "  <thead>\n",
       "    <tr style=\"text-align: right;\">\n",
       "      <th></th>\n",
       "      <th>Date</th>\n",
       "      <th>IPOName</th>\n",
       "      <th>Issue_Size</th>\n",
       "      <th>Subscription_QIB</th>\n",
       "      <th>Subscription_HNI</th>\n",
       "      <th>Subscription_RII</th>\n",
       "      <th>Subscription_Total</th>\n",
       "      <th>Issue_Price</th>\n",
       "      <th>Listing_Gains_Percent</th>\n",
       "    </tr>\n",
       "  </thead>\n",
       "  <tbody>\n",
       "    <tr>\n",
       "      <th>0</th>\n",
       "      <td>03/02/10</td>\n",
       "      <td>Infinite Comp</td>\n",
       "      <td>189.80</td>\n",
       "      <td>48.44</td>\n",
       "      <td>106.02</td>\n",
       "      <td>11.08</td>\n",
       "      <td>43.22</td>\n",
       "      <td>165</td>\n",
       "      <td>11.82</td>\n",
       "    </tr>\n",
       "    <tr>\n",
       "      <th>1</th>\n",
       "      <td>08/02/10</td>\n",
       "      <td>Jubilant Food</td>\n",
       "      <td>328.70</td>\n",
       "      <td>59.39</td>\n",
       "      <td>51.95</td>\n",
       "      <td>3.79</td>\n",
       "      <td>31.11</td>\n",
       "      <td>145</td>\n",
       "      <td>-84.21</td>\n",
       "    </tr>\n",
       "    <tr>\n",
       "      <th>2</th>\n",
       "      <td>15/02/10</td>\n",
       "      <td>Syncom Health</td>\n",
       "      <td>56.25</td>\n",
       "      <td>0.99</td>\n",
       "      <td>16.60</td>\n",
       "      <td>6.25</td>\n",
       "      <td>5.17</td>\n",
       "      <td>75</td>\n",
       "      <td>17.13</td>\n",
       "    </tr>\n",
       "    <tr>\n",
       "      <th>3</th>\n",
       "      <td>15/02/10</td>\n",
       "      <td>Vascon Engineer</td>\n",
       "      <td>199.80</td>\n",
       "      <td>1.12</td>\n",
       "      <td>3.65</td>\n",
       "      <td>0.62</td>\n",
       "      <td>1.22</td>\n",
       "      <td>165</td>\n",
       "      <td>-11.28</td>\n",
       "    </tr>\n",
       "    <tr>\n",
       "      <th>4</th>\n",
       "      <td>19/02/10</td>\n",
       "      <td>Thangamayil</td>\n",
       "      <td>0.00</td>\n",
       "      <td>0.52</td>\n",
       "      <td>1.52</td>\n",
       "      <td>2.26</td>\n",
       "      <td>1.12</td>\n",
       "      <td>75</td>\n",
       "      <td>-5.20</td>\n",
       "    </tr>\n",
       "  </tbody>\n",
       "</table>\n",
       "</div>"
      ],
      "text/plain": [
       "      Date           IPOName  Issue_Size  Subscription_QIB  Subscription_HNI  \\\n",
       "0  03/02/10    Infinite Comp      189.80             48.44            106.02   \n",
       "1  08/02/10    Jubilant Food      328.70             59.39             51.95   \n",
       "2  15/02/10    Syncom Health       56.25              0.99             16.60   \n",
       "3  15/02/10  Vascon Engineer      199.80              1.12              3.65   \n",
       "4  19/02/10      Thangamayil        0.00              0.52              1.52   \n",
       "\n",
       "   Subscription_RII  Subscription_Total  Issue_Price  Listing_Gains_Percent  \n",
       "0             11.08               43.22          165                  11.82  \n",
       "1              3.79               31.11          145                 -84.21  \n",
       "2              6.25                5.17           75                  17.13  \n",
       "3              0.62                1.22          165                 -11.28  \n",
       "4              2.26                1.12           75                  -5.20  "
      ]
     },
     "execution_count": 4,
     "metadata": {},
     "output_type": "execute_result"
    }
   ],
   "source": [
    "df.head(5)"
   ]
  },
  {
   "cell_type": "code",
   "execution_count": 5,
   "metadata": {},
   "outputs": [
    {
     "data": {
      "text/html": [
       "<div>\n",
       "<style scoped>\n",
       "    .dataframe tbody tr th:only-of-type {\n",
       "        vertical-align: middle;\n",
       "    }\n",
       "\n",
       "    .dataframe tbody tr th {\n",
       "        vertical-align: top;\n",
       "    }\n",
       "\n",
       "    .dataframe thead th {\n",
       "        text-align: right;\n",
       "    }\n",
       "</style>\n",
       "<table border=\"1\" class=\"dataframe\">\n",
       "  <thead>\n",
       "    <tr style=\"text-align: right;\">\n",
       "      <th></th>\n",
       "      <th>Date</th>\n",
       "      <th>IPOName</th>\n",
       "      <th>Issue_Size</th>\n",
       "      <th>Subscription_QIB</th>\n",
       "      <th>Subscription_HNI</th>\n",
       "      <th>Subscription_RII</th>\n",
       "      <th>Subscription_Total</th>\n",
       "      <th>Issue_Price</th>\n",
       "      <th>Listing_Gains_Percent</th>\n",
       "    </tr>\n",
       "  </thead>\n",
       "  <tbody>\n",
       "    <tr>\n",
       "      <th>314</th>\n",
       "      <td>26/08/22</td>\n",
       "      <td>Syrma SGS</td>\n",
       "      <td>840.13</td>\n",
       "      <td>42.42</td>\n",
       "      <td>7.13</td>\n",
       "      <td>2.84</td>\n",
       "      <td>15.59</td>\n",
       "      <td>220</td>\n",
       "      <td>42.30</td>\n",
       "    </tr>\n",
       "    <tr>\n",
       "      <th>315</th>\n",
       "      <td>06/09/22</td>\n",
       "      <td>Dreamfolks Serv</td>\n",
       "      <td>562.10</td>\n",
       "      <td>27.48</td>\n",
       "      <td>14.18</td>\n",
       "      <td>24.19</td>\n",
       "      <td>23.25</td>\n",
       "      <td>326</td>\n",
       "      <td>41.92</td>\n",
       "    </tr>\n",
       "    <tr>\n",
       "      <th>316</th>\n",
       "      <td>15/09/22</td>\n",
       "      <td>TMB</td>\n",
       "      <td>792.00</td>\n",
       "      <td>0.51</td>\n",
       "      <td>1.77</td>\n",
       "      <td>3.44</td>\n",
       "      <td>1.39</td>\n",
       "      <td>525</td>\n",
       "      <td>-3.15</td>\n",
       "    </tr>\n",
       "    <tr>\n",
       "      <th>317</th>\n",
       "      <td>26/09/22</td>\n",
       "      <td>Harsha Engineer</td>\n",
       "      <td>755.00</td>\n",
       "      <td>113.82</td>\n",
       "      <td>40.36</td>\n",
       "      <td>12.44</td>\n",
       "      <td>47.19</td>\n",
       "      <td>330</td>\n",
       "      <td>47.24</td>\n",
       "    </tr>\n",
       "    <tr>\n",
       "      <th>318</th>\n",
       "      <td>17/10/22</td>\n",
       "      <td>Electronics Mar</td>\n",
       "      <td>500.00</td>\n",
       "      <td>58.81</td>\n",
       "      <td>15.39</td>\n",
       "      <td>8.27</td>\n",
       "      <td>24.23</td>\n",
       "      <td>59</td>\n",
       "      <td>43.14</td>\n",
       "    </tr>\n",
       "  </tbody>\n",
       "</table>\n",
       "</div>"
      ],
      "text/plain": [
       "        Date           IPOName  Issue_Size  Subscription_QIB  \\\n",
       "314  26/08/22        Syrma SGS      840.13             42.42   \n",
       "315  06/09/22  Dreamfolks Serv      562.10             27.48   \n",
       "316  15/09/22              TMB      792.00              0.51   \n",
       "317  26/09/22  Harsha Engineer      755.00            113.82   \n",
       "318  17/10/22  Electronics Mar      500.00             58.81   \n",
       "\n",
       "     Subscription_HNI  Subscription_RII  Subscription_Total  Issue_Price  \\\n",
       "314              7.13              2.84               15.59          220   \n",
       "315             14.18             24.19               23.25          326   \n",
       "316              1.77              3.44                1.39          525   \n",
       "317             40.36             12.44               47.19          330   \n",
       "318             15.39              8.27               24.23           59   \n",
       "\n",
       "     Listing_Gains_Percent  \n",
       "314                  42.30  \n",
       "315                  41.92  \n",
       "316                  -3.15  \n",
       "317                  47.24  \n",
       "318                  43.14  "
      ]
     },
     "execution_count": 5,
     "metadata": {},
     "output_type": "execute_result"
    }
   ],
   "source": [
    "df.tail(5)"
   ]
  },
  {
   "cell_type": "code",
   "execution_count": 6,
   "metadata": {},
   "outputs": [
    {
     "name": "stdout",
     "output_type": "stream",
     "text": [
      "<class 'pandas.core.frame.DataFrame'>\n",
      "RangeIndex: 319 entries, 0 to 318\n",
      "Data columns (total 9 columns):\n",
      " #   Column                 Non-Null Count  Dtype  \n",
      "---  ------                 --------------  -----  \n",
      " 0   Date                   319 non-null    object \n",
      " 1   IPOName                319 non-null    object \n",
      " 2   Issue_Size             319 non-null    float64\n",
      " 3   Subscription_QIB       319 non-null    float64\n",
      " 4   Subscription_HNI       319 non-null    float64\n",
      " 5   Subscription_RII       319 non-null    float64\n",
      " 6   Subscription_Total     319 non-null    float64\n",
      " 7   Issue_Price            319 non-null    int64  \n",
      " 8   Listing_Gains_Percent  319 non-null    float64\n",
      "dtypes: float64(6), int64(1), object(2)\n",
      "memory usage: 22.6+ KB\n"
     ]
    }
   ],
   "source": [
    "df.info()"
   ]
  },
  {
   "cell_type": "code",
   "execution_count": 7,
   "metadata": {},
   "outputs": [
    {
     "data": {
      "text/plain": [
       "Date                     0\n",
       "IPOName                  0\n",
       "Issue_Size               0\n",
       "Subscription_QIB         0\n",
       "Subscription_HNI         0\n",
       "Subscription_RII         0\n",
       "Subscription_Total       0\n",
       "Issue_Price              0\n",
       "Listing_Gains_Percent    0\n",
       "dtype: int64"
      ]
     },
     "execution_count": 7,
     "metadata": {},
     "output_type": "execute_result"
    }
   ],
   "source": [
    "df.isnull().sum()"
   ]
  },
  {
   "cell_type": "markdown",
   "metadata": {},
   "source": [
    "There are no null values."
   ]
  },
  {
   "cell_type": "code",
   "execution_count": 8,
   "metadata": {},
   "outputs": [
    {
     "data": {
      "text/html": [
       "<div>\n",
       "<style scoped>\n",
       "    .dataframe tbody tr th:only-of-type {\n",
       "        vertical-align: middle;\n",
       "    }\n",
       "\n",
       "    .dataframe tbody tr th {\n",
       "        vertical-align: top;\n",
       "    }\n",
       "\n",
       "    .dataframe thead th {\n",
       "        text-align: right;\n",
       "    }\n",
       "</style>\n",
       "<table border=\"1\" class=\"dataframe\">\n",
       "  <thead>\n",
       "    <tr style=\"text-align: right;\">\n",
       "      <th></th>\n",
       "      <th>Issue_Size</th>\n",
       "      <th>Subscription_QIB</th>\n",
       "      <th>Subscription_HNI</th>\n",
       "      <th>Subscription_RII</th>\n",
       "      <th>Subscription_Total</th>\n",
       "      <th>Issue_Price</th>\n",
       "      <th>Listing_Gains_Percent</th>\n",
       "    </tr>\n",
       "  </thead>\n",
       "  <tbody>\n",
       "    <tr>\n",
       "      <th>count</th>\n",
       "      <td>319.000000</td>\n",
       "      <td>319.000000</td>\n",
       "      <td>319.000000</td>\n",
       "      <td>319.000000</td>\n",
       "      <td>319.000000</td>\n",
       "      <td>319.000000</td>\n",
       "      <td>319.000000</td>\n",
       "    </tr>\n",
       "    <tr>\n",
       "      <th>mean</th>\n",
       "      <td>1192.859969</td>\n",
       "      <td>25.684138</td>\n",
       "      <td>70.091379</td>\n",
       "      <td>8.561599</td>\n",
       "      <td>27.447147</td>\n",
       "      <td>375.128527</td>\n",
       "      <td>4.742696</td>\n",
       "    </tr>\n",
       "    <tr>\n",
       "      <th>std</th>\n",
       "      <td>2384.643786</td>\n",
       "      <td>40.716782</td>\n",
       "      <td>142.454416</td>\n",
       "      <td>14.508670</td>\n",
       "      <td>48.772203</td>\n",
       "      <td>353.897614</td>\n",
       "      <td>47.650946</td>\n",
       "    </tr>\n",
       "    <tr>\n",
       "      <th>min</th>\n",
       "      <td>0.000000</td>\n",
       "      <td>0.000000</td>\n",
       "      <td>0.000000</td>\n",
       "      <td>0.000000</td>\n",
       "      <td>0.000000</td>\n",
       "      <td>0.000000</td>\n",
       "      <td>-97.150000</td>\n",
       "    </tr>\n",
       "    <tr>\n",
       "      <th>25%</th>\n",
       "      <td>169.005000</td>\n",
       "      <td>1.150000</td>\n",
       "      <td>1.255000</td>\n",
       "      <td>1.275000</td>\n",
       "      <td>1.645000</td>\n",
       "      <td>119.000000</td>\n",
       "      <td>-11.555000</td>\n",
       "    </tr>\n",
       "    <tr>\n",
       "      <th>50%</th>\n",
       "      <td>496.250000</td>\n",
       "      <td>4.940000</td>\n",
       "      <td>5.070000</td>\n",
       "      <td>3.420000</td>\n",
       "      <td>4.930000</td>\n",
       "      <td>250.000000</td>\n",
       "      <td>1.810000</td>\n",
       "    </tr>\n",
       "    <tr>\n",
       "      <th>75%</th>\n",
       "      <td>1100.000000</td>\n",
       "      <td>34.635000</td>\n",
       "      <td>62.095000</td>\n",
       "      <td>8.605000</td>\n",
       "      <td>33.395000</td>\n",
       "      <td>536.000000</td>\n",
       "      <td>25.310000</td>\n",
       "    </tr>\n",
       "    <tr>\n",
       "      <th>max</th>\n",
       "      <td>21000.000000</td>\n",
       "      <td>215.450000</td>\n",
       "      <td>958.070000</td>\n",
       "      <td>119.440000</td>\n",
       "      <td>326.490000</td>\n",
       "      <td>2150.000000</td>\n",
       "      <td>270.400000</td>\n",
       "    </tr>\n",
       "  </tbody>\n",
       "</table>\n",
       "</div>"
      ],
      "text/plain": [
       "         Issue_Size  Subscription_QIB  Subscription_HNI  Subscription_RII  \\\n",
       "count    319.000000        319.000000        319.000000        319.000000   \n",
       "mean    1192.859969         25.684138         70.091379          8.561599   \n",
       "std     2384.643786         40.716782        142.454416         14.508670   \n",
       "min        0.000000          0.000000          0.000000          0.000000   \n",
       "25%      169.005000          1.150000          1.255000          1.275000   \n",
       "50%      496.250000          4.940000          5.070000          3.420000   \n",
       "75%     1100.000000         34.635000         62.095000          8.605000   \n",
       "max    21000.000000        215.450000        958.070000        119.440000   \n",
       "\n",
       "       Subscription_Total  Issue_Price  Listing_Gains_Percent  \n",
       "count          319.000000   319.000000             319.000000  \n",
       "mean            27.447147   375.128527               4.742696  \n",
       "std             48.772203   353.897614              47.650946  \n",
       "min              0.000000     0.000000             -97.150000  \n",
       "25%              1.645000   119.000000             -11.555000  \n",
       "50%              4.930000   250.000000               1.810000  \n",
       "75%             33.395000   536.000000              25.310000  \n",
       "max            326.490000  2150.000000             270.400000  "
      ]
     },
     "execution_count": 8,
     "metadata": {},
     "output_type": "execute_result"
    }
   ],
   "source": [
    "df.describe()"
   ]
  },
  {
   "cell_type": "markdown",
   "metadata": {},
   "source": [
    "#### Exploratory Data Analysis <a class='anchor' id='3'></a>"
   ]
  },
  {
   "cell_type": "code",
   "execution_count": 9,
   "metadata": {},
   "outputs": [
    {
     "data": {
      "text/plain": [
       "Listing_Gains_Profit\n",
       "1    0.545455\n",
       "0    0.454545\n",
       "Name: proportion, dtype: float64"
      ]
     },
     "execution_count": 9,
     "metadata": {},
     "output_type": "execute_result"
    }
   ],
   "source": [
    "#Create categorical target variable for our classification model, profit gain positive = 1, else 0\n",
    "df['Listing_Gains_Profit'] = df['Listing_Gains_Percent'].apply(lambda x: 1 if x > 0 else 0)\n",
    "df['Listing_Gains_Profit'].value_counts(normalize=True)"
   ]
  },
  {
   "cell_type": "markdown",
   "metadata": {},
   "source": [
    "Data set for target variable is balanced."
   ]
  },
  {
   "cell_type": "markdown",
   "metadata": {},
   "source": [
    "As date and name is not relevant to our model, we will remove these columns."
   ]
  },
  {
   "cell_type": "code",
   "execution_count": 10,
   "metadata": {},
   "outputs": [
    {
     "data": {
      "text/plain": [
       "Index(['Date ', 'IPOName', 'Issue_Size', 'Subscription_QIB',\n",
       "       'Subscription_HNI', 'Subscription_RII', 'Subscription_Total',\n",
       "       'Issue_Price', 'Listing_Gains_Percent', 'Listing_Gains_Profit'],\n",
       "      dtype='object')"
      ]
     },
     "execution_count": 10,
     "metadata": {},
     "output_type": "execute_result"
    }
   ],
   "source": [
    "df.columns"
   ]
  },
  {
   "cell_type": "code",
   "execution_count": 11,
   "metadata": {},
   "outputs": [],
   "source": [
    "df_new = df.drop(['Date ','IPOName'], axis=1)"
   ]
  },
  {
   "cell_type": "code",
   "execution_count": 12,
   "metadata": {},
   "outputs": [
    {
     "data": {
      "image/png": "[encoded data removed]",
      "text/plain": [
       "<Figure size 640x480 with 1 Axes>"
      ]
     },
     "metadata": {},
     "output_type": "display_data"
    }
   ],
   "source": [
    "#Visualize Frequency Plot of Target Variable\n",
    "sns.countplot(data=df_new, x='Listing_Gains_Profit', hue='Listing_Gains_Profit',legend=False)\n",
    "plt.title('Frequency Plot of Listing_Gains_Profit')\n",
    "plt.show()"
   ]
  },
  {
   "cell_type": "code",
   "execution_count": 13,
   "metadata": {},
   "outputs": [
    {
     "data": {
      "image/png": "[encoded data removed]",
      "text/plain": [
       "<Figure size 640x480 with 1 Axes>"
      ]
     },
     "metadata": {},
     "output_type": "display_data"
    }
   ],
   "source": [
    "#Explore Continuous Data Types using Boxplots\n",
    "numeric = df_new.select_dtypes(exclude='object')\n",
    "\n",
    "numeric.boxplot()\n",
    "plt.xticks(rotation=45)\n",
    "plt.show()"
   ]
  },
  {
   "cell_type": "code",
   "execution_count": 14,
   "metadata": {},
   "outputs": [
    {
     "name": "stdout",
     "output_type": "stream",
     "text": [
      "The Issue_Size column has [34] outliers according to the boxplot method.\n",
      "The Subscription_QIB column has [35] outliers according to the boxplot method.\n",
      "The Subscription_HNI column has [48] outliers according to the boxplot method.\n",
      "The Subscription_RII column has [33] outliers according to the boxplot method.\n",
      "The Subscription_Total column has [31] outliers according to the boxplot method.\n",
      "The Issue_Price column has [12] outliers according to the boxplot method.\n",
      "The Listing_Gains_Percent column has [46] outliers according to the boxplot method.\n",
      "The Listing_Gains_Profit column has [0] outliers according to the boxplot method.\n"
     ]
    }
   ],
   "source": [
    "for col in numeric:\n",
    "\n",
    "    quartiles = np.percentile(numeric[col], [25, 50, 75])\n",
    "    iqr = quartiles[2] - quartiles[0]\n",
    "    lower_bound = quartiles[0] - (1.5 * iqr)\n",
    "    upper_bound = quartiles[2] + (1.5 * iqr)\n",
    "    num_outliers =sum((numeric[col] < lower_bound) | (numeric[col] > upper_bound))\n",
    "\n",
    "    print(f\"The {col} column has [{num_outliers}] outliers according to the boxplot method.\")"
   ]
  },
  {
   "cell_type": "markdown",
   "metadata": {},
   "source": [
    "We will deal with these outliers later."
   ]
  },
  {
   "cell_type": "code",
   "execution_count": 15,
   "metadata": {},
   "outputs": [],
   "source": [
    "#Checking for relationship between target and predictors\n",
    "numeric = numeric.drop(['Listing_Gains_Percent'], axis=1)"
   ]
  },
  {
   "cell_type": "code",
   "execution_count": 16,
   "metadata": {},
   "outputs": [
    {
     "data": {
      "image/png": "[encoded data removed]",
      "text/plain": [
       "<Figure size 1200x1000 with 6 Axes>"
      ]
     },
     "metadata": {},
     "output_type": "display_data"
    }
   ],
   "source": [
    "fig, ax = plt.subplots(3,2, figsize=(12,10))\n",
    "ax = ax.flatten()\n",
    "for i, cat in enumerate(numeric):\n",
    "    if cat == 'Listing_Gains_Profit':\n",
    "        break\n",
    "    else:\n",
    "        sns.histplot(x=cat, data=numeric, hue='Listing_Gains_Profit', bins=10, ax=ax[i])\n",
    "        ax[i].set_title(f\"Boxplot: {cat}\", fontsize=14, weight='bold')\n",
    "\n",
    "plt.tight_layout()\n",
    "plt.show()"
   ]
  },
  {
   "cell_type": "markdown",
   "metadata": {},
   "source": [
    "We see the distribution patterns for the variables are relatively similar in pattern across variables. We do note slight differences between IPOs with profit vs loss. The IPO with profit tend to have higher subscription and issue prices can be higher."
   ]
  },
  {
   "cell_type": "code",
   "execution_count": 17,
   "metadata": {},
   "outputs": [
    {
     "data": {
      "text/plain": [
       "Listing_Gains_Profit    1.000000\n",
       "Subscription_QIB        0.323499\n",
       "Subscription_Total      0.283340\n",
       "Subscription_HNI        0.271879\n",
       "Subscription_RII        0.240842\n",
       "Issue_Price             0.039548\n",
       "Issue_Size              0.004717\n",
       "Name: Listing_Gains_Profit, dtype: float64"
      ]
     },
     "execution_count": 17,
     "metadata": {},
     "output_type": "execute_result"
    }
   ],
   "source": [
    "#Let's check correlation between the variables.\n",
    "corr_matrix = numeric.corr()\n",
    "corr_matrix['Listing_Gains_Profit'].sort_values(ascending=False)"
   ]
  },
  {
   "cell_type": "code",
   "execution_count": 18,
   "metadata": {},
   "outputs": [
    {
     "data": {
      "text/plain": [
       "<Axes: >"
      ]
     },
     "execution_count": 18,
     "metadata": {},
     "output_type": "execute_result"
    },
    {
     "data": {
      "image/png": "[encoded data removed]",
      "text/plain": [
       "<Figure size 640x480 with 2 Axes>"
      ]
     },
     "metadata": {},
     "output_type": "display_data"
    }
   ],
   "source": [
    "#Heatmap of our predictor and target\n",
    "sns.heatmap(corr_matrix,cmap=\"Blues\", annot=True)"
   ]
  },
  {
   "cell_type": "markdown",
   "metadata": {},
   "source": [
    "We see very high correlation between the different subscription predictors, especially subscription total in relation with the other subscription variables. This is not surprising. "
   ]
  },
  {
   "cell_type": "code",
   "execution_count": 19,
   "metadata": {},
   "outputs": [
    {
     "data": {
      "image/png": "[encoded data removed]",
      "text/plain": [
       "<Figure size 1200x300 with 2 Axes>"
      ]
     },
     "metadata": {},
     "output_type": "display_data"
    }
   ],
   "source": [
    "#Looking specifically at our target variable\n",
    "fig, ax = plt.subplots(figsize=(12,3))\n",
    "\n",
    "sns.heatmap(\n",
    "    corr_matrix.loc[['Listing_Gains_Profit']],\n",
    "    cmap='Blues',\n",
    "    annot=True,\n",
    "    ax=ax,\n",
    "    linewidth = 1, \n",
    "    square =True,\n",
    ")\n",
    "\n",
    "plt.title('Correlation Matrix')\n",
    "plt.tight_layout()\n",
    "plt.show()"
   ]
  },
  {
   "cell_type": "markdown",
   "metadata": {},
   "source": [
    "Only qualified institutional buyer seem to have high correlation (>0.30) to listing profit gains."
   ]
  },
  {
   "cell_type": "markdown",
   "metadata": {},
   "source": [
    "#### Outliers <a class='anchor' id='4'></a>"
   ]
  },
  {
   "cell_type": "code",
   "execution_count": 20,
   "metadata": {},
   "outputs": [
    {
     "name": "stdout",
     "output_type": "stream",
     "text": [
      "The Issue_Size column has [34] outliers according to the boxplot method.\n",
      "The Subscription_QIB column has [35] outliers according to the boxplot method.\n",
      "The Subscription_HNI column has [48] outliers according to the boxplot method.\n",
      "The Subscription_RII column has [33] outliers according to the boxplot method.\n",
      "The Subscription_Total column has [31] outliers according to the boxplot method.\n",
      "The Issue_Price column has [12] outliers according to the boxplot method.\n",
      "The Listing_Gains_Profit column has [0] outliers according to the boxplot method.\n"
     ]
    }
   ],
   "source": [
    "for col in numeric:\n",
    "\n",
    "    quartiles = np.percentile(numeric[col], [25, 50, 75])\n",
    "    iqr = quartiles[2] - quartiles[0]\n",
    "    lower_bound = quartiles[0] - (1.5 * iqr)\n",
    "    upper_bound = quartiles[2] + (1.5 * iqr)\n",
    "    num_outliers =sum((numeric[col] < lower_bound) | (numeric[col] > upper_bound))\n",
    "\n",
    "    print(f\"The {col} column has [{num_outliers}] outliers according to the boxplot method.\")"
   ]
  },
  {
   "cell_type": "markdown",
   "metadata": {},
   "source": [
    "It looks like there is quite a lot of outliers in our data (total data size = 319)."
   ]
  },
  {
   "cell_type": "code",
   "execution_count": 21,
   "metadata": {},
   "outputs": [
    {
     "name": "stdout",
     "output_type": "stream",
     "text": [
      "Issue_Size: -1227.4875000000002 to 2496.4925000000003\n",
      "Series([], Name: Issue_Size, dtype: float64)\n",
      "53     15475.00\n",
      "105     4533.60\n",
      "129     3000.00\n",
      "151     6057.00\n",
      "154     3000.00\n",
      "180     5700.94\n",
      "181     8400.00\n",
      "185    11372.00\n",
      "189     8695.01\n",
      "200     4473.00\n",
      "201     4229.00\n",
      "203     4016.00\n",
      "213     4750.00\n",
      "218     3125.00\n",
      "223    10286.20\n",
      "233     6479.55\n",
      "237     4633.00\n",
      "253     2500.00\n",
      "254     7734.99\n",
      "255     5550.00\n",
      "262     9375.00\n",
      "270     2998.00\n",
      "271     5089.29\n",
      "272     3929.91\n",
      "273     2790.00\n",
      "278     2768.00\n",
      "279     5375.00\n",
      "281     6273.50\n",
      "284    18915.90\n",
      "288     7318.15\n",
      "300     3600.00\n",
      "301     3149.00\n",
      "307    21000.00\n",
      "310     5235.00\n",
      "Name: Issue_Size, dtype: float64\n",
      "--------------------------------\n",
      "Subscription_QIB: -49.07750000000001 to 84.86250000000001\n",
      "Series([], Name: Subscription_QIB, dtype: float64)\n",
      "11      96.06\n",
      "13      93.86\n",
      "16     144.43\n",
      "145     94.03\n",
      "148     85.08\n",
      "160    144.61\n",
      "169    148.71\n",
      "176    134.66\n",
      "179    131.32\n",
      "183    150.96\n",
      "186    118.41\n",
      "192    103.35\n",
      "193    101.93\n",
      "195    174.99\n",
      "219    108.79\n",
      "221    110.72\n",
      "226     89.76\n",
      "227    113.54\n",
      "231     89.71\n",
      "234     86.64\n",
      "235    176.85\n",
      "238     96.21\n",
      "257     84.88\n",
      "260     93.18\n",
      "261    156.37\n",
      "265    143.58\n",
      "269     95.27\n",
      "275     86.64\n",
      "277     90.48\n",
      "279     91.18\n",
      "286    145.48\n",
      "289    215.45\n",
      "293    196.36\n",
      "295    190.86\n",
      "317    113.82\n",
      "Name: Subscription_QIB, dtype: float64\n",
      "--------------------------------\n",
      "Subscription_HNI: -90.005 to 153.355\n",
      "Series([], Name: Subscription_HNI, dtype: float64)\n",
      "13     272.88\n",
      "54     182.52\n",
      "108    159.04\n",
      "109    221.79\n",
      "110    251.35\n",
      "116    250.86\n",
      "135    185.24\n",
      "139    225.30\n",
      "142    191.61\n",
      "143    392.21\n",
      "145    393.10\n",
      "148    198.06\n",
      "150    217.47\n",
      "158    159.03\n",
      "160    277.74\n",
      "163    204.65\n",
      "164    330.36\n",
      "169    563.03\n",
      "172    487.18\n",
      "174    288.87\n",
      "176    345.62\n",
      "179    638.05\n",
      "183    236.04\n",
      "186    209.44\n",
      "192    396.99\n",
      "193    958.07\n",
      "195    519.26\n",
      "205    194.56\n",
      "219    354.52\n",
      "221    473.00\n",
      "225    351.46\n",
      "226    192.81\n",
      "227    449.14\n",
      "231    678.88\n",
      "234    354.11\n",
      "235    620.86\n",
      "244    522.35\n",
      "256    172.51\n",
      "261    206.43\n",
      "265    360.11\n",
      "269    213.06\n",
      "275    154.81\n",
      "277    435.14\n",
      "286    850.66\n",
      "289    666.19\n",
      "293    424.69\n",
      "295    254.22\n",
      "297    161.22\n",
      "Name: Subscription_HNI, dtype: float64\n",
      "--------------------------------\n",
      "Subscription_RII: -9.72 to 19.6\n",
      "Series([], Name: Subscription_RII, dtype: float64)\n",
      "16      21.69\n",
      "38      31.74\n",
      "54      37.34\n",
      "65      20.84\n",
      "95      24.14\n",
      "109     41.26\n",
      "143     31.23\n",
      "169     23.83\n",
      "172     58.59\n",
      "192     77.93\n",
      "193     40.19\n",
      "221     49.09\n",
      "225     70.94\n",
      "227     41.21\n",
      "231     35.63\n",
      "234     68.15\n",
      "235     29.33\n",
      "240     26.04\n",
      "241     74.29\n",
      "251     34.49\n",
      "265     24.49\n",
      "266     24.27\n",
      "267     40.10\n",
      "268     42.04\n",
      "269     39.52\n",
      "277     61.42\n",
      "282     41.26\n",
      "286    119.44\n",
      "289     29.44\n",
      "295     23.14\n",
      "296     81.24\n",
      "297     56.01\n",
      "315     24.19\n",
      "Name: Subscription_RII, dtype: float64\n",
      "--------------------------------\n",
      "Subscription_Total: -45.97999999999999 to 81.01999999999998\n",
      "Series([], Name: Subscription_Total, dtype: float64)\n",
      "13      86.33\n",
      "16      93.60\n",
      "143    143.99\n",
      "145    116.02\n",
      "160    104.48\n",
      "169    170.16\n",
      "172    277.28\n",
      "176    117.27\n",
      "179    183.03\n",
      "183     95.41\n",
      "186     81.33\n",
      "192    243.29\n",
      "193    248.51\n",
      "195    165.42\n",
      "219    111.95\n",
      "221    165.68\n",
      "225    150.98\n",
      "227    149.33\n",
      "231    157.41\n",
      "234    156.65\n",
      "235    198.02\n",
      "244    133.18\n",
      "261     93.41\n",
      "265    130.44\n",
      "269    116.71\n",
      "277    150.07\n",
      "279     81.78\n",
      "286    326.49\n",
      "289    219.04\n",
      "293    154.71\n",
      "295    119.62\n",
      "Name: Subscription_Total, dtype: float64\n",
      "--------------------------------\n",
      "Issue_Price: -506.5 to 1161.5\n",
      "Series([], Name: Issue_Price, dtype: int64)\n",
      "44     1310\n",
      "176    1766\n",
      "184    1650\n",
      "196    1480\n",
      "201    1215\n",
      "228    1230\n",
      "233    1500\n",
      "238    1490\n",
      "248    1490\n",
      "270    1618\n",
      "284    2150\n",
      "285    1180\n",
      "Name: Issue_Price, dtype: int64\n",
      "--------------------------------\n",
      "Listing_Gains_Profit: -1.5 to 2.5\n",
      "Series([], Name: Listing_Gains_Profit, dtype: int64)\n",
      "Series([], Name: Listing_Gains_Profit, dtype: int64)\n",
      "--------------------------------\n"
     ]
    }
   ],
   "source": [
    "#Let's take a look at the outliers\n",
    "for col in numeric:\n",
    "    quartiles = np.percentile(numeric[col], [25, 50, 75])\n",
    "    iqr = quartiles[2] - quartiles[0]\n",
    "    lower_bound = quartiles[0] - (1.5 * iqr)\n",
    "    upper_bound = quartiles[2] + (1.5 * iqr)\n",
    "    print(f'{col}: {lower_bound} to {upper_bound}')\n",
    "    print(numeric[numeric[col] < lower_bound][col])\n",
    "    print(numeric[numeric[col] > upper_bound][col])\n",
    "    print('--------------------------------')\n"
   ]
  },
  {
   "cell_type": "markdown",
   "metadata": {},
   "source": [
    "For our outliers, we will assign the lower bound value to outliers below the lower bound and upper bound value to the outliers above the upper bound."
   ]
  },
  {
   "cell_type": "code",
   "execution_count": 38,
   "metadata": {},
   "outputs": [
    {
     "name": "stdout",
     "output_type": "stream",
     "text": [
      "The Issue_Size column has [0] outliers according to the boxplot method.\n",
      "The Subscription_QIB column has [0] outliers according to the boxplot method.\n",
      "The Subscription_HNI column has [0] outliers according to the boxplot method.\n",
      "The Subscription_RII column has [0] outliers according to the boxplot method.\n",
      "The Subscription_Total column has [0] outliers according to the boxplot method.\n",
      "The Issue_Price column has [0] outliers according to the boxplot method.\n",
      "The Listing_Gains_Profit column has [0] outliers according to the boxplot method.\n"
     ]
    }
   ],
   "source": [
    "for col in numeric:\n",
    "    quartiles = np.percentile(numeric[col], [25, 50, 75]).astype(float)\n",
    "    iqr = quartiles[2] - quartiles[0]\n",
    "    upper_bound = quartiles[2] + (1.5 * iqr)\n",
    "    numeric.loc[numeric[col] > upper_bound, col] = upper_bound\n",
    "    num_outliers = sum((numeric[col] > upper_bound))\n",
    "    print(f\"The {col} column has [{num_outliers}] outliers according to the boxplot method.\")"
   ]
  },
  {
   "cell_type": "code",
   "execution_count": 23,
   "metadata": {},
   "outputs": [
    {
     "name": "stdout",
     "output_type": "stream",
     "text": [
      "<class 'pandas.core.frame.DataFrame'>\n",
      "RangeIndex: 319 entries, 0 to 318\n",
      "Data columns (total 7 columns):\n",
      " #   Column                Non-Null Count  Dtype  \n",
      "---  ------                --------------  -----  \n",
      " 0   Issue_Size            319 non-null    float64\n",
      " 1   Subscription_QIB      319 non-null    float64\n",
      " 2   Subscription_HNI      319 non-null    float64\n",
      " 3   Subscription_RII      319 non-null    float64\n",
      " 4   Subscription_Total    319 non-null    float64\n",
      " 5   Issue_Price           319 non-null    float64\n",
      " 6   Listing_Gains_Profit  319 non-null    float64\n",
      "dtypes: float64(7)\n",
      "memory usage: 17.6 KB\n"
     ]
    }
   ],
   "source": [
    "numeric.info()"
   ]
  },
  {
   "cell_type": "code",
   "execution_count": 24,
   "metadata": {},
   "outputs": [
    {
     "data": {
      "text/html": [
       "<div>\n",
       "<style scoped>\n",
       "    .dataframe tbody tr th:only-of-type {\n",
       "        vertical-align: middle;\n",
       "    }\n",
       "\n",
       "    .dataframe tbody tr th {\n",
       "        vertical-align: top;\n",
       "    }\n",
       "\n",
       "    .dataframe thead th {\n",
       "        text-align: right;\n",
       "    }\n",
       "</style>\n",
       "<table border=\"1\" class=\"dataframe\">\n",
       "  <thead>\n",
       "    <tr style=\"text-align: right;\">\n",
       "      <th></th>\n",
       "      <th>Issue_Size</th>\n",
       "      <th>Subscription_QIB</th>\n",
       "      <th>Subscription_HNI</th>\n",
       "      <th>Subscription_RII</th>\n",
       "      <th>Subscription_Total</th>\n",
       "      <th>Issue_Price</th>\n",
       "      <th>Listing_Gains_Profit</th>\n",
       "    </tr>\n",
       "  </thead>\n",
       "  <tbody>\n",
       "    <tr>\n",
       "      <th>count</th>\n",
       "      <td>319.000000</td>\n",
       "      <td>319.000000</td>\n",
       "      <td>319.000000</td>\n",
       "      <td>319.000000</td>\n",
       "      <td>319.000000</td>\n",
       "      <td>319.000000</td>\n",
       "      <td>319.000000</td>\n",
       "    </tr>\n",
       "    <tr>\n",
       "      <th>mean</th>\n",
       "      <td>763.561238</td>\n",
       "      <td>21.521183</td>\n",
       "      <td>40.356426</td>\n",
       "      <td>6.060940</td>\n",
       "      <td>20.456646</td>\n",
       "      <td>362.147335</td>\n",
       "      <td>0.545455</td>\n",
       "    </tr>\n",
       "    <tr>\n",
       "      <th>std</th>\n",
       "      <td>769.689122</td>\n",
       "      <td>29.104549</td>\n",
       "      <td>57.427921</td>\n",
       "      <td>6.176882</td>\n",
       "      <td>27.217740</td>\n",
       "      <td>312.272967</td>\n",
       "      <td>0.498712</td>\n",
       "    </tr>\n",
       "    <tr>\n",
       "      <th>min</th>\n",
       "      <td>0.000000</td>\n",
       "      <td>0.000000</td>\n",
       "      <td>0.000000</td>\n",
       "      <td>0.000000</td>\n",
       "      <td>0.000000</td>\n",
       "      <td>0.000000</td>\n",
       "      <td>0.000000</td>\n",
       "    </tr>\n",
       "    <tr>\n",
       "      <th>25%</th>\n",
       "      <td>169.005000</td>\n",
       "      <td>1.150000</td>\n",
       "      <td>1.255000</td>\n",
       "      <td>1.275000</td>\n",
       "      <td>1.645000</td>\n",
       "      <td>119.000000</td>\n",
       "      <td>0.000000</td>\n",
       "    </tr>\n",
       "    <tr>\n",
       "      <th>50%</th>\n",
       "      <td>496.250000</td>\n",
       "      <td>4.940000</td>\n",
       "      <td>5.070000</td>\n",
       "      <td>3.420000</td>\n",
       "      <td>4.930000</td>\n",
       "      <td>250.000000</td>\n",
       "      <td>1.000000</td>\n",
       "    </tr>\n",
       "    <tr>\n",
       "      <th>75%</th>\n",
       "      <td>1100.000000</td>\n",
       "      <td>34.635000</td>\n",
       "      <td>62.095000</td>\n",
       "      <td>8.605000</td>\n",
       "      <td>33.395000</td>\n",
       "      <td>536.000000</td>\n",
       "      <td>1.000000</td>\n",
       "    </tr>\n",
       "    <tr>\n",
       "      <th>max</th>\n",
       "      <td>2496.492500</td>\n",
       "      <td>84.862500</td>\n",
       "      <td>153.355000</td>\n",
       "      <td>19.600000</td>\n",
       "      <td>81.020000</td>\n",
       "      <td>1161.500000</td>\n",
       "      <td>1.000000</td>\n",
       "    </tr>\n",
       "  </tbody>\n",
       "</table>\n",
       "</div>"
      ],
      "text/plain": [
       "        Issue_Size  Subscription_QIB  Subscription_HNI  Subscription_RII  \\\n",
       "count   319.000000        319.000000        319.000000        319.000000   \n",
       "mean    763.561238         21.521183         40.356426          6.060940   \n",
       "std     769.689122         29.104549         57.427921          6.176882   \n",
       "min       0.000000          0.000000          0.000000          0.000000   \n",
       "25%     169.005000          1.150000          1.255000          1.275000   \n",
       "50%     496.250000          4.940000          5.070000          3.420000   \n",
       "75%    1100.000000         34.635000         62.095000          8.605000   \n",
       "max    2496.492500         84.862500        153.355000         19.600000   \n",
       "\n",
       "       Subscription_Total  Issue_Price  Listing_Gains_Profit  \n",
       "count          319.000000   319.000000            319.000000  \n",
       "mean            20.456646   362.147335              0.545455  \n",
       "std             27.217740   312.272967              0.498712  \n",
       "min              0.000000     0.000000              0.000000  \n",
       "25%              1.645000   119.000000              0.000000  \n",
       "50%              4.930000   250.000000              1.000000  \n",
       "75%             33.395000   536.000000              1.000000  \n",
       "max             81.020000  1161.500000              1.000000  "
      ]
     },
     "execution_count": 24,
     "metadata": {},
     "output_type": "execute_result"
    }
   ],
   "source": [
    "numeric.describe()"
   ]
  },
  {
   "cell_type": "code",
   "execution_count": 25,
   "metadata": {},
   "outputs": [
    {
     "data": {
      "image/png": "[encoded data removed]",
      "text/plain": [
       "<Figure size 640x480 with 1 Axes>"
      ]
     },
     "metadata": {},
     "output_type": "display_data"
    }
   ],
   "source": [
    "numeric.boxplot()\n",
    "plt.xticks(rotation=45)\n",
    "plt.show()"
   ]
  },
  {
   "cell_type": "markdown",
   "metadata": {},
   "source": [
    "#### Setting the Target and Predictor Variables <a class='anchor' id='5'></a>"
   ]
  },
  {
   "cell_type": "code",
   "execution_count": 26,
   "metadata": {},
   "outputs": [
    {
     "data": {
      "text/html": [
       "<div>\n",
       "<style scoped>\n",
       "    .dataframe tbody tr th:only-of-type {\n",
       "        vertical-align: middle;\n",
       "    }\n",
       "\n",
       "    .dataframe tbody tr th {\n",
       "        vertical-align: top;\n",
       "    }\n",
       "\n",
       "    .dataframe thead th {\n",
       "        text-align: right;\n",
       "    }\n",
       "</style>\n",
       "<table border=\"1\" class=\"dataframe\">\n",
       "  <thead>\n",
       "    <tr style=\"text-align: right;\">\n",
       "      <th></th>\n",
       "      <th>Issue_Size</th>\n",
       "      <th>Subscription_QIB</th>\n",
       "      <th>Issue_Price</th>\n",
       "      <th>Subscription_RII</th>\n",
       "      <th>Subscription_HNI</th>\n",
       "      <th>Subscription_Total</th>\n",
       "    </tr>\n",
       "  </thead>\n",
       "  <tbody>\n",
       "    <tr>\n",
       "      <th>count</th>\n",
       "      <td>319.000000</td>\n",
       "      <td>319.000000</td>\n",
       "      <td>319.000000</td>\n",
       "      <td>319.000000</td>\n",
       "      <td>319.000000</td>\n",
       "      <td>319.000000</td>\n",
       "    </tr>\n",
       "    <tr>\n",
       "      <th>mean</th>\n",
       "      <td>0.305854</td>\n",
       "      <td>0.253601</td>\n",
       "      <td>0.311793</td>\n",
       "      <td>0.309232</td>\n",
       "      <td>0.263157</td>\n",
       "      <td>0.252489</td>\n",
       "    </tr>\n",
       "    <tr>\n",
       "      <th>std</th>\n",
       "      <td>0.308308</td>\n",
       "      <td>0.342961</td>\n",
       "      <td>0.268853</td>\n",
       "      <td>0.315147</td>\n",
       "      <td>0.374477</td>\n",
       "      <td>0.335939</td>\n",
       "    </tr>\n",
       "    <tr>\n",
       "      <th>min</th>\n",
       "      <td>0.000000</td>\n",
       "      <td>0.000000</td>\n",
       "      <td>0.000000</td>\n",
       "      <td>0.000000</td>\n",
       "      <td>0.000000</td>\n",
       "      <td>0.000000</td>\n",
       "    </tr>\n",
       "    <tr>\n",
       "      <th>25%</th>\n",
       "      <td>0.067697</td>\n",
       "      <td>0.013551</td>\n",
       "      <td>0.102454</td>\n",
       "      <td>0.065051</td>\n",
       "      <td>0.008184</td>\n",
       "      <td>0.020304</td>\n",
       "    </tr>\n",
       "    <tr>\n",
       "      <th>50%</th>\n",
       "      <td>0.198779</td>\n",
       "      <td>0.058212</td>\n",
       "      <td>0.215239</td>\n",
       "      <td>0.174490</td>\n",
       "      <td>0.033061</td>\n",
       "      <td>0.060849</td>\n",
       "    </tr>\n",
       "    <tr>\n",
       "      <th>75%</th>\n",
       "      <td>0.440618</td>\n",
       "      <td>0.408131</td>\n",
       "      <td>0.461472</td>\n",
       "      <td>0.439031</td>\n",
       "      <td>0.404910</td>\n",
       "      <td>0.412182</td>\n",
       "    </tr>\n",
       "    <tr>\n",
       "      <th>max</th>\n",
       "      <td>1.000000</td>\n",
       "      <td>1.000000</td>\n",
       "      <td>1.000000</td>\n",
       "      <td>1.000000</td>\n",
       "      <td>1.000000</td>\n",
       "      <td>1.000000</td>\n",
       "    </tr>\n",
       "  </tbody>\n",
       "</table>\n",
       "</div>"
      ],
      "text/plain": [
       "       Issue_Size  Subscription_QIB  Issue_Price  Subscription_RII  \\\n",
       "count  319.000000        319.000000   319.000000        319.000000   \n",
       "mean     0.305854          0.253601     0.311793          0.309232   \n",
       "std      0.308308          0.342961     0.268853          0.315147   \n",
       "min      0.000000          0.000000     0.000000          0.000000   \n",
       "25%      0.067697          0.013551     0.102454          0.065051   \n",
       "50%      0.198779          0.058212     0.215239          0.174490   \n",
       "75%      0.440618          0.408131     0.461472          0.439031   \n",
       "max      1.000000          1.000000     1.000000          1.000000   \n",
       "\n",
       "       Subscription_HNI  Subscription_Total  \n",
       "count        319.000000          319.000000  \n",
       "mean           0.263157            0.252489  \n",
       "std            0.374477            0.335939  \n",
       "min            0.000000            0.000000  \n",
       "25%            0.008184            0.020304  \n",
       "50%            0.033061            0.060849  \n",
       "75%            0.404910            0.412182  \n",
       "max            1.000000            1.000000  "
      ]
     },
     "execution_count": 26,
     "metadata": {},
     "output_type": "execute_result"
    }
   ],
   "source": [
    "#Target and Predictors\n",
    "target_variable = ['Listing_Gains_Profit']\n",
    "predictors = list(set(list(numeric.columns)) - set(target_variable))\n",
    "\n",
    "#Normalization\n",
    "numeric[predictors] = numeric[predictors] / numeric[predictors].max()\n",
    "\n",
    "numeric[predictors].describe()"
   ]
  },
  {
   "cell_type": "markdown",
   "metadata": {},
   "source": [
    "#### Training and Testing Sets <a class='anchor' id='6'></a>"
   ]
  },
  {
   "cell_type": "code",
   "execution_count": 27,
   "metadata": {},
   "outputs": [
    {
     "name": "stdout",
     "output_type": "stream",
     "text": [
      "(223, 6)\n",
      "(96, 6)\n"
     ]
    }
   ],
   "source": [
    "X = numeric[predictors].values\n",
    "y = numeric[target_variable].values\n",
    "\n",
    "X_train, X_test, y_train, y_test = train_test_split(X, y, test_size=0.30, random_state=100)\n",
    "print(X_train.shape)\n",
    "print(X_test.shape)"
   ]
  },
  {
   "cell_type": "markdown",
   "metadata": {},
   "source": [
    "#### Creating Deep Learning Neural Network <a class='anchor' id='7'></a>"
   ]
  },
  {
   "cell_type": "code",
   "execution_count": 28,
   "metadata": {},
   "outputs": [
    {
     "name": "stdout",
     "output_type": "stream",
     "text": [
      "Model: \"model\"\n",
      "_________________________________________________________________\n",
      " Layer (type)                Output Shape              Param #   \n",
      "=================================================================\n",
      " input_1 (InputLayer)        [(None, 6)]               0         \n",
      "                                                                 \n",
      " dense (Dense)               (None, 128)               896       \n",
      "                                                                 \n",
      " dense_1 (Dense)             (None, 64)                8256      \n",
      "                                                                 \n",
      " dense_2 (Dense)             (None, 16)                1040      \n",
      "                                                                 \n",
      " dense_3 (Dense)             (None, 8)                 136       \n",
      "                                                                 \n",
      " dense_4 (Dense)             (None, 4)                 36        \n",
      "                                                                 \n",
      " dense_5 (Dense)             (None, 1)                 5         \n",
      "                                                                 \n",
      "=================================================================\n",
      "Total params: 10369 (40.50 KB)\n",
      "Trainable params: 10369 (40.50 KB)\n",
      "Non-trainable params: 0 (0.00 Byte)\n",
      "_________________________________________________________________\n"
     ]
    }
   ],
   "source": [
    "#Creation of layers\n",
    "input_layer = tf.keras.Input(shape=(X_train.shape[1],)) \n",
    "hidden_layer1 = tf.keras.layers.Dense(128, activation='relu')(input_layer)\n",
    "hidden_layer2 = tf.keras.layers.Dense(64, activation='relu')(hidden_layer1)\n",
    "\n",
    "hidden_layer3 = tf.keras.layers.Dense(16, activation='relu')(hidden_layer2)\n",
    "hidden_layer4 = tf.keras.layers.Dense(8, activation='relu')(hidden_layer3)\n",
    "hidden_layer5 = tf.keras.layers.Dense(4, activation='relu')(hidden_layer4)\n",
    "\n",
    "#Output\n",
    "output_layer = tf.keras.layers.Dense(1, activation='sigmoid')(hidden_layer5)\n",
    "\n",
    "#Instantiate model\n",
    "model = tf.keras.Model(inputs=input_layer, outputs=output_layer)\n",
    "model.summary()"
   ]
  },
  {
   "cell_type": "code",
   "execution_count": 29,
   "metadata": {},
   "outputs": [
    {
     "name": "stdout",
     "output_type": "stream",
     "text": [
      "7/7 [==============================] - 0s 834us/step - loss: 0.3795 - accuracy: 0.8386\n",
      "[0.3794620633125305, 0.8385650515556335]\n",
      "3/3 [==============================] - 0s 999us/step - loss: 0.8575 - accuracy: 0.6354\n",
      "[0.8574903011322021, 0.6354166865348816]\n"
     ]
    }
   ],
   "source": [
    "optimizer = tf.keras.optimizers.Adam(0.001) #We will use Adam optimizer\n",
    "loss = tf.keras.losses.BinaryCrossentropy() #Instantiate loss function binarycrossentropy for binary classification\n",
    "metrics = ['accuracy']\n",
    "\n",
    "#Compile model\n",
    "model.compile(optimizer=optimizer, loss=loss, metrics=metrics)\n",
    "\n",
    "#Train model\n",
    "model.fit(X_train, y_train, epochs=150, verbose=0)\n",
    "\n",
    "#Evaluate model\n",
    "print(model.evaluate(X_train, y_train))\n",
    "print(model.evaluate(X_test, y_test))"
   ]
  },
  {
   "cell_type": "code",
   "execution_count": 30,
   "metadata": {},
   "outputs": [
    {
     "name": "stdout",
     "output_type": "stream",
     "text": [
      "Model: \"model_1\"\n",
      "_________________________________________________________________\n",
      " Layer (type)                Output Shape              Param #   \n",
      "=================================================================\n",
      " input_2 (InputLayer)        [(None, 6)]               0         \n",
      "                                                                 \n",
      " dense_6 (Dense)             (None, 128)               896       \n",
      "                                                                 \n",
      " dropout (Dropout)           (None, 128)               0         \n",
      "                                                                 \n",
      " dense_7 (Dense)             (None, 64)                8256      \n",
      "                                                                 \n",
      " dropout_1 (Dropout)         (None, 64)                0         \n",
      "                                                                 \n",
      " dense_8 (Dense)             (None, 16)                1040      \n",
      "                                                                 \n",
      " dense_9 (Dense)             (None, 8)                 136       \n",
      "                                                                 \n",
      " dense_10 (Dense)            (None, 4)                 36        \n",
      "                                                                 \n",
      " dense_11 (Dense)            (None, 1)                 5         \n",
      "                                                                 \n",
      "=================================================================\n",
      "Total params: 10369 (40.50 KB)\n",
      "Trainable params: 10369 (40.50 KB)\n",
      "Non-trainable params: 0 (0.00 Byte)\n",
      "_________________________________________________________________\n"
     ]
    }
   ],
   "source": [
    "#We try adding dropout layers - because our accuracy between training and unseen data have some discrepancy\n",
    "input_layer = tf.keras.Input(shape=(X_train.shape[1],)) #Input layer\n",
    "hidden_layer1 = tf.keras.layers.Dense(128, activation='relu')(input_layer) #1st hidden layer\n",
    "drop1 = tf.keras.layers.Dropout(rate=0.40)(hidden_layer1) #1st drop with input from 1st hidden\n",
    "hidden_layer2 = tf.keras.layers.Dense(64, activation='relu')(drop1) #2nd hidden with input from 1st drop\n",
    "\n",
    "drop2 = tf.keras.layers.Dropout(rate=0.20)(hidden_layer2)\n",
    "hidden_layer3 = tf.keras.layers.Dense(16, activation='relu')(drop2)\n",
    "hidden_layer4 = tf.keras.layers.Dense(8, activation='relu')(hidden_layer3)\n",
    "hidden_layer5 = tf.keras.layers.Dense(4, activation='relu')(hidden_layer4)\n",
    "\n",
    "#Output\n",
    "output_layer = tf.keras.layers.Dense(1, activation='sigmoid')(hidden_layer5)\n",
    "\n",
    "#Instantiate model\n",
    "model = tf.keras.Model(inputs=input_layer, outputs=output_layer)\n",
    "model.summary()"
   ]
  },
  {
   "cell_type": "code",
   "execution_count": 31,
   "metadata": {},
   "outputs": [
    {
     "name": "stdout",
     "output_type": "stream",
     "text": [
      "7/7 [==============================] - 0s 1ms/step - loss: 0.5468 - accuracy: 0.6906\n",
      "[0.5467578172683716, 0.6905829310417175]\n",
      "3/3 [==============================] - 0s 2ms/step - loss: 0.6311 - accuracy: 0.6771\n",
      "[0.631070077419281, 0.6770833134651184]\n"
     ]
    }
   ],
   "source": [
    "optimizer = tf.keras.optimizers.Adam(0.001) #We will use Adam optimizer\n",
    "loss = tf.keras.losses.BinaryCrossentropy() #Instantiate loss function binarycrossentropy for binary classification\n",
    "metrics = ['accuracy']\n",
    "\n",
    "#Compile model\n",
    "model.compile(optimizer=optimizer, loss=loss, metrics=metrics)\n",
    "\n",
    "#Train model\n",
    "model.fit(X_train, y_train, epochs=150, verbose=0)\n",
    "\n",
    "#Evaluate model\n",
    "print(model.evaluate(X_train, y_train))\n",
    "print(model.evaluate(X_test, y_test))"
   ]
  },
  {
   "cell_type": "code",
   "execution_count": 32,
   "metadata": {},
   "outputs": [
    {
     "name": "stdout",
     "output_type": "stream",
     "text": [
      "7/7 [==============================] - 0s 920us/step - loss: 0.2918 - accuracy: 0.7130\n",
      "[0.29182735085487366, 0.713004469871521]\n",
      "3/3 [==============================] - 0s 1ms/step - loss: 0.3319 - accuracy: 0.6667\n",
      "[0.33185091614723206, 0.6666666865348816]\n"
     ]
    }
   ],
   "source": [
    "#Here we try 'mae' for loss function\n",
    "optimizer = tf.keras.optimizers.Adam(0.001)\n",
    "loss = 'mae' #try mae for loss function\n",
    "metrics = ['accuracy']\n",
    "\n",
    "#Compile model\n",
    "model.compile(optimizer=optimizer, loss=loss, metrics=metrics)\n",
    "\n",
    "#Train model\n",
    "model.fit(X_train, y_train, epochs=150, verbose=0)\n",
    "\n",
    "#Evaluate model\n",
    "print(model.evaluate(X_train, y_train))\n",
    "print(model.evaluate(X_test, y_test))"
   ]
  },
  {
   "cell_type": "code",
   "execution_count": 33,
   "metadata": {},
   "outputs": [
    {
     "name": "stdout",
     "output_type": "stream",
     "text": [
      "7/7 [==============================] - 0s 920us/step - loss: 0.5078 - accuracy: 0.7309\n",
      "[0.5077930688858032, 0.7309417128562927]\n",
      "3/3 [==============================] - 0s 1ms/step - loss: 0.6577 - accuracy: 0.6875\n",
      "[0.6576513648033142, 0.6875]\n"
     ]
    }
   ],
   "source": [
    "#Here we try SGD Optimizer\n",
    "optimizer = tf.keras.optimizers.SGD(learning_rate=0.01, momentum=0.5)\n",
    "loss = tf.keras.losses.BinaryCrossentropy()\n",
    "metrics = ['accuracy']\n",
    "\n",
    "#Compile model\n",
    "model.compile(optimizer=optimizer, loss=loss, metrics=metrics)\n",
    "\n",
    "#Train model\n",
    "model.fit(X_train, y_train, epochs=150, verbose=0)\n",
    "\n",
    "#Evaluate model\n",
    "print(model.evaluate(X_train, y_train))\n",
    "print(model.evaluate(X_test, y_test))"
   ]
  },
  {
   "cell_type": "markdown",
   "metadata": {},
   "source": [
    "Next we try changing up our deep learning network layers"
   ]
  },
  {
   "cell_type": "code",
   "execution_count": 34,
   "metadata": {},
   "outputs": [
    {
     "name": "stdout",
     "output_type": "stream",
     "text": [
      "Model: \"model_2\"\n",
      "_________________________________________________________________\n",
      " Layer (type)                Output Shape              Param #   \n",
      "=================================================================\n",
      " input_3 (InputLayer)        [(None, 6)]               0         \n",
      "                                                                 \n",
      " dense_12 (Dense)            (None, 32)                224       \n",
      "                                                                 \n",
      " dropout_2 (Dropout)         (None, 32)                0         \n",
      "                                                                 \n",
      " dense_13 (Dense)            (None, 16)                528       \n",
      "                                                                 \n",
      " dropout_3 (Dropout)         (None, 16)                0         \n",
      "                                                                 \n",
      " dense_14 (Dense)            (None, 8)                 136       \n",
      "                                                                 \n",
      " dense_15 (Dense)            (None, 4)                 36        \n",
      "                                                                 \n",
      " dense_16 (Dense)            (None, 2)                 10        \n",
      "                                                                 \n",
      " dense_17 (Dense)            (None, 1)                 3         \n",
      "                                                                 \n",
      "=================================================================\n",
      "Total params: 937 (3.66 KB)\n",
      "Trainable params: 937 (3.66 KB)\n",
      "Non-trainable params: 0 (0.00 Byte)\n",
      "_________________________________________________________________\n"
     ]
    }
   ],
   "source": [
    "#Decrease number of nodes per layer\n",
    "#Creation of layers\n",
    "input_layer = tf.keras.Input(shape=(X_train.shape[1],)) \n",
    "hidden_layer1 = tf.keras.layers.Dense(32, activation='elu')(input_layer) \n",
    "drop1 = tf.keras.layers.Dropout(rate=0.40)(hidden_layer1) \n",
    "hidden_layer2 = tf.keras.layers.Dense(16, activation='elu')(drop1) \n",
    "\n",
    "drop2 = tf.keras.layers.Dropout(rate=0.20)(hidden_layer2)\n",
    "hidden_layer3 = tf.keras.layers.Dense(8, activation='elu')(drop2)\n",
    "hidden_layer4 = tf.keras.layers.Dense(4, activation='elu')(hidden_layer3)\n",
    "hidden_layer5 = tf.keras.layers.Dense(2, activation='elu')(hidden_layer4)\n",
    "\n",
    "#Output\n",
    "output_layer = tf.keras.layers.Dense(1, activation='sigmoid')(hidden_layer5)\n",
    "\n",
    "#Instantiate model\n",
    "model = tf.keras.Model(inputs=input_layer, outputs=output_layer)\n",
    "model.summary()"
   ]
  },
  {
   "cell_type": "code",
   "execution_count": 35,
   "metadata": {},
   "outputs": [
    {
     "name": "stdout",
     "output_type": "stream",
     "text": [
      "7/7 [==============================] - 0s 752us/step - loss: 0.6074 - accuracy: 0.6771\n",
      "[0.6074231266975403, 0.6771300435066223]\n",
      "3/3 [==============================] - 0s 2ms/step - loss: 0.5919 - accuracy: 0.7292\n",
      "[0.5919143557548523, 0.7291666865348816]\n"
     ]
    }
   ],
   "source": [
    "optimizer = tf.keras.optimizers.Adam(0.001)\n",
    "loss = tf.keras.losses.BinaryCrossentropy() \n",
    "metrics = ['accuracy']\n",
    "\n",
    "#Compile model\n",
    "model.compile(optimizer=optimizer, loss=loss, metrics=metrics)\n",
    "\n",
    "#Train model\n",
    "model.fit(X_train, y_train, epochs=250, verbose=0) #We increase epoch to 250\n",
    "\n",
    "#Evaluate model\n",
    "print(model.evaluate(X_train, y_train))\n",
    "print(model.evaluate(X_test, y_test))"
   ]
  },
  {
   "cell_type": "markdown",
   "metadata": {},
   "source": [
    "#### Conclusion <a class='anchor' id='8'></a>"
   ]
  },
  {
   "cell_type": "markdown",
   "metadata": {},
   "source": [
    "We were able to achieve 68% accuracy on our training data and 73% accuracy on our test data. Ideally, we would like higher accuracy for our models. However, the accuracy for both training and testing data is similar, signifying that our model runs well testing on unseen data."
   ]
  },
  {
   "cell_type": "markdown",
   "metadata": {},
   "source": [
    "Model creation is an iterative process. We may need to take further steps to optimize our model.\n",
    "\n",
    "We may consider:\n",
    "\n",
    "- Hyperparameter Optimization: Tuning the learning rate, number of neural network layers, changing the number of nodes.\n",
    "\n",
    "- Optimizers and Loss Functions: We can consider changing these as well.\n",
    "\n",
    "- Features: Return to the basics and see if we can pick our features more selectively.\n",
    "\n",
    "- Performance metrics: Instead of accuracy we can consider other metrics.\n",
    "\n",
    "- Expertise knowledge: We may want to rely on expertise knowledge to tailor our predictor selection / hyperparameter tuning."
   ]
  }
 ],
 "metadata": {
  "kernelspec": {
   "display_name": "Python 3",
   "language": "python",
   "name": "python3"
  },
  "language_info": {
   "codemirror_mode": {
    "name": "ipython",
    "version": 3
   },
   "file_extension": ".py",
   "mimetype": "text/x-python",
   "name": "python",
   "nbconvert_exporter": "python",
   "pygments_lexer": "ipython3",
   "version": "3.11.8"
  }
 },
 "nbformat": 4,
 "nbformat_minor": 2
}

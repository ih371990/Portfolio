{
 "cells": [
  {
   "cell_type": "markdown",
   "metadata": {},
   "source": [
    "# Guided Project: Winning Jeopardy"
   ]
  },
  {
   "cell_type": "markdown",
   "metadata": {},
   "source": [
    "Jeopardy is a popular TV show in the US where participants answer questions to win money. \n",
    "\n",
    "In this project, we'll work with a dataset of Jeopardy questions to figure out some patterns in the questions that could help us win."
   ]
  },
  {
   "cell_type": "code",
   "execution_count": 1,
   "metadata": {},
   "outputs": [],
   "source": [
    "import pandas as pd\n",
    "import re\n",
    "import random\n",
    "from scipy.stats import chisquare\n",
    "import numpy as np\n",
    "\n",
    "jeopardy = pd.read_csv(\"D:/DataQuest/JEOPARDY_CSV.csv\")"
   ]
  },
  {
   "cell_type": "code",
   "execution_count": 2,
   "metadata": {},
   "outputs": [
    {
     "data": {
      "text/plain": [
       "Index(['Show Number', ' Air Date', ' Round', ' Category', ' Value',\n",
       "       ' Question', ' Answer'],\n",
       "      dtype='object')"
      ]
     },
     "execution_count": 2,
     "metadata": {},
     "output_type": "execute_result"
    }
   ],
   "source": [
    "jeopardy.columns #Some columns have spaces in front"
   ]
  },
  {
   "cell_type": "code",
   "execution_count": 3,
   "metadata": {},
   "outputs": [],
   "source": [
    "jeopardy.rename(columns={'Show Number':'Show Number', ' Air Date':'Air Date', ' Round':'Round', ' Category':'Category', ' Value':'Value',\n",
    "       ' Question':'Question', ' Answer':'Answer'},inplace=True)"
   ]
  },
  {
   "cell_type": "code",
   "execution_count": 4,
   "metadata": {},
   "outputs": [
    {
     "data": {
      "text/plain": [
       "Index(['Show Number', 'Air Date', 'Round', 'Category', 'Value', 'Question',\n",
       "       'Answer'],\n",
       "      dtype='object')"
      ]
     },
     "execution_count": 4,
     "metadata": {},
     "output_type": "execute_result"
    }
   ],
   "source": [
    "jeopardy.columns"
   ]
  },
  {
   "cell_type": "code",
   "execution_count": 5,
   "metadata": {},
   "outputs": [
    {
     "name": "stdout",
     "output_type": "stream",
     "text": [
      "<class 'pandas.core.frame.DataFrame'>\n",
      "RangeIndex: 216930 entries, 0 to 216929\n",
      "Data columns (total 7 columns):\n",
      " #   Column       Non-Null Count   Dtype \n",
      "---  ------       --------------   ----- \n",
      " 0   Show Number  216930 non-null  int64 \n",
      " 1   Air Date     216930 non-null  object\n",
      " 2   Round        216930 non-null  object\n",
      " 3   Category     216930 non-null  object\n",
      " 4   Value        213296 non-null  object\n",
      " 5   Question     216930 non-null  object\n",
      " 6   Answer       216927 non-null  object\n",
      "dtypes: int64(1), object(6)\n",
      "memory usage: 11.6+ MB\n"
     ]
    }
   ],
   "source": [
    "jeopardy.info()"
   ]
  },
  {
   "cell_type": "code",
   "execution_count": 6,
   "metadata": {},
   "outputs": [
    {
     "data": {
      "text/plain": [
       "Show Number       0\n",
       "Air Date          0\n",
       "Round             0\n",
       "Category          0\n",
       "Value          3634\n",
       "Question          0\n",
       "Answer            3\n",
       "dtype: int64"
      ]
     },
     "execution_count": 6,
     "metadata": {},
     "output_type": "execute_result"
    }
   ],
   "source": [
    "jeopardy.isnull().sum()"
   ]
  },
  {
   "cell_type": "code",
   "execution_count": 7,
   "metadata": {},
   "outputs": [
    {
     "data": {
      "text/html": [
       "<div>\n",
       "<style scoped>\n",
       "    .dataframe tbody tr th:only-of-type {\n",
       "        vertical-align: middle;\n",
       "    }\n",
       "\n",
       "    .dataframe tbody tr th {\n",
       "        vertical-align: top;\n",
       "    }\n",
       "\n",
       "    .dataframe thead th {\n",
       "        text-align: right;\n",
       "    }\n",
       "</style>\n",
       "<table border=\"1\" class=\"dataframe\">\n",
       "  <thead>\n",
       "    <tr style=\"text-align: right;\">\n",
       "      <th></th>\n",
       "      <th>Show Number</th>\n",
       "      <th>Air Date</th>\n",
       "      <th>Round</th>\n",
       "      <th>Category</th>\n",
       "      <th>Value</th>\n",
       "      <th>Question</th>\n",
       "      <th>Answer</th>\n",
       "    </tr>\n",
       "  </thead>\n",
       "  <tbody>\n",
       "    <tr>\n",
       "      <th>0</th>\n",
       "      <td>4680</td>\n",
       "      <td>2004-12-31</td>\n",
       "      <td>Jeopardy!</td>\n",
       "      <td>HISTORY</td>\n",
       "      <td>$200</td>\n",
       "      <td>For the last 8 years of his life, Galileo was ...</td>\n",
       "      <td>Copernicus</td>\n",
       "    </tr>\n",
       "    <tr>\n",
       "      <th>1</th>\n",
       "      <td>4680</td>\n",
       "      <td>2004-12-31</td>\n",
       "      <td>Jeopardy!</td>\n",
       "      <td>ESPN's TOP 10 ALL-TIME ATHLETES</td>\n",
       "      <td>$200</td>\n",
       "      <td>No. 2: 1912 Olympian; football star at Carlisl...</td>\n",
       "      <td>Jim Thorpe</td>\n",
       "    </tr>\n",
       "  </tbody>\n",
       "</table>\n",
       "</div>"
      ],
      "text/plain": [
       "   Show Number    Air Date      Round                         Category Value  \\\n",
       "0         4680  2004-12-31  Jeopardy!                          HISTORY  $200   \n",
       "1         4680  2004-12-31  Jeopardy!  ESPN's TOP 10 ALL-TIME ATHLETES  $200   \n",
       "\n",
       "                                            Question      Answer  \n",
       "0  For the last 8 years of his life, Galileo was ...  Copernicus  \n",
       "1  No. 2: 1912 Olympian; football star at Carlisl...  Jim Thorpe  "
      ]
     },
     "execution_count": 7,
     "metadata": {},
     "output_type": "execute_result"
    }
   ],
   "source": [
    "jeopardy.head(2)"
   ]
  },
  {
   "cell_type": "code",
   "execution_count": 8,
   "metadata": {},
   "outputs": [
    {
     "data": {
      "text/html": [
       "<div>\n",
       "<style scoped>\n",
       "    .dataframe tbody tr th:only-of-type {\n",
       "        vertical-align: middle;\n",
       "    }\n",
       "\n",
       "    .dataframe tbody tr th {\n",
       "        vertical-align: top;\n",
       "    }\n",
       "\n",
       "    .dataframe thead th {\n",
       "        text-align: right;\n",
       "    }\n",
       "</style>\n",
       "<table border=\"1\" class=\"dataframe\">\n",
       "  <thead>\n",
       "    <tr style=\"text-align: right;\">\n",
       "      <th></th>\n",
       "      <th>Show Number</th>\n",
       "      <th>Air Date</th>\n",
       "      <th>Round</th>\n",
       "      <th>Category</th>\n",
       "      <th>Value</th>\n",
       "      <th>Question</th>\n",
       "      <th>Answer</th>\n",
       "    </tr>\n",
       "  </thead>\n",
       "  <tbody>\n",
       "    <tr>\n",
       "      <th>94817</th>\n",
       "      <td>4346</td>\n",
       "      <td>2003-06-23</td>\n",
       "      <td>Jeopardy!</td>\n",
       "      <td>GOING \"N\"SANE</td>\n",
       "      <td>$200</td>\n",
       "      <td>It often precedes \"and void\"</td>\n",
       "      <td>NaN</td>\n",
       "    </tr>\n",
       "    <tr>\n",
       "      <th>143297</th>\n",
       "      <td>6177</td>\n",
       "      <td>2011-06-21</td>\n",
       "      <td>Double Jeopardy!</td>\n",
       "      <td>NOTHING</td>\n",
       "      <td>$400</td>\n",
       "      <td>This word for \"nothing\" precedes \"and void\" to...</td>\n",
       "      <td>NaN</td>\n",
       "    </tr>\n",
       "    <tr>\n",
       "      <th>178922</th>\n",
       "      <td>4573</td>\n",
       "      <td>2004-06-23</td>\n",
       "      <td>Jeopardy!</td>\n",
       "      <td>MUCH ADO ABOUT NOTHING</td>\n",
       "      <td>$200</td>\n",
       "      <td>Completes the title of the 1939 book by Agatha...</td>\n",
       "      <td>NaN</td>\n",
       "    </tr>\n",
       "  </tbody>\n",
       "</table>\n",
       "</div>"
      ],
      "text/plain": [
       "        Show Number    Air Date             Round                Category  \\\n",
       "94817          4346  2003-06-23         Jeopardy!           GOING \"N\"SANE   \n",
       "143297         6177  2011-06-21  Double Jeopardy!                 NOTHING   \n",
       "178922         4573  2004-06-23         Jeopardy!  MUCH ADO ABOUT NOTHING   \n",
       "\n",
       "       Value                                           Question Answer  \n",
       "94817   $200                       It often precedes \"and void\"    NaN  \n",
       "143297  $400  This word for \"nothing\" precedes \"and void\" to...    NaN  \n",
       "178922  $200  Completes the title of the 1939 book by Agatha...    NaN  "
      ]
     },
     "execution_count": 8,
     "metadata": {},
     "output_type": "execute_result"
    }
   ],
   "source": [
    "jeopardy[jeopardy['Answer'].isnull()]"
   ]
  },
  {
   "cell_type": "code",
   "execution_count": 9,
   "metadata": {},
   "outputs": [
    {
     "data": {
      "text/html": [
       "<div>\n",
       "<style scoped>\n",
       "    .dataframe tbody tr th:only-of-type {\n",
       "        vertical-align: middle;\n",
       "    }\n",
       "\n",
       "    .dataframe tbody tr th {\n",
       "        vertical-align: top;\n",
       "    }\n",
       "\n",
       "    .dataframe thead th {\n",
       "        text-align: right;\n",
       "    }\n",
       "</style>\n",
       "<table border=\"1\" class=\"dataframe\">\n",
       "  <thead>\n",
       "    <tr style=\"text-align: right;\">\n",
       "      <th></th>\n",
       "      <th>Show Number</th>\n",
       "      <th>Air Date</th>\n",
       "      <th>Round</th>\n",
       "      <th>Category</th>\n",
       "      <th>Value</th>\n",
       "      <th>Question</th>\n",
       "      <th>Answer</th>\n",
       "    </tr>\n",
       "  </thead>\n",
       "  <tbody>\n",
       "    <tr>\n",
       "      <th>55</th>\n",
       "      <td>4680</td>\n",
       "      <td>2004-12-31</td>\n",
       "      <td>Final Jeopardy!</td>\n",
       "      <td>THE SOLAR SYSTEM</td>\n",
       "      <td>NaN</td>\n",
       "      <td>Objects that pass closer to the sun than Mercu...</td>\n",
       "      <td>Icarus</td>\n",
       "    </tr>\n",
       "    <tr>\n",
       "      <th>116</th>\n",
       "      <td>5957</td>\n",
       "      <td>2010-07-06</td>\n",
       "      <td>Final Jeopardy!</td>\n",
       "      <td>HISTORIC WOMEN</td>\n",
       "      <td>NaN</td>\n",
       "      <td>She was born in Virginia around 1596 &amp; died in...</td>\n",
       "      <td>Pocahontas</td>\n",
       "    </tr>\n",
       "    <tr>\n",
       "      <th>174</th>\n",
       "      <td>3751</td>\n",
       "      <td>2000-12-18</td>\n",
       "      <td>Final Jeopardy!</td>\n",
       "      <td>SPORTS LEGENDS</td>\n",
       "      <td>NaN</td>\n",
       "      <td>If Joe DiMaggio's hitting streak had gone one ...</td>\n",
       "      <td>H.J. Heinz (Heinz 57 Varieties)</td>\n",
       "    </tr>\n",
       "    <tr>\n",
       "      <th>235</th>\n",
       "      <td>3673</td>\n",
       "      <td>2000-07-19</td>\n",
       "      <td>Final Jeopardy!</td>\n",
       "      <td>THE MAP OF EUROPE</td>\n",
       "      <td>NaN</td>\n",
       "      <td>Bordering Italy, Austria, Hungary &amp; Croatia, i...</td>\n",
       "      <td>Slovenia</td>\n",
       "    </tr>\n",
       "    <tr>\n",
       "      <th>296</th>\n",
       "      <td>4931</td>\n",
       "      <td>2006-02-06</td>\n",
       "      <td>Final Jeopardy!</td>\n",
       "      <td>FAMOUS SHIPS</td>\n",
       "      <td>NaN</td>\n",
       "      <td>On December 27, 1831 it departed Plymouth, Eng...</td>\n",
       "      <td>the HMS Beagle</td>\n",
       "    </tr>\n",
       "    <tr>\n",
       "      <th>...</th>\n",
       "      <td>...</td>\n",
       "      <td>...</td>\n",
       "      <td>...</td>\n",
       "      <td>...</td>\n",
       "      <td>...</td>\n",
       "      <td>...</td>\n",
       "      <td>...</td>\n",
       "    </tr>\n",
       "    <tr>\n",
       "      <th>216686</th>\n",
       "      <td>3940</td>\n",
       "      <td>2001-10-19</td>\n",
       "      <td>Final Jeopardy!</td>\n",
       "      <td>MAJOR LEAGUE BASEBALL TEAM NAMES</td>\n",
       "      <td>NaN</td>\n",
       "      <td>This team received its name after an 1890 inci...</td>\n",
       "      <td>Pittsburgh Pirates</td>\n",
       "    </tr>\n",
       "    <tr>\n",
       "      <th>216746</th>\n",
       "      <td>6044</td>\n",
       "      <td>2010-12-16</td>\n",
       "      <td>Final Jeopardy!</td>\n",
       "      <td>SKYSCRAPERS</td>\n",
       "      <td>NaN</td>\n",
       "      <td>After a construction boom fueled by oil &amp; gas ...</td>\n",
       "      <td>Moscow</td>\n",
       "    </tr>\n",
       "    <tr>\n",
       "      <th>216807</th>\n",
       "      <td>5070</td>\n",
       "      <td>2006-09-29</td>\n",
       "      <td>Final Jeopardy!</td>\n",
       "      <td>NATIONAL CAPITALS</td>\n",
       "      <td>NaN</td>\n",
       "      <td>This city's website calls it \"the last divided...</td>\n",
       "      <td>Nicosia</td>\n",
       "    </tr>\n",
       "    <tr>\n",
       "      <th>216868</th>\n",
       "      <td>5195</td>\n",
       "      <td>2007-03-23</td>\n",
       "      <td>Final Jeopardy!</td>\n",
       "      <td>BESTSELLING AUTHORS</td>\n",
       "      <td>NaN</td>\n",
       "      <td>He had the year's bestselling novel a record 7...</td>\n",
       "      <td>John Grisham</td>\n",
       "    </tr>\n",
       "    <tr>\n",
       "      <th>216929</th>\n",
       "      <td>4999</td>\n",
       "      <td>2006-05-11</td>\n",
       "      <td>Final Jeopardy!</td>\n",
       "      <td>HISTORIC NAMES</td>\n",
       "      <td>NaN</td>\n",
       "      <td>A silent movie title includes the last name of...</td>\n",
       "      <td>Grigori Alexandrovich Potemkin</td>\n",
       "    </tr>\n",
       "  </tbody>\n",
       "</table>\n",
       "<p>3634 rows × 7 columns</p>\n",
       "</div>"
      ],
      "text/plain": [
       "        Show Number    Air Date            Round  \\\n",
       "55             4680  2004-12-31  Final Jeopardy!   \n",
       "116            5957  2010-07-06  Final Jeopardy!   \n",
       "174            3751  2000-12-18  Final Jeopardy!   \n",
       "235            3673  2000-07-19  Final Jeopardy!   \n",
       "296            4931  2006-02-06  Final Jeopardy!   \n",
       "...             ...         ...              ...   \n",
       "216686         3940  2001-10-19  Final Jeopardy!   \n",
       "216746         6044  2010-12-16  Final Jeopardy!   \n",
       "216807         5070  2006-09-29  Final Jeopardy!   \n",
       "216868         5195  2007-03-23  Final Jeopardy!   \n",
       "216929         4999  2006-05-11  Final Jeopardy!   \n",
       "\n",
       "                                Category Value  \\\n",
       "55                      THE SOLAR SYSTEM   NaN   \n",
       "116                       HISTORIC WOMEN   NaN   \n",
       "174                       SPORTS LEGENDS   NaN   \n",
       "235                    THE MAP OF EUROPE   NaN   \n",
       "296                         FAMOUS SHIPS   NaN   \n",
       "...                                  ...   ...   \n",
       "216686  MAJOR LEAGUE BASEBALL TEAM NAMES   NaN   \n",
       "216746                       SKYSCRAPERS   NaN   \n",
       "216807                 NATIONAL CAPITALS   NaN   \n",
       "216868               BESTSELLING AUTHORS   NaN   \n",
       "216929                    HISTORIC NAMES   NaN   \n",
       "\n",
       "                                                 Question  \\\n",
       "55      Objects that pass closer to the sun than Mercu...   \n",
       "116     She was born in Virginia around 1596 & died in...   \n",
       "174     If Joe DiMaggio's hitting streak had gone one ...   \n",
       "235     Bordering Italy, Austria, Hungary & Croatia, i...   \n",
       "296     On December 27, 1831 it departed Plymouth, Eng...   \n",
       "...                                                   ...   \n",
       "216686  This team received its name after an 1890 inci...   \n",
       "216746  After a construction boom fueled by oil & gas ...   \n",
       "216807  This city's website calls it \"the last divided...   \n",
       "216868  He had the year's bestselling novel a record 7...   \n",
       "216929  A silent movie title includes the last name of...   \n",
       "\n",
       "                                 Answer  \n",
       "55                               Icarus  \n",
       "116                          Pocahontas  \n",
       "174     H.J. Heinz (Heinz 57 Varieties)  \n",
       "235                            Slovenia  \n",
       "296                      the HMS Beagle  \n",
       "...                                 ...  \n",
       "216686               Pittsburgh Pirates  \n",
       "216746                           Moscow  \n",
       "216807                          Nicosia  \n",
       "216868                     John Grisham  \n",
       "216929   Grigori Alexandrovich Potemkin  \n",
       "\n",
       "[3634 rows x 7 columns]"
      ]
     },
     "execution_count": 9,
     "metadata": {},
     "output_type": "execute_result"
    }
   ],
   "source": [
    "jeopardy[jeopardy['Value'].isnull()]"
   ]
  },
  {
   "cell_type": "markdown",
   "metadata": {},
   "source": [
    "After briefly exploring the data, there is quite a lot of cleaning to be done before analysis. Let's get to it."
   ]
  },
  {
   "cell_type": "markdown",
   "metadata": {},
   "source": [
    "#### Data Cleaning - Normalizing Text"
   ]
  },
  {
   "cell_type": "markdown",
   "metadata": {},
   "source": [
    "We will normalize text columns by removing punctuation and changing to lowercase."
   ]
  },
  {
   "cell_type": "code",
   "execution_count": 10,
   "metadata": {},
   "outputs": [],
   "source": [
    "#Function to normalize text\n",
    "def clean_text(sen):\n",
    "    sen = str(sen)\n",
    "    sen = sen.lower()\n",
    "    sen = re.sub(r'\\W', ' ',sen)\n",
    "    return sen"
   ]
  },
  {
   "cell_type": "code",
   "execution_count": 11,
   "metadata": {},
   "outputs": [
    {
     "data": {
      "text/plain": [
       "0         for the last 8 years of his life  galileo was ...\n",
       "1         no  2  1912 olympian  football star at carlisl...\n",
       "2         the city of yuma in this state has a record av...\n",
       "3         in 1963  live on  the art linkletter show   th...\n",
       "4         signer of the dec  of indep   framer of the co...\n",
       "                                ...                        \n",
       "216925    this puccini opera turns on the solution to 3 ...\n",
       "216926    in north america this term is properly applied...\n",
       "216927    in penny lane  where this  hellraiser  grew up...\n",
       "216928    from ft  sill  okla  he made the plea  arizona...\n",
       "216929    a silent movie title includes the last name of...\n",
       "Name: Question, Length: 216930, dtype: object"
      ]
     },
     "execution_count": 11,
     "metadata": {},
     "output_type": "execute_result"
    }
   ],
   "source": [
    "#Applying to Question column\n",
    "jeopardy['Question'] = jeopardy['Question'].apply(clean_text)\n",
    "jeopardy['Question']"
   ]
  },
  {
   "cell_type": "code",
   "execution_count": 12,
   "metadata": {},
   "outputs": [
    {
     "data": {
      "text/plain": [
       "0                             copernicus\n",
       "1                             jim thorpe\n",
       "2                                arizona\n",
       "3                             mcdonald s\n",
       "4                             john adams\n",
       "                       ...              \n",
       "216925                          turandot\n",
       "216926                        a titmouse\n",
       "216927                      clive barker\n",
       "216928                          geronimo\n",
       "216929    grigori alexandrovich potemkin\n",
       "Name: Answer, Length: 216930, dtype: object"
      ]
     },
     "execution_count": 12,
     "metadata": {},
     "output_type": "execute_result"
    }
   ],
   "source": [
    "#Applying to Answer column\n",
    "jeopardy['Answer'] = jeopardy['Answer'].apply(clean_text)\n",
    "jeopardy['Answer']"
   ]
  },
  {
   "cell_type": "markdown",
   "metadata": {},
   "source": [
    "#### Data Cleaning - Normalizing Numeric Columns"
   ]
  },
  {
   "cell_type": "markdown",
   "metadata": {},
   "source": [
    "We will clean two columns here.\n",
    "\n",
    "Value column - remove $ sign and change to numeric.\n",
    "\n",
    "Air Date - we will change from string to datetime."
   ]
  },
  {
   "cell_type": "code",
   "execution_count": 13,
   "metadata": {},
   "outputs": [],
   "source": [
    "#Function to clean $\n",
    "def clean_dollars(string):\n",
    "    string = str(string)\n",
    "    string = re.sub(r'[,$]','',string)\n",
    "    string = float(string)\n",
    "    return string"
   ]
  },
  {
   "cell_type": "code",
   "execution_count": 14,
   "metadata": {},
   "outputs": [
    {
     "data": {
      "text/plain": [
       "0"
      ]
     },
     "execution_count": 14,
     "metadata": {},
     "output_type": "execute_result"
    }
   ],
   "source": [
    "#Apply cleaning\n",
    "jeopardy['Value'] = jeopardy['Value'].apply(clean_dollars)\n",
    "jeopardy['Value'] = jeopardy['Value'].fillna(0) #Replace NaN with 0\n",
    "jeopardy['Value'].isnull().sum()"
   ]
  },
  {
   "cell_type": "code",
   "execution_count": 15,
   "metadata": {},
   "outputs": [
    {
     "name": "stdout",
     "output_type": "stream",
     "text": [
      "<class 'pandas.core.frame.DataFrame'>\n",
      "RangeIndex: 216930 entries, 0 to 216929\n",
      "Data columns (total 7 columns):\n",
      " #   Column       Non-Null Count   Dtype         \n",
      "---  ------       --------------   -----         \n",
      " 0   Show Number  216930 non-null  int64         \n",
      " 1   Air Date     216930 non-null  datetime64[ns]\n",
      " 2   Round        216930 non-null  object        \n",
      " 3   Category     216930 non-null  object        \n",
      " 4   Value        216930 non-null  float64       \n",
      " 5   Question     216930 non-null  object        \n",
      " 6   Answer       216930 non-null  object        \n",
      "dtypes: datetime64[ns](1), float64(1), int64(1), object(4)\n",
      "memory usage: 11.6+ MB\n"
     ]
    }
   ],
   "source": [
    "#Change air date to datetime object\n",
    "jeopardy['Air Date'] = pd.to_datetime(jeopardy['Air Date'])\n",
    "jeopardy.info()"
   ]
  },
  {
   "cell_type": "markdown",
   "metadata": {},
   "source": [
    "#### Answers in Questions"
   ]
  },
  {
   "cell_type": "markdown",
   "metadata": {},
   "source": [
    "We want to find out how often answers can also be used for a question. \n",
    "\n",
    "We will do this by seeing how many times words in the answer also occur in the question."
   ]
  },
  {
   "cell_type": "code",
   "execution_count": 16,
   "metadata": {},
   "outputs": [],
   "source": [
    "def answer(row):\n",
    "    match_count = 0\n",
    "    split_answer = row['Answer'].split()\n",
    "    split_question = row['Question'].split()\n",
    "    split_answer = [word for word in split_answer if word != 'the']\n",
    "    if len(split_answer) == 0:\n",
    "        return 0\n",
    "    for word in split_answer:\n",
    "        if word in split_question:\n",
    "            match_count += 1\n",
    "    return match_count / len(split_answer)"
   ]
  },
  {
   "cell_type": "code",
   "execution_count": 17,
   "metadata": {},
   "outputs": [
    {
     "data": {
      "text/plain": [
       "0.060826271778010685"
      ]
     },
     "execution_count": 17,
     "metadata": {},
     "output_type": "execute_result"
    }
   ],
   "source": [
    "jeopardy['answer_in_question'] = jeopardy.apply(answer, axis=1)\n",
    "jeopardy['answer_in_question'].mean()"
   ]
  },
  {
   "cell_type": "markdown",
   "metadata": {},
   "source": [
    "We find that 6% of words found in the answer are also found in the question."
   ]
  },
  {
   "cell_type": "markdown",
   "metadata": {},
   "source": [
    "We can't rely on hoping to guess the answer from the question."
   ]
  },
  {
   "cell_type": "markdown",
   "metadata": {},
   "source": [
    "#### Recycled Questions"
   ]
  },
  {
   "cell_type": "markdown",
   "metadata": {},
   "source": [
    "We will look at how often questions have been used previously. We will do this looking at words with 6 more or characters from each row listed in an ascending order. Terms that have already appeared will increase our count."
   ]
  },
  {
   "cell_type": "code",
   "execution_count": 18,
   "metadata": {},
   "outputs": [
    {
     "data": {
      "text/html": [
       "<div>\n",
       "<style scoped>\n",
       "    .dataframe tbody tr th:only-of-type {\n",
       "        vertical-align: middle;\n",
       "    }\n",
       "\n",
       "    .dataframe tbody tr th {\n",
       "        vertical-align: top;\n",
       "    }\n",
       "\n",
       "    .dataframe thead th {\n",
       "        text-align: right;\n",
       "    }\n",
       "</style>\n",
       "<table border=\"1\" class=\"dataframe\">\n",
       "  <thead>\n",
       "    <tr style=\"text-align: right;\">\n",
       "      <th></th>\n",
       "      <th>Show Number</th>\n",
       "      <th>Air Date</th>\n",
       "      <th>Round</th>\n",
       "      <th>Category</th>\n",
       "      <th>Value</th>\n",
       "      <th>Question</th>\n",
       "      <th>Answer</th>\n",
       "      <th>answer_in_question</th>\n",
       "    </tr>\n",
       "  </thead>\n",
       "  <tbody>\n",
       "    <tr>\n",
       "      <th>84523</th>\n",
       "      <td>1</td>\n",
       "      <td>1984-09-10</td>\n",
       "      <td>Jeopardy!</td>\n",
       "      <td>LAKES &amp; RIVERS</td>\n",
       "      <td>100.0</td>\n",
       "      <td>river mentioned most often in the bible</td>\n",
       "      <td>the jordan</td>\n",
       "      <td>0.000000</td>\n",
       "    </tr>\n",
       "    <tr>\n",
       "      <th>84565</th>\n",
       "      <td>1</td>\n",
       "      <td>1984-09-10</td>\n",
       "      <td>Double Jeopardy!</td>\n",
       "      <td>THE BIBLE</td>\n",
       "      <td>1000.0</td>\n",
       "      <td>according to 1st timothy  it is the  root of a...</td>\n",
       "      <td>the love of money</td>\n",
       "      <td>0.333333</td>\n",
       "    </tr>\n",
       "    <tr>\n",
       "      <th>84566</th>\n",
       "      <td>1</td>\n",
       "      <td>1984-09-10</td>\n",
       "      <td>Double Jeopardy!</td>\n",
       "      <td>'50'S TV</td>\n",
       "      <td>1000.0</td>\n",
       "      <td>name under which experimenter don herbert taug...</td>\n",
       "      <td>mr  wizard</td>\n",
       "      <td>0.000000</td>\n",
       "    </tr>\n",
       "    <tr>\n",
       "      <th>84567</th>\n",
       "      <td>1</td>\n",
       "      <td>1984-09-10</td>\n",
       "      <td>Double Jeopardy!</td>\n",
       "      <td>NATIONAL LANDMARKS</td>\n",
       "      <td>1000.0</td>\n",
       "      <td>d c  building shaken by november  83 bomb blast</td>\n",
       "      <td>the capitol</td>\n",
       "      <td>0.000000</td>\n",
       "    </tr>\n",
       "    <tr>\n",
       "      <th>84568</th>\n",
       "      <td>1</td>\n",
       "      <td>1984-09-10</td>\n",
       "      <td>Double Jeopardy!</td>\n",
       "      <td>NOTORIOUS</td>\n",
       "      <td>1000.0</td>\n",
       "      <td>after the deed  he leaped to the stage shoutin...</td>\n",
       "      <td>john wilkes booth</td>\n",
       "      <td>0.000000</td>\n",
       "    </tr>\n",
       "    <tr>\n",
       "      <th>...</th>\n",
       "      <td>...</td>\n",
       "      <td>...</td>\n",
       "      <td>...</td>\n",
       "      <td>...</td>\n",
       "      <td>...</td>\n",
       "      <td>...</td>\n",
       "      <td>...</td>\n",
       "      <td>...</td>\n",
       "    </tr>\n",
       "    <tr>\n",
       "      <th>105947</th>\n",
       "      <td>6300</td>\n",
       "      <td>2012-01-27</td>\n",
       "      <td>Jeopardy!</td>\n",
       "      <td>VISITING THE CITY</td>\n",
       "      <td>800.0</td>\n",
       "      <td>there s a great opera house on bennelong point...</td>\n",
       "      <td>sydney</td>\n",
       "      <td>0.000000</td>\n",
       "    </tr>\n",
       "    <tr>\n",
       "      <th>105948</th>\n",
       "      <td>6300</td>\n",
       "      <td>2012-01-27</td>\n",
       "      <td>Jeopardy!</td>\n",
       "      <td>PANTS</td>\n",
       "      <td>1400.0</td>\n",
       "      <td>tight fitting pants patterned after those worn...</td>\n",
       "      <td>toreador pants</td>\n",
       "      <td>0.500000</td>\n",
       "    </tr>\n",
       "    <tr>\n",
       "      <th>105949</th>\n",
       "      <td>6300</td>\n",
       "      <td>2012-01-27</td>\n",
       "      <td>Jeopardy!</td>\n",
       "      <td>CHILD ACTORS</td>\n",
       "      <td>800.0</td>\n",
       "      <td>this kid  with a familiar last name  is seen  ...</td>\n",
       "      <td>jaden smith</td>\n",
       "      <td>0.000000</td>\n",
       "    </tr>\n",
       "    <tr>\n",
       "      <th>105951</th>\n",
       "      <td>6300</td>\n",
       "      <td>2012-01-27</td>\n",
       "      <td>Jeopardy!</td>\n",
       "      <td>LESSER-KNOWN SCIENTISTS</td>\n",
       "      <td>800.0</td>\n",
       "      <td>joseph lagrange insisted on 10 as the basic un...</td>\n",
       "      <td>the metric system</td>\n",
       "      <td>0.500000</td>\n",
       "    </tr>\n",
       "    <tr>\n",
       "      <th>105930</th>\n",
       "      <td>6300</td>\n",
       "      <td>2012-01-27</td>\n",
       "      <td>Jeopardy!</td>\n",
       "      <td>PANTS</td>\n",
       "      <td>200.0</td>\n",
       "      <td>a synonym for freight  or pants with large bel...</td>\n",
       "      <td>cargo pants</td>\n",
       "      <td>0.500000</td>\n",
       "    </tr>\n",
       "  </tbody>\n",
       "</table>\n",
       "<p>216930 rows × 8 columns</p>\n",
       "</div>"
      ],
      "text/plain": [
       "        Show Number   Air Date             Round                 Category  \\\n",
       "84523             1 1984-09-10         Jeopardy!           LAKES & RIVERS   \n",
       "84565             1 1984-09-10  Double Jeopardy!                THE BIBLE   \n",
       "84566             1 1984-09-10  Double Jeopardy!                 '50'S TV   \n",
       "84567             1 1984-09-10  Double Jeopardy!       NATIONAL LANDMARKS   \n",
       "84568             1 1984-09-10  Double Jeopardy!                NOTORIOUS   \n",
       "...             ...        ...               ...                      ...   \n",
       "105947         6300 2012-01-27         Jeopardy!        VISITING THE CITY   \n",
       "105948         6300 2012-01-27         Jeopardy!                    PANTS   \n",
       "105949         6300 2012-01-27         Jeopardy!             CHILD ACTORS   \n",
       "105951         6300 2012-01-27         Jeopardy!  LESSER-KNOWN SCIENTISTS   \n",
       "105930         6300 2012-01-27         Jeopardy!                    PANTS   \n",
       "\n",
       "         Value                                           Question  \\\n",
       "84523    100.0            river mentioned most often in the bible   \n",
       "84565   1000.0  according to 1st timothy  it is the  root of a...   \n",
       "84566   1000.0  name under which experimenter don herbert taug...   \n",
       "84567   1000.0    d c  building shaken by november  83 bomb blast   \n",
       "84568   1000.0  after the deed  he leaped to the stage shoutin...   \n",
       "...        ...                                                ...   \n",
       "105947   800.0  there s a great opera house on bennelong point...   \n",
       "105948  1400.0  tight fitting pants patterned after those worn...   \n",
       "105949   800.0  this kid  with a familiar last name  is seen  ...   \n",
       "105951   800.0  joseph lagrange insisted on 10 as the basic un...   \n",
       "105930   200.0  a synonym for freight  or pants with large bel...   \n",
       "\n",
       "                   Answer  answer_in_question  \n",
       "84523          the jordan            0.000000  \n",
       "84565   the love of money            0.333333  \n",
       "84566          mr  wizard            0.000000  \n",
       "84567         the capitol            0.000000  \n",
       "84568   john wilkes booth            0.000000  \n",
       "...                   ...                 ...  \n",
       "105947             sydney            0.000000  \n",
       "105948     toreador pants            0.500000  \n",
       "105949        jaden smith            0.000000  \n",
       "105951  the metric system            0.500000  \n",
       "105930        cargo pants            0.500000  \n",
       "\n",
       "[216930 rows x 8 columns]"
      ]
     },
     "execution_count": 18,
     "metadata": {},
     "output_type": "execute_result"
    }
   ],
   "source": [
    "#sort jeopardy by date ascending\n",
    "jeopardy = jeopardy.sort_values(by='Air Date', ascending=True)\n",
    "jeopardy"
   ]
  },
  {
   "cell_type": "code",
   "execution_count": 19,
   "metadata": {},
   "outputs": [
    {
     "data": {
      "text/plain": [
       "0.8992046127831375"
      ]
     },
     "execution_count": 19,
     "metadata": {},
     "output_type": "execute_result"
    }
   ],
   "source": [
    "question_overlap = []\n",
    "terms_used = set()\n",
    "\n",
    "for index, row in jeopardy.iterrows():\n",
    "    split_question = row['Question'].split()\n",
    "    split_question = [word for word in split_question if len(word) >= 6]\n",
    "    match_count = 0\n",
    "    for word in split_question:\n",
    "        if word in terms_used:\n",
    "            match_count += 1\n",
    "        terms_used.add(word)\n",
    "    if len(split_question) > 0:\n",
    "        match_count /= len(split_question)\n",
    "    question_overlap.append(match_count)\n",
    "jeopardy['question_overlap'] = question_overlap\n",
    "jeopardy[\"question_overlap\"].mean()"
   ]
  },
  {
   "cell_type": "markdown",
   "metadata": {},
   "source": [
    "There is almost 90% of recycled questions in the small dataset, which is only about 10% of all questions. However, this may warrant further investigation.\n"
   ]
  },
  {
   "cell_type": "markdown",
   "metadata": {},
   "source": [
    "#### Low Value vs High Value Questions"
   ]
  },
  {
   "cell_type": "markdown",
   "metadata": {},
   "source": [
    "We will take an arbitrary cut off of $800 to differentiate between low and high value questions."
   ]
  },
  {
   "cell_type": "markdown",
   "metadata": {},
   "source": [
    "We will loop through each of the terms from the last screen, terms_used, and:\n",
    "\n",
    "Find the number of low value questions the word occurs in.\n",
    "Find the number of high value questions the word occurs in.\n",
    "Find the percentage of questions the word occurs in.\n",
    "Based on the percentage of questions the word occurs in, find expected counts.\n",
    "Compute the chi squared value based on the expected counts and the observed counts for high and low value questions.\n",
    "\n",
    "We can then find the words with the biggest differences in usage between high and low value questions, by selecting the words with the highest associated chi-squared values."
   ]
  },
  {
   "cell_type": "code",
   "execution_count": 20,
   "metadata": {},
   "outputs": [
    {
     "data": {
      "text/plain": [
       "high_value\n",
       "0    155508\n",
       "1     61422\n",
       "Name: count, dtype: int64"
      ]
     },
     "execution_count": 20,
     "metadata": {},
     "output_type": "execute_result"
    }
   ],
   "source": [
    "#Create function to sort \"Value\" column into nominal data (0/1), 1 for high value, 0 for low value\n",
    "def sort_high_low(num):\n",
    "    return 1 if num > 800 else 0\n",
    "\n",
    "#Apply function to dataframe\n",
    "jeopardy['high_value'] = jeopardy['Value'].apply(sort_high_low)\n",
    "jeopardy['high_value'].value_counts()"
   ]
  },
  {
   "cell_type": "code",
   "execution_count": 21,
   "metadata": {},
   "outputs": [],
   "source": [
    "#Function to count number of times word appears in high vs low value questions\n",
    "def value_comp(word):\n",
    "    low_count = 0\n",
    "    high_count = 0\n",
    "    for i, row in jeopardy.iterrows():\n",
    "        split_clean = row['Question'].split()\n",
    "        if word in split_clean:\n",
    "            if row['high_value'] == 1:\n",
    "                high_count += 1\n",
    "            else:\n",
    "                low_count += 1\n",
    "    return int(high_count), int(low_count)"
   ]
  },
  {
   "cell_type": "code",
   "execution_count": 22,
   "metadata": {},
   "outputs": [
    {
     "data": {
      "text/plain": [
       "['hallucinatory',\n",
       " 'barkeep',\n",
       " '14_j_29a',\n",
       " 'shortbread',\n",
       " 'havdalah',\n",
       " 'laputa',\n",
       " 'glandarius',\n",
       " 'unkindest',\n",
       " 'editor',\n",
       " 'anthelmintic']"
      ]
     },
     "execution_count": 22,
     "metadata": {},
     "output_type": "execute_result"
    }
   ],
   "source": [
    "#We will select 10 terms for comparison\n",
    "comparison_terms = random.sample(list(terms_used), 10)\n",
    "comparison_terms"
   ]
  },
  {
   "cell_type": "code",
   "execution_count": 23,
   "metadata": {},
   "outputs": [
    {
     "name": "stdout",
     "output_type": "stream",
     "text": [
      "[(2, 3), (0, 2), (1, 0), (1, 2), (0, 1), (1, 3), (0, 1), (0, 1), (45, 113), (0, 1)]\n"
     ]
    }
   ],
   "source": [
    "#We pass 10 values into the value_comp function\n",
    "observed_expected = []\n",
    "for word in comparison_terms:\n",
    "    observed_expected.append(value_comp(word))\n",
    "print(observed_expected)"
   ]
  },
  {
   "cell_type": "code",
   "execution_count": 24,
   "metadata": {},
   "outputs": [
    {
     "data": {
      "text/plain": [
       "[Power_divergenceResult(statistic=0.3363947754070794, pvalue=0.5619176551024535),\n",
       " Power_divergenceResult(statistic=0.7899529284667026, pvalue=0.3741143592744989),\n",
       " Power_divergenceResult(statistic=2.5317964247338085, pvalue=0.11157312838169751),\n",
       " Power_divergenceResult(statistic=0.03723409388907139, pvalue=0.846989214486915),\n",
       " Power_divergenceResult(statistic=0.3949764642333513, pvalue=0.5296950912486695),\n",
       " Power_divergenceResult(statistic=0.021646150708492677, pvalue=0.8830323245068887),\n",
       " Power_divergenceResult(statistic=0.3949764642333513, pvalue=0.5296950912486695),\n",
       " Power_divergenceResult(statistic=0.3949764642333513, pvalue=0.5296950912486695),\n",
       " Power_divergenceResult(statistic=0.0021660245672526935, pvalue=0.9628793996783304),\n",
       " Power_divergenceResult(statistic=0.3949764642333513, pvalue=0.5296950912486695)]"
      ]
     },
     "execution_count": 24,
     "metadata": {},
     "output_type": "execute_result"
    }
   ],
   "source": [
    "#Applying chi-squared test\n",
    "high_value_count = len(jeopardy[jeopardy['high_value'] == 1])\n",
    "low_value_count = len(jeopardy[jeopardy['high_value'] == 0])\n",
    "chi_squared = []\n",
    "for x in observed_expected:\n",
    "    total = sum(x)\n",
    "    total_prop = total / len(jeopardy)\n",
    "    expected_high = total_prop * high_value_count\n",
    "    expected_low = total_prop * low_value_count\n",
    "\n",
    "    observed = np.array([x[0], x[1]])\n",
    "    expected = np.array([expected_high, expected_low])\n",
    "    chi_squared.append(chisquare(observed, expected))\n",
    "\n",
    "chi_squared"
   ]
  },
  {
   "cell_type": "markdown",
   "metadata": {},
   "source": [
    "None of the terms had a significant difference in usage between high value and low value rows."
   ]
  },
  {
   "cell_type": "markdown",
   "metadata": {},
   "source": [
    "#### Next steps"
   ]
  },
  {
   "cell_type": "markdown",
   "metadata": {},
   "source": [
    "##### Here are some potential next steps:\n",
    "\n",
    "-Find a better way to eliminate non-informative words than just removing words that are less than 6 characters long.\n",
    "-Manually create a list of words to remove, like the, than, etc.\n",
    "-Find a list of stopwords to remove.\n",
    "-Remove words that occur in more than a certain percentage (like 5%) of questions.\n",
    "\n",
    "##### Perform the chi-squared test across more terms to see what terms have larger differences. This is hard to do currently because the code is slow, but here are some ideas:\n",
    "\n",
    "-Use the apply method to make the code that calculates frequencies more efficient.\n",
    "-Only select terms that have high frequencies across the dataset, and ignore the others.\n",
    "\n",
    "##### Look more into the Category column and see if any interesting analysis can be done with it. Some ideas:\n",
    "\n",
    "-See which categories appear the most often.\n",
    "-Find the probability of each category appearing in each round.\n",
    "\n",
    "##### Use the whole Jeopardy dataset (available here) instead of the subset we used in this lesson.\n",
    "\n",
    "##### Use phrases instead of single words when seeing if there's overlap between questions. Single words don't capture the whole context of the question well."
   ]
  }
 ],
 "metadata": {
  "kernelspec": {
   "display_name": "Python 3",
   "language": "python",
   "name": "python3"
  },
  "language_info": {
   "codemirror_mode": {
    "name": "ipython",
    "version": 3
   },
   "file_extension": ".py",
   "mimetype": "text/x-python",
   "name": "python",
   "nbconvert_exporter": "python",
   "pygments_lexer": "ipython3",
   "version": "3.12.1"
  }
 },
 "nbformat": 4,
 "nbformat_minor": 2
}

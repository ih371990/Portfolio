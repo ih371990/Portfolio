{
 "cells": [
  {
   "cell_type": "markdown",
   "metadata": {},
   "source": [
    "## Hacker News Analysis"
   ]
  },
  {
   "cell_type": "markdown",
   "metadata": {},
   "source": [
    "#### Table of Contents\n",
    "* [Introduction](#1)\n",
    "* [Open csv file](#2)\n",
    "* [extract header and separate data rows](#3)\n",
    "* [Separating ASK HN, SHOW HN, AND OTHER POSTS](#4)\n",
    "* [Calculate Avg Comments per SHOW vs ASK posts](#5)\n",
    "* [Focused Analysis on ASK posts](#6)\n",
    "* [Conclusion](#7)\n"
   ]
  },
  {
   "cell_type": "markdown",
   "metadata": {},
   "source": [
    "#### Introduction <a class='anchor' id='1'></a>\n",
    "In this project, we will be using a dataset from Hacker News to perform basic data analysis functions in Python.\n",
    "\n",
    "Specifically, we'll be comparing two types of posts on the Hacker News website to answer the following:\n",
    "\n",
    "Do Ask HN or Show HN posts receive more comments on average?\n",
    "Do posts created at a certain time receive more comments on average?"
   ]
  },
  {
   "cell_type": "markdown",
   "metadata": {},
   "source": [
    "#### Open csv file + view 1st 5 rows <a class='anchor' id='2'></a>"
   ]
  },
  {
   "cell_type": "code",
   "execution_count": 18,
   "metadata": {},
   "outputs": [
    {
     "name": "stdout",
     "output_type": "stream",
     "text": [
      "['id', 'title', 'url', 'num_points', 'num_comments', 'author', 'created_at']\n",
      "['12224879', 'Interactive Dynamic Video', 'http://www.interactivedynamicvideo.com/', '386', '52', 'ne0phyte', '8/4/2016 11:52']\n",
      "['10975351', 'How to Use Open Source and Shut the Fuck Up at the Same Time', 'http://hueniverse.com/2016/01/26/how-to-use-open-source-and-shut-the-fuck-up-at-the-same-time/', '39', '10', 'josep2', '1/26/2016 19:30']\n",
      "['11964716', \"Florida DJs May Face Felony for April Fools' Water Joke\", 'http://www.thewire.com/entertainment/2013/04/florida-djs-april-fools-water-joke/63798/', '2', '1', 'vezycash', '6/23/2016 22:20']\n",
      "['11919867', 'Technology ventures: From Idea to Enterprise', 'https://www.amazon.com/Technology-Ventures-Enterprise-Thomas-Byers/dp/0073523429', '3', '1', 'hswarna', '6/17/2016 0:01']\n"
     ]
    }
   ],
   "source": [
    "import csv as c\n",
    "\n",
    "opened_file = open(\"D:/DataQuest/hacker_news.csv\")\n",
    "read_file = c.reader(opened_file)\n",
    "hacker_list = list(read_file)\n",
    "\n",
    "for x in hacker_list[:5]:\n",
    "    print(x)"
   ]
  },
  {
   "cell_type": "markdown",
   "metadata": {},
   "source": [
    "#### extract header and separate data rows <a class='anchor' id='3'></a>"
   ]
  },
  {
   "cell_type": "code",
   "execution_count": 19,
   "metadata": {},
   "outputs": [
    {
     "name": "stdout",
     "output_type": "stream",
     "text": [
      "['id', 'title', 'url', 'num_points', 'num_comments', 'author', 'created_at']\n"
     ]
    }
   ],
   "source": [
    "header = hacker_list[:1]\n",
    "for x in header:\n",
    "    print(x)"
   ]
  },
  {
   "cell_type": "code",
   "execution_count": 20,
   "metadata": {},
   "outputs": [
    {
     "name": "stdout",
     "output_type": "stream",
     "text": [
      "['12224879', 'Interactive Dynamic Video', 'http://www.interactivedynamicvideo.com/', '386', '52', 'ne0phyte', '8/4/2016 11:52']\n",
      "['10975351', 'How to Use Open Source and Shut the Fuck Up at the Same Time', 'http://hueniverse.com/2016/01/26/how-to-use-open-source-and-shut-the-fuck-up-at-the-same-time/', '39', '10', 'josep2', '1/26/2016 19:30']\n",
      "['11964716', \"Florida DJs May Face Felony for April Fools' Water Joke\", 'http://www.thewire.com/entertainment/2013/04/florida-djs-april-fools-water-joke/63798/', '2', '1', 'vezycash', '6/23/2016 22:20']\n",
      "['11919867', 'Technology ventures: From Idea to Enterprise', 'https://www.amazon.com/Technology-Ventures-Enterprise-Thomas-Byers/dp/0073523429', '3', '1', 'hswarna', '6/17/2016 0:01']\n",
      "['10301696', 'Note by Note: The Making of Steinway L1037 (2007)', 'http://www.nytimes.com/2007/11/07/movies/07stein.html?_r=0', '8', '2', 'walterbell', '9/30/2015 4:12']\n"
     ]
    }
   ],
   "source": [
    "hacker_list = hacker_list[1:]\n",
    "for x in hacker_list[:5]:\n",
    "    print(x)"
   ]
  },
  {
   "cell_type": "markdown",
   "metadata": {},
   "source": [
    "#### Separating ASK HN, SHOW HN, AND OTHER POSTS <a class='anchor' id='4'></a>"
   ]
  },
  {
   "cell_type": "code",
   "execution_count": 23,
   "metadata": {},
   "outputs": [
    {
     "name": "stdout",
     "output_type": "stream",
     "text": [
      "1744\n",
      "1162\n",
      "17194\n"
     ]
    }
   ],
   "source": [
    "ask_hn = []\n",
    "show_hn = []\n",
    "other_hn = []\n",
    "\n",
    "for row in hacker_list:\n",
    "    title = row[1].lower()\n",
    "    if title.startswith('ask hn'):\n",
    "        ask_hn.append(title)\n",
    "    elif title.startswith('show hn'):\n",
    "        show_hn.append(title)\n",
    "    else:\n",
    "        other_hn.append(title)\n",
    "\n",
    "print(len(ask_hn))\n",
    "print(len(show_hn))\n",
    "print(len(other_hn))"
   ]
  },
  {
   "cell_type": "markdown",
   "metadata": {},
   "source": [
    "#### Let's have a look at each list."
   ]
  },
  {
   "cell_type": "code",
   "execution_count": 24,
   "metadata": {},
   "outputs": [
    {
     "name": "stdout",
     "output_type": "stream",
     "text": [
      "ask hn: how to improve my personal website?\n",
      "ask hn: am i the only one outraged by twitter shutting down share counts?\n",
      "ask hn: aby recent changes to css that broke mobile?\n",
      "ask hn: looking for employee #3 how do i do it?\n",
      "ask hn: someone offered to buy my browser extension from me. what now?\n"
     ]
    }
   ],
   "source": [
    "for row in ask_hn[:5]:\n",
    "    print(row)"
   ]
  },
  {
   "cell_type": "code",
   "execution_count": 25,
   "metadata": {},
   "outputs": [
    {
     "name": "stdout",
     "output_type": "stream",
     "text": [
      "show hn: wio link  esp8266 based web of things hardware development platform\n",
      "show hn: something pointless i made\n",
      "show hn: shanhu.io, a programming playground powered by e8vm\n",
      "show hn: webscope  easy way for web developers to communicate with clients\n",
      "show hn: geoscreenshot  easily test geo-ip based web pages\n"
     ]
    }
   ],
   "source": [
    "for row in show_hn[:5]:\n",
    "    print(row)"
   ]
  },
  {
   "cell_type": "code",
   "execution_count": 26,
   "metadata": {},
   "outputs": [
    {
     "name": "stdout",
     "output_type": "stream",
     "text": [
      "interactive dynamic video\n",
      "how to use open source and shut the fuck up at the same time\n",
      "florida djs may face felony for april fools' water joke\n",
      "technology ventures: from idea to enterprise\n",
      "note by note: the making of steinway l1037 (2007)\n"
     ]
    }
   ],
   "source": [
    "for row in other_hn[:5]:\n",
    "    print(row)"
   ]
  },
  {
   "cell_type": "markdown",
   "metadata": {},
   "source": [
    "The lists look correct."
   ]
  },
  {
   "cell_type": "markdown",
   "metadata": {},
   "source": [
    "### Calculate Avg Comments per SHOW vs ASK posts <a class='anchor' id='5'></a>"
   ]
  },
  {
   "cell_type": "code",
   "execution_count": 36,
   "metadata": {},
   "outputs": [
    {
     "name": "stdout",
     "output_type": "stream",
     "text": [
      "14.038417431192661\n"
     ]
    }
   ],
   "source": [
    "total_comments = 0\n",
    "num_of_comments = len(ask_hn)\n",
    "for row in hacker_list:\n",
    "    if row[1].lower() in ask_hn:\n",
    "        total_comments += int(row[4])\n",
    "avg_ask_comments = total_comments / num_of_comments\n",
    "print(avg_ask_comments)"
   ]
  },
  {
   "cell_type": "code",
   "execution_count": 37,
   "metadata": {},
   "outputs": [
    {
     "name": "stdout",
     "output_type": "stream",
     "text": [
      "10.31669535283993\n"
     ]
    }
   ],
   "source": [
    "total_comments = 0\n",
    "num_of_comments = len(show_hn)\n",
    "for row in hacker_list:\n",
    "    if row[1].lower() in show_hn:\n",
    "        total_comments += int(row[4])\n",
    "avg_show_comments = total_comments / num_of_comments\n",
    "print(avg_show_comments)"
   ]
  },
  {
   "cell_type": "markdown",
   "metadata": {},
   "source": [
    "Ask Posts have on average 14 comments vs SHOW posts average of 10 comments"
   ]
  },
  {
   "cell_type": "markdown",
   "metadata": {},
   "source": [
    "#### Next, focused analysis on ASK POSTS. <a class='anchor' id='6'></a>\n",
    "Calculate the number of ask posts created in each hour of the day, along with the number of comments received.\n",
    "Calculate the average number of comments ask posts receive by hour created."
   ]
  },
  {
   "cell_type": "markdown",
   "metadata": {},
   "source": [
    "Create dataset with only ASK POSTS"
   ]
  },
  {
   "cell_type": "code",
   "execution_count": 68,
   "metadata": {},
   "outputs": [],
   "source": [
    "ASK_list = []\n",
    "for row in hacker_list:\n",
    "    if row[1].lower() in ask_hn:\n",
    "        ASK_list.append(row)"
   ]
  },
  {
   "cell_type": "markdown",
   "metadata": {},
   "source": [
    "We convert date to date time, extract hours and create frequency table of created posts per hour. Next we sort them by descending order.\n",
    "Afterwards we go back and add in number of comments into the loop, as marked by #"
   ]
  },
  {
   "cell_type": "code",
   "execution_count": 69,
   "metadata": {},
   "outputs": [
    {
     "name": "stdout",
     "output_type": "stream",
     "text": [
      "15: 116\n",
      "19: 110\n",
      "21: 109\n",
      "18: 109\n",
      "16: 108\n",
      "14: 107\n",
      "17: 100\n",
      "13: 85\n",
      "20: 80\n",
      "12: 73\n",
      "22: 71\n",
      "23: 68\n",
      "01: 60\n",
      "10: 59\n",
      "11: 58\n",
      "02: 58\n",
      "00: 55\n",
      "03: 54\n",
      "08: 48\n",
      "04: 47\n",
      "05: 46\n",
      "09: 45\n",
      "06: 44\n",
      "07: 34\n"
     ]
    }
   ],
   "source": [
    "import datetime as dt\n",
    "freq_hourly = {}\n",
    "num_comments = {}\n",
    "for row in ASK_list:\n",
    "    ask_date = row[-1]\n",
    "    parse_date = dt.datetime.strptime(ask_date, \"%m/%d/%Y %H:%M\")\n",
    "    hour = parse_date.strftime('%H')\n",
    "    if hour in freq_hourly:\n",
    "        freq_hourly[hour] += 1\n",
    "        num_comments[hour] += int(row[-3]) #\n",
    "    else:\n",
    "        freq_hourly[hour] = 1\n",
    "        num_comments[hour] = int(row[-3]) #\n",
    "\n",
    "rank = []\n",
    "for x in freq_hourly:\n",
    "    tuple1 = (freq_hourly[x],x)\n",
    "    rank.append(tuple1)\n",
    "    rank = sorted(rank,reverse=True)\n",
    "for x in rank:\n",
    "    print(f\"{x[1]}: {x[0]}\")"
   ]
  },
  {
   "cell_type": "markdown",
   "metadata": {},
   "source": [
    "Most posts are created around 13:00"
   ]
  },
  {
   "cell_type": "code",
   "execution_count": 70,
   "metadata": {},
   "outputs": [
    {
     "name": "stdout",
     "output_type": "stream",
     "text": [
      "15: 4477\n",
      "16: 1814\n",
      "21: 1745\n",
      "20: 1722\n",
      "18: 1439\n",
      "14: 1416\n",
      "02: 1381\n",
      "13: 1253\n",
      "19: 1188\n",
      "17: 1146\n",
      "10: 793\n",
      "12: 687\n",
      "01: 683\n",
      "11: 641\n",
      "23: 543\n",
      "08: 492\n",
      "22: 479\n",
      "05: 464\n",
      "00: 447\n",
      "03: 421\n",
      "06: 397\n",
      "04: 337\n",
      "07: 267\n",
      "09: 251\n"
     ]
    }
   ],
   "source": [
    "rank = []\n",
    "for x in num_comments:\n",
    "    tuple1 = (num_comments[x],x)\n",
    "    rank.append(tuple1)\n",
    "    rank = sorted(rank,reverse=True)\n",
    "for x in rank:\n",
    "    print(f\"{x[1]}: {x[0]}\")"
   ]
  },
  {
   "cell_type": "markdown",
   "metadata": {},
   "source": [
    "Most comments come in shortly after at 1400."
   ]
  },
  {
   "cell_type": "markdown",
   "metadata": {},
   "source": [
    "#### Calculate the avg number of comments per post breakdown by hour of the day"
   ]
  },
  {
   "cell_type": "code",
   "execution_count": 73,
   "metadata": {},
   "outputs": [
    {
     "name": "stdout",
     "output_type": "stream",
     "text": [
      "15: 38.59\n",
      "02: 23.81\n",
      "20: 21.52\n",
      "16: 16.8\n",
      "21: 16.01\n"
     ]
    }
   ],
   "source": [
    "avg = {}\n",
    "for x in freq_hourly:\n",
    "    avg[x] = round(num_comments[x] / freq_hourly[x],2)\n",
    "\n",
    "rank = []\n",
    "for x in avg:\n",
    "    tuple1 = (avg[x],x)\n",
    "    rank.append(tuple1)\n",
    "    rank = sorted(rank,reverse=True)\n",
    "for x in rank[:5]:\n",
    "    print(f\"{x[1]}: {x[0]}\")"
   ]
  },
  {
   "cell_type": "markdown",
   "metadata": {},
   "source": [
    "It appears the top 5 hours of the day to post questions to maximize comment response would be in the times listed above."
   ]
  },
  {
   "cell_type": "markdown",
   "metadata": {},
   "source": [
    "#### Conclusion <a class='anchor' id='7'></a>"
   ]
  },
  {
   "cell_type": "markdown",
   "metadata": {},
   "source": [
    "In this project, we have performed some basic data analysis functions in Python utilizing lists, dictionaries, and tuples."
   ]
  }
 ],
 "metadata": {
  "kernelspec": {
   "display_name": "Python 3",
   "language": "python",
   "name": "python3"
  },
  "language_info": {
   "codemirror_mode": {
    "name": "ipython",
    "version": 3
   },
   "file_extension": ".py",
   "mimetype": "text/x-python",
   "name": "python",
   "nbconvert_exporter": "python",
   "pygments_lexer": "ipython3",
   "version": "3.12.0"
  }
 },
 "nbformat": 4,
 "nbformat_minor": 2
}

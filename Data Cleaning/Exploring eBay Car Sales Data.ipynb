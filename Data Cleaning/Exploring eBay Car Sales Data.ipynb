{
 "cells": [
  {
   "cell_type": "markdown",
   "metadata": {},
   "source": [
    "# Exploring eBay Car Sales Data"
   ]
  },
  {
   "cell_type": "markdown",
   "metadata": {},
   "source": [
    "#### Table of Contents\n",
    "* [Introduction](#1)\n",
    "* [Exploratory Data Analysis](#2)\n",
    "* [Data Cleaning](#3)\n",
    "* [Data Analysis](#4)\n",
    "* [Conclusion](#5)"
   ]
  },
  {
   "cell_type": "markdown",
   "metadata": {},
   "source": [
    "#### Introduction <a class='anchor' id='1'></a>"
   ]
  },
  {
   "cell_type": "markdown",
   "metadata": {},
   "source": [
    "In this project, we explore the eBay car sales dataset from DataQuest guided project."
   ]
  },
  {
   "cell_type": "markdown",
   "metadata": {},
   "source": [
    "The objective of this project:\n",
    "- To practice Exploratory Data Analysis\n",
    "- To practice Data Cleaning"
   ]
  },
  {
   "cell_type": "markdown",
   "metadata": {},
   "source": [
    "#### Exploratory Data Analysis <a class='anchor' id='2'></a>"
   ]
  },
  {
   "cell_type": "code",
   "execution_count": 195,
   "metadata": {},
   "outputs": [],
   "source": [
    "import pandas as pd, numpy as numpy\n",
    "\n",
    "autos = pd.read_csv(\"D:/DataQuest/autos.csv\", encoding='Latin-1')"
   ]
  },
  {
   "cell_type": "markdown",
   "metadata": {},
   "source": [
    "File couldn't be read with UTF-8. Successful with latin-1"
   ]
  },
  {
   "cell_type": "code",
   "execution_count": 49,
   "metadata": {},
   "outputs": [
    {
     "data": {
      "text/html": [
       "<div>\n",
       "<style scoped>\n",
       "    .dataframe tbody tr th:only-of-type {\n",
       "        vertical-align: middle;\n",
       "    }\n",
       "\n",
       "    .dataframe tbody tr th {\n",
       "        vertical-align: top;\n",
       "    }\n",
       "\n",
       "    .dataframe thead th {\n",
       "        text-align: right;\n",
       "    }\n",
       "</style>\n",
       "<table border=\"1\" class=\"dataframe\">\n",
       "  <thead>\n",
       "    <tr style=\"text-align: right;\">\n",
       "      <th></th>\n",
       "      <th>dateCrawled</th>\n",
       "      <th>name</th>\n",
       "      <th>seller</th>\n",
       "      <th>offerType</th>\n",
       "      <th>price</th>\n",
       "      <th>abtest</th>\n",
       "      <th>vehicleType</th>\n",
       "      <th>yearOfRegistration</th>\n",
       "      <th>gearbox</th>\n",
       "      <th>powerPS</th>\n",
       "      <th>model</th>\n",
       "      <th>odometer</th>\n",
       "      <th>monthOfRegistration</th>\n",
       "      <th>fuelType</th>\n",
       "      <th>brand</th>\n",
       "      <th>notRepairedDamage</th>\n",
       "      <th>dateCreated</th>\n",
       "      <th>nrOfPictures</th>\n",
       "      <th>postalCode</th>\n",
       "      <th>lastSeen</th>\n",
       "    </tr>\n",
       "  </thead>\n",
       "  <tbody>\n",
       "    <tr>\n",
       "      <th>0</th>\n",
       "      <td>2016-03-26 17:47:46</td>\n",
       "      <td>Peugeot_807_160_NAVTECH_ON_BOARD</td>\n",
       "      <td>privat</td>\n",
       "      <td>Angebot</td>\n",
       "      <td>$5,000</td>\n",
       "      <td>control</td>\n",
       "      <td>bus</td>\n",
       "      <td>2004</td>\n",
       "      <td>manuell</td>\n",
       "      <td>158</td>\n",
       "      <td>andere</td>\n",
       "      <td>150,000km</td>\n",
       "      <td>3</td>\n",
       "      <td>lpg</td>\n",
       "      <td>peugeot</td>\n",
       "      <td>nein</td>\n",
       "      <td>2016-03-26 00:00:00</td>\n",
       "      <td>0</td>\n",
       "      <td>79588</td>\n",
       "      <td>2016-04-06 06:45:54</td>\n",
       "    </tr>\n",
       "    <tr>\n",
       "      <th>1</th>\n",
       "      <td>2016-04-04 13:38:56</td>\n",
       "      <td>BMW_740i_4_4_Liter_HAMANN_UMBAU_Mega_Optik</td>\n",
       "      <td>privat</td>\n",
       "      <td>Angebot</td>\n",
       "      <td>$8,500</td>\n",
       "      <td>control</td>\n",
       "      <td>limousine</td>\n",
       "      <td>1997</td>\n",
       "      <td>automatik</td>\n",
       "      <td>286</td>\n",
       "      <td>7er</td>\n",
       "      <td>150,000km</td>\n",
       "      <td>6</td>\n",
       "      <td>benzin</td>\n",
       "      <td>bmw</td>\n",
       "      <td>nein</td>\n",
       "      <td>2016-04-04 00:00:00</td>\n",
       "      <td>0</td>\n",
       "      <td>71034</td>\n",
       "      <td>2016-04-06 14:45:08</td>\n",
       "    </tr>\n",
       "    <tr>\n",
       "      <th>2</th>\n",
       "      <td>2016-03-26 18:57:24</td>\n",
       "      <td>Volkswagen_Golf_1.6_United</td>\n",
       "      <td>privat</td>\n",
       "      <td>Angebot</td>\n",
       "      <td>$8,990</td>\n",
       "      <td>test</td>\n",
       "      <td>limousine</td>\n",
       "      <td>2009</td>\n",
       "      <td>manuell</td>\n",
       "      <td>102</td>\n",
       "      <td>golf</td>\n",
       "      <td>70,000km</td>\n",
       "      <td>7</td>\n",
       "      <td>benzin</td>\n",
       "      <td>volkswagen</td>\n",
       "      <td>nein</td>\n",
       "      <td>2016-03-26 00:00:00</td>\n",
       "      <td>0</td>\n",
       "      <td>35394</td>\n",
       "      <td>2016-04-06 20:15:37</td>\n",
       "    </tr>\n",
       "    <tr>\n",
       "      <th>3</th>\n",
       "      <td>2016-03-12 16:58:10</td>\n",
       "      <td>Smart_smart_fortwo_coupe_softouch/F1/Klima/Pan...</td>\n",
       "      <td>privat</td>\n",
       "      <td>Angebot</td>\n",
       "      <td>$4,350</td>\n",
       "      <td>control</td>\n",
       "      <td>kleinwagen</td>\n",
       "      <td>2007</td>\n",
       "      <td>automatik</td>\n",
       "      <td>71</td>\n",
       "      <td>fortwo</td>\n",
       "      <td>70,000km</td>\n",
       "      <td>6</td>\n",
       "      <td>benzin</td>\n",
       "      <td>smart</td>\n",
       "      <td>nein</td>\n",
       "      <td>2016-03-12 00:00:00</td>\n",
       "      <td>0</td>\n",
       "      <td>33729</td>\n",
       "      <td>2016-03-15 03:16:28</td>\n",
       "    </tr>\n",
       "    <tr>\n",
       "      <th>4</th>\n",
       "      <td>2016-04-01 14:38:50</td>\n",
       "      <td>Ford_Focus_1_6_Benzin_TÜV_neu_ist_sehr_gepfleg...</td>\n",
       "      <td>privat</td>\n",
       "      <td>Angebot</td>\n",
       "      <td>$1,350</td>\n",
       "      <td>test</td>\n",
       "      <td>kombi</td>\n",
       "      <td>2003</td>\n",
       "      <td>manuell</td>\n",
       "      <td>0</td>\n",
       "      <td>focus</td>\n",
       "      <td>150,000km</td>\n",
       "      <td>7</td>\n",
       "      <td>benzin</td>\n",
       "      <td>ford</td>\n",
       "      <td>nein</td>\n",
       "      <td>2016-04-01 00:00:00</td>\n",
       "      <td>0</td>\n",
       "      <td>39218</td>\n",
       "      <td>2016-04-01 14:38:50</td>\n",
       "    </tr>\n",
       "    <tr>\n",
       "      <th>...</th>\n",
       "      <td>...</td>\n",
       "      <td>...</td>\n",
       "      <td>...</td>\n",
       "      <td>...</td>\n",
       "      <td>...</td>\n",
       "      <td>...</td>\n",
       "      <td>...</td>\n",
       "      <td>...</td>\n",
       "      <td>...</td>\n",
       "      <td>...</td>\n",
       "      <td>...</td>\n",
       "      <td>...</td>\n",
       "      <td>...</td>\n",
       "      <td>...</td>\n",
       "      <td>...</td>\n",
       "      <td>...</td>\n",
       "      <td>...</td>\n",
       "      <td>...</td>\n",
       "      <td>...</td>\n",
       "      <td>...</td>\n",
       "    </tr>\n",
       "    <tr>\n",
       "      <th>49995</th>\n",
       "      <td>2016-03-27 14:38:19</td>\n",
       "      <td>Audi_Q5_3.0_TDI_qu._S_tr.__Navi__Panorama__Xenon</td>\n",
       "      <td>privat</td>\n",
       "      <td>Angebot</td>\n",
       "      <td>$24,900</td>\n",
       "      <td>control</td>\n",
       "      <td>limousine</td>\n",
       "      <td>2011</td>\n",
       "      <td>automatik</td>\n",
       "      <td>239</td>\n",
       "      <td>q5</td>\n",
       "      <td>100,000km</td>\n",
       "      <td>1</td>\n",
       "      <td>diesel</td>\n",
       "      <td>audi</td>\n",
       "      <td>nein</td>\n",
       "      <td>2016-03-27 00:00:00</td>\n",
       "      <td>0</td>\n",
       "      <td>82131</td>\n",
       "      <td>2016-04-01 13:47:40</td>\n",
       "    </tr>\n",
       "    <tr>\n",
       "      <th>49996</th>\n",
       "      <td>2016-03-28 10:50:25</td>\n",
       "      <td>Opel_Astra_F_Cabrio_Bertone_Edition___TÜV_neu+...</td>\n",
       "      <td>privat</td>\n",
       "      <td>Angebot</td>\n",
       "      <td>$1,980</td>\n",
       "      <td>control</td>\n",
       "      <td>cabrio</td>\n",
       "      <td>1996</td>\n",
       "      <td>manuell</td>\n",
       "      <td>75</td>\n",
       "      <td>astra</td>\n",
       "      <td>150,000km</td>\n",
       "      <td>5</td>\n",
       "      <td>benzin</td>\n",
       "      <td>opel</td>\n",
       "      <td>nein</td>\n",
       "      <td>2016-03-28 00:00:00</td>\n",
       "      <td>0</td>\n",
       "      <td>44807</td>\n",
       "      <td>2016-04-02 14:18:02</td>\n",
       "    </tr>\n",
       "    <tr>\n",
       "      <th>49997</th>\n",
       "      <td>2016-04-02 14:44:48</td>\n",
       "      <td>Fiat_500_C_1.2_Dualogic_Lounge</td>\n",
       "      <td>privat</td>\n",
       "      <td>Angebot</td>\n",
       "      <td>$13,200</td>\n",
       "      <td>test</td>\n",
       "      <td>cabrio</td>\n",
       "      <td>2014</td>\n",
       "      <td>automatik</td>\n",
       "      <td>69</td>\n",
       "      <td>500</td>\n",
       "      <td>5,000km</td>\n",
       "      <td>11</td>\n",
       "      <td>benzin</td>\n",
       "      <td>fiat</td>\n",
       "      <td>nein</td>\n",
       "      <td>2016-04-02 00:00:00</td>\n",
       "      <td>0</td>\n",
       "      <td>73430</td>\n",
       "      <td>2016-04-04 11:47:27</td>\n",
       "    </tr>\n",
       "    <tr>\n",
       "      <th>49998</th>\n",
       "      <td>2016-03-08 19:25:42</td>\n",
       "      <td>Audi_A3_2.0_TDI_Sportback_Ambition</td>\n",
       "      <td>privat</td>\n",
       "      <td>Angebot</td>\n",
       "      <td>$22,900</td>\n",
       "      <td>control</td>\n",
       "      <td>kombi</td>\n",
       "      <td>2013</td>\n",
       "      <td>manuell</td>\n",
       "      <td>150</td>\n",
       "      <td>a3</td>\n",
       "      <td>40,000km</td>\n",
       "      <td>11</td>\n",
       "      <td>diesel</td>\n",
       "      <td>audi</td>\n",
       "      <td>nein</td>\n",
       "      <td>2016-03-08 00:00:00</td>\n",
       "      <td>0</td>\n",
       "      <td>35683</td>\n",
       "      <td>2016-04-05 16:45:07</td>\n",
       "    </tr>\n",
       "    <tr>\n",
       "      <th>49999</th>\n",
       "      <td>2016-03-14 00:42:12</td>\n",
       "      <td>Opel_Vectra_1.6_16V</td>\n",
       "      <td>privat</td>\n",
       "      <td>Angebot</td>\n",
       "      <td>$1,250</td>\n",
       "      <td>control</td>\n",
       "      <td>limousine</td>\n",
       "      <td>1996</td>\n",
       "      <td>manuell</td>\n",
       "      <td>101</td>\n",
       "      <td>vectra</td>\n",
       "      <td>150,000km</td>\n",
       "      <td>1</td>\n",
       "      <td>benzin</td>\n",
       "      <td>opel</td>\n",
       "      <td>nein</td>\n",
       "      <td>2016-03-13 00:00:00</td>\n",
       "      <td>0</td>\n",
       "      <td>45897</td>\n",
       "      <td>2016-04-06 21:18:48</td>\n",
       "    </tr>\n",
       "  </tbody>\n",
       "</table>\n",
       "<p>50000 rows × 20 columns</p>\n",
       "</div>"
      ],
      "text/plain": [
       "               dateCrawled                                               name  \\\n",
       "0      2016-03-26 17:47:46                   Peugeot_807_160_NAVTECH_ON_BOARD   \n",
       "1      2016-04-04 13:38:56         BMW_740i_4_4_Liter_HAMANN_UMBAU_Mega_Optik   \n",
       "2      2016-03-26 18:57:24                         Volkswagen_Golf_1.6_United   \n",
       "3      2016-03-12 16:58:10  Smart_smart_fortwo_coupe_softouch/F1/Klima/Pan...   \n",
       "4      2016-04-01 14:38:50  Ford_Focus_1_6_Benzin_TÜV_neu_ist_sehr_gepfleg...   \n",
       "...                    ...                                                ...   \n",
       "49995  2016-03-27 14:38:19   Audi_Q5_3.0_TDI_qu._S_tr.__Navi__Panorama__Xenon   \n",
       "49996  2016-03-28 10:50:25  Opel_Astra_F_Cabrio_Bertone_Edition___TÜV_neu+...   \n",
       "49997  2016-04-02 14:44:48                     Fiat_500_C_1.2_Dualogic_Lounge   \n",
       "49998  2016-03-08 19:25:42                 Audi_A3_2.0_TDI_Sportback_Ambition   \n",
       "49999  2016-03-14 00:42:12                                Opel_Vectra_1.6_16V   \n",
       "\n",
       "       seller offerType    price   abtest vehicleType  yearOfRegistration  \\\n",
       "0      privat   Angebot   $5,000  control         bus                2004   \n",
       "1      privat   Angebot   $8,500  control   limousine                1997   \n",
       "2      privat   Angebot   $8,990     test   limousine                2009   \n",
       "3      privat   Angebot   $4,350  control  kleinwagen                2007   \n",
       "4      privat   Angebot   $1,350     test       kombi                2003   \n",
       "...       ...       ...      ...      ...         ...                 ...   \n",
       "49995  privat   Angebot  $24,900  control   limousine                2011   \n",
       "49996  privat   Angebot   $1,980  control      cabrio                1996   \n",
       "49997  privat   Angebot  $13,200     test      cabrio                2014   \n",
       "49998  privat   Angebot  $22,900  control       kombi                2013   \n",
       "49999  privat   Angebot   $1,250  control   limousine                1996   \n",
       "\n",
       "         gearbox  powerPS   model   odometer  monthOfRegistration fuelType  \\\n",
       "0        manuell      158  andere  150,000km                    3      lpg   \n",
       "1      automatik      286     7er  150,000km                    6   benzin   \n",
       "2        manuell      102    golf   70,000km                    7   benzin   \n",
       "3      automatik       71  fortwo   70,000km                    6   benzin   \n",
       "4        manuell        0   focus  150,000km                    7   benzin   \n",
       "...          ...      ...     ...        ...                  ...      ...   \n",
       "49995  automatik      239      q5  100,000km                    1   diesel   \n",
       "49996    manuell       75   astra  150,000km                    5   benzin   \n",
       "49997  automatik       69     500    5,000km                   11   benzin   \n",
       "49998    manuell      150      a3   40,000km                   11   diesel   \n",
       "49999    manuell      101  vectra  150,000km                    1   benzin   \n",
       "\n",
       "            brand notRepairedDamage          dateCreated  nrOfPictures  \\\n",
       "0         peugeot              nein  2016-03-26 00:00:00             0   \n",
       "1             bmw              nein  2016-04-04 00:00:00             0   \n",
       "2      volkswagen              nein  2016-03-26 00:00:00             0   \n",
       "3           smart              nein  2016-03-12 00:00:00             0   \n",
       "4            ford              nein  2016-04-01 00:00:00             0   \n",
       "...           ...               ...                  ...           ...   \n",
       "49995        audi              nein  2016-03-27 00:00:00             0   \n",
       "49996        opel              nein  2016-03-28 00:00:00             0   \n",
       "49997        fiat              nein  2016-04-02 00:00:00             0   \n",
       "49998        audi              nein  2016-03-08 00:00:00             0   \n",
       "49999        opel              nein  2016-03-13 00:00:00             0   \n",
       "\n",
       "       postalCode             lastSeen  \n",
       "0           79588  2016-04-06 06:45:54  \n",
       "1           71034  2016-04-06 14:45:08  \n",
       "2           35394  2016-04-06 20:15:37  \n",
       "3           33729  2016-03-15 03:16:28  \n",
       "4           39218  2016-04-01 14:38:50  \n",
       "...           ...                  ...  \n",
       "49995       82131  2016-04-01 13:47:40  \n",
       "49996       44807  2016-04-02 14:18:02  \n",
       "49997       73430  2016-04-04 11:47:27  \n",
       "49998       35683  2016-04-05 16:45:07  \n",
       "49999       45897  2016-04-06 21:18:48  \n",
       "\n",
       "[50000 rows x 20 columns]"
      ]
     },
     "execution_count": 49,
     "metadata": {},
     "output_type": "execute_result"
    }
   ],
   "source": [
    "autos"
   ]
  },
  {
   "cell_type": "code",
   "execution_count": 4,
   "metadata": {},
   "outputs": [
    {
     "name": "stdout",
     "output_type": "stream",
     "text": [
      "<class 'pandas.core.frame.DataFrame'>\n",
      "RangeIndex: 50000 entries, 0 to 49999\n",
      "Data columns (total 20 columns):\n",
      " #   Column               Non-Null Count  Dtype \n",
      "---  ------               --------------  ----- \n",
      " 0   dateCrawled          50000 non-null  object\n",
      " 1   name                 50000 non-null  object\n",
      " 2   seller               50000 non-null  object\n",
      " 3   offerType            50000 non-null  object\n",
      " 4   price                50000 non-null  object\n",
      " 5   abtest               50000 non-null  object\n",
      " 6   vehicleType          44905 non-null  object\n",
      " 7   yearOfRegistration   50000 non-null  int64 \n",
      " 8   gearbox              47320 non-null  object\n",
      " 9   powerPS              50000 non-null  int64 \n",
      " 10  model                47242 non-null  object\n",
      " 11  odometer             50000 non-null  object\n",
      " 12  monthOfRegistration  50000 non-null  int64 \n",
      " 13  fuelType             45518 non-null  object\n",
      " 14  brand                50000 non-null  object\n",
      " 15  notRepairedDamage    40171 non-null  object\n",
      " 16  dateCreated          50000 non-null  object\n",
      " 17  nrOfPictures         50000 non-null  int64 \n",
      " 18  postalCode           50000 non-null  int64 \n",
      " 19  lastSeen             50000 non-null  object\n",
      "dtypes: int64(5), object(15)\n",
      "memory usage: 7.6+ MB\n"
     ]
    }
   ],
   "source": [
    "autos.info()"
   ]
  },
  {
   "cell_type": "markdown",
   "metadata": {},
   "source": [
    "50,000 total rows\n",
    "vehicleType, gearbox, model, fuleType, notRepairedDamage - these may have null values or missing data\n",
    "dateCrawled, dateCreated, lastSeen - these may need to be converted to datetime\n",
    "price - need to remove $ and converted to float\n",
    "odometer - need to remove km and comma\n",
    "\n",
    "column names can be renamed"
   ]
  },
  {
   "cell_type": "markdown",
   "metadata": {},
   "source": [
    "#### Data Cleaning <a class='anchor' id='3'></a>"
   ]
  },
  {
   "cell_type": "markdown",
   "metadata": {},
   "source": [
    "#### rename columns"
   ]
  },
  {
   "cell_type": "markdown",
   "metadata": {},
   "source": [
    "We will change camelcase names to snakecase names."
   ]
  },
  {
   "cell_type": "code",
   "execution_count": 196,
   "metadata": {},
   "outputs": [
    {
     "data": {
      "text/html": [
       "<div>\n",
       "<style scoped>\n",
       "    .dataframe tbody tr th:only-of-type {\n",
       "        vertical-align: middle;\n",
       "    }\n",
       "\n",
       "    .dataframe tbody tr th {\n",
       "        vertical-align: top;\n",
       "    }\n",
       "\n",
       "    .dataframe thead th {\n",
       "        text-align: right;\n",
       "    }\n",
       "</style>\n",
       "<table border=\"1\" class=\"dataframe\">\n",
       "  <thead>\n",
       "    <tr style=\"text-align: right;\">\n",
       "      <th></th>\n",
       "      <th>date_crawled</th>\n",
       "      <th>name</th>\n",
       "      <th>seller</th>\n",
       "      <th>offer_type</th>\n",
       "      <th>price</th>\n",
       "      <th>abtest</th>\n",
       "      <th>vehicle_type</th>\n",
       "      <th>registration_year</th>\n",
       "      <th>gearbox</th>\n",
       "      <th>power_ps</th>\n",
       "      <th>model</th>\n",
       "      <th>odometer</th>\n",
       "      <th>registration_month</th>\n",
       "      <th>fuel_type</th>\n",
       "      <th>brand</th>\n",
       "      <th>unrepaired_damage</th>\n",
       "      <th>ad_created</th>\n",
       "      <th>num_pictures</th>\n",
       "      <th>postal_code</th>\n",
       "      <th>last_seen</th>\n",
       "    </tr>\n",
       "  </thead>\n",
       "  <tbody>\n",
       "    <tr>\n",
       "      <th>0</th>\n",
       "      <td>2016-03-26 17:47:46</td>\n",
       "      <td>Peugeot_807_160_NAVTECH_ON_BOARD</td>\n",
       "      <td>privat</td>\n",
       "      <td>Angebot</td>\n",
       "      <td>$5,000</td>\n",
       "      <td>control</td>\n",
       "      <td>bus</td>\n",
       "      <td>2004</td>\n",
       "      <td>manuell</td>\n",
       "      <td>158</td>\n",
       "      <td>andere</td>\n",
       "      <td>150,000km</td>\n",
       "      <td>3</td>\n",
       "      <td>lpg</td>\n",
       "      <td>peugeot</td>\n",
       "      <td>nein</td>\n",
       "      <td>2016-03-26 00:00:00</td>\n",
       "      <td>0</td>\n",
       "      <td>79588</td>\n",
       "      <td>2016-04-06 06:45:54</td>\n",
       "    </tr>\n",
       "    <tr>\n",
       "      <th>1</th>\n",
       "      <td>2016-04-04 13:38:56</td>\n",
       "      <td>BMW_740i_4_4_Liter_HAMANN_UMBAU_Mega_Optik</td>\n",
       "      <td>privat</td>\n",
       "      <td>Angebot</td>\n",
       "      <td>$8,500</td>\n",
       "      <td>control</td>\n",
       "      <td>limousine</td>\n",
       "      <td>1997</td>\n",
       "      <td>automatik</td>\n",
       "      <td>286</td>\n",
       "      <td>7er</td>\n",
       "      <td>150,000km</td>\n",
       "      <td>6</td>\n",
       "      <td>benzin</td>\n",
       "      <td>bmw</td>\n",
       "      <td>nein</td>\n",
       "      <td>2016-04-04 00:00:00</td>\n",
       "      <td>0</td>\n",
       "      <td>71034</td>\n",
       "      <td>2016-04-06 14:45:08</td>\n",
       "    </tr>\n",
       "  </tbody>\n",
       "</table>\n",
       "</div>"
      ],
      "text/plain": [
       "          date_crawled                                        name  seller  \\\n",
       "0  2016-03-26 17:47:46            Peugeot_807_160_NAVTECH_ON_BOARD  privat   \n",
       "1  2016-04-04 13:38:56  BMW_740i_4_4_Liter_HAMANN_UMBAU_Mega_Optik  privat   \n",
       "\n",
       "  offer_type   price   abtest vehicle_type  registration_year    gearbox  \\\n",
       "0    Angebot  $5,000  control          bus               2004    manuell   \n",
       "1    Angebot  $8,500  control    limousine               1997  automatik   \n",
       "\n",
       "   power_ps   model   odometer  registration_month fuel_type    brand  \\\n",
       "0       158  andere  150,000km                   3       lpg  peugeot   \n",
       "1       286     7er  150,000km                   6    benzin      bmw   \n",
       "\n",
       "  unrepaired_damage           ad_created  num_pictures  postal_code  \\\n",
       "0              nein  2016-03-26 00:00:00             0        79588   \n",
       "1              nein  2016-04-04 00:00:00             0        71034   \n",
       "\n",
       "             last_seen  \n",
       "0  2016-04-06 06:45:54  \n",
       "1  2016-04-06 14:45:08  "
      ]
     },
     "execution_count": 196,
     "metadata": {},
     "output_type": "execute_result"
    }
   ],
   "source": [
    "autos.rename({'yearOfRegistration':'registration_year'}, axis=1, inplace=True)\n",
    "autos.rename({'monthOfRegistration':'registration_month'}, axis=1, inplace=True)\n",
    "autos.rename({'notRepairedDamage':'unrepaired_damage'}, axis=1,inplace=True)\n",
    "autos.rename({'dateCreated':'ad_created'}, axis=1,inplace=True)\n",
    "autos.rename({'dateCrawled':'date_crawled'}, axis=1,inplace=True)\n",
    "autos.rename({'offerType':'offer_type'}, axis=1,inplace=True)\n",
    "autos.rename({'vehicleType':'vehicle_type'}, axis=1,inplace=True)\n",
    "autos.rename({'powerPS':'power_ps'}, axis=1,inplace=True)\n",
    "autos.rename({'fuelType':'fuel_type'}, axis=1,inplace=True)\n",
    "autos.rename({'nrOfPictures':'num_pictures'}, axis=1,inplace=True)\n",
    "autos.rename({'postalCode':'postal_code'}, axis=1,inplace=True)\n",
    "autos.rename({'lastSeen':'last_seen'}, axis=1,inplace=True)\n",
    "autos.head(2)"
   ]
  },
  {
   "cell_type": "markdown",
   "metadata": {},
   "source": [
    "#### Data exploration continued..."
   ]
  },
  {
   "cell_type": "code",
   "execution_count": 36,
   "metadata": {},
   "outputs": [
    {
     "data": {
      "text/html": [
       "<div>\n",
       "<style scoped>\n",
       "    .dataframe tbody tr th:only-of-type {\n",
       "        vertical-align: middle;\n",
       "    }\n",
       "\n",
       "    .dataframe tbody tr th {\n",
       "        vertical-align: top;\n",
       "    }\n",
       "\n",
       "    .dataframe thead th {\n",
       "        text-align: right;\n",
       "    }\n",
       "</style>\n",
       "<table border=\"1\" class=\"dataframe\">\n",
       "  <thead>\n",
       "    <tr style=\"text-align: right;\">\n",
       "      <th></th>\n",
       "      <th>date_crawled</th>\n",
       "      <th>name</th>\n",
       "      <th>seller</th>\n",
       "      <th>offer_type</th>\n",
       "      <th>price</th>\n",
       "      <th>abtest</th>\n",
       "      <th>vehicle_type</th>\n",
       "      <th>registration_year</th>\n",
       "      <th>gearbox</th>\n",
       "      <th>power_ps</th>\n",
       "      <th>model</th>\n",
       "      <th>odometer</th>\n",
       "      <th>registration_month</th>\n",
       "      <th>fuel_type</th>\n",
       "      <th>brand</th>\n",
       "      <th>unrepaired_damage</th>\n",
       "      <th>ad_created</th>\n",
       "      <th>num_pictures</th>\n",
       "      <th>postal_code</th>\n",
       "      <th>last_seen</th>\n",
       "    </tr>\n",
       "  </thead>\n",
       "  <tbody>\n",
       "    <tr>\n",
       "      <th>count</th>\n",
       "      <td>50000</td>\n",
       "      <td>50000</td>\n",
       "      <td>50000</td>\n",
       "      <td>50000</td>\n",
       "      <td>50000</td>\n",
       "      <td>50000</td>\n",
       "      <td>44905</td>\n",
       "      <td>50000.000000</td>\n",
       "      <td>47320</td>\n",
       "      <td>50000.000000</td>\n",
       "      <td>47242</td>\n",
       "      <td>50000</td>\n",
       "      <td>50000.000000</td>\n",
       "      <td>45518</td>\n",
       "      <td>50000</td>\n",
       "      <td>40171</td>\n",
       "      <td>50000</td>\n",
       "      <td>50000.0</td>\n",
       "      <td>50000.000000</td>\n",
       "      <td>50000</td>\n",
       "    </tr>\n",
       "    <tr>\n",
       "      <th>unique</th>\n",
       "      <td>48213</td>\n",
       "      <td>38754</td>\n",
       "      <td>2</td>\n",
       "      <td>2</td>\n",
       "      <td>2357</td>\n",
       "      <td>2</td>\n",
       "      <td>8</td>\n",
       "      <td>NaN</td>\n",
       "      <td>2</td>\n",
       "      <td>NaN</td>\n",
       "      <td>245</td>\n",
       "      <td>13</td>\n",
       "      <td>NaN</td>\n",
       "      <td>7</td>\n",
       "      <td>40</td>\n",
       "      <td>2</td>\n",
       "      <td>76</td>\n",
       "      <td>NaN</td>\n",
       "      <td>NaN</td>\n",
       "      <td>39481</td>\n",
       "    </tr>\n",
       "    <tr>\n",
       "      <th>top</th>\n",
       "      <td>2016-04-02 11:37:04</td>\n",
       "      <td>Ford_Fiesta</td>\n",
       "      <td>privat</td>\n",
       "      <td>Angebot</td>\n",
       "      <td>$0</td>\n",
       "      <td>test</td>\n",
       "      <td>limousine</td>\n",
       "      <td>NaN</td>\n",
       "      <td>manuell</td>\n",
       "      <td>NaN</td>\n",
       "      <td>golf</td>\n",
       "      <td>150,000km</td>\n",
       "      <td>NaN</td>\n",
       "      <td>benzin</td>\n",
       "      <td>volkswagen</td>\n",
       "      <td>nein</td>\n",
       "      <td>2016-04-03 00:00:00</td>\n",
       "      <td>NaN</td>\n",
       "      <td>NaN</td>\n",
       "      <td>2016-04-07 06:17:27</td>\n",
       "    </tr>\n",
       "    <tr>\n",
       "      <th>freq</th>\n",
       "      <td>3</td>\n",
       "      <td>78</td>\n",
       "      <td>49999</td>\n",
       "      <td>49999</td>\n",
       "      <td>1421</td>\n",
       "      <td>25756</td>\n",
       "      <td>12859</td>\n",
       "      <td>NaN</td>\n",
       "      <td>36993</td>\n",
       "      <td>NaN</td>\n",
       "      <td>4024</td>\n",
       "      <td>32424</td>\n",
       "      <td>NaN</td>\n",
       "      <td>30107</td>\n",
       "      <td>10687</td>\n",
       "      <td>35232</td>\n",
       "      <td>1946</td>\n",
       "      <td>NaN</td>\n",
       "      <td>NaN</td>\n",
       "      <td>8</td>\n",
       "    </tr>\n",
       "    <tr>\n",
       "      <th>mean</th>\n",
       "      <td>NaN</td>\n",
       "      <td>NaN</td>\n",
       "      <td>NaN</td>\n",
       "      <td>NaN</td>\n",
       "      <td>NaN</td>\n",
       "      <td>NaN</td>\n",
       "      <td>NaN</td>\n",
       "      <td>2005.073280</td>\n",
       "      <td>NaN</td>\n",
       "      <td>116.355920</td>\n",
       "      <td>NaN</td>\n",
       "      <td>NaN</td>\n",
       "      <td>5.723360</td>\n",
       "      <td>NaN</td>\n",
       "      <td>NaN</td>\n",
       "      <td>NaN</td>\n",
       "      <td>NaN</td>\n",
       "      <td>0.0</td>\n",
       "      <td>50813.627300</td>\n",
       "      <td>NaN</td>\n",
       "    </tr>\n",
       "    <tr>\n",
       "      <th>std</th>\n",
       "      <td>NaN</td>\n",
       "      <td>NaN</td>\n",
       "      <td>NaN</td>\n",
       "      <td>NaN</td>\n",
       "      <td>NaN</td>\n",
       "      <td>NaN</td>\n",
       "      <td>NaN</td>\n",
       "      <td>105.712813</td>\n",
       "      <td>NaN</td>\n",
       "      <td>209.216627</td>\n",
       "      <td>NaN</td>\n",
       "      <td>NaN</td>\n",
       "      <td>3.711984</td>\n",
       "      <td>NaN</td>\n",
       "      <td>NaN</td>\n",
       "      <td>NaN</td>\n",
       "      <td>NaN</td>\n",
       "      <td>0.0</td>\n",
       "      <td>25779.747957</td>\n",
       "      <td>NaN</td>\n",
       "    </tr>\n",
       "    <tr>\n",
       "      <th>min</th>\n",
       "      <td>NaN</td>\n",
       "      <td>NaN</td>\n",
       "      <td>NaN</td>\n",
       "      <td>NaN</td>\n",
       "      <td>NaN</td>\n",
       "      <td>NaN</td>\n",
       "      <td>NaN</td>\n",
       "      <td>1000.000000</td>\n",
       "      <td>NaN</td>\n",
       "      <td>0.000000</td>\n",
       "      <td>NaN</td>\n",
       "      <td>NaN</td>\n",
       "      <td>0.000000</td>\n",
       "      <td>NaN</td>\n",
       "      <td>NaN</td>\n",
       "      <td>NaN</td>\n",
       "      <td>NaN</td>\n",
       "      <td>0.0</td>\n",
       "      <td>1067.000000</td>\n",
       "      <td>NaN</td>\n",
       "    </tr>\n",
       "    <tr>\n",
       "      <th>25%</th>\n",
       "      <td>NaN</td>\n",
       "      <td>NaN</td>\n",
       "      <td>NaN</td>\n",
       "      <td>NaN</td>\n",
       "      <td>NaN</td>\n",
       "      <td>NaN</td>\n",
       "      <td>NaN</td>\n",
       "      <td>1999.000000</td>\n",
       "      <td>NaN</td>\n",
       "      <td>70.000000</td>\n",
       "      <td>NaN</td>\n",
       "      <td>NaN</td>\n",
       "      <td>3.000000</td>\n",
       "      <td>NaN</td>\n",
       "      <td>NaN</td>\n",
       "      <td>NaN</td>\n",
       "      <td>NaN</td>\n",
       "      <td>0.0</td>\n",
       "      <td>30451.000000</td>\n",
       "      <td>NaN</td>\n",
       "    </tr>\n",
       "    <tr>\n",
       "      <th>50%</th>\n",
       "      <td>NaN</td>\n",
       "      <td>NaN</td>\n",
       "      <td>NaN</td>\n",
       "      <td>NaN</td>\n",
       "      <td>NaN</td>\n",
       "      <td>NaN</td>\n",
       "      <td>NaN</td>\n",
       "      <td>2003.000000</td>\n",
       "      <td>NaN</td>\n",
       "      <td>105.000000</td>\n",
       "      <td>NaN</td>\n",
       "      <td>NaN</td>\n",
       "      <td>6.000000</td>\n",
       "      <td>NaN</td>\n",
       "      <td>NaN</td>\n",
       "      <td>NaN</td>\n",
       "      <td>NaN</td>\n",
       "      <td>0.0</td>\n",
       "      <td>49577.000000</td>\n",
       "      <td>NaN</td>\n",
       "    </tr>\n",
       "    <tr>\n",
       "      <th>75%</th>\n",
       "      <td>NaN</td>\n",
       "      <td>NaN</td>\n",
       "      <td>NaN</td>\n",
       "      <td>NaN</td>\n",
       "      <td>NaN</td>\n",
       "      <td>NaN</td>\n",
       "      <td>NaN</td>\n",
       "      <td>2008.000000</td>\n",
       "      <td>NaN</td>\n",
       "      <td>150.000000</td>\n",
       "      <td>NaN</td>\n",
       "      <td>NaN</td>\n",
       "      <td>9.000000</td>\n",
       "      <td>NaN</td>\n",
       "      <td>NaN</td>\n",
       "      <td>NaN</td>\n",
       "      <td>NaN</td>\n",
       "      <td>0.0</td>\n",
       "      <td>71540.000000</td>\n",
       "      <td>NaN</td>\n",
       "    </tr>\n",
       "    <tr>\n",
       "      <th>max</th>\n",
       "      <td>NaN</td>\n",
       "      <td>NaN</td>\n",
       "      <td>NaN</td>\n",
       "      <td>NaN</td>\n",
       "      <td>NaN</td>\n",
       "      <td>NaN</td>\n",
       "      <td>NaN</td>\n",
       "      <td>9999.000000</td>\n",
       "      <td>NaN</td>\n",
       "      <td>17700.000000</td>\n",
       "      <td>NaN</td>\n",
       "      <td>NaN</td>\n",
       "      <td>12.000000</td>\n",
       "      <td>NaN</td>\n",
       "      <td>NaN</td>\n",
       "      <td>NaN</td>\n",
       "      <td>NaN</td>\n",
       "      <td>0.0</td>\n",
       "      <td>99998.000000</td>\n",
       "      <td>NaN</td>\n",
       "    </tr>\n",
       "  </tbody>\n",
       "</table>\n",
       "</div>"
      ],
      "text/plain": [
       "               date_crawled         name  seller offer_type  price abtest  \\\n",
       "count                 50000        50000   50000      50000  50000  50000   \n",
       "unique                48213        38754       2          2   2357      2   \n",
       "top     2016-04-02 11:37:04  Ford_Fiesta  privat    Angebot     $0   test   \n",
       "freq                      3           78   49999      49999   1421  25756   \n",
       "mean                    NaN          NaN     NaN        NaN    NaN    NaN   \n",
       "std                     NaN          NaN     NaN        NaN    NaN    NaN   \n",
       "min                     NaN          NaN     NaN        NaN    NaN    NaN   \n",
       "25%                     NaN          NaN     NaN        NaN    NaN    NaN   \n",
       "50%                     NaN          NaN     NaN        NaN    NaN    NaN   \n",
       "75%                     NaN          NaN     NaN        NaN    NaN    NaN   \n",
       "max                     NaN          NaN     NaN        NaN    NaN    NaN   \n",
       "\n",
       "       vehicle_type  registration_year  gearbox      power_ps  model  \\\n",
       "count         44905       50000.000000    47320  50000.000000  47242   \n",
       "unique            8                NaN        2           NaN    245   \n",
       "top       limousine                NaN  manuell           NaN   golf   \n",
       "freq          12859                NaN    36993           NaN   4024   \n",
       "mean            NaN        2005.073280      NaN    116.355920    NaN   \n",
       "std             NaN         105.712813      NaN    209.216627    NaN   \n",
       "min             NaN        1000.000000      NaN      0.000000    NaN   \n",
       "25%             NaN        1999.000000      NaN     70.000000    NaN   \n",
       "50%             NaN        2003.000000      NaN    105.000000    NaN   \n",
       "75%             NaN        2008.000000      NaN    150.000000    NaN   \n",
       "max             NaN        9999.000000      NaN  17700.000000    NaN   \n",
       "\n",
       "         odometer  registration_month fuel_type       brand unrepaired_damage  \\\n",
       "count       50000        50000.000000     45518       50000             40171   \n",
       "unique         13                 NaN         7          40                 2   \n",
       "top     150,000km                 NaN    benzin  volkswagen              nein   \n",
       "freq        32424                 NaN     30107       10687             35232   \n",
       "mean          NaN            5.723360       NaN         NaN               NaN   \n",
       "std           NaN            3.711984       NaN         NaN               NaN   \n",
       "min           NaN            0.000000       NaN         NaN               NaN   \n",
       "25%           NaN            3.000000       NaN         NaN               NaN   \n",
       "50%           NaN            6.000000       NaN         NaN               NaN   \n",
       "75%           NaN            9.000000       NaN         NaN               NaN   \n",
       "max           NaN           12.000000       NaN         NaN               NaN   \n",
       "\n",
       "                 ad_created  num_pictures   postal_code            last_seen  \n",
       "count                 50000       50000.0  50000.000000                50000  \n",
       "unique                   76           NaN           NaN                39481  \n",
       "top     2016-04-03 00:00:00           NaN           NaN  2016-04-07 06:17:27  \n",
       "freq                   1946           NaN           NaN                    8  \n",
       "mean                    NaN           0.0  50813.627300                  NaN  \n",
       "std                     NaN           0.0  25779.747957                  NaN  \n",
       "min                     NaN           0.0   1067.000000                  NaN  \n",
       "25%                     NaN           0.0  30451.000000                  NaN  \n",
       "50%                     NaN           0.0  49577.000000                  NaN  \n",
       "75%                     NaN           0.0  71540.000000                  NaN  \n",
       "max                     NaN           0.0  99998.000000                  NaN  "
      ]
     },
     "execution_count": 36,
     "metadata": {},
     "output_type": "execute_result"
    }
   ],
   "source": [
    "autos.describe(include='all')"
   ]
  },
  {
   "cell_type": "markdown",
   "metadata": {},
   "source": [
    "We can possibly remove seller and offer type, as there are only 2 unique types and the top frequency is 49999 (basiclaly the majority). \n",
    "We may also want to look at gearbox, as spelling for manuel is ?mispelled (manual). unrepaired_damage can be explored too (nein)\n",
    "There are several numeric columns that need to be converted + rename the columns."
   ]
  },
  {
   "cell_type": "code",
   "execution_count": 57,
   "metadata": {},
   "outputs": [
    {
     "data": {
      "text/plain": [
       "seller\n",
       "privat        49999\n",
       "gewerblich        1\n",
       "Name: count, dtype: int64"
      ]
     },
     "execution_count": 57,
     "metadata": {},
     "output_type": "execute_result"
    }
   ],
   "source": [
    "autos['seller'].value_counts() #let's remove these"
   ]
  },
  {
   "cell_type": "code",
   "execution_count": 197,
   "metadata": {},
   "outputs": [
    {
     "data": {
      "text/plain": [
       "0        privat\n",
       "1        privat\n",
       "2        privat\n",
       "3        privat\n",
       "4        privat\n",
       "          ...  \n",
       "49995    privat\n",
       "49996    privat\n",
       "49997    privat\n",
       "49998    privat\n",
       "49999    privat\n",
       "Name: seller, Length: 50000, dtype: object"
      ]
     },
     "execution_count": 197,
     "metadata": {},
     "output_type": "execute_result"
    }
   ],
   "source": [
    "autos.pop('seller')"
   ]
  },
  {
   "cell_type": "code",
   "execution_count": 59,
   "metadata": {},
   "outputs": [
    {
     "data": {
      "text/plain": [
       "offer_type\n",
       "Angebot    49999\n",
       "Gesuch         1\n",
       "Name: count, dtype: int64"
      ]
     },
     "execution_count": 59,
     "metadata": {},
     "output_type": "execute_result"
    }
   ],
   "source": [
    "autos['offer_type'].value_counts() #let's remove these"
   ]
  },
  {
   "cell_type": "code",
   "execution_count": 198,
   "metadata": {},
   "outputs": [
    {
     "data": {
      "text/plain": [
       "0        Angebot\n",
       "1        Angebot\n",
       "2        Angebot\n",
       "3        Angebot\n",
       "4        Angebot\n",
       "          ...   \n",
       "49995    Angebot\n",
       "49996    Angebot\n",
       "49997    Angebot\n",
       "49998    Angebot\n",
       "49999    Angebot\n",
       "Name: offer_type, Length: 50000, dtype: object"
      ]
     },
     "execution_count": 198,
     "metadata": {},
     "output_type": "execute_result"
    }
   ],
   "source": [
    "autos.pop('offer_type')"
   ]
  },
  {
   "cell_type": "code",
   "execution_count": 62,
   "metadata": {},
   "outputs": [
    {
     "data": {
      "text/plain": [
       "num_pictures\n",
       "0    50000\n",
       "Name: count, dtype: int64"
      ]
     },
     "execution_count": 62,
     "metadata": {},
     "output_type": "execute_result"
    }
   ],
   "source": [
    "autos['num_pictures'].value_counts() #this can be removed"
   ]
  },
  {
   "cell_type": "code",
   "execution_count": 199,
   "metadata": {},
   "outputs": [
    {
     "data": {
      "text/plain": [
       "0        0\n",
       "1        0\n",
       "2        0\n",
       "3        0\n",
       "4        0\n",
       "        ..\n",
       "49995    0\n",
       "49996    0\n",
       "49997    0\n",
       "49998    0\n",
       "49999    0\n",
       "Name: num_pictures, Length: 50000, dtype: int64"
      ]
     },
     "execution_count": 199,
     "metadata": {},
     "output_type": "execute_result"
    }
   ],
   "source": [
    "autos.pop('num_pictures')"
   ]
  },
  {
   "cell_type": "code",
   "execution_count": 64,
   "metadata": {},
   "outputs": [
    {
     "data": {
      "text/plain": [
       "unrepaired_damage\n",
       "nein    35232\n",
       "ja       4939\n",
       "Name: count, dtype: int64"
      ]
     },
     "execution_count": 64,
     "metadata": {},
     "output_type": "execute_result"
    }
   ],
   "source": [
    "autos['unrepaired_damage'].value_counts() #let's convert nein to no and ja to yes"
   ]
  },
  {
   "cell_type": "code",
   "execution_count": 200,
   "metadata": {},
   "outputs": [],
   "source": [
    "yes_no = {'nein':'no','ja':'yes'}\n",
    "autos['unrepaired_damage'] = autos['unrepaired_damage'].map(yes_no)"
   ]
  },
  {
   "cell_type": "code",
   "execution_count": 68,
   "metadata": {},
   "outputs": [
    {
     "data": {
      "text/plain": [
       "unrepaired_damage\n",
       "no     35232\n",
       "yes     4939\n",
       "Name: count, dtype: int64"
      ]
     },
     "execution_count": 68,
     "metadata": {},
     "output_type": "execute_result"
    }
   ],
   "source": [
    "autos['unrepaired_damage'].value_counts()"
   ]
  },
  {
   "cell_type": "code",
   "execution_count": 72,
   "metadata": {},
   "outputs": [
    {
     "data": {
      "text/plain": [
       "registration_year\n",
       "2000    3354\n",
       "2005    3015\n",
       "1999    3000\n",
       "2004    2737\n",
       "2003    2727\n",
       "        ... \n",
       "1000       1\n",
       "1929       1\n",
       "1927       1\n",
       "1948       1\n",
       "1001       1\n",
       "Name: count, Length: 97, dtype: int64"
      ]
     },
     "execution_count": 72,
     "metadata": {},
     "output_type": "execute_result"
    }
   ],
   "source": [
    "autos['abtest'].value_counts() #this is ok\n",
    "autos['vehicle_type'].value_counts() #this is ok\n",
    "autos['registration_year'].value_counts() #this will need a closer look as there's year 1000 "
   ]
  },
  {
   "cell_type": "code",
   "execution_count": 75,
   "metadata": {},
   "outputs": [
    {
     "data": {
      "text/plain": [
       "price\n",
       "$0         1421\n",
       "$500        781\n",
       "$1,500      734\n",
       "$2,500      643\n",
       "$1,000      639\n",
       "           ... \n",
       "$414          1\n",
       "$79,933       1\n",
       "$5,198        1\n",
       "$18,890       1\n",
       "$16,995       1\n",
       "Name: count, Length: 2357, dtype: int64"
      ]
     },
     "execution_count": 75,
     "metadata": {},
     "output_type": "execute_result"
    }
   ],
   "source": [
    "autos['date_crawled'].value_counts()\n",
    "autos['price'].value_counts() #may want to look at 0 rows"
   ]
  },
  {
   "cell_type": "code",
   "execution_count": 201,
   "metadata": {},
   "outputs": [],
   "source": [
    "autos['gearbox'].value_counts() #lets convert these\n",
    "gear = {'manuell':'manual','automatik':'automatic'}\n",
    "autos['gearbox'] = autos['gearbox'].map(gear)"
   ]
  },
  {
   "cell_type": "code",
   "execution_count": 80,
   "metadata": {},
   "outputs": [
    {
     "data": {
      "text/plain": [
       "gearbox\n",
       "manual       36993\n",
       "automatic    10327\n",
       "Name: count, dtype: int64"
      ]
     },
     "execution_count": 80,
     "metadata": {},
     "output_type": "execute_result"
    }
   ],
   "source": [
    "autos['gearbox'].value_counts()"
   ]
  },
  {
   "cell_type": "code",
   "execution_count": 84,
   "metadata": {},
   "outputs": [
    {
     "data": {
      "text/plain": [
       "registration_month\n",
       "0     5075\n",
       "3     5071\n",
       "6     4368\n",
       "5     4107\n",
       "4     4102\n",
       "7     3949\n",
       "10    3651\n",
       "12    3447\n",
       "9     3389\n",
       "11    3360\n",
       "1     3282\n",
       "8     3191\n",
       "2     3008\n",
       "Name: count, dtype: int64"
      ]
     },
     "execution_count": 84,
     "metadata": {},
     "output_type": "execute_result"
    }
   ],
   "source": [
    "autos['power_ps'].value_counts()\n",
    "autos['model'].value_counts()\n",
    "autos['odometer'].value_counts()\n",
    "autos['registration_month'].value_counts() #will need to look at 0 months"
   ]
  },
  {
   "cell_type": "code",
   "execution_count": 89,
   "metadata": {},
   "outputs": [
    {
     "data": {
      "text/plain": [
       "last_seen\n",
       "2016-04-07 06:17:27    8\n",
       "2016-04-07 03:16:17    7\n",
       "2016-04-06 21:17:51    7\n",
       "2016-04-06 06:17:24    7\n",
       "2016-04-06 13:17:03    6\n",
       "                      ..\n",
       "2016-04-02 11:15:28    1\n",
       "2016-04-06 01:50:23    1\n",
       "2016-03-21 23:45:11    1\n",
       "2016-03-29 20:25:43    1\n",
       "2016-04-06 21:18:48    1\n",
       "Name: count, Length: 39481, dtype: int64"
      ]
     },
     "execution_count": 89,
     "metadata": {},
     "output_type": "execute_result"
    }
   ],
   "source": [
    "autos['fuel_type'].value_counts()\n",
    "autos['brand'].value_counts()\n",
    "autos['ad_created'].value_counts()\n",
    "autos['postal_code'].value_counts()\n",
    "autos['last_seen'].value_counts() # the rest of these look good"
   ]
  },
  {
   "cell_type": "markdown",
   "metadata": {},
   "source": [
    "Summary:\n",
    "price - remove $ and change to float, explore 0$\n",
    "odometer - remove km and comma + rename column, convert to int\n",
    "date_crawled, date_created, last_seen - these may need to be converted to datetime\n",
    "explore registration_year = year 1000 noted\n",
    "explore registration_month = noted 0 month\n",
    "Explore null/missing data - vehicleType, gearbox, model, fuelType, notRepairedDamage"
   ]
  },
  {
   "cell_type": "markdown",
   "metadata": {},
   "source": [
    "#### Price - remove $ and comma, convert to float, explore 0 dollar counts"
   ]
  },
  {
   "cell_type": "code",
   "execution_count": 202,
   "metadata": {},
   "outputs": [],
   "source": [
    "autos['price'] = autos['price'].str.replace('$','')\n",
    "autos['price'] = autos['price'].str.replace(',','')"
   ]
  },
  {
   "cell_type": "code",
   "execution_count": 203,
   "metadata": {},
   "outputs": [],
   "source": [
    "autos['price'] = autos['price'].astype(float)"
   ]
  },
  {
   "cell_type": "code",
   "execution_count": 204,
   "metadata": {},
   "outputs": [
    {
     "data": {
      "text/plain": [
       "price\n",
       "0.0        1421\n",
       "500.0       781\n",
       "1500.0      734\n",
       "2500.0      643\n",
       "1000.0      639\n",
       "           ... \n",
       "414.0         1\n",
       "79933.0       1\n",
       "5198.0        1\n",
       "18890.0       1\n",
       "16995.0       1\n",
       "Name: count, Length: 2357, dtype: int64"
      ]
     },
     "execution_count": 204,
     "metadata": {},
     "output_type": "execute_result"
    }
   ],
   "source": [
    "autos['price'].value_counts()"
   ]
  },
  {
   "cell_type": "code",
   "execution_count": 138,
   "metadata": {},
   "outputs": [
    {
     "data": {
      "text/plain": [
       "price\n",
       "99999999.0    1\n",
       "27322222.0    1\n",
       "12345678.0    3\n",
       "11111111.0    2\n",
       "10000000.0    1\n",
       "3890000.0     1\n",
       "1300000.0     1\n",
       "1234566.0     1\n",
       "999999.0      2\n",
       "999990.0      1\n",
       "350000.0      1\n",
       "345000.0      1\n",
       "299000.0      1\n",
       "295000.0      1\n",
       "265000.0      1\n",
       "259000.0      1\n",
       "250000.0      1\n",
       "220000.0      1\n",
       "198000.0      1\n",
       "197000.0      1\n",
       "Name: count, dtype: int64"
      ]
     },
     "execution_count": 138,
     "metadata": {},
     "output_type": "execute_result"
    }
   ],
   "source": [
    "autos['price'].value_counts().sort_index(ascending=False).head(20)"
   ]
  },
  {
   "cell_type": "code",
   "execution_count": 139,
   "metadata": {},
   "outputs": [
    {
     "data": {
      "text/plain": [
       "price\n",
       "35.0       1\n",
       "30.0       7\n",
       "29.0       1\n",
       "25.0       5\n",
       "20.0       4\n",
       "18.0       1\n",
       "17.0       3\n",
       "15.0       2\n",
       "14.0       1\n",
       "13.0       2\n",
       "12.0       3\n",
       "11.0       2\n",
       "10.0       7\n",
       "9.0        1\n",
       "8.0        1\n",
       "5.0        2\n",
       "3.0        1\n",
       "2.0        3\n",
       "1.0      156\n",
       "0.0     1421\n",
       "Name: count, dtype: int64"
      ]
     },
     "execution_count": 139,
     "metadata": {},
     "output_type": "execute_result"
    }
   ],
   "source": [
    "autos['price'].value_counts().sort_index(ascending=False).tail(20)"
   ]
  },
  {
   "cell_type": "markdown",
   "metadata": {},
   "source": [
    "Some of these prices can be outliers. Most expensive car in history is worth 143million, sold at auction. It is hard to imagine cars this expensive sold on ebay."
   ]
  },
  {
   "cell_type": "code",
   "execution_count": 146,
   "metadata": {},
   "outputs": [
    {
     "data": {
      "text/html": [
       "<div>\n",
       "<style scoped>\n",
       "    .dataframe tbody tr th:only-of-type {\n",
       "        vertical-align: middle;\n",
       "    }\n",
       "\n",
       "    .dataframe tbody tr th {\n",
       "        vertical-align: top;\n",
       "    }\n",
       "\n",
       "    .dataframe thead th {\n",
       "        text-align: right;\n",
       "    }\n",
       "</style>\n",
       "<table border=\"1\" class=\"dataframe\">\n",
       "  <thead>\n",
       "    <tr style=\"text-align: right;\">\n",
       "      <th></th>\n",
       "      <th>date_crawled</th>\n",
       "      <th>name</th>\n",
       "      <th>price</th>\n",
       "      <th>abtest</th>\n",
       "      <th>vehicle_type</th>\n",
       "      <th>registration_year</th>\n",
       "      <th>gearbox</th>\n",
       "      <th>power_ps</th>\n",
       "      <th>model</th>\n",
       "      <th>odometer_km</th>\n",
       "      <th>registration_month</th>\n",
       "      <th>fuel_type</th>\n",
       "      <th>brand</th>\n",
       "      <th>unrepaired_damage</th>\n",
       "      <th>ad_created</th>\n",
       "      <th>postal_code</th>\n",
       "      <th>last_seen</th>\n",
       "    </tr>\n",
       "  </thead>\n",
       "  <tbody>\n",
       "    <tr>\n",
       "      <th>514</th>\n",
       "      <td>2016-03-17 09:53:08</td>\n",
       "      <td>Ford_Focus_Turnier_1.6_16V_Style</td>\n",
       "      <td>999999.0</td>\n",
       "      <td>test</td>\n",
       "      <td>kombi</td>\n",
       "      <td>2009</td>\n",
       "      <td>manual</td>\n",
       "      <td>101</td>\n",
       "      <td>focus</td>\n",
       "      <td>125000</td>\n",
       "      <td>4</td>\n",
       "      <td>benzin</td>\n",
       "      <td>ford</td>\n",
       "      <td>no</td>\n",
       "      <td>2016-03-17 00:00:00</td>\n",
       "      <td>12205</td>\n",
       "      <td>2016-04-06 07:17:35</td>\n",
       "    </tr>\n",
       "    <tr>\n",
       "      <th>2897</th>\n",
       "      <td>2016-03-12 21:50:57</td>\n",
       "      <td>Escort_MK_1_Hundeknochen_zum_umbauen_auf_RS_2000</td>\n",
       "      <td>11111111.0</td>\n",
       "      <td>test</td>\n",
       "      <td>limousine</td>\n",
       "      <td>1973</td>\n",
       "      <td>manual</td>\n",
       "      <td>48</td>\n",
       "      <td>escort</td>\n",
       "      <td>50000</td>\n",
       "      <td>3</td>\n",
       "      <td>benzin</td>\n",
       "      <td>ford</td>\n",
       "      <td>no</td>\n",
       "      <td>2016-03-12 00:00:00</td>\n",
       "      <td>94469</td>\n",
       "      <td>2016-03-12 22:45:27</td>\n",
       "    </tr>\n",
       "    <tr>\n",
       "      <th>7814</th>\n",
       "      <td>2016-04-04 11:53:31</td>\n",
       "      <td>Ferrari_F40</td>\n",
       "      <td>1300000.0</td>\n",
       "      <td>control</td>\n",
       "      <td>coupe</td>\n",
       "      <td>1992</td>\n",
       "      <td>NaN</td>\n",
       "      <td>0</td>\n",
       "      <td>NaN</td>\n",
       "      <td>50000</td>\n",
       "      <td>12</td>\n",
       "      <td>NaN</td>\n",
       "      <td>sonstige_autos</td>\n",
       "      <td>no</td>\n",
       "      <td>2016-04-04 00:00:00</td>\n",
       "      <td>60598</td>\n",
       "      <td>2016-04-05 11:34:11</td>\n",
       "    </tr>\n",
       "    <tr>\n",
       "      <th>11137</th>\n",
       "      <td>2016-03-29 23:52:57</td>\n",
       "      <td>suche_maserati_3200_gt_Zustand_unwichtig_laufe...</td>\n",
       "      <td>10000000.0</td>\n",
       "      <td>control</td>\n",
       "      <td>coupe</td>\n",
       "      <td>1960</td>\n",
       "      <td>manual</td>\n",
       "      <td>368</td>\n",
       "      <td>NaN</td>\n",
       "      <td>100000</td>\n",
       "      <td>1</td>\n",
       "      <td>benzin</td>\n",
       "      <td>sonstige_autos</td>\n",
       "      <td>no</td>\n",
       "      <td>2016-03-29 00:00:00</td>\n",
       "      <td>73033</td>\n",
       "      <td>2016-04-06 21:18:11</td>\n",
       "    </tr>\n",
       "    <tr>\n",
       "      <th>22947</th>\n",
       "      <td>2016-03-22 12:54:19</td>\n",
       "      <td>Bmw_530d_zum_ausschlachten</td>\n",
       "      <td>1234566.0</td>\n",
       "      <td>control</td>\n",
       "      <td>kombi</td>\n",
       "      <td>1999</td>\n",
       "      <td>automatic</td>\n",
       "      <td>190</td>\n",
       "      <td>NaN</td>\n",
       "      <td>150000</td>\n",
       "      <td>2</td>\n",
       "      <td>diesel</td>\n",
       "      <td>bmw</td>\n",
       "      <td>NaN</td>\n",
       "      <td>2016-03-22 00:00:00</td>\n",
       "      <td>17454</td>\n",
       "      <td>2016-04-02 03:17:32</td>\n",
       "    </tr>\n",
       "    <tr>\n",
       "      <th>24384</th>\n",
       "      <td>2016-03-21 13:57:51</td>\n",
       "      <td>Schlachte_Golf_3_gt_tdi</td>\n",
       "      <td>11111111.0</td>\n",
       "      <td>test</td>\n",
       "      <td>NaN</td>\n",
       "      <td>1995</td>\n",
       "      <td>NaN</td>\n",
       "      <td>0</td>\n",
       "      <td>NaN</td>\n",
       "      <td>150000</td>\n",
       "      <td>0</td>\n",
       "      <td>NaN</td>\n",
       "      <td>volkswagen</td>\n",
       "      <td>NaN</td>\n",
       "      <td>2016-03-21 00:00:00</td>\n",
       "      <td>18519</td>\n",
       "      <td>2016-03-21 14:40:18</td>\n",
       "    </tr>\n",
       "    <tr>\n",
       "      <th>27371</th>\n",
       "      <td>2016-03-09 15:45:47</td>\n",
       "      <td>Fiat_Punto</td>\n",
       "      <td>12345678.0</td>\n",
       "      <td>control</td>\n",
       "      <td>NaN</td>\n",
       "      <td>2017</td>\n",
       "      <td>NaN</td>\n",
       "      <td>95</td>\n",
       "      <td>punto</td>\n",
       "      <td>150000</td>\n",
       "      <td>0</td>\n",
       "      <td>NaN</td>\n",
       "      <td>fiat</td>\n",
       "      <td>NaN</td>\n",
       "      <td>2016-03-09 00:00:00</td>\n",
       "      <td>96110</td>\n",
       "      <td>2016-03-09 15:45:47</td>\n",
       "    </tr>\n",
       "    <tr>\n",
       "      <th>39377</th>\n",
       "      <td>2016-03-08 23:53:51</td>\n",
       "      <td>Tausche_volvo_v40_gegen_van</td>\n",
       "      <td>12345678.0</td>\n",
       "      <td>control</td>\n",
       "      <td>NaN</td>\n",
       "      <td>2018</td>\n",
       "      <td>manual</td>\n",
       "      <td>95</td>\n",
       "      <td>v40</td>\n",
       "      <td>150000</td>\n",
       "      <td>6</td>\n",
       "      <td>NaN</td>\n",
       "      <td>volvo</td>\n",
       "      <td>no</td>\n",
       "      <td>2016-03-08 00:00:00</td>\n",
       "      <td>14542</td>\n",
       "      <td>2016-04-06 23:17:31</td>\n",
       "    </tr>\n",
       "    <tr>\n",
       "      <th>39705</th>\n",
       "      <td>2016-03-22 14:58:27</td>\n",
       "      <td>Tausch_gegen_gleichwertiges</td>\n",
       "      <td>99999999.0</td>\n",
       "      <td>control</td>\n",
       "      <td>limousine</td>\n",
       "      <td>1999</td>\n",
       "      <td>automatic</td>\n",
       "      <td>224</td>\n",
       "      <td>s_klasse</td>\n",
       "      <td>150000</td>\n",
       "      <td>9</td>\n",
       "      <td>benzin</td>\n",
       "      <td>mercedes_benz</td>\n",
       "      <td>NaN</td>\n",
       "      <td>2016-03-22 00:00:00</td>\n",
       "      <td>73525</td>\n",
       "      <td>2016-04-06 05:15:30</td>\n",
       "    </tr>\n",
       "    <tr>\n",
       "      <th>42221</th>\n",
       "      <td>2016-03-08 20:39:05</td>\n",
       "      <td>Leasinguebernahme</td>\n",
       "      <td>27322222.0</td>\n",
       "      <td>control</td>\n",
       "      <td>limousine</td>\n",
       "      <td>2014</td>\n",
       "      <td>manual</td>\n",
       "      <td>163</td>\n",
       "      <td>c4</td>\n",
       "      <td>40000</td>\n",
       "      <td>2</td>\n",
       "      <td>diesel</td>\n",
       "      <td>citroen</td>\n",
       "      <td>NaN</td>\n",
       "      <td>2016-03-08 00:00:00</td>\n",
       "      <td>76532</td>\n",
       "      <td>2016-03-08 20:39:05</td>\n",
       "    </tr>\n",
       "  </tbody>\n",
       "</table>\n",
       "</div>"
      ],
      "text/plain": [
       "              date_crawled                                               name  \\\n",
       "514    2016-03-17 09:53:08                   Ford_Focus_Turnier_1.6_16V_Style   \n",
       "2897   2016-03-12 21:50:57   Escort_MK_1_Hundeknochen_zum_umbauen_auf_RS_2000   \n",
       "7814   2016-04-04 11:53:31                                        Ferrari_F40   \n",
       "11137  2016-03-29 23:52:57  suche_maserati_3200_gt_Zustand_unwichtig_laufe...   \n",
       "22947  2016-03-22 12:54:19                         Bmw_530d_zum_ausschlachten   \n",
       "24384  2016-03-21 13:57:51                            Schlachte_Golf_3_gt_tdi   \n",
       "27371  2016-03-09 15:45:47                                         Fiat_Punto   \n",
       "39377  2016-03-08 23:53:51                        Tausche_volvo_v40_gegen_van   \n",
       "39705  2016-03-22 14:58:27                        Tausch_gegen_gleichwertiges   \n",
       "42221  2016-03-08 20:39:05                                  Leasinguebernahme   \n",
       "\n",
       "            price   abtest vehicle_type  registration_year    gearbox  \\\n",
       "514      999999.0     test        kombi               2009     manual   \n",
       "2897   11111111.0     test    limousine               1973     manual   \n",
       "7814    1300000.0  control        coupe               1992        NaN   \n",
       "11137  10000000.0  control        coupe               1960     manual   \n",
       "22947   1234566.0  control        kombi               1999  automatic   \n",
       "24384  11111111.0     test          NaN               1995        NaN   \n",
       "27371  12345678.0  control          NaN               2017        NaN   \n",
       "39377  12345678.0  control          NaN               2018     manual   \n",
       "39705  99999999.0  control    limousine               1999  automatic   \n",
       "42221  27322222.0  control    limousine               2014     manual   \n",
       "\n",
       "       power_ps     model  odometer_km  registration_month fuel_type  \\\n",
       "514         101     focus       125000                   4    benzin   \n",
       "2897         48    escort        50000                   3    benzin   \n",
       "7814          0       NaN        50000                  12       NaN   \n",
       "11137       368       NaN       100000                   1    benzin   \n",
       "22947       190       NaN       150000                   2    diesel   \n",
       "24384         0       NaN       150000                   0       NaN   \n",
       "27371        95     punto       150000                   0       NaN   \n",
       "39377        95       v40       150000                   6       NaN   \n",
       "39705       224  s_klasse       150000                   9    benzin   \n",
       "42221       163        c4        40000                   2    diesel   \n",
       "\n",
       "                brand unrepaired_damage           ad_created  postal_code  \\\n",
       "514              ford                no  2016-03-17 00:00:00        12205   \n",
       "2897             ford                no  2016-03-12 00:00:00        94469   \n",
       "7814   sonstige_autos                no  2016-04-04 00:00:00        60598   \n",
       "11137  sonstige_autos                no  2016-03-29 00:00:00        73033   \n",
       "22947             bmw               NaN  2016-03-22 00:00:00        17454   \n",
       "24384      volkswagen               NaN  2016-03-21 00:00:00        18519   \n",
       "27371            fiat               NaN  2016-03-09 00:00:00        96110   \n",
       "39377           volvo                no  2016-03-08 00:00:00        14542   \n",
       "39705   mercedes_benz               NaN  2016-03-22 00:00:00        73525   \n",
       "42221         citroen               NaN  2016-03-08 00:00:00        76532   \n",
       "\n",
       "                 last_seen  \n",
       "514    2016-04-06 07:17:35  \n",
       "2897   2016-03-12 22:45:27  \n",
       "7814   2016-04-05 11:34:11  \n",
       "11137  2016-04-06 21:18:11  \n",
       "22947  2016-04-02 03:17:32  \n",
       "24384  2016-03-21 14:40:18  \n",
       "27371  2016-03-09 15:45:47  \n",
       "39377  2016-04-06 23:17:31  \n",
       "39705  2016-04-06 05:15:30  \n",
       "42221  2016-03-08 20:39:05  "
      ]
     },
     "execution_count": 146,
     "metadata": {},
     "output_type": "execute_result"
    }
   ],
   "source": [
    "autos[autos['price'] >= 999999.0].head(10)"
   ]
  },
  {
   "cell_type": "markdown",
   "metadata": {},
   "source": [
    "Looking up the car models and price - some of them appear inflated.\n",
    "We will eliminate the upper end outliers and lower end outliers for sake of practice.\n",
    "For the upper end, we will take 350000"
   ]
  },
  {
   "cell_type": "code",
   "execution_count": 151,
   "metadata": {},
   "outputs": [
    {
     "data": {
      "text/plain": [
       "price\n",
       "329.0       2\n",
       "325.0       5\n",
       "320.0      12\n",
       "310.0       1\n",
       "300.0     384\n",
       "         ... \n",
       "5.0         2\n",
       "3.0         1\n",
       "2.0         3\n",
       "1.0       156\n",
       "0.0      1421\n",
       "Name: count, Length: 100, dtype: int64"
      ]
     },
     "execution_count": 151,
     "metadata": {},
     "output_type": "execute_result"
    }
   ],
   "source": [
    "autos['price'].value_counts().sort_index(ascending=False).tail(100)"
   ]
  },
  {
   "cell_type": "markdown",
   "metadata": {},
   "source": [
    "For the lower end, we will take 350 (arbitrary)"
   ]
  },
  {
   "cell_type": "code",
   "execution_count": 205,
   "metadata": {},
   "outputs": [],
   "source": [
    "autos = autos[(autos['price']<350000) & (autos['price']>350)]"
   ]
  },
  {
   "cell_type": "code",
   "execution_count": 155,
   "metadata": {},
   "outputs": [
    {
     "data": {
      "text/plain": [
       "price\n",
       "385.0     1\n",
       "380.0    29\n",
       "379.0     1\n",
       "378.0     1\n",
       "375.0     7\n",
       "370.0    21\n",
       "369.0     1\n",
       "360.0     8\n",
       "359.0     1\n",
       "356.0     1\n",
       "Name: count, dtype: int64"
      ]
     },
     "execution_count": 155,
     "metadata": {},
     "output_type": "execute_result"
    }
   ],
   "source": [
    "autos['price'].value_counts().sort_index(ascending=False).tail(10)"
   ]
  },
  {
   "cell_type": "code",
   "execution_count": 206,
   "metadata": {},
   "outputs": [
    {
     "data": {
      "text/plain": [
       "price\n",
       "345000.0    1\n",
       "299000.0    1\n",
       "295000.0    1\n",
       "265000.0    1\n",
       "259000.0    1\n",
       "           ..\n",
       "64280.0     1\n",
       "63999.0     2\n",
       "63499.0     1\n",
       "63000.0     1\n",
       "62900.0     2\n",
       "Name: count, Length: 100, dtype: int64"
      ]
     },
     "execution_count": 206,
     "metadata": {},
     "output_type": "execute_result"
    }
   ],
   "source": [
    "autos['price'].value_counts().sort_index(ascending=False).head(100)"
   ]
  },
  {
   "cell_type": "markdown",
   "metadata": {},
   "source": [
    "#### odometer - remove km and comma + rename column, convert to int"
   ]
  },
  {
   "cell_type": "code",
   "execution_count": 207,
   "metadata": {},
   "outputs": [],
   "source": [
    "autos['odometer'] = autos['odometer'].str.replace(',','')\n",
    "autos['odometer'] = autos['odometer'].str.replace('km','')\n",
    "autos['odometer'] = autos['odometer'].astype(int)\n",
    "autos.rename({'odometer':'odometer_km'}, axis=1,inplace=True)"
   ]
  },
  {
   "cell_type": "code",
   "execution_count": 172,
   "metadata": {},
   "outputs": [
    {
     "data": {
      "text/plain": [
       "odometer_km\n",
       "150000    29499\n",
       "125000     4909\n",
       "100000     2052\n",
       "90000      1693\n",
       "80000      1396\n",
       "70000      1196\n",
       "60000      1137\n",
       "50000       999\n",
       "40000       809\n",
       "30000       769\n",
       "20000       731\n",
       "5000        648\n",
       "10000       239\n",
       "Name: count, dtype: int64"
      ]
     },
     "execution_count": 172,
     "metadata": {},
     "output_type": "execute_result"
    }
   ],
   "source": [
    "autos['odometer_km'].value_counts()"
   ]
  },
  {
   "cell_type": "markdown",
   "metadata": {},
   "source": [
    "odometer column generally looks like no significant outliers"
   ]
  },
  {
   "cell_type": "markdown",
   "metadata": {},
   "source": [
    "#### date_crawled, ad_created, last_seen - lets convert these to datetime"
   ]
  },
  {
   "cell_type": "code",
   "execution_count": 208,
   "metadata": {},
   "outputs": [
    {
     "data": {
      "text/html": [
       "<div>\n",
       "<style scoped>\n",
       "    .dataframe tbody tr th:only-of-type {\n",
       "        vertical-align: middle;\n",
       "    }\n",
       "\n",
       "    .dataframe tbody tr th {\n",
       "        vertical-align: top;\n",
       "    }\n",
       "\n",
       "    .dataframe thead th {\n",
       "        text-align: right;\n",
       "    }\n",
       "</style>\n",
       "<table border=\"1\" class=\"dataframe\">\n",
       "  <thead>\n",
       "    <tr style=\"text-align: right;\">\n",
       "      <th></th>\n",
       "      <th>date_crawled</th>\n",
       "      <th>ad_created</th>\n",
       "      <th>last_seen</th>\n",
       "    </tr>\n",
       "  </thead>\n",
       "  <tbody>\n",
       "    <tr>\n",
       "      <th>0</th>\n",
       "      <td>2016-03-26 17:47:46</td>\n",
       "      <td>2016-03-26 00:00:00</td>\n",
       "      <td>2016-04-06 06:45:54</td>\n",
       "    </tr>\n",
       "    <tr>\n",
       "      <th>1</th>\n",
       "      <td>2016-04-04 13:38:56</td>\n",
       "      <td>2016-04-04 00:00:00</td>\n",
       "      <td>2016-04-06 14:45:08</td>\n",
       "    </tr>\n",
       "    <tr>\n",
       "      <th>2</th>\n",
       "      <td>2016-03-26 18:57:24</td>\n",
       "      <td>2016-03-26 00:00:00</td>\n",
       "      <td>2016-04-06 20:15:37</td>\n",
       "    </tr>\n",
       "    <tr>\n",
       "      <th>3</th>\n",
       "      <td>2016-03-12 16:58:10</td>\n",
       "      <td>2016-03-12 00:00:00</td>\n",
       "      <td>2016-03-15 03:16:28</td>\n",
       "    </tr>\n",
       "    <tr>\n",
       "      <th>4</th>\n",
       "      <td>2016-04-01 14:38:50</td>\n",
       "      <td>2016-04-01 00:00:00</td>\n",
       "      <td>2016-04-01 14:38:50</td>\n",
       "    </tr>\n",
       "    <tr>\n",
       "      <th>...</th>\n",
       "      <td>...</td>\n",
       "      <td>...</td>\n",
       "      <td>...</td>\n",
       "    </tr>\n",
       "    <tr>\n",
       "      <th>49995</th>\n",
       "      <td>2016-03-27 14:38:19</td>\n",
       "      <td>2016-03-27 00:00:00</td>\n",
       "      <td>2016-04-01 13:47:40</td>\n",
       "    </tr>\n",
       "    <tr>\n",
       "      <th>49996</th>\n",
       "      <td>2016-03-28 10:50:25</td>\n",
       "      <td>2016-03-28 00:00:00</td>\n",
       "      <td>2016-04-02 14:18:02</td>\n",
       "    </tr>\n",
       "    <tr>\n",
       "      <th>49997</th>\n",
       "      <td>2016-04-02 14:44:48</td>\n",
       "      <td>2016-04-02 00:00:00</td>\n",
       "      <td>2016-04-04 11:47:27</td>\n",
       "    </tr>\n",
       "    <tr>\n",
       "      <th>49998</th>\n",
       "      <td>2016-03-08 19:25:42</td>\n",
       "      <td>2016-03-08 00:00:00</td>\n",
       "      <td>2016-04-05 16:45:07</td>\n",
       "    </tr>\n",
       "    <tr>\n",
       "      <th>49999</th>\n",
       "      <td>2016-03-14 00:42:12</td>\n",
       "      <td>2016-03-13 00:00:00</td>\n",
       "      <td>2016-04-06 21:18:48</td>\n",
       "    </tr>\n",
       "  </tbody>\n",
       "</table>\n",
       "<p>46077 rows × 3 columns</p>\n",
       "</div>"
      ],
      "text/plain": [
       "              date_crawled           ad_created            last_seen\n",
       "0      2016-03-26 17:47:46  2016-03-26 00:00:00  2016-04-06 06:45:54\n",
       "1      2016-04-04 13:38:56  2016-04-04 00:00:00  2016-04-06 14:45:08\n",
       "2      2016-03-26 18:57:24  2016-03-26 00:00:00  2016-04-06 20:15:37\n",
       "3      2016-03-12 16:58:10  2016-03-12 00:00:00  2016-03-15 03:16:28\n",
       "4      2016-04-01 14:38:50  2016-04-01 00:00:00  2016-04-01 14:38:50\n",
       "...                    ...                  ...                  ...\n",
       "49995  2016-03-27 14:38:19  2016-03-27 00:00:00  2016-04-01 13:47:40\n",
       "49996  2016-03-28 10:50:25  2016-03-28 00:00:00  2016-04-02 14:18:02\n",
       "49997  2016-04-02 14:44:48  2016-04-02 00:00:00  2016-04-04 11:47:27\n",
       "49998  2016-03-08 19:25:42  2016-03-08 00:00:00  2016-04-05 16:45:07\n",
       "49999  2016-03-14 00:42:12  2016-03-13 00:00:00  2016-04-06 21:18:48\n",
       "\n",
       "[46077 rows x 3 columns]"
      ]
     },
     "execution_count": 208,
     "metadata": {},
     "output_type": "execute_result"
    }
   ],
   "source": [
    "autos[['date_crawled','ad_created','last_seen']]"
   ]
  },
  {
   "cell_type": "code",
   "execution_count": 209,
   "metadata": {},
   "outputs": [],
   "source": [
    "autos['ad_created']= pd.to_datetime(autos['ad_created'], format='%Y-%m-%d %H:%M:%S')"
   ]
  },
  {
   "cell_type": "code",
   "execution_count": 210,
   "metadata": {},
   "outputs": [],
   "source": [
    "autos['date_crawled']= pd.to_datetime(autos['date_crawled'], format='%Y-%m-%d %H:%M:%S')\n",
    "autos['last_seen']= pd.to_datetime(autos['last_seen'], format='%Y-%m-%d %H:%M:%S')"
   ]
  },
  {
   "cell_type": "code",
   "execution_count": 211,
   "metadata": {},
   "outputs": [
    {
     "name": "stdout",
     "output_type": "stream",
     "text": [
      "<class 'pandas.core.frame.DataFrame'>\n",
      "Index: 46077 entries, 0 to 49999\n",
      "Data columns (total 17 columns):\n",
      " #   Column              Non-Null Count  Dtype         \n",
      "---  ------              --------------  -----         \n",
      " 0   date_crawled        46077 non-null  datetime64[ns]\n",
      " 1   name                46077 non-null  object        \n",
      " 2   price               46077 non-null  float64       \n",
      " 3   abtest              46077 non-null  object        \n",
      " 4   vehicle_type        42205 non-null  object        \n",
      " 5   registration_year   46077 non-null  int64         \n",
      " 6   gearbox             44166 non-null  object        \n",
      " 7   power_ps            46077 non-null  int64         \n",
      " 8   model               43922 non-null  object        \n",
      " 9   odometer_km         46077 non-null  int32         \n",
      " 10  registration_month  46077 non-null  int64         \n",
      " 11  fuel_type           42688 non-null  object        \n",
      " 12  brand               46077 non-null  object        \n",
      " 13  unrepaired_damage   38135 non-null  object        \n",
      " 14  ad_created          46077 non-null  datetime64[ns]\n",
      " 15  postal_code         46077 non-null  int64         \n",
      " 16  last_seen           46077 non-null  datetime64[ns]\n",
      "dtypes: datetime64[ns](3), float64(1), int32(1), int64(4), object(8)\n",
      "memory usage: 6.2+ MB\n"
     ]
    }
   ],
   "source": [
    "autos.info()"
   ]
  },
  {
   "cell_type": "markdown",
   "metadata": {},
   "source": [
    "#### explore registration_year = year 1000 noted"
   ]
  },
  {
   "cell_type": "code",
   "execution_count": 217,
   "metadata": {},
   "outputs": [
    {
     "data": {
      "text/plain": [
       "registration_year\n",
       "2010    1587\n",
       "2011    1617\n",
       "2012    1307\n",
       "2013     797\n",
       "2014     655\n",
       "2015     366\n",
       "2016    1031\n",
       "2017    1334\n",
       "2018     466\n",
       "2019       1\n",
       "2800       1\n",
       "4100       1\n",
       "4500       1\n",
       "4800       1\n",
       "5000       2\n",
       "5911       1\n",
       "6200       1\n",
       "8888       1\n",
       "9000       1\n",
       "9999       3\n",
       "Name: count, dtype: int64"
      ]
     },
     "execution_count": 217,
     "metadata": {},
     "output_type": "execute_result"
    }
   ],
   "source": [
    "autos['registration_year'].value_counts().sort_index().tail(20)"
   ]
  },
  {
   "cell_type": "code",
   "execution_count": 218,
   "metadata": {},
   "outputs": [
    {
     "data": {
      "text/plain": [
       "registration_year\n",
       "1000    1\n",
       "1001    1\n",
       "1111    1\n",
       "1800    2\n",
       "1910    2\n",
       "1927    1\n",
       "1929    1\n",
       "1931    1\n",
       "1934    2\n",
       "1937    4\n",
       "1938    1\n",
       "1939    1\n",
       "1941    2\n",
       "1943    1\n",
       "1948    1\n",
       "1950    1\n",
       "1951    2\n",
       "1952    1\n",
       "1953    1\n",
       "1954    2\n",
       "Name: count, dtype: int64"
      ]
     },
     "execution_count": 218,
     "metadata": {},
     "output_type": "execute_result"
    }
   ],
   "source": [
    "autos['registration_year'].value_counts().sort_index().head(20)"
   ]
  },
  {
   "cell_type": "markdown",
   "metadata": {},
   "source": [
    "we will remove anything that is in the future + after ad_created(can't be registered before ad_created) (after 2016) and before 1910 (cars werent invented until 1886)"
   ]
  },
  {
   "cell_type": "code",
   "execution_count": 222,
   "metadata": {},
   "outputs": [],
   "source": [
    "autos = autos[(autos['registration_year'] >1910) & (autos['registration_year'] <2016)]"
   ]
  },
  {
   "cell_type": "code",
   "execution_count": 229,
   "metadata": {},
   "outputs": [
    {
     "data": {
      "text/plain": [
       "count    43225.000000\n",
       "mean      2002.836784\n",
       "std          6.854753\n",
       "min       1927.000000\n",
       "25%       1999.000000\n",
       "50%       2003.000000\n",
       "75%       2007.000000\n",
       "max       2015.000000\n",
       "Name: registration_year, dtype: float64"
      ]
     },
     "execution_count": 229,
     "metadata": {},
     "output_type": "execute_result"
    }
   ],
   "source": [
    "autos['registration_year'].describe()"
   ]
  },
  {
   "cell_type": "markdown",
   "metadata": {},
   "source": [
    "#### explore registration_month = noted 0 month"
   ]
  },
  {
   "cell_type": "code",
   "execution_count": 230,
   "metadata": {},
   "outputs": [
    {
     "data": {
      "text/plain": [
       "registration_month\n",
       "3     4541\n",
       "6     3891\n",
       "4     3669\n",
       "5     3668\n",
       "7     3524\n",
       "10    3305\n",
       "9     3082\n",
       "11    3077\n",
       "12    3076\n",
       "0     2971\n",
       "1     2901\n",
       "8     2838\n",
       "2     2682\n",
       "Name: count, dtype: int64"
      ]
     },
     "execution_count": 230,
     "metadata": {},
     "output_type": "execute_result"
    }
   ],
   "source": [
    "autos['registration_month'].value_counts()"
   ]
  },
  {
   "cell_type": "code",
   "execution_count": 231,
   "metadata": {},
   "outputs": [
    {
     "data": {
      "text/html": [
       "<div>\n",
       "<style scoped>\n",
       "    .dataframe tbody tr th:only-of-type {\n",
       "        vertical-align: middle;\n",
       "    }\n",
       "\n",
       "    .dataframe tbody tr th {\n",
       "        vertical-align: top;\n",
       "    }\n",
       "\n",
       "    .dataframe thead th {\n",
       "        text-align: right;\n",
       "    }\n",
       "</style>\n",
       "<table border=\"1\" class=\"dataframe\">\n",
       "  <thead>\n",
       "    <tr style=\"text-align: right;\">\n",
       "      <th></th>\n",
       "      <th>date_crawled</th>\n",
       "      <th>name</th>\n",
       "      <th>price</th>\n",
       "      <th>abtest</th>\n",
       "      <th>vehicle_type</th>\n",
       "      <th>registration_year</th>\n",
       "      <th>gearbox</th>\n",
       "      <th>power_ps</th>\n",
       "      <th>model</th>\n",
       "      <th>odometer_km</th>\n",
       "      <th>registration_month</th>\n",
       "      <th>fuel_type</th>\n",
       "      <th>brand</th>\n",
       "      <th>unrepaired_damage</th>\n",
       "      <th>ad_created</th>\n",
       "      <th>postal_code</th>\n",
       "      <th>last_seen</th>\n",
       "    </tr>\n",
       "  </thead>\n",
       "  <tbody>\n",
       "    <tr>\n",
       "      <th>46</th>\n",
       "      <td>2016-03-31 10:53:28</td>\n",
       "      <td>BMW_mit__Lpg</td>\n",
       "      <td>9000.0</td>\n",
       "      <td>control</td>\n",
       "      <td>NaN</td>\n",
       "      <td>2005</td>\n",
       "      <td>automatic</td>\n",
       "      <td>0</td>\n",
       "      <td>NaN</td>\n",
       "      <td>150000</td>\n",
       "      <td>0</td>\n",
       "      <td>NaN</td>\n",
       "      <td>bmw</td>\n",
       "      <td>NaN</td>\n",
       "      <td>2016-03-31</td>\n",
       "      <td>12351</td>\n",
       "      <td>2016-04-06 03:44:41</td>\n",
       "    </tr>\n",
       "    <tr>\n",
       "      <th>52</th>\n",
       "      <td>2016-03-25 18:50:03</td>\n",
       "      <td>Senator_A_3.0E_Karosserie_restauriert_m._viele...</td>\n",
       "      <td>3500.0</td>\n",
       "      <td>test</td>\n",
       "      <td>limousine</td>\n",
       "      <td>1985</td>\n",
       "      <td>NaN</td>\n",
       "      <td>0</td>\n",
       "      <td>andere</td>\n",
       "      <td>5000</td>\n",
       "      <td>0</td>\n",
       "      <td>benzin</td>\n",
       "      <td>opel</td>\n",
       "      <td>no</td>\n",
       "      <td>2016-03-25</td>\n",
       "      <td>63500</td>\n",
       "      <td>2016-04-07 00:46:00</td>\n",
       "    </tr>\n",
       "    <tr>\n",
       "      <th>60</th>\n",
       "      <td>2016-03-23 21:55:29</td>\n",
       "      <td>VW_Vento_1_8_Tuev_NEU</td>\n",
       "      <td>1199.0</td>\n",
       "      <td>test</td>\n",
       "      <td>limousine</td>\n",
       "      <td>1996</td>\n",
       "      <td>NaN</td>\n",
       "      <td>90</td>\n",
       "      <td>NaN</td>\n",
       "      <td>150000</td>\n",
       "      <td>0</td>\n",
       "      <td>benzin</td>\n",
       "      <td>volkswagen</td>\n",
       "      <td>no</td>\n",
       "      <td>2016-03-23</td>\n",
       "      <td>1665</td>\n",
       "      <td>2016-04-06 05:45:36</td>\n",
       "    </tr>\n",
       "    <tr>\n",
       "      <th>79</th>\n",
       "      <td>2016-03-28 19:58:42</td>\n",
       "      <td>Seat_Ibiza_1.9_TDI__Fr</td>\n",
       "      <td>6300.0</td>\n",
       "      <td>control</td>\n",
       "      <td>kleinwagen</td>\n",
       "      <td>2007</td>\n",
       "      <td>manual</td>\n",
       "      <td>131</td>\n",
       "      <td>ibiza</td>\n",
       "      <td>150000</td>\n",
       "      <td>0</td>\n",
       "      <td>diesel</td>\n",
       "      <td>seat</td>\n",
       "      <td>NaN</td>\n",
       "      <td>2016-03-28</td>\n",
       "      <td>4157</td>\n",
       "      <td>2016-04-07 02:17:59</td>\n",
       "    </tr>\n",
       "    <tr>\n",
       "      <th>92</th>\n",
       "      <td>2016-03-25 19:47:32</td>\n",
       "      <td>Zu_verkaufen</td>\n",
       "      <td>1900.0</td>\n",
       "      <td>test</td>\n",
       "      <td>NaN</td>\n",
       "      <td>2000</td>\n",
       "      <td>NaN</td>\n",
       "      <td>0</td>\n",
       "      <td>NaN</td>\n",
       "      <td>150000</td>\n",
       "      <td>0</td>\n",
       "      <td>NaN</td>\n",
       "      <td>bmw</td>\n",
       "      <td>NaN</td>\n",
       "      <td>2016-03-25</td>\n",
       "      <td>72108</td>\n",
       "      <td>2016-04-07 02:16:01</td>\n",
       "    </tr>\n",
       "    <tr>\n",
       "      <th>...</th>\n",
       "      <td>...</td>\n",
       "      <td>...</td>\n",
       "      <td>...</td>\n",
       "      <td>...</td>\n",
       "      <td>...</td>\n",
       "      <td>...</td>\n",
       "      <td>...</td>\n",
       "      <td>...</td>\n",
       "      <td>...</td>\n",
       "      <td>...</td>\n",
       "      <td>...</td>\n",
       "      <td>...</td>\n",
       "      <td>...</td>\n",
       "      <td>...</td>\n",
       "      <td>...</td>\n",
       "      <td>...</td>\n",
       "      <td>...</td>\n",
       "    </tr>\n",
       "    <tr>\n",
       "      <th>49909</th>\n",
       "      <td>2016-04-02 20:49:31</td>\n",
       "      <td>Honda_civic_Hatchback</td>\n",
       "      <td>1000.0</td>\n",
       "      <td>test</td>\n",
       "      <td>andere</td>\n",
       "      <td>1995</td>\n",
       "      <td>manual</td>\n",
       "      <td>75</td>\n",
       "      <td>civic</td>\n",
       "      <td>150000</td>\n",
       "      <td>0</td>\n",
       "      <td>benzin</td>\n",
       "      <td>honda</td>\n",
       "      <td>no</td>\n",
       "      <td>2016-04-02</td>\n",
       "      <td>15517</td>\n",
       "      <td>2016-04-06 21:44:23</td>\n",
       "    </tr>\n",
       "    <tr>\n",
       "      <th>49926</th>\n",
       "      <td>2016-03-13 00:36:56</td>\n",
       "      <td>Vw_golf_cabrio</td>\n",
       "      <td>850.0</td>\n",
       "      <td>control</td>\n",
       "      <td>NaN</td>\n",
       "      <td>2000</td>\n",
       "      <td>NaN</td>\n",
       "      <td>0</td>\n",
       "      <td>NaN</td>\n",
       "      <td>150000</td>\n",
       "      <td>0</td>\n",
       "      <td>NaN</td>\n",
       "      <td>volkswagen</td>\n",
       "      <td>NaN</td>\n",
       "      <td>2016-03-12</td>\n",
       "      <td>53227</td>\n",
       "      <td>2016-03-15 17:17:49</td>\n",
       "    </tr>\n",
       "    <tr>\n",
       "      <th>49932</th>\n",
       "      <td>2016-03-14 18:52:18</td>\n",
       "      <td>Mercedes_320_cdi_7_Sitzer_Avantgarde</td>\n",
       "      <td>1400.0</td>\n",
       "      <td>test</td>\n",
       "      <td>kombi</td>\n",
       "      <td>1999</td>\n",
       "      <td>automatic</td>\n",
       "      <td>0</td>\n",
       "      <td>NaN</td>\n",
       "      <td>150000</td>\n",
       "      <td>0</td>\n",
       "      <td>NaN</td>\n",
       "      <td>mercedes_benz</td>\n",
       "      <td>NaN</td>\n",
       "      <td>2016-03-14</td>\n",
       "      <td>94315</td>\n",
       "      <td>2016-03-14 18:52:18</td>\n",
       "    </tr>\n",
       "    <tr>\n",
       "      <th>49937</th>\n",
       "      <td>2016-03-20 15:47:03</td>\n",
       "      <td>A6_TDI_2_5_l___Baujahr_1996</td>\n",
       "      <td>999.0</td>\n",
       "      <td>control</td>\n",
       "      <td>kombi</td>\n",
       "      <td>1996</td>\n",
       "      <td>manual</td>\n",
       "      <td>136</td>\n",
       "      <td>a6</td>\n",
       "      <td>150000</td>\n",
       "      <td>0</td>\n",
       "      <td>diesel</td>\n",
       "      <td>audi</td>\n",
       "      <td>yes</td>\n",
       "      <td>2016-03-20</td>\n",
       "      <td>83539</td>\n",
       "      <td>2016-04-06 20:18:35</td>\n",
       "    </tr>\n",
       "    <tr>\n",
       "      <th>49985</th>\n",
       "      <td>2016-04-02 16:38:23</td>\n",
       "      <td>Verkaufe_meinen_vw_vento!</td>\n",
       "      <td>1000.0</td>\n",
       "      <td>control</td>\n",
       "      <td>NaN</td>\n",
       "      <td>1995</td>\n",
       "      <td>automatic</td>\n",
       "      <td>0</td>\n",
       "      <td>NaN</td>\n",
       "      <td>150000</td>\n",
       "      <td>0</td>\n",
       "      <td>benzin</td>\n",
       "      <td>volkswagen</td>\n",
       "      <td>NaN</td>\n",
       "      <td>2016-04-02</td>\n",
       "      <td>30900</td>\n",
       "      <td>2016-04-06 15:17:52</td>\n",
       "    </tr>\n",
       "  </tbody>\n",
       "</table>\n",
       "<p>2971 rows × 17 columns</p>\n",
       "</div>"
      ],
      "text/plain": [
       "             date_crawled                                               name  \\\n",
       "46    2016-03-31 10:53:28                                       BMW_mit__Lpg   \n",
       "52    2016-03-25 18:50:03  Senator_A_3.0E_Karosserie_restauriert_m._viele...   \n",
       "60    2016-03-23 21:55:29                              VW_Vento_1_8_Tuev_NEU   \n",
       "79    2016-03-28 19:58:42                             Seat_Ibiza_1.9_TDI__Fr   \n",
       "92    2016-03-25 19:47:32                                       Zu_verkaufen   \n",
       "...                   ...                                                ...   \n",
       "49909 2016-04-02 20:49:31                              Honda_civic_Hatchback   \n",
       "49926 2016-03-13 00:36:56                                     Vw_golf_cabrio   \n",
       "49932 2016-03-14 18:52:18               Mercedes_320_cdi_7_Sitzer_Avantgarde   \n",
       "49937 2016-03-20 15:47:03                        A6_TDI_2_5_l___Baujahr_1996   \n",
       "49985 2016-04-02 16:38:23                          Verkaufe_meinen_vw_vento!   \n",
       "\n",
       "        price   abtest vehicle_type  registration_year    gearbox  power_ps  \\\n",
       "46     9000.0  control          NaN               2005  automatic         0   \n",
       "52     3500.0     test    limousine               1985        NaN         0   \n",
       "60     1199.0     test    limousine               1996        NaN        90   \n",
       "79     6300.0  control   kleinwagen               2007     manual       131   \n",
       "92     1900.0     test          NaN               2000        NaN         0   \n",
       "...       ...      ...          ...                ...        ...       ...   \n",
       "49909  1000.0     test       andere               1995     manual        75   \n",
       "49926   850.0  control          NaN               2000        NaN         0   \n",
       "49932  1400.0     test        kombi               1999  automatic         0   \n",
       "49937   999.0  control        kombi               1996     manual       136   \n",
       "49985  1000.0  control          NaN               1995  automatic         0   \n",
       "\n",
       "        model  odometer_km  registration_month fuel_type          brand  \\\n",
       "46        NaN       150000                   0       NaN            bmw   \n",
       "52     andere         5000                   0    benzin           opel   \n",
       "60        NaN       150000                   0    benzin     volkswagen   \n",
       "79      ibiza       150000                   0    diesel           seat   \n",
       "92        NaN       150000                   0       NaN            bmw   \n",
       "...       ...          ...                 ...       ...            ...   \n",
       "49909   civic       150000                   0    benzin          honda   \n",
       "49926     NaN       150000                   0       NaN     volkswagen   \n",
       "49932     NaN       150000                   0       NaN  mercedes_benz   \n",
       "49937      a6       150000                   0    diesel           audi   \n",
       "49985     NaN       150000                   0    benzin     volkswagen   \n",
       "\n",
       "      unrepaired_damage ad_created  postal_code           last_seen  \n",
       "46                  NaN 2016-03-31        12351 2016-04-06 03:44:41  \n",
       "52                   no 2016-03-25        63500 2016-04-07 00:46:00  \n",
       "60                   no 2016-03-23         1665 2016-04-06 05:45:36  \n",
       "79                  NaN 2016-03-28         4157 2016-04-07 02:17:59  \n",
       "92                  NaN 2016-03-25        72108 2016-04-07 02:16:01  \n",
       "...                 ...        ...          ...                 ...  \n",
       "49909                no 2016-04-02        15517 2016-04-06 21:44:23  \n",
       "49926               NaN 2016-03-12        53227 2016-03-15 17:17:49  \n",
       "49932               NaN 2016-03-14        94315 2016-03-14 18:52:18  \n",
       "49937               yes 2016-03-20        83539 2016-04-06 20:18:35  \n",
       "49985               NaN 2016-04-02        30900 2016-04-06 15:17:52  \n",
       "\n",
       "[2971 rows x 17 columns]"
      ]
     },
     "execution_count": 231,
     "metadata": {},
     "output_type": "execute_result"
    }
   ],
   "source": [
    "autos[autos['registration_month'] == 0] #0 possibly just means unknown, so we will change 0 to null to prevent confusion"
   ]
  },
  {
   "cell_type": "code",
   "execution_count": 233,
   "metadata": {},
   "outputs": [],
   "source": [
    "autos.loc[autos['registration_month'] == 0, 'registration_month'] = None"
   ]
  },
  {
   "cell_type": "code",
   "execution_count": 236,
   "metadata": {},
   "outputs": [
    {
     "data": {
      "text/plain": [
       "registration_month\n",
       "3.0     4541\n",
       "6.0     3891\n",
       "4.0     3669\n",
       "5.0     3668\n",
       "7.0     3524\n",
       "10.0    3305\n",
       "9.0     3082\n",
       "11.0    3077\n",
       "12.0    3076\n",
       "NaN     2971\n",
       "1.0     2901\n",
       "8.0     2838\n",
       "2.0     2682\n",
       "Name: count, dtype: int64"
      ]
     },
     "execution_count": 236,
     "metadata": {},
     "output_type": "execute_result"
    }
   ],
   "source": [
    "autos['registration_month'].value_counts(dropna=False)"
   ]
  },
  {
   "cell_type": "markdown",
   "metadata": {},
   "source": [
    "#### Explore null/missing data - vehicle_type, gearbox, model, fuel_type, unrepaired_damage"
   ]
  },
  {
   "cell_type": "code",
   "execution_count": 238,
   "metadata": {},
   "outputs": [
    {
     "data": {
      "text/plain": [
       "vehicle_type\n",
       "limousine     12233\n",
       "kleinwagen     9584\n",
       "kombi          8678\n",
       "bus            3975\n",
       "cabrio         2982\n",
       "coupe          2395\n",
       "suv            1952\n",
       "NaN            1067\n",
       "andere          359\n",
       "Name: count, dtype: int64"
      ]
     },
     "execution_count": 238,
     "metadata": {},
     "output_type": "execute_result"
    }
   ],
   "source": [
    "autos['vehicle_type'].value_counts(dropna=False)"
   ]
  },
  {
   "cell_type": "code",
   "execution_count": 239,
   "metadata": {},
   "outputs": [
    {
     "data": {
      "text/plain": [
       "gearbox\n",
       "manual       32079\n",
       "automatic     9582\n",
       "NaN           1564\n",
       "Name: count, dtype: int64"
      ]
     },
     "execution_count": 239,
     "metadata": {},
     "output_type": "execute_result"
    }
   ],
   "source": [
    "autos['gearbox'].value_counts(dropna=False)"
   ]
  },
  {
   "cell_type": "code",
   "execution_count": 240,
   "metadata": {},
   "outputs": [
    {
     "data": {
      "text/plain": [
       "model\n",
       "golf          3413\n",
       "andere        3163\n",
       "3er           2514\n",
       "NaN           1780\n",
       "polo          1364\n",
       "              ... \n",
       "kappa            2\n",
       "charade          2\n",
       "rangerover       1\n",
       "200              1\n",
       "b_max            1\n",
       "Name: count, Length: 244, dtype: int64"
      ]
     },
     "execution_count": 240,
     "metadata": {},
     "output_type": "execute_result"
    }
   ],
   "source": [
    "autos['model'].value_counts(dropna=False)"
   ]
  },
  {
   "cell_type": "code",
   "execution_count": 241,
   "metadata": {},
   "outputs": [
    {
     "data": {
      "text/plain": [
       "fuel_type\n",
       "benzin     26374\n",
       "diesel     13797\n",
       "NaN         2295\n",
       "lpg          629\n",
       "cng           67\n",
       "hybrid        36\n",
       "elektro       16\n",
       "andere        11\n",
       "Name: count, dtype: int64"
      ]
     },
     "execution_count": 241,
     "metadata": {},
     "output_type": "execute_result"
    }
   ],
   "source": [
    "autos['fuel_type'].value_counts(dropna=False)"
   ]
  },
  {
   "cell_type": "code",
   "execution_count": 242,
   "metadata": {},
   "outputs": [
    {
     "data": {
      "text/plain": [
       "unrepaired_damage\n",
       "no     32813\n",
       "NaN     6719\n",
       "yes     3693\n",
       "Name: count, dtype: int64"
      ]
     },
     "execution_count": 242,
     "metadata": {},
     "output_type": "execute_result"
    }
   ],
   "source": [
    "autos['unrepaired_damage'].value_counts(dropna=False)"
   ]
  },
  {
   "cell_type": "markdown",
   "metadata": {},
   "source": [
    "null values likely to be unknown data, unless it affects further analysis, we will keep them for now"
   ]
  },
  {
   "cell_type": "markdown",
   "metadata": {},
   "source": [
    "### Data Analysis <a class='anchor' id='4'></a>"
   ]
  },
  {
   "cell_type": "markdown",
   "metadata": {},
   "source": [
    "Now that the dataset is finally clean, let's proceed with data analysis!"
   ]
  },
  {
   "cell_type": "markdown",
   "metadata": {},
   "source": [
    "#### Exploring Price by Brand"
   ]
  },
  {
   "cell_type": "code",
   "execution_count": 246,
   "metadata": {},
   "outputs": [
    {
     "name": "stdout",
     "output_type": "stream",
     "text": [
      "<class 'pandas.core.series.Series'>\n",
      "Index: 43225 entries, 0 to 49999\n",
      "Series name: brand\n",
      "Non-Null Count  Dtype \n",
      "--------------  ----- \n",
      "43225 non-null  object\n",
      "dtypes: object(1)\n",
      "memory usage: 675.4+ KB\n"
     ]
    }
   ],
   "source": [
    "autos['brand'].info()"
   ]
  },
  {
   "cell_type": "code",
   "execution_count": 268,
   "metadata": {},
   "outputs": [
    {
     "data": {
      "text/plain": [
       "['volkswagen',\n",
       " 'bmw',\n",
       " 'opel',\n",
       " 'mercedes_benz',\n",
       " 'audi',\n",
       " 'ford',\n",
       " 'renault',\n",
       " 'peugeot',\n",
       " 'fiat',\n",
       " 'seat',\n",
       " 'skoda',\n",
       " 'mazda',\n",
       " 'nissan',\n",
       " 'smart',\n",
       " 'citroen',\n",
       " 'toyota',\n",
       " 'hyundai',\n",
       " 'sonstige_autos',\n",
       " 'volvo',\n",
       " 'mini']"
      ]
     },
     "execution_count": 268,
     "metadata": {},
     "output_type": "execute_result"
    }
   ],
   "source": [
    "top_20_index = autos['brand'].value_counts().head(20).index #let's look at the top 20 brands\n",
    "top_20_index = list(top_20_index)\n",
    "top_20_index"
   ]
  },
  {
   "cell_type": "markdown",
   "metadata": {},
   "source": [
    "#### Calculating avg_price / brand"
   ]
  },
  {
   "cell_type": "code",
   "execution_count": 273,
   "metadata": {},
   "outputs": [],
   "source": [
    "brand_bool = autos['brand'].isin(top_20_index)\n",
    "autos_brand = autos.loc[brand_bool]"
   ]
  },
  {
   "cell_type": "code",
   "execution_count": 280,
   "metadata": {},
   "outputs": [],
   "source": [
    "mean_autos_by_brand = autos_brand.groupby(by='brand')['price'].mean().sort_values(ascending=False)"
   ]
  },
  {
   "cell_type": "code",
   "execution_count": 285,
   "metadata": {},
   "outputs": [
    {
     "data": {
      "text/html": [
       "<div>\n",
       "<style scoped>\n",
       "    .dataframe tbody tr th:only-of-type {\n",
       "        vertical-align: middle;\n",
       "    }\n",
       "\n",
       "    .dataframe tbody tr th {\n",
       "        vertical-align: top;\n",
       "    }\n",
       "\n",
       "    .dataframe thead th {\n",
       "        text-align: right;\n",
       "    }\n",
       "</style>\n",
       "<table border=\"1\" class=\"dataframe\">\n",
       "  <thead>\n",
       "    <tr style=\"text-align: right;\">\n",
       "      <th></th>\n",
       "      <th>count</th>\n",
       "      <th>mean</th>\n",
       "      <th>std</th>\n",
       "      <th>min</th>\n",
       "      <th>25%</th>\n",
       "      <th>50%</th>\n",
       "      <th>75%</th>\n",
       "      <th>max</th>\n",
       "    </tr>\n",
       "    <tr>\n",
       "      <th>brand</th>\n",
       "      <th></th>\n",
       "      <th></th>\n",
       "      <th></th>\n",
       "      <th></th>\n",
       "      <th></th>\n",
       "      <th></th>\n",
       "      <th></th>\n",
       "      <th></th>\n",
       "    </tr>\n",
       "  </thead>\n",
       "  <tbody>\n",
       "    <tr>\n",
       "      <th>sonstige_autos</th>\n",
       "      <td>417.0</td>\n",
       "      <td>12686.465228</td>\n",
       "      <td>21874.852955</td>\n",
       "      <td>370.0</td>\n",
       "      <td>2999.00</td>\n",
       "      <td>7800.0</td>\n",
       "      <td>14500.0</td>\n",
       "      <td>345000.0</td>\n",
       "    </tr>\n",
       "    <tr>\n",
       "      <th>mini</th>\n",
       "      <td>397.0</td>\n",
       "      <td>10706.408060</td>\n",
       "      <td>5931.129801</td>\n",
       "      <td>900.0</td>\n",
       "      <td>6222.00</td>\n",
       "      <td>9250.0</td>\n",
       "      <td>14250.0</td>\n",
       "      <td>34500.0</td>\n",
       "    </tr>\n",
       "    <tr>\n",
       "      <th>audi</th>\n",
       "      <td>3898.0</td>\n",
       "      <td>9509.454336</td>\n",
       "      <td>9668.529969</td>\n",
       "      <td>380.0</td>\n",
       "      <td>2500.00</td>\n",
       "      <td>6500.0</td>\n",
       "      <td>13175.0</td>\n",
       "      <td>80000.0</td>\n",
       "    </tr>\n",
       "    <tr>\n",
       "      <th>mercedes_benz</th>\n",
       "      <td>4377.0</td>\n",
       "      <td>8805.609321</td>\n",
       "      <td>10227.115261</td>\n",
       "      <td>370.0</td>\n",
       "      <td>2499.00</td>\n",
       "      <td>5400.0</td>\n",
       "      <td>11950.0</td>\n",
       "      <td>180000.0</td>\n",
       "    </tr>\n",
       "    <tr>\n",
       "      <th>bmw</th>\n",
       "      <td>4952.0</td>\n",
       "      <td>8567.467488</td>\n",
       "      <td>9915.179969</td>\n",
       "      <td>360.0</td>\n",
       "      <td>2500.00</td>\n",
       "      <td>6000.0</td>\n",
       "      <td>11500.0</td>\n",
       "      <td>259000.0</td>\n",
       "    </tr>\n",
       "    <tr>\n",
       "      <th>skoda</th>\n",
       "      <td>735.0</td>\n",
       "      <td>6525.182313</td>\n",
       "      <td>5184.458799</td>\n",
       "      <td>400.0</td>\n",
       "      <td>2750.00</td>\n",
       "      <td>5000.0</td>\n",
       "      <td>8500.0</td>\n",
       "      <td>32700.0</td>\n",
       "    </tr>\n",
       "    <tr>\n",
       "      <th>volkswagen</th>\n",
       "      <td>9120.0</td>\n",
       "      <td>5740.838925</td>\n",
       "      <td>6269.148250</td>\n",
       "      <td>356.0</td>\n",
       "      <td>1499.00</td>\n",
       "      <td>3350.0</td>\n",
       "      <td>7950.0</td>\n",
       "      <td>64500.0</td>\n",
       "    </tr>\n",
       "    <tr>\n",
       "      <th>hyundai</th>\n",
       "      <td>443.0</td>\n",
       "      <td>5632.036117</td>\n",
       "      <td>4803.866079</td>\n",
       "      <td>390.0</td>\n",
       "      <td>1999.00</td>\n",
       "      <td>4500.0</td>\n",
       "      <td>7675.0</td>\n",
       "      <td>29999.0</td>\n",
       "    </tr>\n",
       "    <tr>\n",
       "      <th>toyota</th>\n",
       "      <td>572.0</td>\n",
       "      <td>5300.666084</td>\n",
       "      <td>4724.996619</td>\n",
       "      <td>370.0</td>\n",
       "      <td>2075.00</td>\n",
       "      <td>4300.0</td>\n",
       "      <td>6599.0</td>\n",
       "      <td>49500.0</td>\n",
       "    </tr>\n",
       "    <tr>\n",
       "      <th>volvo</th>\n",
       "      <td>405.0</td>\n",
       "      <td>5172.656790</td>\n",
       "      <td>5591.651494</td>\n",
       "      <td>399.0</td>\n",
       "      <td>1299.00</td>\n",
       "      <td>2990.0</td>\n",
       "      <td>6900.0</td>\n",
       "      <td>29500.0</td>\n",
       "    </tr>\n",
       "    <tr>\n",
       "      <th>nissan</th>\n",
       "      <td>651.0</td>\n",
       "      <td>5117.929339</td>\n",
       "      <td>5604.679469</td>\n",
       "      <td>380.0</td>\n",
       "      <td>1100.00</td>\n",
       "      <td>2750.0</td>\n",
       "      <td>7325.0</td>\n",
       "      <td>34999.0</td>\n",
       "    </tr>\n",
       "    <tr>\n",
       "      <th>seat</th>\n",
       "      <td>773.0</td>\n",
       "      <td>4695.868047</td>\n",
       "      <td>4713.640919</td>\n",
       "      <td>380.0</td>\n",
       "      <td>1250.00</td>\n",
       "      <td>3199.0</td>\n",
       "      <td>6500.0</td>\n",
       "      <td>25900.0</td>\n",
       "    </tr>\n",
       "    <tr>\n",
       "      <th>mazda</th>\n",
       "      <td>653.0</td>\n",
       "      <td>4403.356815</td>\n",
       "      <td>4992.319263</td>\n",
       "      <td>399.0</td>\n",
       "      <td>1200.00</td>\n",
       "      <td>2800.0</td>\n",
       "      <td>5500.0</td>\n",
       "      <td>38900.0</td>\n",
       "    </tr>\n",
       "    <tr>\n",
       "      <th>ford</th>\n",
       "      <td>2856.0</td>\n",
       "      <td>4211.240196</td>\n",
       "      <td>6041.391457</td>\n",
       "      <td>360.0</td>\n",
       "      <td>1000.00</td>\n",
       "      <td>2200.0</td>\n",
       "      <td>4990.0</td>\n",
       "      <td>130000.0</td>\n",
       "    </tr>\n",
       "    <tr>\n",
       "      <th>citroen</th>\n",
       "      <td>610.0</td>\n",
       "      <td>3987.514754</td>\n",
       "      <td>3869.483552</td>\n",
       "      <td>399.0</td>\n",
       "      <td>1407.50</td>\n",
       "      <td>2850.0</td>\n",
       "      <td>5000.0</td>\n",
       "      <td>33000.0</td>\n",
       "    </tr>\n",
       "    <tr>\n",
       "      <th>smart</th>\n",
       "      <td>639.0</td>\n",
       "      <td>3638.244131</td>\n",
       "      <td>2308.582583</td>\n",
       "      <td>400.0</td>\n",
       "      <td>1869.00</td>\n",
       "      <td>2998.0</td>\n",
       "      <td>5000.0</td>\n",
       "      <td>16850.0</td>\n",
       "    </tr>\n",
       "    <tr>\n",
       "      <th>peugeot</th>\n",
       "      <td>1262.0</td>\n",
       "      <td>3323.768621</td>\n",
       "      <td>3158.564137</td>\n",
       "      <td>370.0</td>\n",
       "      <td>1199.25</td>\n",
       "      <td>2350.0</td>\n",
       "      <td>4300.0</td>\n",
       "      <td>25500.0</td>\n",
       "    </tr>\n",
       "    <tr>\n",
       "      <th>opel</th>\n",
       "      <td>4382.0</td>\n",
       "      <td>3298.394112</td>\n",
       "      <td>3665.340551</td>\n",
       "      <td>359.0</td>\n",
       "      <td>990.00</td>\n",
       "      <td>1990.0</td>\n",
       "      <td>4200.0</td>\n",
       "      <td>38990.0</td>\n",
       "    </tr>\n",
       "    <tr>\n",
       "      <th>fiat</th>\n",
       "      <td>1031.0</td>\n",
       "      <td>3172.506305</td>\n",
       "      <td>3088.362214</td>\n",
       "      <td>370.0</td>\n",
       "      <td>999.00</td>\n",
       "      <td>2000.0</td>\n",
       "      <td>4200.0</td>\n",
       "      <td>25000.0</td>\n",
       "    </tr>\n",
       "    <tr>\n",
       "      <th>renault</th>\n",
       "      <td>1929.0</td>\n",
       "      <td>2712.309487</td>\n",
       "      <td>3655.562868</td>\n",
       "      <td>360.0</td>\n",
       "      <td>900.00</td>\n",
       "      <td>1500.0</td>\n",
       "      <td>3300.0</td>\n",
       "      <td>93000.0</td>\n",
       "    </tr>\n",
       "  </tbody>\n",
       "</table>\n",
       "</div>"
      ],
      "text/plain": [
       "                 count          mean           std    min      25%     50%  \\\n",
       "brand                                                                        \n",
       "sonstige_autos   417.0  12686.465228  21874.852955  370.0  2999.00  7800.0   \n",
       "mini             397.0  10706.408060   5931.129801  900.0  6222.00  9250.0   \n",
       "audi            3898.0   9509.454336   9668.529969  380.0  2500.00  6500.0   \n",
       "mercedes_benz   4377.0   8805.609321  10227.115261  370.0  2499.00  5400.0   \n",
       "bmw             4952.0   8567.467488   9915.179969  360.0  2500.00  6000.0   \n",
       "skoda            735.0   6525.182313   5184.458799  400.0  2750.00  5000.0   \n",
       "volkswagen      9120.0   5740.838925   6269.148250  356.0  1499.00  3350.0   \n",
       "hyundai          443.0   5632.036117   4803.866079  390.0  1999.00  4500.0   \n",
       "toyota           572.0   5300.666084   4724.996619  370.0  2075.00  4300.0   \n",
       "volvo            405.0   5172.656790   5591.651494  399.0  1299.00  2990.0   \n",
       "nissan           651.0   5117.929339   5604.679469  380.0  1100.00  2750.0   \n",
       "seat             773.0   4695.868047   4713.640919  380.0  1250.00  3199.0   \n",
       "mazda            653.0   4403.356815   4992.319263  399.0  1200.00  2800.0   \n",
       "ford            2856.0   4211.240196   6041.391457  360.0  1000.00  2200.0   \n",
       "citroen          610.0   3987.514754   3869.483552  399.0  1407.50  2850.0   \n",
       "smart            639.0   3638.244131   2308.582583  400.0  1869.00  2998.0   \n",
       "peugeot         1262.0   3323.768621   3158.564137  370.0  1199.25  2350.0   \n",
       "opel            4382.0   3298.394112   3665.340551  359.0   990.00  1990.0   \n",
       "fiat            1031.0   3172.506305   3088.362214  370.0   999.00  2000.0   \n",
       "renault         1929.0   2712.309487   3655.562868  360.0   900.00  1500.0   \n",
       "\n",
       "                    75%       max  \n",
       "brand                              \n",
       "sonstige_autos  14500.0  345000.0  \n",
       "mini            14250.0   34500.0  \n",
       "audi            13175.0   80000.0  \n",
       "mercedes_benz   11950.0  180000.0  \n",
       "bmw             11500.0  259000.0  \n",
       "skoda            8500.0   32700.0  \n",
       "volkswagen       7950.0   64500.0  \n",
       "hyundai          7675.0   29999.0  \n",
       "toyota           6599.0   49500.0  \n",
       "volvo            6900.0   29500.0  \n",
       "nissan           7325.0   34999.0  \n",
       "seat             6500.0   25900.0  \n",
       "mazda            5500.0   38900.0  \n",
       "ford             4990.0  130000.0  \n",
       "citroen          5000.0   33000.0  \n",
       "smart            5000.0   16850.0  \n",
       "peugeot          4300.0   25500.0  \n",
       "opel             4200.0   38990.0  \n",
       "fiat             4200.0   25000.0  \n",
       "renault          3300.0   93000.0  "
      ]
     },
     "execution_count": 285,
     "metadata": {},
     "output_type": "execute_result"
    }
   ],
   "source": [
    "autos_brand.groupby(by='brand')['price'].describe().sort_values(by='mean', ascending=False)"
   ]
  },
  {
   "cell_type": "markdown",
   "metadata": {},
   "source": [
    "It appears among the top 20, sonstige_autos, mini, audi, mercedes, bmw are in the top 5 in terms of mean price. Also note that the std are quite large for these data. For a lot of the brand it looks like the median 50% is smaller than the mean, this possibly suggest a right skew. There may be a few large outliers producing these results and also increasing the std dev."
   ]
  },
  {
   "cell_type": "markdown",
   "metadata": {},
   "source": [
    "#### Next we look at avg mileage (odometer_km) and compare it to average price for the top 5 brands"
   ]
  },
  {
   "cell_type": "code",
   "execution_count": 324,
   "metadata": {},
   "outputs": [
    {
     "data": {
      "text/plain": [
       "['sonstige_autos', 'mini', 'audi', 'mercedes_benz', 'bmw']"
      ]
     },
     "execution_count": 324,
     "metadata": {},
     "output_type": "execute_result"
    }
   ],
   "source": [
    "top_5_autos_brand = list(mean_autos_by_brand.iloc[:5].index)\n",
    "top_5_autos_brand"
   ]
  },
  {
   "cell_type": "code",
   "execution_count": 325,
   "metadata": {},
   "outputs": [],
   "source": [
    "top_5_autos_brand_data = autos.loc[autos['brand'].isin(top_5_autos_brand)]"
   ]
  },
  {
   "cell_type": "code",
   "execution_count": 326,
   "metadata": {},
   "outputs": [],
   "source": [
    "top_5_autos_brand_data_sorted = top_5_autos_brand_data.groupby('brand')[['price','odometer_km']].mean()\n",
    "top_5_autos_brand_data_sorted.rename({'price':'avg_price','odometer_km':'avg_mileage'}, axis=1, inplace=True)"
   ]
  },
  {
   "cell_type": "code",
   "execution_count": 327,
   "metadata": {},
   "outputs": [
    {
     "data": {
      "text/html": [
       "<div>\n",
       "<style scoped>\n",
       "    .dataframe tbody tr th:only-of-type {\n",
       "        vertical-align: middle;\n",
       "    }\n",
       "\n",
       "    .dataframe tbody tr th {\n",
       "        vertical-align: top;\n",
       "    }\n",
       "\n",
       "    .dataframe thead th {\n",
       "        text-align: right;\n",
       "    }\n",
       "</style>\n",
       "<table border=\"1\" class=\"dataframe\">\n",
       "  <thead>\n",
       "    <tr style=\"text-align: right;\">\n",
       "      <th></th>\n",
       "      <th>avg_price</th>\n",
       "      <th>avg_mileage</th>\n",
       "    </tr>\n",
       "    <tr>\n",
       "      <th>brand</th>\n",
       "      <th></th>\n",
       "      <th></th>\n",
       "    </tr>\n",
       "  </thead>\n",
       "  <tbody>\n",
       "    <tr>\n",
       "      <th>audi</th>\n",
       "      <td>9509.454336</td>\n",
       "      <td>129129.040534</td>\n",
       "    </tr>\n",
       "    <tr>\n",
       "      <th>bmw</th>\n",
       "      <td>8567.467488</td>\n",
       "      <td>132803.917609</td>\n",
       "    </tr>\n",
       "    <tr>\n",
       "      <th>mercedes_benz</th>\n",
       "      <td>8805.609321</td>\n",
       "      <td>130924.148960</td>\n",
       "    </tr>\n",
       "    <tr>\n",
       "      <th>mini</th>\n",
       "      <td>10706.408060</td>\n",
       "      <td>88816.120907</td>\n",
       "    </tr>\n",
       "    <tr>\n",
       "      <th>sonstige_autos</th>\n",
       "      <td>12686.465228</td>\n",
       "      <td>91223.021583</td>\n",
       "    </tr>\n",
       "  </tbody>\n",
       "</table>\n",
       "</div>"
      ],
      "text/plain": [
       "                   avg_price    avg_mileage\n",
       "brand                                      \n",
       "audi             9509.454336  129129.040534\n",
       "bmw              8567.467488  132803.917609\n",
       "mercedes_benz    8805.609321  130924.148960\n",
       "mini            10706.408060   88816.120907\n",
       "sonstige_autos  12686.465228   91223.021583"
      ]
     },
     "execution_count": 327,
     "metadata": {},
     "output_type": "execute_result"
    }
   ],
   "source": [
    "top_5_autos_brand_data_sorted"
   ]
  },
  {
   "cell_type": "code",
   "execution_count": 328,
   "metadata": {},
   "outputs": [],
   "source": [
    "top_5_autos_brand_data_sorted['avg_price'] = top_5_autos_brand_data_sorted['avg_price'].apply('{:.2f}'.format)\n",
    "top_5_autos_brand_data_sorted['avg_mileage'] = top_5_autos_brand_data_sorted['avg_mileage'].apply('{:.2f}'.format)"
   ]
  },
  {
   "cell_type": "code",
   "execution_count": 329,
   "metadata": {},
   "outputs": [
    {
     "name": "stdout",
     "output_type": "stream",
     "text": [
      "<class 'pandas.core.frame.DataFrame'>\n",
      "Index: 5 entries, audi to sonstige_autos\n",
      "Data columns (total 2 columns):\n",
      " #   Column       Non-Null Count  Dtype \n",
      "---  ------       --------------  ----- \n",
      " 0   avg_price    5 non-null      object\n",
      " 1   avg_mileage  5 non-null      object\n",
      "dtypes: object(2)\n",
      "memory usage: 120.0+ bytes\n"
     ]
    }
   ],
   "source": [
    "top_5_autos_brand_data_sorted.info()"
   ]
  },
  {
   "cell_type": "code",
   "execution_count": 332,
   "metadata": {},
   "outputs": [],
   "source": [
    "top_5_autos_brand_data_sorted = top_5_autos_brand_data_sorted.astype(float)"
   ]
  },
  {
   "cell_type": "code",
   "execution_count": 333,
   "metadata": {},
   "outputs": [
    {
     "name": "stdout",
     "output_type": "stream",
     "text": [
      "<class 'pandas.core.frame.DataFrame'>\n",
      "Index: 5 entries, audi to sonstige_autos\n",
      "Data columns (total 2 columns):\n",
      " #   Column       Non-Null Count  Dtype  \n",
      "---  ------       --------------  -----  \n",
      " 0   avg_price    5 non-null      float64\n",
      " 1   avg_mileage  5 non-null      float64\n",
      "dtypes: float64(2)\n",
      "memory usage: 120.0+ bytes\n"
     ]
    }
   ],
   "source": [
    "top_5_autos_brand_data_sorted.info()"
   ]
  },
  {
   "cell_type": "code",
   "execution_count": 334,
   "metadata": {},
   "outputs": [
    {
     "data": {
      "text/html": [
       "<div>\n",
       "<style scoped>\n",
       "    .dataframe tbody tr th:only-of-type {\n",
       "        vertical-align: middle;\n",
       "    }\n",
       "\n",
       "    .dataframe tbody tr th {\n",
       "        vertical-align: top;\n",
       "    }\n",
       "\n",
       "    .dataframe thead th {\n",
       "        text-align: right;\n",
       "    }\n",
       "</style>\n",
       "<table border=\"1\" class=\"dataframe\">\n",
       "  <thead>\n",
       "    <tr style=\"text-align: right;\">\n",
       "      <th></th>\n",
       "      <th>avg_price</th>\n",
       "      <th>avg_mileage</th>\n",
       "    </tr>\n",
       "    <tr>\n",
       "      <th>brand</th>\n",
       "      <th></th>\n",
       "      <th></th>\n",
       "    </tr>\n",
       "  </thead>\n",
       "  <tbody>\n",
       "    <tr>\n",
       "      <th>audi</th>\n",
       "      <td>9509.45</td>\n",
       "      <td>129129.04</td>\n",
       "    </tr>\n",
       "    <tr>\n",
       "      <th>bmw</th>\n",
       "      <td>8567.47</td>\n",
       "      <td>132803.92</td>\n",
       "    </tr>\n",
       "    <tr>\n",
       "      <th>mercedes_benz</th>\n",
       "      <td>8805.61</td>\n",
       "      <td>130924.15</td>\n",
       "    </tr>\n",
       "    <tr>\n",
       "      <th>mini</th>\n",
       "      <td>10706.41</td>\n",
       "      <td>88816.12</td>\n",
       "    </tr>\n",
       "    <tr>\n",
       "      <th>sonstige_autos</th>\n",
       "      <td>12686.47</td>\n",
       "      <td>91223.02</td>\n",
       "    </tr>\n",
       "  </tbody>\n",
       "</table>\n",
       "</div>"
      ],
      "text/plain": [
       "                avg_price  avg_mileage\n",
       "brand                                 \n",
       "audi              9509.45    129129.04\n",
       "bmw               8567.47    132803.92\n",
       "mercedes_benz     8805.61    130924.15\n",
       "mini             10706.41     88816.12\n",
       "sonstige_autos   12686.47     91223.02"
      ]
     },
     "execution_count": 334,
     "metadata": {},
     "output_type": "execute_result"
    }
   ],
   "source": [
    "top_5_autos_brand_data_sorted"
   ]
  },
  {
   "cell_type": "markdown",
   "metadata": {},
   "source": [
    "There is an indirect relationship between avg_price and avg_mileage. As mileages goes up, price goes down (not unexpected)."
   ]
  },
  {
   "cell_type": "markdown",
   "metadata": {},
   "source": [
    "#### Conclusion <a class='anchor' id='5'></a>"
   ]
  },
  {
   "cell_type": "markdown",
   "metadata": {},
   "source": [
    "In this project, we have gone through the process of data cleaning and performed simple data analysis on the dataset at the end.\n",
    "\n",
    "Specifically, we practiced:\n",
    "- Renaming columns\n",
    "- Removing columns\n",
    "- Renaming elements\n",
    "- Modifying and standardizing str elements\n",
    "- Removing outliers\n",
    "- Datetime conversion"
   ]
  }
 ],
 "metadata": {
  "kernelspec": {
   "display_name": "Python 3",
   "language": "python",
   "name": "python3"
  },
  "language_info": {
   "codemirror_mode": {
    "name": "ipython",
    "version": 3
   },
   "file_extension": ".py",
   "mimetype": "text/x-python",
   "name": "python",
   "nbconvert_exporter": "python",
   "pygments_lexer": "ipython3",
   "version": "3.12.0"
  }
 },
 "nbformat": 4,
 "nbformat_minor": 2
}
